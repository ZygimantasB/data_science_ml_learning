{
 "cells": [
  {
   "cell_type": "code",
   "id": "initial_id",
   "metadata": {
    "collapsed": true,
    "ExecuteTime": {
     "end_time": "2024-06-01T15:49:07.737829Z",
     "start_time": "2024-06-01T15:49:05.394314Z"
    }
   },
   "source": [
    "import pandas as pd\n",
    "import numpy as np\n",
    "import matplotlib.pyplot as plt"
   ],
   "execution_count": 1,
   "outputs": []
  },
  {
   "metadata": {},
   "cell_type": "markdown",
   "source": "# 47. Introduction to Matplotlib",
   "id": "7f2143e48067090f"
  },
  {
   "metadata": {},
   "cell_type": "markdown",
   "source": "# 48. Matplotlib Basics",
   "id": "9793c87d499cedfc"
  },
  {
   "metadata": {
    "ExecuteTime": {
     "end_time": "2024-06-01T15:49:07.769390Z",
     "start_time": "2024-06-01T15:49:07.739347Z"
    }
   },
   "cell_type": "code",
   "source": "%matplotlib inline",
   "id": "27d14279c9a44e93",
   "execution_count": 2,
   "outputs": []
  },
  {
   "metadata": {
    "ExecuteTime": {
     "end_time": "2024-06-01T15:49:07.773559Z",
     "start_time": "2024-06-01T15:49:07.770396Z"
    }
   },
   "cell_type": "code",
   "source": "x = np.arange(0,10)",
   "id": "cd845d692455c2ec",
   "execution_count": 3,
   "outputs": []
  },
  {
   "metadata": {
    "ExecuteTime": {
     "end_time": "2024-06-01T15:49:07.781458Z",
     "start_time": "2024-06-01T15:49:07.774566Z"
    }
   },
   "cell_type": "code",
   "source": "y = x*2",
   "id": "c2cb5b8f0f63c33a",
   "execution_count": 4,
   "outputs": []
  },
  {
   "metadata": {
    "ExecuteTime": {
     "end_time": "2024-06-01T15:49:07.983814Z",
     "start_time": "2024-06-01T15:49:07.783465Z"
    }
   },
   "cell_type": "code",
   "source": [
    "plt.plot(x,y)\n",
    "plt.title('String Title')\n",
    "plt.xlabel('X Axis')\n",
    "plt.ylabel('Y axis')\n",
    "plt.xlim(0, 10) # Set Limits for X axis Display\n",
    "plt.ylim(0, 20) # Set Limits for Y axis Display\n",
    "plt.savefig('myfirstplot.png') # Save the plot\n",
    "plt.show()"
   ],
   "id": "f92197345173f3c0",
   "execution_count": 5,
   "outputs": []
  },
  {
   "metadata": {},
   "cell_type": "markdown",
   "source": "# 49. Matplotlib - Understanding the Figure Object",
   "id": "2cb9afb37e68f772"
  },
  {
   "metadata": {
    "ExecuteTime": {
     "end_time": "2024-06-01T15:49:07.990559Z",
     "start_time": "2024-06-01T15:49:07.984821Z"
    }
   },
   "cell_type": "code",
   "source": "plt.figure()",
   "id": "56fd4f52066398cd",
   "execution_count": 6,
   "outputs": []
  },
  {
   "metadata": {},
   "cell_type": "markdown",
   "source": "# 50. Matplotlib - Implementing Figures and Axes",
   "id": "26fb450978a47871"
  },
  {
   "metadata": {
    "ExecuteTime": {
     "end_time": "2024-06-01T15:49:07.995409Z",
     "start_time": "2024-06-01T15:49:07.991566Z"
    }
   },
   "cell_type": "code",
   "source": "a = np.linspace(0,10,11)",
   "id": "37bef1ef3512deab",
   "execution_count": 7,
   "outputs": []
  },
  {
   "metadata": {
    "ExecuteTime": {
     "end_time": "2024-06-01T15:49:08.002747Z",
     "start_time": "2024-06-01T15:49:07.995409Z"
    }
   },
   "cell_type": "code",
   "source": "b = a ** 4",
   "id": "98e463d7bebb105c",
   "execution_count": 8,
   "outputs": []
  },
  {
   "metadata": {
    "ExecuteTime": {
     "end_time": "2024-06-01T15:49:08.009789Z",
     "start_time": "2024-06-01T15:49:08.003754Z"
    }
   },
   "cell_type": "code",
   "source": "x = np.arange(0,10)",
   "id": "32f2b7a6097ed34e",
   "execution_count": 9,
   "outputs": []
  },
  {
   "metadata": {
    "ExecuteTime": {
     "end_time": "2024-06-01T15:49:08.016334Z",
     "start_time": "2024-06-01T15:49:08.010794Z"
    }
   },
   "cell_type": "code",
   "source": "y = x*2",
   "id": "79d11eff97c467ec",
   "execution_count": 10,
   "outputs": []
  },
  {
   "metadata": {
    "ExecuteTime": {
     "end_time": "2024-06-01T15:49:08.188117Z",
     "start_time": "2024-06-01T15:49:08.017340Z"
    }
   },
   "cell_type": "code",
   "source": [
    "fig = plt.figure()\n",
    "\n",
    "# LARGE AXES\n",
    "\n",
    "axes1 = fig.add_axes([0, 0, 1, 1])\n",
    "axes1.plot(a, b)\n",
    "\n",
    "axes1.set_xlim(0, 8)\n",
    "axes1.set_ylim(0, 8000)\n",
    "axes1.set_xlabel('A')\n",
    "axes1.set_ylabel('B')\n",
    "axes1.set_title('power of 4')\n",
    "\n",
    "\n",
    "# SMALL AXES\n",
    "\n",
    "axes2 = fig.add_axes([1, 1, 0.25, 0.25])\n",
    "axes2.plot(x, y)\n",
    "\n",
    "axes2.set_xlim(1, 2)\n",
    "axes2.set_ylim(0, 10)\n",
    "axes2.set_xlabel('A')\n",
    "axes2.set_ylabel('B')\n",
    "axes2.set_title('power of 4')\n",
    "\n",
    "# axes.plot(x, y)"
   ],
   "id": "5a4af9ccb8c90a2b",
   "execution_count": 11,
   "outputs": []
  },
  {
   "metadata": {
    "ExecuteTime": {
     "end_time": "2024-06-01T15:49:08.192923Z",
     "start_time": "2024-06-01T15:49:08.189125Z"
    }
   },
   "cell_type": "code",
   "source": "type(fig)",
   "id": "21b47b5a1c2d81b9",
   "execution_count": 12,
   "outputs": []
  },
  {
   "metadata": {},
   "cell_type": "markdown",
   "source": "# 51. Matplotlib - Figure Parameters",
   "id": "df99ea4ef009d21b"
  },
  {
   "metadata": {
    "ExecuteTime": {
     "end_time": "2024-06-01T15:49:08.317778Z",
     "start_time": "2024-06-01T15:49:08.193929Z"
    }
   },
   "cell_type": "code",
   "source": [
    "fig = plt.figure(dpi=200, figsize=(2, 2))\n",
    "\n",
    "axes1 = fig.add_axes([0, 0, 1, 1])\n",
    "\n",
    "axes1.plot(a, b)\n",
    "\n",
    "fig.savefig('figure.png', dpi=200, bbox_inches='tight')"
   ],
   "id": "3ef043ec5d09b8d6",
   "execution_count": 13,
   "outputs": []
  },
  {
   "metadata": {},
   "cell_type": "markdown",
   "source": "# 52. Matplotlib - Subplots Functionality",
   "id": "ca7d93f7f622fe38"
  },
  {
   "metadata": {
    "ExecuteTime": {
     "end_time": "2024-06-01T15:49:08.324002Z",
     "start_time": "2024-06-01T15:49:08.320291Z"
    }
   },
   "cell_type": "code",
   "source": [
    "a = np.linspace(0,10,11)\n",
    "b = a ** 4"
   ],
   "id": "732a6ba9e58feca6",
   "execution_count": 14,
   "outputs": []
  },
  {
   "metadata": {
    "ExecuteTime": {
     "end_time": "2024-06-01T15:49:08.332403Z",
     "start_time": "2024-06-01T15:49:08.325010Z"
    }
   },
   "cell_type": "code",
   "source": [
    "x = np.arange(0,10)\n",
    "y = x*2"
   ],
   "id": "3bdc4bd77ecbf821",
   "execution_count": 15,
   "outputs": []
  },
  {
   "metadata": {
    "ExecuteTime": {
     "end_time": "2024-06-01T15:49:09.032107Z",
     "start_time": "2024-06-01T15:49:08.333411Z"
    }
   },
   "cell_type": "code",
   "source": [
    "fig,axes = plt.subplots(nrows=2, ncols=2, figsize=(16, 8))\n",
    "\n",
    "axes[0][0].plot(x, y)\n",
    "axes[0][0].set_title('First Plot')\n",
    "axes[0][0].set_xlabel('X')\n",
    "\n",
    "axes[0][1].plot(x, y)\n",
    "axes[0][1].set_title('Second Plot')\n",
    "axes[0][1].set_ylabel('Y')\n",
    "\n",
    "axes[1][0].plot(x, y)\n",
    "axes[1][0].set_title('Third Plot')\n",
    "\n",
    "axes[1][1].plot(a, b)\n",
    "axes[1][1].set_title('Fourth Plot')\n",
    "\n",
    "\n",
    "fig.suptitle('Subplots')\n",
    "\n",
    "# axes[1].plot(a, b)\n",
    "\n",
    "# for ax in axes:\n",
    "#   ax.plot(x, y)\n",
    "#   \n",
    "# plt.tight_layout()\n",
    "\n",
    "fig.subplots_adjust(wspace=1, hspace=0.5)\n",
    "\n",
    "fig.savefig('subplots.png', dpi=200, bbox_inches='tight')\n",
    "\n",
    "fig.set_figwidth(10)"
   ],
   "id": "15ed0a4b4eaab95c",
   "execution_count": 16,
   "outputs": []
  },
  {
   "metadata": {
    "ExecuteTime": {
     "end_time": "2024-06-01T15:49:09.037599Z",
     "start_time": "2024-06-01T15:49:09.033113Z"
    }
   },
   "cell_type": "code",
   "source": "axes.shape",
   "id": "f4cc34c9164d70da",
   "execution_count": 17,
   "outputs": []
  },
  {
   "metadata": {},
   "cell_type": "markdown",
   "source": "# 53. Matplotlib Styling - Legends",
   "id": "93ce2a7413632c15"
  },
  {
   "metadata": {
    "ExecuteTime": {
     "end_time": "2024-06-01T17:39:13.090571Z",
     "start_time": "2024-06-01T17:39:13.047926Z"
    }
   },
   "cell_type": "code",
   "source": "x = np.linspace(0, 10, 100)",
   "id": "5cb323b86864746d",
   "execution_count": 18,
   "outputs": []
  },
  {
   "metadata": {
    "ExecuteTime": {
     "end_time": "2024-06-01T17:47:44.405405Z",
     "start_time": "2024-06-01T17:47:44.317415Z"
    }
   },
   "cell_type": "code",
   "source": [
    "fig = plt.figure()\n",
    "\n",
    "ax = fig.add_axes([0, 0, 1, 1])\n",
    "\n",
    "ax.plot(x, x, label='X vs X')\n",
    "\n",
    "ax.plot(x, x**2, label='X vs X^2')\n",
    "        \n",
    "ax.legend(loc=(1.1, 0.5))"
   ],
   "id": "a9f5cdcce921ca13",
   "execution_count": 26,
   "outputs": []
  },
  {
   "metadata": {},
   "cell_type": "markdown",
   "source": "# 54. Matplotlib Styling - Colors and Styles",
   "id": "18fee2cf2e5ad52b"
  },
  {
   "metadata": {
    "ExecuteTime": {
     "end_time": "2024-06-01T18:04:40.321294Z",
     "start_time": "2024-06-01T18:04:40.235556Z"
    }
   },
   "cell_type": "code",
   "source": [
    "fig = plt.figure(figsize=(16, 4))\n",
    "\n",
    "ax = fig.add_axes([0, 0, 1, 1])\n",
    "\n",
    "# ax.plot(x, x, color='#D0C35F', label='x v x ', lw=10, ls='--') # RGB Hex Code\n",
    "\n",
    "# ax.plot(x, x+1, color='purple', label='x v x+1', linewidth=5, linestyle='-.') \n",
    "\n",
    "# lines = ax.plot(x, x+1, color='purple', label='x v x+1', linewidth=5)\n",
    "# lines[0].set_dashes([1, 2, 1, 2, 10, 2])\n",
    "\n",
    "ax.plot(x, x, color='#D0C35F', linewidth=2, marker='o', ls='--', ms=10) # RGB Hex Code\n",
    "\n",
    "ax.plot(x, x+1, color='purple', linewidth=2, marker='+', ls='--', markersize=20, markerfacecolor='pink', \n",
    "        markeredgewidth=4, markeredgecolor='blue')\n"
   ],
   "id": "c06de72707dd6158",
   "execution_count": 73,
   "outputs": []
  },
  {
   "metadata": {},
   "cell_type": "markdown",
   "source": "# 55. Advanced Matplotlib Commands (Optional)",
   "id": "dfef35d7997c4e15"
  },
  {
   "metadata": {},
   "cell_type": "markdown",
   "source": "# 56. Matplotlib Exercise Questions Overview",
   "id": "f684a944ae06e577"
  },
  {
   "metadata": {
    "ExecuteTime": {
     "end_time": "2024-06-01T17:57:35.239972Z",
     "start_time": "2024-06-01T17:57:35.236600Z"
    }
   },
   "cell_type": "code",
   "source": "",
   "id": "6544e5dadda9b5ed",
   "execution_count": 48,
   "outputs": []
  }
 ],
 "metadata": {
  "kernelspec": {
   "display_name": "Python 3",
   "language": "python",
   "name": "python3"
  },
  "language_info": {
   "codemirror_mode": {
    "name": "ipython",
    "version": 2
   },
   "file_extension": ".py",
   "mimetype": "text/x-python",
   "name": "python",
   "nbconvert_exporter": "python",
   "pygments_lexer": "ipython2",
   "version": "2.7.6"
  }
 },
 "nbformat": 4,
 "nbformat_minor": 5
}
