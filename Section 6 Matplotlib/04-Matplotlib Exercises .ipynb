{
 "cells": [
  {
   "cell_type": "markdown",
   "metadata": {},
   "source": [
    "___\n",
    "\n",
    "<a href='http://www.pieriandata.com'> <img src='../Pierian_Data_Logo.png' /></a>\n",
    "___\n",
    "# Matplotlib Exercises \n",
    "Welcome to the exercises for reviewing matplotlib! Take your time with these, Matplotlib can be tricky to understand at first. These are relatively simple plots, but they can be hard if this is your first time with matplotlib, feel free to reference the solutions as you go along.\n",
    "\n",
    "Also don't worry if you find the matplotlib syntax frustrating, we actually won't be using it that often throughout the course, we will switch to using seaborn and pandas built-in visualization capabilities. But, those are built-off of matplotlib, which is why it is still important to get exposure to it!\n",
    "\n",
    "**NOTE: ALL THE COMMANDS FOR PLOTTING A FIGURE SHOULD ALL GO IN THE SAME CELL. SEPARATING THEM OUT INTO MULTIPLE CELLS MAY CAUSE NOTHING TO SHOW UP.**\n",
    "\n",
    "# Exercises\n",
    "\n",
    "**We will focus on two commons tasks, plotting a known relationship from an equation and plotting raw data points.**\n",
    "\n",
    "Follow the instructions to complete the tasks to recreate the plots using this data:\n",
    "\n",
    "----\n",
    "----\n",
    "\n",
    "### Task One: Creating data from an equation\n",
    "\n",
    "It is important to be able to directly translate a real equation into a plot. Your first task actually is pure numpy, then we will explore how to plot it out with Matplotlib. The [world famous equation](https://en.wikipedia.org/wiki/Mass%E2%80%93energy_equivalence) from Einstein:\n",
    "\n",
    "$$E=mc^2$$\n",
    "\n",
    "\n",
    "Use your knowledge of Numpy to create two arrays: E and m , where **m** is simply 11 evenly spaced values representing 0 grams to 10 grams. E should be the equivalent energy for the mass. You will need to figure out what to provide for **c** for the units m/s, a quick google search will easily give you the answer (we'll use the close approximation in our solutions).\n",
    "\n",
    "**NOTE: If this confuses you, then hop over to the solutions video for a guided walkthrough.**"
   ]
  },
  {
   "metadata": {
    "ExecuteTime": {
     "end_time": "2024-06-02T19:06:55.052621Z",
     "start_time": "2024-06-02T19:06:55.049116Z"
    }
   },
   "cell_type": "code",
   "source": [
    "import numpy as np\n",
    "import matplotlib.pyplot as plt"
   ],
   "execution_count": 6,
   "outputs": []
  },
  {
   "cell_type": "code",
   "metadata": {
    "ExecuteTime": {
     "end_time": "2024-06-02T19:07:03.428224Z",
     "start_time": "2024-06-02T19:07:03.423807Z"
    }
   },
   "source": [
    "# CODE HERE\n",
    "\n",
    "\n",
    "m = np.linspace(0,10,11)\n",
    "m"
   ],
   "execution_count": 7,
   "outputs": []
  },
  {
   "cell_type": "code",
   "metadata": {
    "ExecuteTime": {
     "end_time": "2024-06-02T19:09:07.135271Z",
     "start_time": "2024-06-02T19:09:07.130591Z"
    }
   },
   "source": [
    "c = 3 * 10**8\n",
    "E = m*c**2\n",
    "E"
   ],
   "execution_count": 13,
   "outputs": []
  },
  {
   "cell_type": "code",
   "execution_count": 12,
   "metadata": {},
   "source": "# CODE HERE\n",
   "outputs": []
  },
  {
   "cell_type": "code",
   "execution_count": 15,
   "metadata": {},
   "source": [],
   "outputs": []
  },
  {
   "cell_type": "markdown",
   "metadata": {},
   "source": [
    "### Part Two: Plotting E=mc^2\n",
    "\n",
    "Now that we have the arrays E and m, we can plot this to see the relationship between Energy and Mass. \n",
    "\n",
    "**TASK: Import what you need from Matplotlib to plot out graphs:**"
   ]
  },
  {
   "cell_type": "code",
   "metadata": {
    "ExecuteTime": {
     "end_time": "2024-06-02T19:10:05.167124Z",
     "start_time": "2024-06-02T19:10:05.163494Z"
    }
   },
   "source": "import matplotlib.pyplot as plt",
   "execution_count": 14,
   "outputs": []
  },
  {
   "cell_type": "markdown",
   "metadata": {},
   "source": [
    "**TASK: Recreate the plot shown below which maps out E=mc^2 using the arrays we created in the previous task. Note the labels, titles, color, and axis limits. You don't need to match perfectly, but you should attempt to re-create each major component.**"
   ]
  },
  {
   "cell_type": "code",
   "metadata": {
    "ExecuteTime": {
     "end_time": "2024-06-02T19:12:25.994030Z",
     "start_time": "2024-06-02T19:12:25.933081Z"
    }
   },
   "source": [
    "# CODE HERE\n",
    "\n",
    "plt.plot(E, color='red', lw=5)"
   ],
   "execution_count": 18,
   "outputs": []
  },
  {
   "cell_type": "code",
   "execution_count": 23,
   "metadata": {},
   "source": [
    "# DON'T RUN THE CELL BELOW< THAT WILL ERASE THE PLOT!"
   ],
   "outputs": []
  },
  {
   "cell_type": "code",
   "execution_count": 24,
   "metadata": {},
   "source": [],
   "outputs": []
  },
  {
   "cell_type": "markdown",
   "metadata": {},
   "source": [
    "### Part Three (BONUS)\n",
    "\n",
    "**Can you figure out how to plot this on a logarthimic scale on the y axis? Place a grid along the y axis ticks as well. We didn't show this in the videos, but you should be able to figure this out by referencing Google, StackOverflow, Matplotlib Docs, or even our \"Additional Matplotlib Commands\" notebook. The plot we show here only required two more lines of code for the changes.**"
   ]
  },
  {
   "cell_type": "code",
   "metadata": {
    "ExecuteTime": {
     "end_time": "2024-06-02T19:17:38.782588Z",
     "start_time": "2024-06-02T19:17:38.595923Z"
    }
   },
   "source": [
    "# CODE HERE\n",
    "plt.plot(m, E, color='red', lw=5)\n",
    "plt.title('E=mc^2')\n",
    "plt.xlabel('Mass In Grams')\n",
    "plt.ylabel('Energy in Joules')\n",
    "plt.xlim(0, 10)\n",
    "\n",
    "plt.yscale('log')\n",
    "plt.grid(which='both', axis='y')"
   ],
   "execution_count": 25,
   "outputs": []
  },
  {
   "cell_type": "code",
   "execution_count": 29,
   "metadata": {},
   "source": [
    "# DONT RUN THE CELL BELOW! THAT WILL ERASE THE PLOT!"
   ],
   "outputs": []
  },
  {
   "cell_type": "code",
   "execution_count": 27,
   "metadata": {},
   "source": [],
   "outputs": []
  },
  {
   "cell_type": "markdown",
   "metadata": {
    "collapsed": true
   },
   "source": [
    "---\n",
    "---\n",
    "\n",
    "## Task Two: Creating plots from data points\n",
    "\n",
    "In finance, the yield curve is a curve showing several yields to maturity or interest rates across different contract lengths (2 month, 2 year, 20 year, etc. ...) for a similar debt contract. The curve shows the relation between the (level of the) interest rate (or cost of borrowing) and the time to maturity, known as the \"term\", of the debt for a given borrower in a given currency.\n",
    "\n",
    "The U.S. dollar interest rates paid on U.S. Treasury securities for various maturities are closely watched by many traders, and are commonly plotted on a graph such as the one on the right, which is informally called \"the yield curve\".\n",
    "\n",
    "**For this exercise, we will give you the data for the yield curves at two separate points in time. Then we will ask you to create some plots from this data.**\n",
    "\n",
    "## Part One: Yield Curve Data\n",
    "\n",
    "**We've obtained some yeild curve data for you from the [US Treasury Dept.](https://www.treasury.gov/resource-center/data-chart-center/interest-rates/pages/textview.aspx?data=yield). The data shows the interest paid for a US Treasury bond for a certain contract length. The labels list shows the corresponding contract length per index position.**\n",
    "\n",
    "**TASK: Run the cell below to create the lists for plotting.**"
   ]
  },
  {
   "cell_type": "code",
   "metadata": {
    "ExecuteTime": {
     "end_time": "2024-06-02T19:23:24.909937Z",
     "start_time": "2024-06-02T19:23:24.906672Z"
    }
   },
   "source": [
    "labels = ['1 Mo','3 Mo','6 Mo','1 Yr','2 Yr','3 Yr','5 Yr','7 Yr','10 Yr','20 Yr','30 Yr']\n",
    "\n",
    "july16_2007 =[4.75,4.98,5.08,5.01,4.89,4.89,4.95,4.99,5.05,5.21,5.14]\n",
    "july16_2020 = [0.12,0.11,0.13,0.14,0.16,0.17,0.28,0.46,0.62,1.09,1.31]"
   ],
   "execution_count": 32,
   "outputs": []
  },
  {
   "cell_type": "markdown",
   "metadata": {},
   "source": [
    "**TASK: Figure out how to plot both curves on the same Figure. Add a legend to show which curve corresponds to a certain year.**"
   ]
  },
  {
   "cell_type": "code",
   "metadata": {
    "ExecuteTime": {
     "end_time": "2024-06-02T19:26:52.364473Z",
     "start_time": "2024-06-02T19:26:52.269167Z"
    }
   },
   "source": [
    "# CODE HERE\n",
    "fig = plt.figure(figsize=(8, 6))\n",
    "axes = fig.add_axes([0, 0, 1, 1])\n",
    "axes.plot(labels, july16_2007, label='july16_2007')\n",
    "axes.plot(labels, july16_2020, label='july16_2020')\n",
    "axes.legend(loc='center right')"
   ],
   "execution_count": 47,
   "outputs": []
  },
  {
   "cell_type": "code",
   "execution_count": 38,
   "metadata": {},
   "source": [
    "# DONT RUN THE CELL BELOW! IT WILL ERASE THE PLOT!"
   ],
   "outputs": []
  },
  {
   "cell_type": "code",
   "execution_count": 36,
   "metadata": {},
   "source": [],
   "outputs": []
  },
  {
   "cell_type": "markdown",
   "metadata": {},
   "source": [
    "**TASK: The legend in the plot above looks a little strange in the middle of the curves. While it is not blocking anything, it would be nicer if it were *outside* the plot. Figure out how to move the legend outside the main Figure plot.**"
   ]
  },
  {
   "cell_type": "code",
   "metadata": {
    "ExecuteTime": {
     "end_time": "2024-06-02T19:32:08.626298Z",
     "start_time": "2024-06-02T19:32:08.536023Z"
    }
   },
   "source": [
    "# CODE HERE\n",
    "fig = plt.figure(figsize=(6, 4))\n",
    "axes = fig.add_axes([0, 0, 1, 1])\n",
    "axes.plot(labels, july16_2007, label='july16_2007')\n",
    "axes.plot(labels, july16_2020, label='july16_2020')\n",
    "axes.legend(bbox_to_anchor=(1, 0.6, 0.3, 0))"
   ],
   "execution_count": 83,
   "outputs": []
  },
  {
   "cell_type": "code",
   "execution_count": 45,
   "metadata": {},
   "source": [
    "# DONT RUN THE CELL BELOW! IT WILL ERASE THE PLOT!"
   ],
   "outputs": []
  },
  {
   "cell_type": "code",
   "execution_count": 47,
   "metadata": {},
   "source": [],
   "outputs": []
  },
  {
   "cell_type": "markdown",
   "metadata": {},
   "source": [
    "**TASK: While the plot above clearly shows how rates fell from 2007 to 2020, putting these on the same plot makes it difficult to discern the rate differences within the same year. Use .suplots() to create the plot figure below, which shows each year's yield curve.**"
   ]
  },
  {
   "cell_type": "code",
   "metadata": {
    "ExecuteTime": {
     "end_time": "2024-06-02T19:40:14.710434Z",
     "start_time": "2024-06-02T19:40:14.546949Z"
    }
   },
   "source": [
    "# CODE HERE\n",
    "fig, axes = plt.subplots(nrows=2, ncols=1)\n",
    "axes[0].plot(labels, july16_2007)\n",
    "axes[1].plot(labels, july16_2020)\n",
    "\n",
    "axes[0].set_title('july16_2007')\n",
    "axes[1].set_title('july16_2020')\n",
    "\n",
    "plt.tight_layout()"
   ],
   "execution_count": 92,
   "outputs": []
  },
  {
   "cell_type": "code",
   "execution_count": 51,
   "metadata": {},
   "source": [
    "# DONT RUN THE CELL BELOW! IT WILL ERASE THE PLOT!"
   ],
   "outputs": []
  },
  {
   "cell_type": "code",
   "execution_count": 52,
   "metadata": {},
   "source": [],
   "outputs": []
  },
  {
   "cell_type": "markdown",
   "metadata": {},
   "source": [
    "**BONUS CHALLENGE TASK: Try to recreate the plot below that uses twin axes. While this plot may actually be more confusing than helpful, its a good exercise in Matplotlib control.**"
   ]
  },
  {
   "cell_type": "code",
   "metadata": {
    "ExecuteTime": {
     "end_time": "2024-06-02T19:49:47.616195Z",
     "start_time": "2024-06-02T19:49:47.479715Z"
    }
   },
   "source": [
    "# CODE HERE\n",
    "fig, ax1 = plt.subplots(figsize=(8, 5))\n",
    "\n",
    "ax1.plot(labels, july16_2007, lw=2, color='blue')\n",
    "ax1.set_ylabel('2007', fontsize=18, color='blue')\n",
    "\n",
    "ax1.spines['left'].set_color('blue')\n",
    "ax1.spines['left'].set_linewidth(4)\n",
    "for label in ax1.get_yticklabels():\n",
    "  label.set_color('blue')\n",
    "plt.yticks(fontsize=15)\n",
    "\n",
    "ax2 = ax1.twinx()\n",
    "ax2.plot(labels, july16_2020, lw=2, color='red')\n",
    "ax2.set_ylabel('2020', fontsize=18, color='red')\n",
    "\n",
    "ax2.spines['right'].set_color('red')\n",
    "ax2.spines['right'].set_linewidth(4)\n",
    "\n",
    "for label in ax2.get_yticklabels():\n",
    "  label.set_color('red')\n",
    "  \n",
    "ax1.set_title('July 16th Yield Curves')\n",
    "plt.yticks(fontsize=15)"
   ],
   "execution_count": 112,
   "outputs": []
  },
  {
   "cell_type": "code",
   "execution_count": 63,
   "metadata": {},
   "source": [
    "# DONT RUN THE CELL BELOW! IT ERASES THE PLOT!"
   ],
   "outputs": []
  },
  {
   "cell_type": "code",
   "execution_count": 73,
   "metadata": {},
   "source": [],
   "outputs": []
  },
  {
   "cell_type": "markdown",
   "metadata": {},
   "source": [
    "-----"
   ]
  }
 ],
 "metadata": {
  "kernelspec": {
   "display_name": "Python 3",
   "language": "python",
   "name": "python3"
  },
  "language_info": {
   "codemirror_mode": {
    "name": "ipython",
    "version": 3
   },
   "file_extension": ".py",
   "mimetype": "text/x-python",
   "name": "python",
   "nbconvert_exporter": "python",
   "pygments_lexer": "ipython3",
   "version": "3.7.6"
  }
 },
 "nbformat": 4,
 "nbformat_minor": 1
}
