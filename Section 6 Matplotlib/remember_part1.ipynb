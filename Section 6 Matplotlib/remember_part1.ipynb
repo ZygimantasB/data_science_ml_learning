{
 "cells": [
  {
   "cell_type": "code",
   "id": "initial_id",
   "metadata": {
    "collapsed": true,
    "ExecuteTime": {
     "end_time": "2024-06-03T14:27:31.399997Z",
     "start_time": "2024-06-03T14:27:31.396941Z"
    }
   },
   "source": [
    "import pandas as pd\n",
    "import numpy as np\n",
    "import matplotlib.pyplot as plt"
   ],
   "execution_count": 1,
   "outputs": []
  },
  {
   "metadata": {
    "ExecuteTime": {
     "end_time": "2024-06-03T14:27:31.429243Z",
     "start_time": "2024-06-03T14:27:31.399997Z"
    }
   },
   "cell_type": "code",
   "source": "%matplotlib inline",
   "id": "26d4c9c483760219",
   "execution_count": 2,
   "outputs": []
  },
  {
   "metadata": {
    "ExecuteTime": {
     "end_time": "2024-06-03T14:27:31.435285Z",
     "start_time": "2024-06-03T14:27:31.430281Z"
    }
   },
   "cell_type": "code",
   "source": [
    "x = np.arange(0, 10)\n",
    "x"
   ],
   "id": "764025d7d640a08f",
   "execution_count": 3,
   "outputs": []
  },
  {
   "metadata": {
    "ExecuteTime": {
     "end_time": "2024-06-03T14:27:31.441926Z",
     "start_time": "2024-06-03T14:27:31.436415Z"
    }
   },
   "cell_type": "code",
   "source": [
    "y = x * 2\n",
    "y"
   ],
   "id": "5e7ceaed4dfc0c03",
   "execution_count": 4,
   "outputs": []
  },
  {
   "metadata": {
    "ExecuteTime": {
     "end_time": "2024-06-03T14:27:31.626148Z",
     "start_time": "2024-06-03T14:27:31.442933Z"
    }
   },
   "cell_type": "code",
   "source": [
    "plt.plot(x, y)\n",
    "plt.xlabel('X axis title is here')\n",
    "plt.ylabel('Y axis title is here')\n",
    "plt.title('Testing title')\n",
    "plt.legend('Hello')\n",
    "\n",
    "plt.xlim(0, 20) # set the range of x-axis\n",
    "plt.ylim(0, 40) # set the range of y-axis"
   ],
   "id": "3fbd77e136183fea",
   "execution_count": 5,
   "outputs": []
  },
  {
   "metadata": {
    "ExecuteTime": {
     "end_time": "2024-06-03T14:27:31.629930Z",
     "start_time": "2024-06-03T14:27:31.626148Z"
    }
   },
   "cell_type": "code",
   "source": "help(plt.savefig)",
   "id": "ee8b2d22cb7982f5",
   "execution_count": 6,
   "outputs": []
  },
  {
   "metadata": {
    "ExecuteTime": {
     "end_time": "2024-06-03T14:27:31.678282Z",
     "start_time": "2024-06-03T14:27:31.629930Z"
    }
   },
   "cell_type": "code",
   "source": [
    "%%time\n",
    "plt.savefig('my_first_plot.png', dpi=200)"
   ],
   "id": "51109bb9d61318d7",
   "execution_count": 7,
   "outputs": []
  },
  {
   "metadata": {
    "ExecuteTime": {
     "end_time": "2024-06-03T14:27:31.681876Z",
     "start_time": "2024-06-03T14:27:31.678805Z"
    }
   },
   "cell_type": "code",
   "source": [
    "a = np.linspace(0, 10, 10)\n",
    "b = a * 2"
   ],
   "id": "b15be077666f7b4f",
   "execution_count": 8,
   "outputs": []
  },
  {
   "metadata": {
    "ExecuteTime": {
     "end_time": "2024-06-03T14:27:31.687815Z",
     "start_time": "2024-06-03T14:27:31.681876Z"
    }
   },
   "cell_type": "code",
   "source": [
    "x = np.arange(0, 20)\n",
    "y = x * 2"
   ],
   "id": "e5ea39ff6cfe5c64",
   "execution_count": 9,
   "outputs": []
  },
  {
   "metadata": {
    "ExecuteTime": {
     "end_time": "2024-06-03T14:27:31.795838Z",
     "start_time": "2024-06-03T14:27:31.687815Z"
    }
   },
   "cell_type": "code",
   "source": [
    "fig = plt.figure()\n",
    "axes = fig.add_axes([0, 0, 1, 1])\n",
    "axes.plot(x, y, color='pink')"
   ],
   "id": "5c2f5d7bb7c96dfd",
   "execution_count": 10,
   "outputs": []
  },
  {
   "metadata": {
    "ExecuteTime": {
     "end_time": "2024-06-03T14:27:31.997150Z",
     "start_time": "2024-06-03T14:27:31.795838Z"
    }
   },
   "cell_type": "code",
   "source": [
    "fig = plt.figure()\n",
    "\n",
    "a = np.linspace(0, 10, 10)\n",
    "b = a * 2\n",
    "\n",
    "axes1 = fig.add_axes([0, 0, 1, 1])\n",
    "axes2 = fig.add_axes([0, 0, 1, 1])\n",
    "\n",
    "axes1.set_xlabel('X axis')\n",
    "axes1.set_ylabel('Y axis')\n",
    "axes1.set_title('Title')\n",
    "axes1.plot(a, b)\n",
    "\n",
    "axes2.plot(a, b)\n",
    "axes2.set_xlabel('X axis')\n",
    "axes2.set_ylabel('Y axis')\n",
    "axes2.set_title('Title')\n"
   ],
   "id": "8e83a7c8947a77c5",
   "execution_count": 11,
   "outputs": []
  },
  {
   "metadata": {
    "ExecuteTime": {
     "end_time": "2024-06-03T14:27:32.172468Z",
     "start_time": "2024-06-03T14:27:31.999155Z"
    }
   },
   "cell_type": "code",
   "source": [
    "fig = plt.figure()\n",
    "\n",
    "axes1 = fig.add_axes([0, 0, 1, 1])\n",
    "axes2 = fig.add_axes([0.1, 0.2, 0.5, 0.5])\n",
    "\n",
    "axes1.plot(a, b)\n",
    "\n",
    "axes1.set_xlabel('X Label')\n",
    "axes1.set_ylabel('Y Label')\n",
    "\n",
    "axes2.plot(a, b)"
   ],
   "id": "26a68d5c73ad94e1",
   "execution_count": 12,
   "outputs": []
  },
  {
   "metadata": {
    "ExecuteTime": {
     "end_time": "2024-06-03T14:27:32.353390Z",
     "start_time": "2024-06-03T14:27:32.172468Z"
    }
   },
   "cell_type": "code",
   "source": [
    "fig = plt.figure()\n",
    "\n",
    "axes1 = fig.add_axes([0, 0, 1, 1])\n",
    "axes2 = fig.add_axes([0.2, 0.5, 0.25, 0.25])\n",
    "\n",
    "axes1.plot(a, b)\n",
    "axes1.set_xlabel('X Label')\n",
    "axes1.set_ylabel('Y Label')\n",
    "axes1.set_title('Big Figure')\n",
    "\n",
    "axes2.plot(a, b)\n",
    "axes2.set_xlabel('X Label')\n",
    "axes2.set_ylabel('Y Label')\n",
    "axes2.set_title('Small Figure')\n",
    "\n",
    "axes2.set_xlim(0, 25)\n",
    "axes2.set_ylim(0, 25)\n"
   ],
   "id": "75c48d5a906fdd0b",
   "execution_count": 13,
   "outputs": []
  },
  {
   "metadata": {
    "ExecuteTime": {
     "end_time": "2024-06-03T14:27:32.591904Z",
     "start_time": "2024-06-03T14:27:32.354397Z"
    }
   },
   "cell_type": "code",
   "source": [
    "fig = plt.figure()\n",
    "\n",
    "axes1 = fig.add_axes([0, 0, 1, 1])\n",
    "axes2 = fig.add_axes([1.1, 0.6, 0.25, 0.25])\n",
    "axes3 = fig.add_axes([1.1, 0.2, 0.25, 0.25])\n",
    "\n",
    "axes1.plot(a, b)\n",
    "\n",
    "axes2.plot(a, b)\n",
    "axes2.set_xlim(0, 30)\n",
    "axes2.set_ylim(0, 45)\n",
    "\n",
    "axes3.plot(a, b)\n",
    "\n",
    "axes1.set_title('Axes 1')\n",
    "axes2.set_title('Axes 2')\n",
    "axes3.set_title('Axes 3')"
   ],
   "id": "ef581778ac6f1051",
   "execution_count": 14,
   "outputs": []
  },
  {
   "metadata": {
    "ExecuteTime": {
     "end_time": "2024-06-03T14:27:32.810690Z",
     "start_time": "2024-06-03T14:27:32.591904Z"
    }
   },
   "cell_type": "code",
   "source": [
    "fig = plt.figure(figsize=(16, 8), dpi=150)\n",
    "\n",
    "axes1 = fig.add_axes([0, 0, 1, 1])\n",
    "\n",
    "axes1.plot(a, b)"
   ],
   "id": "1db4d260fcd6b101",
   "execution_count": 15,
   "outputs": []
  },
  {
   "metadata": {
    "ExecuteTime": {
     "end_time": "2024-06-03T14:27:32.977830Z",
     "start_time": "2024-06-03T14:27:32.810690Z"
    }
   },
   "cell_type": "code",
   "source": [
    "fig = plt.figure()\n",
    "\n",
    "axes1 = fig.add_axes([0, 0, 1, 1])\n",
    "\n",
    "axes1.plot(a, b)\n",
    "axes1.set_xlabel('X Label')\n",
    "axes1.set_ylabel('Y Label')\n",
    "axes1.set_title('Title')\n",
    "axes1.set_xlim(0, 25)\n",
    "axes1.set_ylim(0, 25)\n",
    "\n",
    "fig.savefig('test.png', bbox_inches='tight')"
   ],
   "id": "204edc7792e59677",
   "execution_count": 16,
   "outputs": []
  },
  {
   "metadata": {
    "ExecuteTime": {
     "end_time": "2024-06-03T14:27:33.139393Z",
     "start_time": "2024-06-03T14:27:32.978839Z"
    }
   },
   "cell_type": "code",
   "source": [
    "fig = plt.figure(figsize=(5, 3), dpi=150, )\n",
    "\n",
    "axes1 = fig.add_axes([0, 0, 1, 1])\n",
    "axes2 = fig.add_axes([1.1, 1.1, 0.25, 0.25])\n",
    "\n",
    "axes1.plot(x, y)\n",
    "axes2.plot(x, y)"
   ],
   "id": "8d103c1f35379100",
   "execution_count": 17,
   "outputs": []
  },
  {
   "metadata": {
    "ExecuteTime": {
     "end_time": "2024-06-03T14:27:33.143196Z",
     "start_time": "2024-06-03T14:27:33.140400Z"
    }
   },
   "cell_type": "code",
   "source": [
    "a = np.linspace(0, 10 ,11)\n",
    "b = a ** 4"
   ],
   "id": "11bd2b7bbd9c6fda",
   "execution_count": 18,
   "outputs": []
  },
  {
   "metadata": {
    "ExecuteTime": {
     "end_time": "2024-06-03T14:27:33.149688Z",
     "start_time": "2024-06-03T14:27:33.143196Z"
    }
   },
   "cell_type": "code",
   "source": [
    "x = np.arange(0, 10)\n",
    "y = 2 * x"
   ],
   "id": "79af64d9401290b7",
   "execution_count": 19,
   "outputs": []
  },
  {
   "metadata": {
    "ExecuteTime": {
     "end_time": "2024-06-03T14:27:33.265901Z",
     "start_time": "2024-06-03T14:27:33.149688Z"
    }
   },
   "cell_type": "code",
   "source": [
    "fig, axes = plt.subplots()\n",
    "\n",
    "axes.plot(x, y, 'red')\n",
    "axes.set_xlabel('X Label')\n",
    "axes.set_ylabel('Y Label')\n",
    "axes.set_title('Title')\n"
   ],
   "id": "3794601b0e7e7d94",
   "execution_count": 20,
   "outputs": []
  },
  {
   "metadata": {
    "ExecuteTime": {
     "end_time": "2024-06-03T14:27:33.507923Z",
     "start_time": "2024-06-03T14:27:33.265901Z"
    }
   },
   "cell_type": "code",
   "source": [
    "fig, axes = plt.subplots(nrows=1, ncols=2)\n",
    "axes[0].plot(a, b)\n",
    "axes[1].plot(b, a)"
   ],
   "id": "36b10a28288f99f6",
   "execution_count": 21,
   "outputs": []
  },
  {
   "metadata": {
    "ExecuteTime": {
     "end_time": "2024-06-03T14:27:33.681832Z",
     "start_time": "2024-06-03T14:27:33.507923Z"
    }
   },
   "cell_type": "code",
   "source": [
    "fig, axes = plt.subplots(nrows=1, ncols=2)\n",
    "\n",
    "for axe in axes:\n",
    "  axe.plot(x, y)"
   ],
   "id": "1b5106eb89ad93dd",
   "execution_count": 22,
   "outputs": []
  },
  {
   "metadata": {
    "ExecuteTime": {
     "end_time": "2024-06-03T14:27:33.848286Z",
     "start_time": "2024-06-03T14:27:33.681832Z"
    }
   },
   "cell_type": "code",
   "source": [
    "fig, axes = plt.subplots(nrows=1, ncols=2)\n",
    "\n",
    "axes[0].plot(a, b)\n",
    "axes[1].plot(x, y)"
   ],
   "id": "47748722ff679a6b",
   "execution_count": 23,
   "outputs": []
  },
  {
   "metadata": {
    "ExecuteTime": {
     "end_time": "2024-06-03T14:27:34.210415Z",
     "start_time": "2024-06-03T14:27:33.849295Z"
    }
   },
   "cell_type": "code",
   "source": [
    "fig, axes = plt.subplots(nrows=2, ncols=2)\n",
    "\n",
    "axes[1][0].plot(x, y)\n",
    "axes[1][1].plot(a, b)\n",
    "\n",
    "plt.tight_layout()"
   ],
   "id": "6532da7461d905c",
   "execution_count": 24,
   "outputs": []
  },
  {
   "metadata": {
    "ExecuteTime": {
     "end_time": "2024-06-03T14:27:34.620499Z",
     "start_time": "2024-06-03T14:27:34.210415Z"
    }
   },
   "cell_type": "code",
   "source": [
    "fig, axes = plt.subplots(nrows=2, ncols=2, figsize=(12, 8))\n",
    "\n",
    "axes[0][0].plot(a, b)\n",
    "axes[0][0].set_title('0 0 Title')\n",
    "\n",
    "axes[1][0].plot(x, y)\n",
    "axes[1][0].set_title('0 1 Title')\n",
    "\n",
    "axes[0][1].plot(b, a)\n",
    "axes[0][1].set_title('0 1 Title')\n",
    "\n",
    "axes[1][1].plot(y, x)\n",
    "axes[1][1].set_title('1 1 Title')\n",
    "\n",
    "fig.suptitle('Figure Level', fontsize=46)"
   ],
   "id": "3521bbfd4e06fde8",
   "execution_count": 25,
   "outputs": []
  },
  {
   "metadata": {
    "ExecuteTime": {
     "end_time": "2024-06-03T14:27:34.985240Z",
     "start_time": "2024-06-03T14:27:34.620499Z"
    }
   },
   "cell_type": "code",
   "source": [
    "fig, axes = plt.subplots(nrows=2, ncols=2, dpi=150, figsize=(12, 8))\n",
    "\n",
    "axes[0][0].plot(a, b)\n",
    "axes[0][1].plot(x, y)\n",
    "axes[1][0].plot(b, a)\n",
    "axes[1][1].plot(y, x)\n",
    "\n",
    "fig.subplots_adjust(\n",
    "  left=None,\n",
    "  bottom=None,\n",
    "  right=None,\n",
    "  top=None,\n",
    "  wspace=0.9,\n",
    "  hspace=0.1,\n",
    ")"
   ],
   "id": "cfde52ce6830537a",
   "execution_count": 26,
   "outputs": []
  },
  {
   "metadata": {
    "ExecuteTime": {
     "end_time": "2024-06-03T14:27:35.553722Z",
     "start_time": "2024-06-03T14:27:34.985240Z"
    }
   },
   "cell_type": "code",
   "source": [
    "fig, axes = plt.subplots(nrows=2, ncols=2, figsize=(12, 8))\n",
    "\n",
    "axes[0][0].plot(a, b)\n",
    "axes[0][0].set_title('0 - 0')\n",
    "axes[1][1].plot(x, y)\n",
    "axes[1][1].set_title('1 - 1')\n",
    "axes[1][0].plot(b, a)\n",
    "axes[1][0].set_title('1 - 0')\n",
    "axes[0][1].plot(y, x)\n",
    "axes[0][1].set_title('0 - 1')\n",
    "\n",
    "fig.savefig('test2', bbox_inches='tight')\n",
    "\n",
    "plt.show()"
   ],
   "id": "379f3d5044a11447",
   "execution_count": 27,
   "outputs": []
  },
  {
   "metadata": {},
   "cell_type": "markdown",
   "source": "# 03-Matplotlib-Styling-Plots.ipynb",
   "id": "3a86d9a2b0a9669f"
  },
  {
   "metadata": {
    "ExecuteTime": {
     "end_time": "2024-06-03T14:27:35.557432Z",
     "start_time": "2024-06-03T14:27:35.553722Z"
    }
   },
   "cell_type": "code",
   "source": [
    "x = np.arange(0, 10)\n",
    "y = 2 * x"
   ],
   "id": "14983519e615818d",
   "execution_count": 28,
   "outputs": []
  },
  {
   "metadata": {
    "ExecuteTime": {
     "end_time": "2024-06-03T14:27:35.729099Z",
     "start_time": "2024-06-03T14:27:35.557432Z"
    }
   },
   "cell_type": "code",
   "source": [
    "fig = plt.figure(dpi=200, figsize=(5, 3))\n",
    "\n",
    "ax = fig.add_axes([0, 0, 1, 1])\n",
    "ax.plot(x, x**2, label='x**2')\n",
    "ax.plot(x, x**3, label='x**3')\n",
    "ax.set_title('Title')\n",
    "ax.set_xlabel('X Label')\n",
    "ax.set_ylabel('Y Label')\n",
    "# ax.set_xlim(0, 15)\n",
    "# ax.set_ylim(0, 99)\n",
    "ax.legend()"
   ],
   "id": "cbc1cc08ba263377",
   "execution_count": 29,
   "outputs": []
  },
  {
   "metadata": {
    "ExecuteTime": {
     "end_time": "2024-06-03T14:27:35.836944Z",
     "start_time": "2024-06-03T14:27:35.730106Z"
    }
   },
   "cell_type": "code",
   "source": [
    "ax.legend(loc=1)\n",
    "ax.legend(loc=2)\n",
    "ax.legend(loc=3)\n",
    "ax.legend(loc=4)\n",
    "\n",
    "ax.legend(loc=0)\n",
    "\n",
    "ax.legend(loc=0)\n",
    "fig"
   ],
   "id": "2d977e3f38550274",
   "execution_count": 30,
   "outputs": []
  },
  {
   "metadata": {
    "ExecuteTime": {
     "end_time": "2024-06-03T14:27:35.946424Z",
     "start_time": "2024-06-03T14:27:35.836944Z"
    }
   },
   "cell_type": "code",
   "source": [
    "ax.legend(loc=(1.1, 0.5))\n",
    "fig"
   ],
   "id": "7b6a5da9c4aceb24",
   "execution_count": 31,
   "outputs": []
  },
  {
   "metadata": {
    "ExecuteTime": {
     "end_time": "2024-06-03T14:27:36.046185Z",
     "start_time": "2024-06-03T14:27:35.946424Z"
    }
   },
   "cell_type": "code",
   "source": [
    "fig, ax = plt.subplots()\n",
    "ax.plot(x, x**2, 'b,-')\n",
    "ax.plot(x, x**3, 'g--')"
   ],
   "id": "c85940d10f5e760f",
   "execution_count": 32,
   "outputs": []
  },
  {
   "metadata": {
    "ExecuteTime": {
     "end_time": "2024-06-03T14:27:36.247559Z",
     "start_time": "2024-06-03T14:27:36.046185Z"
    }
   },
   "cell_type": "code",
   "source": [
    "fig, ax = plt.subplots()\n",
    "\n",
    "ax.plot(x, x+1, color='blue', alpha=0.5)\n",
    "ax.plot(x, x+3, color='#8B008B')\n",
    "ax.plot(x, x+6, color='#FF8C00')"
   ],
   "id": "46a255403e8d23c5",
   "execution_count": 33,
   "outputs": []
  },
  {
   "metadata": {
    "ExecuteTime": {
     "end_time": "2024-06-03T14:27:36.350720Z",
     "start_time": "2024-06-03T14:27:36.247559Z"
    }
   },
   "cell_type": "code",
   "source": [
    "fig, ax = plt.subplots(figsize=(10, 6))\n",
    "\n",
    "ax.plot(x, x-1, color='red', linewidth=0.25)\n",
    "ax.plot(x, x-2, color='red', lw=0.5)\n",
    "ax.plot(x, x-3, color='red', lw=1)\n",
    "ax.plot(x, x-4, color='red', lw=10)"
   ],
   "id": "98372687829a7d6c",
   "execution_count": 34,
   "outputs": []
  },
  {
   "metadata": {
    "ExecuteTime": {
     "end_time": "2024-06-03T14:27:36.454256Z",
     "start_time": "2024-06-03T14:27:36.351730Z"
    }
   },
   "cell_type": "code",
   "source": [
    "fig, ax = plt.subplots(figsize=(8, 6))\n",
    "\n",
    "ax.plot(x, x-1, color='green', lw=3, linestyle='-')\n",
    "ax.plot(x, x-2, color='green', lw=3, ls='-.')\n",
    "ax.plot(x, x-3, color='green', lw=3, ls=':')\n",
    "ax.plot(x, x-4, color='green', lw=3, ls='--')"
   ],
   "id": "a7a3067b172b2684",
   "execution_count": 35,
   "outputs": []
  },
  {
   "metadata": {
    "ExecuteTime": {
     "end_time": "2024-06-03T14:27:36.544783Z",
     "start_time": "2024-06-03T14:27:36.455258Z"
    }
   },
   "cell_type": "code",
   "source": [
    "fig, ax = plt.subplots(figsize=(8, 6))\n",
    "lines = ax.plot(x, x)\n",
    "\n",
    "print(type(lines))"
   ],
   "id": "2b436d45a4191630",
   "execution_count": 36,
   "outputs": []
  },
  {
   "metadata": {
    "ExecuteTime": {
     "end_time": "2024-06-03T14:27:36.633514Z",
     "start_time": "2024-06-03T14:27:36.545351Z"
    }
   },
   "cell_type": "code",
   "source": [
    "fig, ax = plt.subplots(figsize=(8, 6))\n",
    "lines = ax.plot(x, x+8, color='black', lw=5)\n",
    "lines[0].set_dashes([10, 10])"
   ],
   "id": "7538c42de46057f4",
   "execution_count": 37,
   "outputs": []
  },
  {
   "metadata": {
    "ExecuteTime": {
     "end_time": "2024-06-03T14:27:36.723434Z",
     "start_time": "2024-06-03T14:27:36.633514Z"
    }
   },
   "cell_type": "code",
   "source": [
    "fix, ax = plt.subplots(figsize=(8, 5))\n",
    "lines = ax.plot(x, x+8, color='black', lw=5)\n",
    "lines[0].set_dashes([1, 1,1, 1, 10, 10])"
   ],
   "id": "1a63ff8bd139863b",
   "execution_count": 38,
   "outputs": []
  },
  {
   "metadata": {
    "ExecuteTime": {
     "end_time": "2024-06-03T14:27:36.827352Z",
     "start_time": "2024-06-03T14:27:36.725959Z"
    }
   },
   "cell_type": "code",
   "source": [
    "fig, ax = plt.subplots(figsize=(8, 6))\n",
    "\n",
    "ax.plot(x, x-1, marker='+', markersize=20)\n",
    "ax.plot(x, x-2, marker='o', ms=20)\n",
    "ax.plot(x, x-3, marker='s', ms=20, lw=0)\n",
    "ax.plot(x, x-4, marker=1, ms=20)"
   ],
   "id": "a3dd25df4c314089",
   "execution_count": 39,
   "outputs": []
  },
  {
   "metadata": {
    "ExecuteTime": {
     "end_time": "2024-06-03T14:27:36.916233Z",
     "start_time": "2024-06-03T14:27:36.827352Z"
    }
   },
   "cell_type": "code",
   "source": [
    "fig, ax = plt.subplots(figsize=(8, 6))\n",
    "\n",
    "ax.plot(x, x, color=\"black\", lw=1, ls='-', marker='s', markersize=20,\n",
    "        markerfacecolor=\"red\", markeredgewidth=8, markeredgecolor=\"blue\");"
   ],
   "id": "698875160ed4cc11",
   "execution_count": 40,
   "outputs": []
  },
  {
   "metadata": {
    "ExecuteTime": {
     "end_time": "2024-06-03T14:43:28.058387Z",
     "start_time": "2024-06-03T14:43:27.741471Z"
    }
   },
   "cell_type": "code",
   "source": [
    "fig, axes = plt.subplots(nrows=1, ncols=2, figsize=(8, 6))\n",
    "\n",
    "axes[0].plot(x, x**2, x, np.exp(x))\n",
    "axes[0].set_title('Normal scale')\n",
    "\n",
    "axes[1].plot(x, x**2, np.exp(x))\n",
    "axes[1].set_yscale('log')\n",
    "axes[1].set_title('Logaritmic scale (y)')"
   ],
   "id": "1c491358cd682108",
   "execution_count": 52,
   "outputs": []
  },
  {
   "metadata": {
    "ExecuteTime": {
     "end_time": "2024-06-03T14:48:47.528314Z",
     "start_time": "2024-06-03T14:48:47.430087Z"
    }
   },
   "cell_type": "code",
   "source": [
    "fig, ax = plt.subplots(figsize=(10, 4))\n",
    "\n",
    "ax.plot(x, x**2, x**3, lw=2)\n",
    "ax.set_xticks([1, 2, 3, 4, 5])\n",
    "ax.set_xticklabels([r'$\\alpha$', r'$\\beta$', r'$\\gamma$', r'$\\delta$', r'$\\epsilon$'], fontsize=18)\n",
    "\n",
    "yticks = [0, 50, 100, 150]\n",
    "ax.set_yticks(yticks)\n",
    "ax.set_yticklabels(['$%.1f$' % y for y in yticks], fontsize=18)"
   ],
   "id": "1775b4cb4fd1fe4f",
   "execution_count": 59,
   "outputs": []
  },
  {
   "metadata": {
    "ExecuteTime": {
     "end_time": "2024-06-03T14:53:20.515646Z",
     "start_time": "2024-06-03T14:53:20.405375Z"
    }
   },
   "cell_type": "code",
   "source": [
    "fig, ax = plt.subplots(1, 1)\n",
    "ax.plot(x, x**2, x, np.exp(x))\n",
    "ax.set_title('Scientific Notation')\n",
    "\n",
    "ax.set_yticks([0, 50, 100, 150])\n",
    "\n",
    "from matplotlib import ticker\n",
    "\n",
    "formatter = ticker.ScalarFormatter(useMathText=True)\n",
    "formatter.set_scientific(True)\n",
    "formatter.set_powerlimits((-1, 1))\n",
    "ax.yaxis.set_major_formatter(formatter)"
   ],
   "id": "68b94e394758d727",
   "execution_count": 68,
   "outputs": []
  },
  {
   "metadata": {
    "ExecuteTime": {
     "end_time": "2024-06-03T14:54:04.581548Z",
     "start_time": "2024-06-03T14:54:04.569768Z"
    }
   },
   "cell_type": "code",
   "source": "",
   "id": "fc60b90318ff8e6a",
   "execution_count": 69,
   "outputs": []
  }
 ],
 "metadata": {
  "kernelspec": {
   "display_name": "Python 3",
   "language": "python",
   "name": "python3"
  },
  "language_info": {
   "codemirror_mode": {
    "name": "ipython",
    "version": 2
   },
   "file_extension": ".py",
   "mimetype": "text/x-python",
   "name": "python",
   "nbconvert_exporter": "python",
   "pygments_lexer": "ipython2",
   "version": "2.7.6"
  }
 },
 "nbformat": 4,
 "nbformat_minor": 5
}
