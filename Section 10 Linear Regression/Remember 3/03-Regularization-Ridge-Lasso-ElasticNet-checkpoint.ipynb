{
 "cells": [
  {
   "cell_type": "code",
   "id": "initial_id",
   "metadata": {
    "collapsed": true,
    "ExecuteTime": {
     "end_time": "2024-08-26T18:15:08.543368Z",
     "start_time": "2024-08-26T18:15:08.540061Z"
    }
   },
   "source": [
    "import numpy as np\n",
    "import pandas as pd\n",
    "import matplotlib.pyplot as plt\n",
    "import seaborn as sns\n",
    "\n",
    "from pathlib import Path"
   ],
   "outputs": [],
   "execution_count": 1
  },
  {
   "metadata": {
    "ExecuteTime": {
     "end_time": "2024-08-26T18:16:28.529900Z",
     "start_time": "2024-08-26T18:16:28.527287Z"
    }
   },
   "cell_type": "code",
   "source": "df_path = Path.cwd() / '..' / '..' / 'data' / 'Advertising.csv'",
   "id": "f942226b058c6ee8",
   "outputs": [],
   "execution_count": 2
  },
  {
   "metadata": {
    "ExecuteTime": {
     "end_time": "2024-08-26T18:16:36.463226Z",
     "start_time": "2024-08-26T18:16:36.455892Z"
    }
   },
   "cell_type": "code",
   "source": "df = pd.read_csv(df_path)",
   "id": "f921701ef389a334",
   "outputs": [],
   "execution_count": 3
  },
  {
   "metadata": {
    "ExecuteTime": {
     "end_time": "2024-08-26T18:17:17.296019Z",
     "start_time": "2024-08-26T18:17:17.293019Z"
    }
   },
   "cell_type": "code",
   "source": "X = df.drop('sales', axis=1)",
   "id": "f9d8aef57668d9b9",
   "outputs": [],
   "execution_count": 4
  },
  {
   "metadata": {
    "ExecuteTime": {
     "end_time": "2024-08-26T18:17:25.860567Z",
     "start_time": "2024-08-26T18:17:25.858064Z"
    }
   },
   "cell_type": "code",
   "source": "y = df['sales']",
   "id": "7f9938cf95ce399f",
   "outputs": [],
   "execution_count": 5
  },
  {
   "metadata": {
    "ExecuteTime": {
     "end_time": "2024-08-26T18:19:22.560109Z",
     "start_time": "2024-08-26T18:19:22.480227Z"
    }
   },
   "cell_type": "code",
   "source": "from sklearn.preprocessing import PolynomialFeatures",
   "id": "9b072ac354cb2fa",
   "outputs": [],
   "execution_count": 6
  },
  {
   "metadata": {
    "ExecuteTime": {
     "end_time": "2024-08-26T18:20:10.230968Z",
     "start_time": "2024-08-26T18:20:10.228027Z"
    }
   },
   "cell_type": "code",
   "source": "polynomial_converter = PolynomialFeatures(degree=3, include_bias=False)",
   "id": "6f656c02f3941a37",
   "outputs": [],
   "execution_count": 7
  },
  {
   "metadata": {
    "ExecuteTime": {
     "end_time": "2024-08-26T18:20:25.467896Z",
     "start_time": "2024-08-26T18:20:25.463347Z"
    }
   },
   "cell_type": "code",
   "source": "poly_features = polynomial_converter.fit_transform(X)",
   "id": "e929e4aa996a8590",
   "outputs": [],
   "execution_count": 8
  },
  {
   "metadata": {
    "ExecuteTime": {
     "end_time": "2024-08-26T18:29:56.074682Z",
     "start_time": "2024-08-26T18:29:55.594540Z"
    }
   },
   "cell_type": "code",
   "source": "",
   "id": "61db26b132bfc054",
   "outputs": [
    {
     "ename": "NameError",
     "evalue": "name 'train_test_split' is not defined",
     "output_type": "error",
     "traceback": [
      "\u001B[1;31m---------------------------------------------------------------------------\u001B[0m",
      "\u001B[1;31mNameError\u001B[0m                                 Traceback (most recent call last)",
      "Cell \u001B[1;32mIn[9], line 14\u001B[0m\n\u001B[0;32m     11\u001B[0m polynomial_converter \u001B[38;5;241m=\u001B[39m PolynomialFeatures(degree\u001B[38;5;241m=\u001B[39md, include_bias\u001B[38;5;241m=\u001B[39m\u001B[38;5;28;01mFalse\u001B[39;00m)\n\u001B[0;32m     12\u001B[0m poly_features \u001B[38;5;241m=\u001B[39m polynomial_converter\u001B[38;5;241m.\u001B[39mfit_transform(X)\n\u001B[1;32m---> 14\u001B[0m X_train, X_test, y_train, y_test \u001B[38;5;241m=\u001B[39m \u001B[43mtrain_test_split\u001B[49m(poly_features, y, test_size\u001B[38;5;241m=\u001B[39m\u001B[38;5;241m0.3\u001B[39m, random_state\u001B[38;5;241m=\u001B[39m\u001B[38;5;241m101\u001B[39m)\n\u001B[0;32m     16\u001B[0m model \u001B[38;5;241m=\u001B[39m LinearRegression(fit_intercept\u001B[38;5;241m=\u001B[39m\u001B[38;5;28;01mTrue\u001B[39;00m)\n\u001B[0;32m     17\u001B[0m model\u001B[38;5;241m.\u001B[39mfit(X_train, y_train)\n",
      "\u001B[1;31mNameError\u001B[0m: name 'train_test_split' is not defined"
     ]
    }
   ],
   "execution_count": 9
  }
 ],
 "metadata": {
  "kernelspec": {
   "display_name": "Python 3",
   "language": "python",
   "name": "python3"
  },
  "language_info": {
   "codemirror_mode": {
    "name": "ipython",
    "version": 2
   },
   "file_extension": ".py",
   "mimetype": "text/x-python",
   "name": "python",
   "nbconvert_exporter": "python",
   "pygments_lexer": "ipython2",
   "version": "2.7.6"
  }
 },
 "nbformat": 4,
 "nbformat_minor": 5
}
