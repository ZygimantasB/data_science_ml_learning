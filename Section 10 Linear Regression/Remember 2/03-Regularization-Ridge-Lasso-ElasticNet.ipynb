{
 "cells": [
  {
   "cell_type": "code",
   "id": "initial_id",
   "metadata": {
    "collapsed": true,
    "ExecuteTime": {
     "end_time": "2024-07-28T09:47:50.664569Z",
     "start_time": "2024-07-28T09:47:50.661625Z"
    }
   },
   "source": [
    "import numpy as np\n",
    "import pandas as pd\n",
    "import matplotlib.pyplot as plt\n",
    "import seaborn as sns\n",
    "from pathlib import Path"
   ],
   "outputs": [],
   "execution_count": 12
  },
  {
   "metadata": {
    "ExecuteTime": {
     "end_time": "2024-07-28T09:47:58.807906Z",
     "start_time": "2024-07-28T09:47:58.804792Z"
    }
   },
   "cell_type": "code",
   "source": [
    "df_path = Path('..') / '..' / 'DATA' / 'Advertising.csv'\n",
    "df = pd.read_csv(df_path)"
   ],
   "id": "81b49595ecfb31f8",
   "outputs": [],
   "execution_count": 14
  },
  {
   "metadata": {
    "ExecuteTime": {
     "end_time": "2024-07-28T10:03:06.065709Z",
     "start_time": "2024-07-28T10:03:06.059029Z"
    }
   },
   "cell_type": "code",
   "source": [
    "X = df.drop('sales',axis=1)\n",
    "y = df['sales']"
   ],
   "id": "e75b837051ff6464",
   "outputs": [],
   "execution_count": 17
  },
  {
   "metadata": {
    "ExecuteTime": {
     "end_time": "2024-07-28T10:03:06.552046Z",
     "start_time": "2024-07-28T10:03:06.548279Z"
    }
   },
   "cell_type": "code",
   "source": "from sklearn.preprocessing import PolynomialFeatures",
   "id": "85e18d3d0372157c",
   "outputs": [],
   "execution_count": 18
  },
  {
   "metadata": {
    "ExecuteTime": {
     "end_time": "2024-07-28T10:03:07.090044Z",
     "start_time": "2024-07-28T10:03:07.085335Z"
    }
   },
   "cell_type": "code",
   "source": "polynomial_converter = PolynomialFeatures(degree=3, include_bias=False)",
   "id": "f7088048343321c1",
   "outputs": [],
   "execution_count": 19
  },
  {
   "metadata": {
    "ExecuteTime": {
     "end_time": "2024-07-28T10:03:14.536036Z",
     "start_time": "2024-07-28T10:03:14.531779Z"
    }
   },
   "cell_type": "code",
   "source": "poly_features = polynomial_converter.fit_transform(X)",
   "id": "6fa8637222b427ba",
   "outputs": [],
   "execution_count": 20
  },
  {
   "metadata": {
    "ExecuteTime": {
     "end_time": "2024-07-28T10:03:31.310214Z",
     "start_time": "2024-07-28T10:03:31.056160Z"
    }
   },
   "cell_type": "code",
   "source": "from sklearn.model_selection import train_test_split",
   "id": "ca67dbbe2d2a0c15",
   "outputs": [],
   "execution_count": 21
  },
  {
   "metadata": {},
   "cell_type": "code",
   "outputs": [],
   "execution_count": null,
   "source": "",
   "id": "ebcc1aeff363bb56"
  }
 ],
 "metadata": {
  "kernelspec": {
   "display_name": "Python 3",
   "language": "python",
   "name": "python3"
  },
  "language_info": {
   "codemirror_mode": {
    "name": "ipython",
    "version": 2
   },
   "file_extension": ".py",
   "mimetype": "text/x-python",
   "name": "python",
   "nbconvert_exporter": "python",
   "pygments_lexer": "ipython2",
   "version": "2.7.6"
  }
 },
 "nbformat": 4,
 "nbformat_minor": 5
}
