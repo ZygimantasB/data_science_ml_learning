{
 "cells": [
  {
   "cell_type": "code",
   "id": "initial_id",
   "metadata": {
    "collapsed": true,
    "ExecuteTime": {
     "end_time": "2024-12-21T19:02:40.147423Z",
     "start_time": "2024-12-21T19:02:40.143404Z"
    }
   },
   "source": [
    "import numpy as np\n",
    "import polars as pl\n",
    "import polars.selectors as cs\n",
    "import seaborn as sns\n",
    "import matplotlib.pyplot as plt"
   ],
   "outputs": [],
   "execution_count": 28
  },
  {
   "metadata": {
    "ExecuteTime": {
     "end_time": "2024-12-21T19:02:40.187816Z",
     "start_time": "2024-12-21T19:02:40.182806Z"
    }
   },
   "cell_type": "code",
   "source": "df = pl.read_csv('../../DATA/cement_slump.csv')",
   "id": "b9c671f27413c5f1",
   "outputs": [],
   "execution_count": 29
  },
  {
   "metadata": {
    "ExecuteTime": {
     "end_time": "2024-12-21T19:02:40.225890Z",
     "start_time": "2024-12-21T19:02:40.220890Z"
    }
   },
   "cell_type": "code",
   "source": "df",
   "id": "53dc5e9501e8bd36",
   "outputs": [
    {
     "data": {
      "text/plain": [
       "shape: (103, 10)\n",
       "┌────────┬───────┬─────────┬───────┬───┬────────────┬───────────┬──────────┬───────────────────────┐\n",
       "│ Cement ┆ Slag  ┆ Fly ash ┆ Water ┆ … ┆ Fine Aggr. ┆ SLUMP(cm) ┆ FLOW(cm) ┆ Compressive Strength  │\n",
       "│ ---    ┆ ---   ┆ ---     ┆ ---   ┆   ┆ ---        ┆ ---       ┆ ---      ┆ (28-day)(…            │\n",
       "│ f64    ┆ f64   ┆ f64     ┆ f64   ┆   ┆ f64        ┆ f64       ┆ f64      ┆ ---                   │\n",
       "│        ┆       ┆         ┆       ┆   ┆            ┆           ┆          ┆ f64                   │\n",
       "╞════════╪═══════╪═════════╪═══════╪═══╪════════════╪═══════════╪══════════╪═══════════════════════╡\n",
       "│ 273.0  ┆ 82.0  ┆ 105.0   ┆ 210.0 ┆ … ┆ 680.0      ┆ 23.0      ┆ 62.0     ┆ 34.99                 │\n",
       "│ 163.0  ┆ 149.0 ┆ 191.0   ┆ 180.0 ┆ … ┆ 746.0      ┆ 0.0       ┆ 20.0     ┆ 41.14                 │\n",
       "│ 162.0  ┆ 148.0 ┆ 191.0   ┆ 179.0 ┆ … ┆ 743.0      ┆ 1.0       ┆ 20.0     ┆ 41.81                 │\n",
       "│ 162.0  ┆ 148.0 ┆ 190.0   ┆ 179.0 ┆ … ┆ 741.0      ┆ 3.0       ┆ 21.5     ┆ 42.08                 │\n",
       "│ 154.0  ┆ 112.0 ┆ 144.0   ┆ 220.0 ┆ … ┆ 658.0      ┆ 20.0      ┆ 64.0     ┆ 26.82                 │\n",
       "│ …      ┆ …     ┆ …       ┆ …     ┆ … ┆ …          ┆ …         ┆ …        ┆ …                     │\n",
       "│ 248.3  ┆ 101.0 ┆ 239.1   ┆ 168.9 ┆ … ┆ 640.6      ┆ 0.0       ┆ 20.0     ┆ 49.97                 │\n",
       "│ 248.0  ┆ 101.0 ┆ 239.9   ┆ 169.1 ┆ … ┆ 644.1      ┆ 2.0       ┆ 20.0     ┆ 50.23                 │\n",
       "│ 258.8  ┆ 88.0  ┆ 239.6   ┆ 175.3 ┆ … ┆ 646.0      ┆ 0.0       ┆ 20.0     ┆ 50.5                  │\n",
       "│ 297.1  ┆ 40.9  ┆ 239.9   ┆ 194.0 ┆ … ┆ 651.8      ┆ 27.5      ┆ 67.0     ┆ 49.17                 │\n",
       "│ 348.7  ┆ 0.1   ┆ 223.1   ┆ 208.5 ┆ … ┆ 758.1      ┆ 29.0      ┆ 78.0     ┆ 48.7                  │\n",
       "└────────┴───────┴─────────┴───────┴───┴────────────┴───────────┴──────────┴───────────────────────┘"
      ],
      "text/html": [
       "<div><style>\n",
       ".dataframe > thead > tr,\n",
       ".dataframe > tbody > tr {\n",
       "  text-align: right;\n",
       "  white-space: pre-wrap;\n",
       "}\n",
       "</style>\n",
       "<small>shape: (103, 10)</small><table border=\"1\" class=\"dataframe\"><thead><tr><th>Cement</th><th>Slag</th><th>Fly ash</th><th>Water</th><th>SP</th><th>Coarse Aggr.</th><th>Fine Aggr.</th><th>SLUMP(cm)</th><th>FLOW(cm)</th><th>Compressive Strength (28-day)(Mpa)</th></tr><tr><td>f64</td><td>f64</td><td>f64</td><td>f64</td><td>f64</td><td>f64</td><td>f64</td><td>f64</td><td>f64</td><td>f64</td></tr></thead><tbody><tr><td>273.0</td><td>82.0</td><td>105.0</td><td>210.0</td><td>9.0</td><td>904.0</td><td>680.0</td><td>23.0</td><td>62.0</td><td>34.99</td></tr><tr><td>163.0</td><td>149.0</td><td>191.0</td><td>180.0</td><td>12.0</td><td>843.0</td><td>746.0</td><td>0.0</td><td>20.0</td><td>41.14</td></tr><tr><td>162.0</td><td>148.0</td><td>191.0</td><td>179.0</td><td>16.0</td><td>840.0</td><td>743.0</td><td>1.0</td><td>20.0</td><td>41.81</td></tr><tr><td>162.0</td><td>148.0</td><td>190.0</td><td>179.0</td><td>19.0</td><td>838.0</td><td>741.0</td><td>3.0</td><td>21.5</td><td>42.08</td></tr><tr><td>154.0</td><td>112.0</td><td>144.0</td><td>220.0</td><td>10.0</td><td>923.0</td><td>658.0</td><td>20.0</td><td>64.0</td><td>26.82</td></tr><tr><td>&hellip;</td><td>&hellip;</td><td>&hellip;</td><td>&hellip;</td><td>&hellip;</td><td>&hellip;</td><td>&hellip;</td><td>&hellip;</td><td>&hellip;</td><td>&hellip;</td></tr><tr><td>248.3</td><td>101.0</td><td>239.1</td><td>168.9</td><td>7.7</td><td>954.2</td><td>640.6</td><td>0.0</td><td>20.0</td><td>49.97</td></tr><tr><td>248.0</td><td>101.0</td><td>239.9</td><td>169.1</td><td>7.7</td><td>949.9</td><td>644.1</td><td>2.0</td><td>20.0</td><td>50.23</td></tr><tr><td>258.8</td><td>88.0</td><td>239.6</td><td>175.3</td><td>7.6</td><td>938.9</td><td>646.0</td><td>0.0</td><td>20.0</td><td>50.5</td></tr><tr><td>297.1</td><td>40.9</td><td>239.9</td><td>194.0</td><td>7.5</td><td>908.9</td><td>651.8</td><td>27.5</td><td>67.0</td><td>49.17</td></tr><tr><td>348.7</td><td>0.1</td><td>223.1</td><td>208.5</td><td>9.6</td><td>786.2</td><td>758.1</td><td>29.0</td><td>78.0</td><td>48.7</td></tr></tbody></table></div>"
      ]
     },
     "execution_count": 30,
     "metadata": {},
     "output_type": "execute_result"
    }
   ],
   "execution_count": 30
  },
  {
   "metadata": {
    "ExecuteTime": {
     "end_time": "2024-12-21T19:02:40.265319Z",
     "start_time": "2024-12-21T19:02:40.260318Z"
    }
   },
   "cell_type": "code",
   "source": "df.corr()['Compressive Strength (28-day)(Mpa)']",
   "id": "92f38dca4faa125c",
   "outputs": [
    {
     "data": {
      "text/plain": [
       "shape: (10,)\n",
       "Series: 'Compressive Strength (28-day)(Mpa)' [f64]\n",
       "[\n",
       "\t0.445656\n",
       "\t-0.331522\n",
       "\t0.44438\n",
       "\t-0.25432\n",
       "\t-0.037909\n",
       "\t-0.16061\n",
       "\t-0.154532\n",
       "\t-0.223499\n",
       "\t-0.124189\n",
       "\t1.0\n",
       "]"
      ],
      "text/html": [
       "<div><style>\n",
       ".dataframe > thead > tr,\n",
       ".dataframe > tbody > tr {\n",
       "  text-align: right;\n",
       "  white-space: pre-wrap;\n",
       "}\n",
       "</style>\n",
       "<small>shape: (10,)</small><table border=\"1\" class=\"dataframe\"><thead><tr><th>Compressive Strength (28-day)(Mpa)</th></tr><tr><td>f64</td></tr></thead><tbody><tr><td>0.445656</td></tr><tr><td>-0.331522</td></tr><tr><td>0.44438</td></tr><tr><td>-0.25432</td></tr><tr><td>-0.037909</td></tr><tr><td>-0.16061</td></tr><tr><td>-0.154532</td></tr><tr><td>-0.223499</td></tr><tr><td>-0.124189</td></tr><tr><td>1.0</td></tr></tbody></table></div>"
      ]
     },
     "execution_count": 31,
     "metadata": {},
     "output_type": "execute_result"
    }
   ],
   "execution_count": 31
  },
  {
   "metadata": {
    "ExecuteTime": {
     "end_time": "2024-12-21T19:02:40.703082Z",
     "start_time": "2024-12-21T19:02:40.323184Z"
    }
   },
   "cell_type": "code",
   "source": [
    "plt.figure(figsize=(10, 10), dpi=133)\n",
    "sns.heatmap(df.corr(), cmap='coolwarm', annot=True, linewidths=1.5, linecolor='Black', cbar=True, xticklabels=df\n",
    "            .columns, yticklabels=df.columns)\n",
    "plt.show()"
   ],
   "id": "d0690aac83fa820d",
   "outputs": [
    {
     "data": {
      "text/plain": [
       "<Figure size 1330x1330 with 2 Axes>"
      ],
      "image/png": "[encoded data removed]"
     },
     "metadata": {},
     "output_type": "display_data"
    }
   ],
   "execution_count": 32
  },
  {
   "metadata": {
    "ExecuteTime": {
     "end_time": "2024-12-21T19:02:40.776490Z",
     "start_time": "2024-12-21T19:02:40.771984Z"
    }
   },
   "cell_type": "code",
   "source": "df.columns",
   "id": "84d7ce6a4f38a2b6",
   "outputs": [
    {
     "data": {
      "text/plain": [
       "['Cement',\n",
       " 'Slag',\n",
       " 'Fly ash',\n",
       " 'Water',\n",
       " 'SP',\n",
       " 'Coarse Aggr.',\n",
       " 'Fine Aggr.',\n",
       " 'SLUMP(cm)',\n",
       " 'FLOW(cm)',\n",
       " 'Compressive Strength (28-day)(Mpa)']"
      ]
     },
     "execution_count": 33,
     "metadata": {},
     "output_type": "execute_result"
    }
   ],
   "execution_count": 33
  },
  {
   "metadata": {
    "ExecuteTime": {
     "end_time": "2024-12-21T19:02:40.841497Z",
     "start_time": "2024-12-21T19:02:40.837494Z"
    }
   },
   "cell_type": "code",
   "source": "X = df.select(cs.exclude(['Compressive Strength (28-day)(Mpa)']))",
   "id": "81578165d88d235a",
   "outputs": [],
   "execution_count": 34
  },
  {
   "metadata": {
    "ExecuteTime": {
     "end_time": "2024-12-21T19:02:40.869557Z",
     "start_time": "2024-12-21T19:02:40.865949Z"
    }
   },
   "cell_type": "code",
   "source": "y = df['Compressive Strength (28-day)(Mpa)']",
   "id": "7676cfd55ddf5833",
   "outputs": [],
   "execution_count": 35
  },
  {
   "metadata": {
    "ExecuteTime": {
     "end_time": "2024-12-21T19:02:40.896808Z",
     "start_time": "2024-12-21T19:02:40.893304Z"
    }
   },
   "cell_type": "code",
   "source": "from sklearn.model_selection import train_test_split",
   "id": "7195554660171106",
   "outputs": [],
   "execution_count": 36
  },
  {
   "metadata": {
    "ExecuteTime": {
     "end_time": "2024-12-21T19:03:00.539352Z",
     "start_time": "2024-12-21T19:03:00.535172Z"
    }
   },
   "cell_type": "code",
   "source": "X_train, X_test, y_train, y_test = train_test_split(X, y, test_size=0.3, random_state=101)",
   "id": "430719d8097e5d",
   "outputs": [],
   "execution_count": 42
  },
  {
   "metadata": {
    "ExecuteTime": {
     "end_time": "2024-12-21T19:03:00.770699Z",
     "start_time": "2024-12-21T19:03:00.768308Z"
    }
   },
   "cell_type": "code",
   "source": "from sklearn.preprocessing import StandardScaler",
   "id": "135084d31537c94",
   "outputs": [],
   "execution_count": 43
  },
  {
   "metadata": {
    "ExecuteTime": {
     "end_time": "2024-12-21T19:03:00.987214Z",
     "start_time": "2024-12-21T19:03:00.983708Z"
    }
   },
   "cell_type": "code",
   "source": "scaler = StandardScaler()",
   "id": "2487dfd8249248e9",
   "outputs": [],
   "execution_count": 44
  },
  {
   "metadata": {
    "ExecuteTime": {
     "end_time": "2024-12-21T19:03:01.189190Z",
     "start_time": "2024-12-21T19:03:01.184729Z"
    }
   },
   "cell_type": "code",
   "source": "scaled_X_train = scaler.fit_transform(X_train)",
   "id": "751f34b315b6a8a7",
   "outputs": [],
   "execution_count": 45
  },
  {
   "metadata": {
    "ExecuteTime": {
     "end_time": "2024-12-21T19:03:01.747671Z",
     "start_time": "2024-12-21T19:03:01.743609Z"
    }
   },
   "cell_type": "code",
   "source": "scaled_X_test = scaler.transform(X_test)",
   "id": "2c192bebdeff3bfd",
   "outputs": [],
   "execution_count": 46
  },
  {
   "metadata": {
    "ExecuteTime": {
     "end_time": "2024-12-21T19:03:21.406873Z",
     "start_time": "2024-12-21T19:03:21.232046Z"
    }
   },
   "cell_type": "code",
   "source": "from sklearn.svm import SVR",
   "id": "f95620ecaeb3ab22",
   "outputs": [],
   "execution_count": 47
  },
  {
   "metadata": {
    "ExecuteTime": {
     "end_time": "2024-12-21T19:08:12.514074Z",
     "start_time": "2024-12-21T19:08:12.510563Z"
    }
   },
   "cell_type": "code",
   "source": "base_model = SVR()",
   "id": "95d94c720a833afa",
   "outputs": [],
   "execution_count": 48
  },
  {
   "metadata": {
    "ExecuteTime": {
     "end_time": "2024-12-21T19:08:31.785641Z",
     "start_time": "2024-12-21T19:08:31.779492Z"
    }
   },
   "cell_type": "code",
   "source": "base_model.fit(scaled_X_train, y_train)",
   "id": "75870f75b22b6d2f",
   "outputs": [
    {
     "data": {
      "text/plain": [
       "SVR()"
      ],
      "text/html": [
       "<style>#sk-container-id-1 {\n",
       "  /* Definition of color scheme common for light and dark mode */\n",
       "  --sklearn-color-text: black;\n",
       "  --sklearn-color-line: gray;\n",
       "  /* Definition of color scheme for unfitted estimators */\n",
       "  --sklearn-color-unfitted-level-0: #fff5e6;\n",
       "  --sklearn-color-unfitted-level-1: #f6e4d2;\n",
       "  --sklearn-color-unfitted-level-2: #ffe0b3;\n",
       "  --sklearn-color-unfitted-level-3: chocolate;\n",
       "  /* Definition of color scheme for fitted estimators */\n",
       "  --sklearn-color-fitted-level-0: #f0f8ff;\n",
       "  --sklearn-color-fitted-level-1: #d4ebff;\n",
       "  --sklearn-color-fitted-level-2: #b3dbfd;\n",
       "  --sklearn-color-fitted-level-3: cornflowerblue;\n",
       "\n",
       "  /* Specific color for light theme */\n",
       "  --sklearn-color-text-on-default-background: var(--sg-text-color, var(--theme-code-foreground, var(--jp-content-font-color1, black)));\n",
       "  --sklearn-color-background: var(--sg-background-color, var(--theme-background, var(--jp-layout-color0, white)));\n",
       "  --sklearn-color-border-box: var(--sg-text-color, var(--theme-code-foreground, var(--jp-content-font-color1, black)));\n",
       "  --sklearn-color-icon: #696969;\n",
       "\n",
       "  @media (prefers-color-scheme: dark) {\n",
       "    /* Redefinition of color scheme for dark theme */\n",
       "    --sklearn-color-text-on-default-background: var(--sg-text-color, var(--theme-code-foreground, var(--jp-content-font-color1, white)));\n",
       "    --sklearn-color-background: var(--sg-background-color, var(--theme-background, var(--jp-layout-color0, #111)));\n",
       "    --sklearn-color-border-box: var(--sg-text-color, var(--theme-code-foreground, var(--jp-content-font-color1, white)));\n",
       "    --sklearn-color-icon: #878787;\n",
       "  }\n",
       "}\n",
       "\n",
       "#sk-container-id-1 {\n",
       "  color: var(--sklearn-color-text);\n",
       "}\n",
       "\n",
       "#sk-container-id-1 pre {\n",
       "  padding: 0;\n",
       "}\n",
       "\n",
       "#sk-container-id-1 input.sk-hidden--visually {\n",
       "  border: 0;\n",
       "  clip: rect(1px 1px 1px 1px);\n",
       "  clip: rect(1px, 1px, 1px, 1px);\n",
       "  height: 1px;\n",
       "  margin: -1px;\n",
       "  overflow: hidden;\n",
       "  padding: 0;\n",
       "  position: absolute;\n",
       "  width: 1px;\n",
       "}\n",
       "\n",
       "#sk-container-id-1 div.sk-dashed-wrapped {\n",
       "  border: 1px dashed var(--sklearn-color-line);\n",
       "  margin: 0 0.4em 0.5em 0.4em;\n",
       "  box-sizing: border-box;\n",
       "  padding-bottom: 0.4em;\n",
       "  background-color: var(--sklearn-color-background);\n",
       "}\n",
       "\n",
       "#sk-container-id-1 div.sk-container {\n",
       "  /* jupyter's `normalize.less` sets `[hidden] { display: none; }`\n",
       "     but bootstrap.min.css set `[hidden] { display: none !important; }`\n",
       "     so we also need the `!important` here to be able to override the\n",
       "     default hidden behavior on the sphinx rendered scikit-learn.org.\n",
       "     See: https://github.com/scikit-learn/scikit-learn/issues/21755 */\n",
       "  display: inline-block !important;\n",
       "  position: relative;\n",
       "}\n",
       "\n",
       "#sk-container-id-1 div.sk-text-repr-fallback {\n",
       "  display: none;\n",
       "}\n",
       "\n",
       "div.sk-parallel-item,\n",
       "div.sk-serial,\n",
       "div.sk-item {\n",
       "  /* draw centered vertical line to link estimators */\n",
       "  background-image: linear-gradient(var(--sklearn-color-text-on-default-background), var(--sklearn-color-text-on-default-background));\n",
       "  background-size: 2px 100%;\n",
       "  background-repeat: no-repeat;\n",
       "  background-position: center center;\n",
       "}\n",
       "\n",
       "/* Parallel-specific style estimator block */\n",
       "\n",
       "#sk-container-id-1 div.sk-parallel-item::after {\n",
       "  content: \"\";\n",
       "  width: 100%;\n",
       "  border-bottom: 2px solid var(--sklearn-color-text-on-default-background);\n",
       "  flex-grow: 1;\n",
       "}\n",
       "\n",
       "#sk-container-id-1 div.sk-parallel {\n",
       "  display: flex;\n",
       "  align-items: stretch;\n",
       "  justify-content: center;\n",
       "  background-color: var(--sklearn-color-background);\n",
       "  position: relative;\n",
       "}\n",
       "\n",
       "#sk-container-id-1 div.sk-parallel-item {\n",
       "  display: flex;\n",
       "  flex-direction: column;\n",
       "}\n",
       "\n",
       "#sk-container-id-1 div.sk-parallel-item:first-child::after {\n",
       "  align-self: flex-end;\n",
       "  width: 50%;\n",
       "}\n",
       "\n",
       "#sk-container-id-1 div.sk-parallel-item:last-child::after {\n",
       "  align-self: flex-start;\n",
       "  width: 50%;\n",
       "}\n",
       "\n",
       "#sk-container-id-1 div.sk-parallel-item:only-child::after {\n",
       "  width: 0;\n",
       "}\n",
       "\n",
       "/* Serial-specific style estimator block */\n",
       "\n",
       "#sk-container-id-1 div.sk-serial {\n",
       "  display: flex;\n",
       "  flex-direction: column;\n",
       "  align-items: center;\n",
       "  background-color: var(--sklearn-color-background);\n",
       "  padding-right: 1em;\n",
       "  padding-left: 1em;\n",
       "}\n",
       "\n",
       "\n",
       "/* Toggleable style: style used for estimator/Pipeline/ColumnTransformer box that is\n",
       "clickable and can be expanded/collapsed.\n",
       "- Pipeline and ColumnTransformer use this feature and define the default style\n",
       "- Estimators will overwrite some part of the style using the `sk-estimator` class\n",
       "*/\n",
       "\n",
       "/* Pipeline and ColumnTransformer style (default) */\n",
       "\n",
       "#sk-container-id-1 div.sk-toggleable {\n",
       "  /* Default theme specific background. It is overwritten whether we have a\n",
       "  specific estimator or a Pipeline/ColumnTransformer */\n",
       "  background-color: var(--sklearn-color-background);\n",
       "}\n",
       "\n",
       "/* Toggleable label */\n",
       "#sk-container-id-1 label.sk-toggleable__label {\n",
       "  cursor: pointer;\n",
       "  display: block;\n",
       "  width: 100%;\n",
       "  margin-bottom: 0;\n",
       "  padding: 0.5em;\n",
       "  box-sizing: border-box;\n",
       "  text-align: center;\n",
       "}\n",
       "\n",
       "#sk-container-id-1 label.sk-toggleable__label-arrow:before {\n",
       "  /* Arrow on the left of the label */\n",
       "  content: \"▸\";\n",
       "  float: left;\n",
       "  margin-right: 0.25em;\n",
       "  color: var(--sklearn-color-icon);\n",
       "}\n",
       "\n",
       "#sk-container-id-1 label.sk-toggleable__label-arrow:hover:before {\n",
       "  color: var(--sklearn-color-text);\n",
       "}\n",
       "\n",
       "/* Toggleable content - dropdown */\n",
       "\n",
       "#sk-container-id-1 div.sk-toggleable__content {\n",
       "  max-height: 0;\n",
       "  max-width: 0;\n",
       "  overflow: hidden;\n",
       "  text-align: left;\n",
       "  /* unfitted */\n",
       "  background-color: var(--sklearn-color-unfitted-level-0);\n",
       "}\n",
       "\n",
       "#sk-container-id-1 div.sk-toggleable__content.fitted {\n",
       "  /* fitted */\n",
       "  background-color: var(--sklearn-color-fitted-level-0);\n",
       "}\n",
       "\n",
       "#sk-container-id-1 div.sk-toggleable__content pre {\n",
       "  margin: 0.2em;\n",
       "  border-radius: 0.25em;\n",
       "  color: var(--sklearn-color-text);\n",
       "  /* unfitted */\n",
       "  background-color: var(--sklearn-color-unfitted-level-0);\n",
       "}\n",
       "\n",
       "#sk-container-id-1 div.sk-toggleable__content.fitted pre {\n",
       "  /* unfitted */\n",
       "  background-color: var(--sklearn-color-fitted-level-0);\n",
       "}\n",
       "\n",
       "#sk-container-id-1 input.sk-toggleable__control:checked~div.sk-toggleable__content {\n",
       "  /* Expand drop-down */\n",
       "  max-height: 200px;\n",
       "  max-width: 100%;\n",
       "  overflow: auto;\n",
       "}\n",
       "\n",
       "#sk-container-id-1 input.sk-toggleable__control:checked~label.sk-toggleable__label-arrow:before {\n",
       "  content: \"▾\";\n",
       "}\n",
       "\n",
       "/* Pipeline/ColumnTransformer-specific style */\n",
       "\n",
       "#sk-container-id-1 div.sk-label input.sk-toggleable__control:checked~label.sk-toggleable__label {\n",
       "  color: var(--sklearn-color-text);\n",
       "  background-color: var(--sklearn-color-unfitted-level-2);\n",
       "}\n",
       "\n",
       "#sk-container-id-1 div.sk-label.fitted input.sk-toggleable__control:checked~label.sk-toggleable__label {\n",
       "  background-color: var(--sklearn-color-fitted-level-2);\n",
       "}\n",
       "\n",
       "/* Estimator-specific style */\n",
       "\n",
       "/* Colorize estimator box */\n",
       "#sk-container-id-1 div.sk-estimator input.sk-toggleable__control:checked~label.sk-toggleable__label {\n",
       "  /* unfitted */\n",
       "  background-color: var(--sklearn-color-unfitted-level-2);\n",
       "}\n",
       "\n",
       "#sk-container-id-1 div.sk-estimator.fitted input.sk-toggleable__control:checked~label.sk-toggleable__label {\n",
       "  /* fitted */\n",
       "  background-color: var(--sklearn-color-fitted-level-2);\n",
       "}\n",
       "\n",
       "#sk-container-id-1 div.sk-label label.sk-toggleable__label,\n",
       "#sk-container-id-1 div.sk-label label {\n",
       "  /* The background is the default theme color */\n",
       "  color: var(--sklearn-color-text-on-default-background);\n",
       "}\n",
       "\n",
       "/* On hover, darken the color of the background */\n",
       "#sk-container-id-1 div.sk-label:hover label.sk-toggleable__label {\n",
       "  color: var(--sklearn-color-text);\n",
       "  background-color: var(--sklearn-color-unfitted-level-2);\n",
       "}\n",
       "\n",
       "/* Label box, darken color on hover, fitted */\n",
       "#sk-container-id-1 div.sk-label.fitted:hover label.sk-toggleable__label.fitted {\n",
       "  color: var(--sklearn-color-text);\n",
       "  background-color: var(--sklearn-color-fitted-level-2);\n",
       "}\n",
       "\n",
       "/* Estimator label */\n",
       "\n",
       "#sk-container-id-1 div.sk-label label {\n",
       "  font-family: monospace;\n",
       "  font-weight: bold;\n",
       "  display: inline-block;\n",
       "  line-height: 1.2em;\n",
       "}\n",
       "\n",
       "#sk-container-id-1 div.sk-label-container {\n",
       "  text-align: center;\n",
       "}\n",
       "\n",
       "/* Estimator-specific */\n",
       "#sk-container-id-1 div.sk-estimator {\n",
       "  font-family: monospace;\n",
       "  border: 1px dotted var(--sklearn-color-border-box);\n",
       "  border-radius: 0.25em;\n",
       "  box-sizing: border-box;\n",
       "  margin-bottom: 0.5em;\n",
       "  /* unfitted */\n",
       "  background-color: var(--sklearn-color-unfitted-level-0);\n",
       "}\n",
       "\n",
       "#sk-container-id-1 div.sk-estimator.fitted {\n",
       "  /* fitted */\n",
       "  background-color: var(--sklearn-color-fitted-level-0);\n",
       "}\n",
       "\n",
       "/* on hover */\n",
       "#sk-container-id-1 div.sk-estimator:hover {\n",
       "  /* unfitted */\n",
       "  background-color: var(--sklearn-color-unfitted-level-2);\n",
       "}\n",
       "\n",
       "#sk-container-id-1 div.sk-estimator.fitted:hover {\n",
       "  /* fitted */\n",
       "  background-color: var(--sklearn-color-fitted-level-2);\n",
       "}\n",
       "\n",
       "/* Specification for estimator info (e.g. \"i\" and \"?\") */\n",
       "\n",
       "/* Common style for \"i\" and \"?\" */\n",
       "\n",
       ".sk-estimator-doc-link,\n",
       "a:link.sk-estimator-doc-link,\n",
       "a:visited.sk-estimator-doc-link {\n",
       "  float: right;\n",
       "  font-size: smaller;\n",
       "  line-height: 1em;\n",
       "  font-family: monospace;\n",
       "  background-color: var(--sklearn-color-background);\n",
       "  border-radius: 1em;\n",
       "  height: 1em;\n",
       "  width: 1em;\n",
       "  text-decoration: none !important;\n",
       "  margin-left: 1ex;\n",
       "  /* unfitted */\n",
       "  border: var(--sklearn-color-unfitted-level-1) 1pt solid;\n",
       "  color: var(--sklearn-color-unfitted-level-1);\n",
       "}\n",
       "\n",
       ".sk-estimator-doc-link.fitted,\n",
       "a:link.sk-estimator-doc-link.fitted,\n",
       "a:visited.sk-estimator-doc-link.fitted {\n",
       "  /* fitted */\n",
       "  border: var(--sklearn-color-fitted-level-1) 1pt solid;\n",
       "  color: var(--sklearn-color-fitted-level-1);\n",
       "}\n",
       "\n",
       "/* On hover */\n",
       "div.sk-estimator:hover .sk-estimator-doc-link:hover,\n",
       ".sk-estimator-doc-link:hover,\n",
       "div.sk-label-container:hover .sk-estimator-doc-link:hover,\n",
       ".sk-estimator-doc-link:hover {\n",
       "  /* unfitted */\n",
       "  background-color: var(--sklearn-color-unfitted-level-3);\n",
       "  color: var(--sklearn-color-background);\n",
       "  text-decoration: none;\n",
       "}\n",
       "\n",
       "div.sk-estimator.fitted:hover .sk-estimator-doc-link.fitted:hover,\n",
       ".sk-estimator-doc-link.fitted:hover,\n",
       "div.sk-label-container:hover .sk-estimator-doc-link.fitted:hover,\n",
       ".sk-estimator-doc-link.fitted:hover {\n",
       "  /* fitted */\n",
       "  background-color: var(--sklearn-color-fitted-level-3);\n",
       "  color: var(--sklearn-color-background);\n",
       "  text-decoration: none;\n",
       "}\n",
       "\n",
       "/* Span, style for the box shown on hovering the info icon */\n",
       ".sk-estimator-doc-link span {\n",
       "  display: none;\n",
       "  z-index: 9999;\n",
       "  position: relative;\n",
       "  font-weight: normal;\n",
       "  right: .2ex;\n",
       "  padding: .5ex;\n",
       "  margin: .5ex;\n",
       "  width: min-content;\n",
       "  min-width: 20ex;\n",
       "  max-width: 50ex;\n",
       "  color: var(--sklearn-color-text);\n",
       "  box-shadow: 2pt 2pt 4pt #999;\n",
       "  /* unfitted */\n",
       "  background: var(--sklearn-color-unfitted-level-0);\n",
       "  border: .5pt solid var(--sklearn-color-unfitted-level-3);\n",
       "}\n",
       "\n",
       ".sk-estimator-doc-link.fitted span {\n",
       "  /* fitted */\n",
       "  background: var(--sklearn-color-fitted-level-0);\n",
       "  border: var(--sklearn-color-fitted-level-3);\n",
       "}\n",
       "\n",
       ".sk-estimator-doc-link:hover span {\n",
       "  display: block;\n",
       "}\n",
       "\n",
       "/* \"?\"-specific style due to the `<a>` HTML tag */\n",
       "\n",
       "#sk-container-id-1 a.estimator_doc_link {\n",
       "  float: right;\n",
       "  font-size: 1rem;\n",
       "  line-height: 1em;\n",
       "  font-family: monospace;\n",
       "  background-color: var(--sklearn-color-background);\n",
       "  border-radius: 1rem;\n",
       "  height: 1rem;\n",
       "  width: 1rem;\n",
       "  text-decoration: none;\n",
       "  /* unfitted */\n",
       "  color: var(--sklearn-color-unfitted-level-1);\n",
       "  border: var(--sklearn-color-unfitted-level-1) 1pt solid;\n",
       "}\n",
       "\n",
       "#sk-container-id-1 a.estimator_doc_link.fitted {\n",
       "  /* fitted */\n",
       "  border: var(--sklearn-color-fitted-level-1) 1pt solid;\n",
       "  color: var(--sklearn-color-fitted-level-1);\n",
       "}\n",
       "\n",
       "/* On hover */\n",
       "#sk-container-id-1 a.estimator_doc_link:hover {\n",
       "  /* unfitted */\n",
       "  background-color: var(--sklearn-color-unfitted-level-3);\n",
       "  color: var(--sklearn-color-background);\n",
       "  text-decoration: none;\n",
       "}\n",
       "\n",
       "#sk-container-id-1 a.estimator_doc_link.fitted:hover {\n",
       "  /* fitted */\n",
       "  background-color: var(--sklearn-color-fitted-level-3);\n",
       "}\n",
       "</style><div id=\"sk-container-id-1\" class=\"sk-top-container\"><div class=\"sk-text-repr-fallback\"><pre>SVR()</pre><b>In a Jupyter environment, please rerun this cell to show the HTML representation or trust the notebook. <br />On GitHub, the HTML representation is unable to render, please try loading this page with nbviewer.org.</b></div><div class=\"sk-container\" hidden><div class=\"sk-item\"><div class=\"sk-estimator fitted sk-toggleable\"><input class=\"sk-toggleable__control sk-hidden--visually\" id=\"sk-estimator-id-1\" type=\"checkbox\" checked><label for=\"sk-estimator-id-1\" class=\"sk-toggleable__label fitted sk-toggleable__label-arrow fitted\">&nbsp;&nbsp;SVR<a class=\"sk-estimator-doc-link fitted\" rel=\"noreferrer\" target=\"_blank\" href=\"https://scikit-learn.org/1.5/modules/generated/sklearn.svm.SVR.html\">?<span>Documentation for SVR</span></a><span class=\"sk-estimator-doc-link fitted\">i<span>Fitted</span></span></label><div class=\"sk-toggleable__content fitted\"><pre>SVR()</pre></div> </div></div></div></div>"
      ]
     },
     "execution_count": 49,
     "metadata": {},
     "output_type": "execute_result"
    }
   ],
   "execution_count": 49
  },
  {
   "metadata": {
    "ExecuteTime": {
     "end_time": "2024-12-21T19:10:11.769081Z",
     "start_time": "2024-12-21T19:10:11.766083Z"
    }
   },
   "cell_type": "code",
   "source": "base_pred = base_model.predict(scaled_X_test)",
   "id": "bf7e249d9ac6ffb1",
   "outputs": [],
   "execution_count": 50
  },
  {
   "metadata": {
    "ExecuteTime": {
     "end_time": "2024-12-21T19:12:19.757825Z",
     "start_time": "2024-12-21T19:12:19.752822Z"
    }
   },
   "cell_type": "code",
   "source": "pl.DataFrame(base_pred, schema=[y.name])",
   "id": "9a06855f181615bc",
   "outputs": [
    {
     "data": {
      "text/plain": [
       "shape: (31, 1)\n",
       "┌─────────────────────────────────┐\n",
       "│ Compressive Strength (28-day)(… │\n",
       "│ ---                             │\n",
       "│ f64                             │\n",
       "╞═════════════════════════════════╡\n",
       "│ 33.545385                       │\n",
       "│ 36.884883                       │\n",
       "│ 35.318625                       │\n",
       "│ 34.498298                       │\n",
       "│ 38.788627                       │\n",
       "│ …                               │\n",
       "│ 34.496466                       │\n",
       "│ 33.010478                       │\n",
       "│ 36.06718                        │\n",
       "│ 35.999828                       │\n",
       "│ 34.589868                       │\n",
       "└─────────────────────────────────┘"
      ],
      "text/html": [
       "<div><style>\n",
       ".dataframe > thead > tr,\n",
       ".dataframe > tbody > tr {\n",
       "  text-align: right;\n",
       "  white-space: pre-wrap;\n",
       "}\n",
       "</style>\n",
       "<small>shape: (31, 1)</small><table border=\"1\" class=\"dataframe\"><thead><tr><th>Compressive Strength (28-day)(Mpa)</th></tr><tr><td>f64</td></tr></thead><tbody><tr><td>33.545385</td></tr><tr><td>36.884883</td></tr><tr><td>35.318625</td></tr><tr><td>34.498298</td></tr><tr><td>38.788627</td></tr><tr><td>&hellip;</td></tr><tr><td>34.496466</td></tr><tr><td>33.010478</td></tr><tr><td>36.06718</td></tr><tr><td>35.999828</td></tr><tr><td>34.589868</td></tr></tbody></table></div>"
      ]
     },
     "execution_count": 61,
     "metadata": {},
     "output_type": "execute_result"
    }
   ],
   "execution_count": 61
  },
  {
   "metadata": {
    "ExecuteTime": {
     "end_time": "2024-12-21T19:16:42.272575Z",
     "start_time": "2024-12-21T19:16:42.265997Z"
    }
   },
   "cell_type": "code",
   "source": [
    "pl.DataFrame({\n",
    "    'actual': y_test,\n",
    "    'pred': base_pred,\n",
    "    'error': y_test - base_pred,\n",
    "    'abs_error': np.abs(y_test - base_pred),\n",
    "    'MSE': (y_test - base_pred) ** 2,\n",
    "})"
   ],
   "id": "ffeb34da22c567e5",
   "outputs": [
    {
     "data": {
      "text/plain": [
       "shape: (31, 5)\n",
       "┌────────┬───────────┬────────────┬───────────┬────────────┐\n",
       "│ actual ┆ pred      ┆ error      ┆ abs_error ┆ MSE        │\n",
       "│ ---    ┆ ---       ┆ ---        ┆ ---       ┆ ---        │\n",
       "│ f64    ┆ f64       ┆ f64        ┆ f64       ┆ f64        │\n",
       "╞════════╪═══════════╪════════════╪═══════════╪════════════╡\n",
       "│ 18.26  ┆ 33.545385 ┆ -15.285385 ┆ 15.285385 ┆ 233.642997 │\n",
       "│ 41.14  ┆ 36.884883 ┆ 4.255117   ┆ 4.255117  ┆ 18.106018  │\n",
       "│ 31.9   ┆ 35.318625 ┆ -3.418625  ┆ 3.418625  ┆ 11.686999  │\n",
       "│ 26.42  ┆ 34.498298 ┆ -8.078298  ┆ 8.078298  ┆ 65.258903  │\n",
       "│ 44.48  ┆ 38.788627 ┆ 5.691373   ┆ 5.691373  ┆ 32.391728  │\n",
       "│ …      ┆ …         ┆ …          ┆ …         ┆ …          │\n",
       "│ 30.43  ┆ 34.496466 ┆ -4.066466  ┆ 4.066466  ┆ 16.536146  │\n",
       "│ 26.42  ┆ 33.010478 ┆ -6.590478  ┆ 6.590478  ┆ 43.434396  │\n",
       "│ 41.81  ┆ 36.06718  ┆ 5.74282    ┆ 5.74282   ┆ 32.979985  │\n",
       "│ 33.91  ┆ 35.999828 ┆ -2.089828  ┆ 2.089828  ┆ 4.367381   │\n",
       "│ 31.77  ┆ 34.589868 ┆ -2.819868  ┆ 2.819868  ┆ 7.951654   │\n",
       "└────────┴───────────┴────────────┴───────────┴────────────┘"
      ],
      "text/html": [
       "<div><style>\n",
       ".dataframe > thead > tr,\n",
       ".dataframe > tbody > tr {\n",
       "  text-align: right;\n",
       "  white-space: pre-wrap;\n",
       "}\n",
       "</style>\n",
       "<small>shape: (31, 5)</small><table border=\"1\" class=\"dataframe\"><thead><tr><th>actual</th><th>pred</th><th>error</th><th>abs_error</th><th>MSE</th></tr><tr><td>f64</td><td>f64</td><td>f64</td><td>f64</td><td>f64</td></tr></thead><tbody><tr><td>18.26</td><td>33.545385</td><td>-15.285385</td><td>15.285385</td><td>233.642997</td></tr><tr><td>41.14</td><td>36.884883</td><td>4.255117</td><td>4.255117</td><td>18.106018</td></tr><tr><td>31.9</td><td>35.318625</td><td>-3.418625</td><td>3.418625</td><td>11.686999</td></tr><tr><td>26.42</td><td>34.498298</td><td>-8.078298</td><td>8.078298</td><td>65.258903</td></tr><tr><td>44.48</td><td>38.788627</td><td>5.691373</td><td>5.691373</td><td>32.391728</td></tr><tr><td>&hellip;</td><td>&hellip;</td><td>&hellip;</td><td>&hellip;</td><td>&hellip;</td></tr><tr><td>30.43</td><td>34.496466</td><td>-4.066466</td><td>4.066466</td><td>16.536146</td></tr><tr><td>26.42</td><td>33.010478</td><td>-6.590478</td><td>6.590478</td><td>43.434396</td></tr><tr><td>41.81</td><td>36.06718</td><td>5.74282</td><td>5.74282</td><td>32.979985</td></tr><tr><td>33.91</td><td>35.999828</td><td>-2.089828</td><td>2.089828</td><td>4.367381</td></tr><tr><td>31.77</td><td>34.589868</td><td>-2.819868</td><td>2.819868</td><td>7.951654</td></tr></tbody></table></div>"
      ]
     },
     "execution_count": 78,
     "metadata": {},
     "output_type": "execute_result"
    }
   ],
   "execution_count": 78
  },
  {
   "metadata": {
    "ExecuteTime": {
     "end_time": "2024-12-21T19:14:46.385525Z",
     "start_time": "2024-12-21T19:14:46.381746Z"
    }
   },
   "cell_type": "code",
   "source": "from sklearn.metrics import mean_squared_error, mean_absolute_error, root_mean_squared_error",
   "id": "b3fde9f2d65bc48",
   "outputs": [],
   "execution_count": 70
  },
  {
   "metadata": {
    "ExecuteTime": {
     "end_time": "2024-12-21T19:14:53.351856Z",
     "start_time": "2024-12-21T19:14:53.347736Z"
    }
   },
   "cell_type": "code",
   "source": "MAE = mean_absolute_error(y_test, base_pred)",
   "id": "b211177997b7c628",
   "outputs": [],
   "execution_count": 71
  },
  {
   "metadata": {
    "ExecuteTime": {
     "end_time": "2024-12-21T19:14:58.777852Z",
     "start_time": "2024-12-21T19:14:58.774715Z"
    }
   },
   "cell_type": "code",
   "source": "MSE = mean_squared_error(y_test, base_pred)",
   "id": "fdf7f4558df6c9e7",
   "outputs": [],
   "execution_count": 72
  },
  {
   "metadata": {
    "ExecuteTime": {
     "end_time": "2024-12-21T19:15:18.766822Z",
     "start_time": "2024-12-21T19:15:18.763411Z"
    }
   },
   "cell_type": "code",
   "source": "RMSE = root_mean_squared_error(y_test, base_pred)",
   "id": "cb173d6f25eaa710",
   "outputs": [],
   "execution_count": 74
  },
  {
   "metadata": {
    "ExecuteTime": {
     "end_time": "2024-12-21T19:15:29.411900Z",
     "start_time": "2024-12-21T19:15:29.407359Z"
    }
   },
   "cell_type": "code",
   "source": "print(f'MAE: {MAE}\\n MSE: {MSE}\\n RMSE: {RMSE}')",
   "id": "870cad54ab49b8ed",
   "outputs": [
    {
     "name": "stdout",
     "output_type": "stream",
     "text": [
      "MAE: 5.236902091259179\n",
      " MSE: 44.835275522129486\n",
      " RMSE: 6.695914838327134\n"
     ]
    }
   ],
   "execution_count": 75
  },
  {
   "metadata": {
    "ExecuteTime": {
     "end_time": "2024-12-21T19:26:13.973111Z",
     "start_time": "2024-12-21T19:26:13.969112Z"
    }
   },
   "cell_type": "code",
   "source": [
    "param_grid = {\n",
    "    'C': [0.001, 0.01, 0.1, 0.5, 1, 10, 15, 20, 25, 50, 75, 95, 99, 100],\n",
    "    'kernel': ['linear', 'poly', 'rbf', 'sigmoid'],\n",
    "    'gamma': ['scale', 'auto'],\n",
    "    'degree': [1, 2, 3, 4, 5, 6, 7, 8, 9, 10, 15, 20, 25, 50],\n",
    "    'epsilon': [0, 0.01, 0.1, 0.5, 1, 2, 5, 10, 20, 100],\n",
    "}"
   ],
   "id": "a282f15cfd1980f5",
   "outputs": [],
   "execution_count": 100
  },
  {
   "metadata": {
    "ExecuteTime": {
     "end_time": "2024-12-21T19:26:14.204118Z",
     "start_time": "2024-12-21T19:26:14.201097Z"
    }
   },
   "cell_type": "code",
   "source": "from sklearn.model_selection import GridSearchCV",
   "id": "db47d5a5b209390b",
   "outputs": [],
   "execution_count": 101
  },
  {
   "metadata": {
    "ExecuteTime": {
     "end_time": "2024-12-21T19:26:14.454086Z",
     "start_time": "2024-12-21T19:26:14.451072Z"
    }
   },
   "cell_type": "code",
   "source": "svr = SVR()",
   "id": "c9c32b5a5f93a505",
   "outputs": [],
   "execution_count": 102
  },
  {
   "metadata": {
    "ExecuteTime": {
     "end_time": "2024-12-21T19:26:14.731575Z",
     "start_time": "2024-12-21T19:26:14.727972Z"
    }
   },
   "cell_type": "code",
   "source": [
    "grid_model = GridSearchCV(\n",
    "    svr, param_grid, cv=5, verbose=1, n_jobs=-1\n",
    ")"
   ],
   "id": "1e3f164980570a7a",
   "outputs": [],
   "execution_count": 103
  },
  {
   "metadata": {
    "ExecuteTime": {
     "end_time": "2024-12-21T19:26:29.295551Z",
     "start_time": "2024-12-21T19:26:15.769233Z"
    }
   },
   "cell_type": "code",
   "source": "grid_model.fit(scaled_X_train, y_train)",
   "id": "95bf37e4208abae2",
   "outputs": [
    {
     "name": "stdout",
     "output_type": "stream",
     "text": [
      "Fitting 5 folds for each of 15680 candidates, totalling 78400 fits\n"
     ]
    },
    {
     "data": {
      "text/plain": [
       "GridSearchCV(cv=5, estimator=SVR(), n_jobs=-1,\n",
       "             param_grid={'C': [0.001, 0.01, 0.1, 0.5, 1, 10, 15, 20, 25, 50, 75,\n",
       "                               95, 99, 100],\n",
       "                         'degree': [1, 2, 3, 4, 5, 6, 7, 8, 9, 10, 15, 20, 25,\n",
       "                                    50],\n",
       "                         'epsilon': [0, 0.01, 0.1, 0.5, 1, 2, 5, 10, 20, 100],\n",
       "                         'gamma': ['scale', 'auto'],\n",
       "                         'kernel': ['linear', 'poly', 'rbf', 'sigmoid']},\n",
       "             verbose=1)"
      ],
      "text/html": [
       "<style>#sk-container-id-4 {\n",
       "  /* Definition of color scheme common for light and dark mode */\n",
       "  --sklearn-color-text: black;\n",
       "  --sklearn-color-line: gray;\n",
       "  /* Definition of color scheme for unfitted estimators */\n",
       "  --sklearn-color-unfitted-level-0: #fff5e6;\n",
       "  --sklearn-color-unfitted-level-1: #f6e4d2;\n",
       "  --sklearn-color-unfitted-level-2: #ffe0b3;\n",
       "  --sklearn-color-unfitted-level-3: chocolate;\n",
       "  /* Definition of color scheme for fitted estimators */\n",
       "  --sklearn-color-fitted-level-0: #f0f8ff;\n",
       "  --sklearn-color-fitted-level-1: #d4ebff;\n",
       "  --sklearn-color-fitted-level-2: #b3dbfd;\n",
       "  --sklearn-color-fitted-level-3: cornflowerblue;\n",
       "\n",
       "  /* Specific color for light theme */\n",
       "  --sklearn-color-text-on-default-background: var(--sg-text-color, var(--theme-code-foreground, var(--jp-content-font-color1, black)));\n",
       "  --sklearn-color-background: var(--sg-background-color, var(--theme-background, var(--jp-layout-color0, white)));\n",
       "  --sklearn-color-border-box: var(--sg-text-color, var(--theme-code-foreground, var(--jp-content-font-color1, black)));\n",
       "  --sklearn-color-icon: #696969;\n",
       "\n",
       "  @media (prefers-color-scheme: dark) {\n",
       "    /* Redefinition of color scheme for dark theme */\n",
       "    --sklearn-color-text-on-default-background: var(--sg-text-color, var(--theme-code-foreground, var(--jp-content-font-color1, white)));\n",
       "    --sklearn-color-background: var(--sg-background-color, var(--theme-background, var(--jp-layout-color0, #111)));\n",
       "    --sklearn-color-border-box: var(--sg-text-color, var(--theme-code-foreground, var(--jp-content-font-color1, white)));\n",
       "    --sklearn-color-icon: #878787;\n",
       "  }\n",
       "}\n",
       "\n",
       "#sk-container-id-4 {\n",
       "  color: var(--sklearn-color-text);\n",
       "}\n",
       "\n",
       "#sk-container-id-4 pre {\n",
       "  padding: 0;\n",
       "}\n",
       "\n",
       "#sk-container-id-4 input.sk-hidden--visually {\n",
       "  border: 0;\n",
       "  clip: rect(1px 1px 1px 1px);\n",
       "  clip: rect(1px, 1px, 1px, 1px);\n",
       "  height: 1px;\n",
       "  margin: -1px;\n",
       "  overflow: hidden;\n",
       "  padding: 0;\n",
       "  position: absolute;\n",
       "  width: 1px;\n",
       "}\n",
       "\n",
       "#sk-container-id-4 div.sk-dashed-wrapped {\n",
       "  border: 1px dashed var(--sklearn-color-line);\n",
       "  margin: 0 0.4em 0.5em 0.4em;\n",
       "  box-sizing: border-box;\n",
       "  padding-bottom: 0.4em;\n",
       "  background-color: var(--sklearn-color-background);\n",
       "}\n",
       "\n",
       "#sk-container-id-4 div.sk-container {\n",
       "  /* jupyter's `normalize.less` sets `[hidden] { display: none; }`\n",
       "     but bootstrap.min.css set `[hidden] { display: none !important; }`\n",
       "     so we also need the `!important` here to be able to override the\n",
       "     default hidden behavior on the sphinx rendered scikit-learn.org.\n",
       "     See: https://github.com/scikit-learn/scikit-learn/issues/21755 */\n",
       "  display: inline-block !important;\n",
       "  position: relative;\n",
       "}\n",
       "\n",
       "#sk-container-id-4 div.sk-text-repr-fallback {\n",
       "  display: none;\n",
       "}\n",
       "\n",
       "div.sk-parallel-item,\n",
       "div.sk-serial,\n",
       "div.sk-item {\n",
       "  /* draw centered vertical line to link estimators */\n",
       "  background-image: linear-gradient(var(--sklearn-color-text-on-default-background), var(--sklearn-color-text-on-default-background));\n",
       "  background-size: 2px 100%;\n",
       "  background-repeat: no-repeat;\n",
       "  background-position: center center;\n",
       "}\n",
       "\n",
       "/* Parallel-specific style estimator block */\n",
       "\n",
       "#sk-container-id-4 div.sk-parallel-item::after {\n",
       "  content: \"\";\n",
       "  width: 100%;\n",
       "  border-bottom: 2px solid var(--sklearn-color-text-on-default-background);\n",
       "  flex-grow: 1;\n",
       "}\n",
       "\n",
       "#sk-container-id-4 div.sk-parallel {\n",
       "  display: flex;\n",
       "  align-items: stretch;\n",
       "  justify-content: center;\n",
       "  background-color: var(--sklearn-color-background);\n",
       "  position: relative;\n",
       "}\n",
       "\n",
       "#sk-container-id-4 div.sk-parallel-item {\n",
       "  display: flex;\n",
       "  flex-direction: column;\n",
       "}\n",
       "\n",
       "#sk-container-id-4 div.sk-parallel-item:first-child::after {\n",
       "  align-self: flex-end;\n",
       "  width: 50%;\n",
       "}\n",
       "\n",
       "#sk-container-id-4 div.sk-parallel-item:last-child::after {\n",
       "  align-self: flex-start;\n",
       "  width: 50%;\n",
       "}\n",
       "\n",
       "#sk-container-id-4 div.sk-parallel-item:only-child::after {\n",
       "  width: 0;\n",
       "}\n",
       "\n",
       "/* Serial-specific style estimator block */\n",
       "\n",
       "#sk-container-id-4 div.sk-serial {\n",
       "  display: flex;\n",
       "  flex-direction: column;\n",
       "  align-items: center;\n",
       "  background-color: var(--sklearn-color-background);\n",
       "  padding-right: 1em;\n",
       "  padding-left: 1em;\n",
       "}\n",
       "\n",
       "\n",
       "/* Toggleable style: style used for estimator/Pipeline/ColumnTransformer box that is\n",
       "clickable and can be expanded/collapsed.\n",
       "- Pipeline and ColumnTransformer use this feature and define the default style\n",
       "- Estimators will overwrite some part of the style using the `sk-estimator` class\n",
       "*/\n",
       "\n",
       "/* Pipeline and ColumnTransformer style (default) */\n",
       "\n",
       "#sk-container-id-4 div.sk-toggleable {\n",
       "  /* Default theme specific background. It is overwritten whether we have a\n",
       "  specific estimator or a Pipeline/ColumnTransformer */\n",
       "  background-color: var(--sklearn-color-background);\n",
       "}\n",
       "\n",
       "/* Toggleable label */\n",
       "#sk-container-id-4 label.sk-toggleable__label {\n",
       "  cursor: pointer;\n",
       "  display: block;\n",
       "  width: 100%;\n",
       "  margin-bottom: 0;\n",
       "  padding: 0.5em;\n",
       "  box-sizing: border-box;\n",
       "  text-align: center;\n",
       "}\n",
       "\n",
       "#sk-container-id-4 label.sk-toggleable__label-arrow:before {\n",
       "  /* Arrow on the left of the label */\n",
       "  content: \"▸\";\n",
       "  float: left;\n",
       "  margin-right: 0.25em;\n",
       "  color: var(--sklearn-color-icon);\n",
       "}\n",
       "\n",
       "#sk-container-id-4 label.sk-toggleable__label-arrow:hover:before {\n",
       "  color: var(--sklearn-color-text);\n",
       "}\n",
       "\n",
       "/* Toggleable content - dropdown */\n",
       "\n",
       "#sk-container-id-4 div.sk-toggleable__content {\n",
       "  max-height: 0;\n",
       "  max-width: 0;\n",
       "  overflow: hidden;\n",
       "  text-align: left;\n",
       "  /* unfitted */\n",
       "  background-color: var(--sklearn-color-unfitted-level-0);\n",
       "}\n",
       "\n",
       "#sk-container-id-4 div.sk-toggleable__content.fitted {\n",
       "  /* fitted */\n",
       "  background-color: var(--sklearn-color-fitted-level-0);\n",
       "}\n",
       "\n",
       "#sk-container-id-4 div.sk-toggleable__content pre {\n",
       "  margin: 0.2em;\n",
       "  border-radius: 0.25em;\n",
       "  color: var(--sklearn-color-text);\n",
       "  /* unfitted */\n",
       "  background-color: var(--sklearn-color-unfitted-level-0);\n",
       "}\n",
       "\n",
       "#sk-container-id-4 div.sk-toggleable__content.fitted pre {\n",
       "  /* unfitted */\n",
       "  background-color: var(--sklearn-color-fitted-level-0);\n",
       "}\n",
       "\n",
       "#sk-container-id-4 input.sk-toggleable__control:checked~div.sk-toggleable__content {\n",
       "  /* Expand drop-down */\n",
       "  max-height: 200px;\n",
       "  max-width: 100%;\n",
       "  overflow: auto;\n",
       "}\n",
       "\n",
       "#sk-container-id-4 input.sk-toggleable__control:checked~label.sk-toggleable__label-arrow:before {\n",
       "  content: \"▾\";\n",
       "}\n",
       "\n",
       "/* Pipeline/ColumnTransformer-specific style */\n",
       "\n",
       "#sk-container-id-4 div.sk-label input.sk-toggleable__control:checked~label.sk-toggleable__label {\n",
       "  color: var(--sklearn-color-text);\n",
       "  background-color: var(--sklearn-color-unfitted-level-2);\n",
       "}\n",
       "\n",
       "#sk-container-id-4 div.sk-label.fitted input.sk-toggleable__control:checked~label.sk-toggleable__label {\n",
       "  background-color: var(--sklearn-color-fitted-level-2);\n",
       "}\n",
       "\n",
       "/* Estimator-specific style */\n",
       "\n",
       "/* Colorize estimator box */\n",
       "#sk-container-id-4 div.sk-estimator input.sk-toggleable__control:checked~label.sk-toggleable__label {\n",
       "  /* unfitted */\n",
       "  background-color: var(--sklearn-color-unfitted-level-2);\n",
       "}\n",
       "\n",
       "#sk-container-id-4 div.sk-estimator.fitted input.sk-toggleable__control:checked~label.sk-toggleable__label {\n",
       "  /* fitted */\n",
       "  background-color: var(--sklearn-color-fitted-level-2);\n",
       "}\n",
       "\n",
       "#sk-container-id-4 div.sk-label label.sk-toggleable__label,\n",
       "#sk-container-id-4 div.sk-label label {\n",
       "  /* The background is the default theme color */\n",
       "  color: var(--sklearn-color-text-on-default-background);\n",
       "}\n",
       "\n",
       "/* On hover, darken the color of the background */\n",
       "#sk-container-id-4 div.sk-label:hover label.sk-toggleable__label {\n",
       "  color: var(--sklearn-color-text);\n",
       "  background-color: var(--sklearn-color-unfitted-level-2);\n",
       "}\n",
       "\n",
       "/* Label box, darken color on hover, fitted */\n",
       "#sk-container-id-4 div.sk-label.fitted:hover label.sk-toggleable__label.fitted {\n",
       "  color: var(--sklearn-color-text);\n",
       "  background-color: var(--sklearn-color-fitted-level-2);\n",
       "}\n",
       "\n",
       "/* Estimator label */\n",
       "\n",
       "#sk-container-id-4 div.sk-label label {\n",
       "  font-family: monospace;\n",
       "  font-weight: bold;\n",
       "  display: inline-block;\n",
       "  line-height: 1.2em;\n",
       "}\n",
       "\n",
       "#sk-container-id-4 div.sk-label-container {\n",
       "  text-align: center;\n",
       "}\n",
       "\n",
       "/* Estimator-specific */\n",
       "#sk-container-id-4 div.sk-estimator {\n",
       "  font-family: monospace;\n",
       "  border: 1px dotted var(--sklearn-color-border-box);\n",
       "  border-radius: 0.25em;\n",
       "  box-sizing: border-box;\n",
       "  margin-bottom: 0.5em;\n",
       "  /* unfitted */\n",
       "  background-color: var(--sklearn-color-unfitted-level-0);\n",
       "}\n",
       "\n",
       "#sk-container-id-4 div.sk-estimator.fitted {\n",
       "  /* fitted */\n",
       "  background-color: var(--sklearn-color-fitted-level-0);\n",
       "}\n",
       "\n",
       "/* on hover */\n",
       "#sk-container-id-4 div.sk-estimator:hover {\n",
       "  /* unfitted */\n",
       "  background-color: var(--sklearn-color-unfitted-level-2);\n",
       "}\n",
       "\n",
       "#sk-container-id-4 div.sk-estimator.fitted:hover {\n",
       "  /* fitted */\n",
       "  background-color: var(--sklearn-color-fitted-level-2);\n",
       "}\n",
       "\n",
       "/* Specification for estimator info (e.g. \"i\" and \"?\") */\n",
       "\n",
       "/* Common style for \"i\" and \"?\" */\n",
       "\n",
       ".sk-estimator-doc-link,\n",
       "a:link.sk-estimator-doc-link,\n",
       "a:visited.sk-estimator-doc-link {\n",
       "  float: right;\n",
       "  font-size: smaller;\n",
       "  line-height: 1em;\n",
       "  font-family: monospace;\n",
       "  background-color: var(--sklearn-color-background);\n",
       "  border-radius: 1em;\n",
       "  height: 1em;\n",
       "  width: 1em;\n",
       "  text-decoration: none !important;\n",
       "  margin-left: 1ex;\n",
       "  /* unfitted */\n",
       "  border: var(--sklearn-color-unfitted-level-1) 1pt solid;\n",
       "  color: var(--sklearn-color-unfitted-level-1);\n",
       "}\n",
       "\n",
       ".sk-estimator-doc-link.fitted,\n",
       "a:link.sk-estimator-doc-link.fitted,\n",
       "a:visited.sk-estimator-doc-link.fitted {\n",
       "  /* fitted */\n",
       "  border: var(--sklearn-color-fitted-level-1) 1pt solid;\n",
       "  color: var(--sklearn-color-fitted-level-1);\n",
       "}\n",
       "\n",
       "/* On hover */\n",
       "div.sk-estimator:hover .sk-estimator-doc-link:hover,\n",
       ".sk-estimator-doc-link:hover,\n",
       "div.sk-label-container:hover .sk-estimator-doc-link:hover,\n",
       ".sk-estimator-doc-link:hover {\n",
       "  /* unfitted */\n",
       "  background-color: var(--sklearn-color-unfitted-level-3);\n",
       "  color: var(--sklearn-color-background);\n",
       "  text-decoration: none;\n",
       "}\n",
       "\n",
       "div.sk-estimator.fitted:hover .sk-estimator-doc-link.fitted:hover,\n",
       ".sk-estimator-doc-link.fitted:hover,\n",
       "div.sk-label-container:hover .sk-estimator-doc-link.fitted:hover,\n",
       ".sk-estimator-doc-link.fitted:hover {\n",
       "  /* fitted */\n",
       "  background-color: var(--sklearn-color-fitted-level-3);\n",
       "  color: var(--sklearn-color-background);\n",
       "  text-decoration: none;\n",
       "}\n",
       "\n",
       "/* Span, style for the box shown on hovering the info icon */\n",
       ".sk-estimator-doc-link span {\n",
       "  display: none;\n",
       "  z-index: 9999;\n",
       "  position: relative;\n",
       "  font-weight: normal;\n",
       "  right: .2ex;\n",
       "  padding: .5ex;\n",
       "  margin: .5ex;\n",
       "  width: min-content;\n",
       "  min-width: 20ex;\n",
       "  max-width: 50ex;\n",
       "  color: var(--sklearn-color-text);\n",
       "  box-shadow: 2pt 2pt 4pt #999;\n",
       "  /* unfitted */\n",
       "  background: var(--sklearn-color-unfitted-level-0);\n",
       "  border: .5pt solid var(--sklearn-color-unfitted-level-3);\n",
       "}\n",
       "\n",
       ".sk-estimator-doc-link.fitted span {\n",
       "  /* fitted */\n",
       "  background: var(--sklearn-color-fitted-level-0);\n",
       "  border: var(--sklearn-color-fitted-level-3);\n",
       "}\n",
       "\n",
       ".sk-estimator-doc-link:hover span {\n",
       "  display: block;\n",
       "}\n",
       "\n",
       "/* \"?\"-specific style due to the `<a>` HTML tag */\n",
       "\n",
       "#sk-container-id-4 a.estimator_doc_link {\n",
       "  float: right;\n",
       "  font-size: 1rem;\n",
       "  line-height: 1em;\n",
       "  font-family: monospace;\n",
       "  background-color: var(--sklearn-color-background);\n",
       "  border-radius: 1rem;\n",
       "  height: 1rem;\n",
       "  width: 1rem;\n",
       "  text-decoration: none;\n",
       "  /* unfitted */\n",
       "  color: var(--sklearn-color-unfitted-level-1);\n",
       "  border: var(--sklearn-color-unfitted-level-1) 1pt solid;\n",
       "}\n",
       "\n",
       "#sk-container-id-4 a.estimator_doc_link.fitted {\n",
       "  /* fitted */\n",
       "  border: var(--sklearn-color-fitted-level-1) 1pt solid;\n",
       "  color: var(--sklearn-color-fitted-level-1);\n",
       "}\n",
       "\n",
       "/* On hover */\n",
       "#sk-container-id-4 a.estimator_doc_link:hover {\n",
       "  /* unfitted */\n",
       "  background-color: var(--sklearn-color-unfitted-level-3);\n",
       "  color: var(--sklearn-color-background);\n",
       "  text-decoration: none;\n",
       "}\n",
       "\n",
       "#sk-container-id-4 a.estimator_doc_link.fitted:hover {\n",
       "  /* fitted */\n",
       "  background-color: var(--sklearn-color-fitted-level-3);\n",
       "}\n",
       "</style><div id=\"sk-container-id-4\" class=\"sk-top-container\"><div class=\"sk-text-repr-fallback\"><pre>GridSearchCV(cv=5, estimator=SVR(), n_jobs=-1,\n",
       "             param_grid={&#x27;C&#x27;: [0.001, 0.01, 0.1, 0.5, 1, 10, 15, 20, 25, 50, 75,\n",
       "                               95, 99, 100],\n",
       "                         &#x27;degree&#x27;: [1, 2, 3, 4, 5, 6, 7, 8, 9, 10, 15, 20, 25,\n",
       "                                    50],\n",
       "                         &#x27;epsilon&#x27;: [0, 0.01, 0.1, 0.5, 1, 2, 5, 10, 20, 100],\n",
       "                         &#x27;gamma&#x27;: [&#x27;scale&#x27;, &#x27;auto&#x27;],\n",
       "                         &#x27;kernel&#x27;: [&#x27;linear&#x27;, &#x27;poly&#x27;, &#x27;rbf&#x27;, &#x27;sigmoid&#x27;]},\n",
       "             verbose=1)</pre><b>In a Jupyter environment, please rerun this cell to show the HTML representation or trust the notebook. <br />On GitHub, the HTML representation is unable to render, please try loading this page with nbviewer.org.</b></div><div class=\"sk-container\" hidden><div class=\"sk-item sk-dashed-wrapped\"><div class=\"sk-label-container\"><div class=\"sk-label fitted sk-toggleable\"><input class=\"sk-toggleable__control sk-hidden--visually\" id=\"sk-estimator-id-8\" type=\"checkbox\" ><label for=\"sk-estimator-id-8\" class=\"sk-toggleable__label fitted sk-toggleable__label-arrow fitted\">&nbsp;&nbsp;GridSearchCV<a class=\"sk-estimator-doc-link fitted\" rel=\"noreferrer\" target=\"_blank\" href=\"https://scikit-learn.org/1.5/modules/generated/sklearn.model_selection.GridSearchCV.html\">?<span>Documentation for GridSearchCV</span></a><span class=\"sk-estimator-doc-link fitted\">i<span>Fitted</span></span></label><div class=\"sk-toggleable__content fitted\"><pre>GridSearchCV(cv=5, estimator=SVR(), n_jobs=-1,\n",
       "             param_grid={&#x27;C&#x27;: [0.001, 0.01, 0.1, 0.5, 1, 10, 15, 20, 25, 50, 75,\n",
       "                               95, 99, 100],\n",
       "                         &#x27;degree&#x27;: [1, 2, 3, 4, 5, 6, 7, 8, 9, 10, 15, 20, 25,\n",
       "                                    50],\n",
       "                         &#x27;epsilon&#x27;: [0, 0.01, 0.1, 0.5, 1, 2, 5, 10, 20, 100],\n",
       "                         &#x27;gamma&#x27;: [&#x27;scale&#x27;, &#x27;auto&#x27;],\n",
       "                         &#x27;kernel&#x27;: [&#x27;linear&#x27;, &#x27;poly&#x27;, &#x27;rbf&#x27;, &#x27;sigmoid&#x27;]},\n",
       "             verbose=1)</pre></div> </div></div><div class=\"sk-parallel\"><div class=\"sk-parallel-item\"><div class=\"sk-item\"><div class=\"sk-label-container\"><div class=\"sk-label fitted sk-toggleable\"><input class=\"sk-toggleable__control sk-hidden--visually\" id=\"sk-estimator-id-9\" type=\"checkbox\" ><label for=\"sk-estimator-id-9\" class=\"sk-toggleable__label fitted sk-toggleable__label-arrow fitted\">best_estimator_: SVR</label><div class=\"sk-toggleable__content fitted\"><pre>SVR(C=50, degree=1, epsilon=0, gamma=&#x27;auto&#x27;)</pre></div> </div></div><div class=\"sk-serial\"><div class=\"sk-item\"><div class=\"sk-estimator fitted sk-toggleable\"><input class=\"sk-toggleable__control sk-hidden--visually\" id=\"sk-estimator-id-10\" type=\"checkbox\" ><label for=\"sk-estimator-id-10\" class=\"sk-toggleable__label fitted sk-toggleable__label-arrow fitted\">&nbsp;SVR<a class=\"sk-estimator-doc-link fitted\" rel=\"noreferrer\" target=\"_blank\" href=\"https://scikit-learn.org/1.5/modules/generated/sklearn.svm.SVR.html\">?<span>Documentation for SVR</span></a></label><div class=\"sk-toggleable__content fitted\"><pre>SVR(C=50, degree=1, epsilon=0, gamma=&#x27;auto&#x27;)</pre></div> </div></div></div></div></div></div></div></div></div>"
      ]
     },
     "execution_count": 104,
     "metadata": {},
     "output_type": "execute_result"
    }
   ],
   "execution_count": 104
  },
  {
   "metadata": {
    "ExecuteTime": {
     "end_time": "2024-12-21T19:26:29.305674Z",
     "start_time": "2024-12-21T19:26:29.300560Z"
    }
   },
   "cell_type": "code",
   "source": "grid_model.best_params_",
   "id": "102e73d9a628523",
   "outputs": [
    {
     "data": {
      "text/plain": [
       "{'C': 50, 'degree': 1, 'epsilon': 0, 'gamma': 'auto', 'kernel': 'rbf'}"
      ]
     },
     "execution_count": 105,
     "metadata": {},
     "output_type": "execute_result"
    }
   ],
   "execution_count": 105
  },
  {
   "metadata": {
    "ExecuteTime": {
     "end_time": "2024-12-21T19:26:47.757233Z",
     "start_time": "2024-12-21T19:26:47.749451Z"
    }
   },
   "cell_type": "code",
   "source": [
    "pl.DataFrame(\n",
    "    {\n",
    "        'C': grid_model.cv_results_['param_C'],\n",
    "        'gamma': grid_model.cv_results_['param_gamma'],\n",
    "        'kernel': grid_model.cv_results_['param_kernel'],\n",
    "        'degree': grid_model.cv_results_['param_degree'],\n",
    "        'epsilon': grid_model.cv_results_['param_epsilon'],\n",
    "        'mean_test_score': grid_model.cv_results_['mean_test_score'],\n",
    "    }\n",
    ")"
   ],
   "id": "913ed630e78d16d6",
   "outputs": [
    {
     "data": {
      "text/plain": [
       "shape: (15_680, 6)\n",
       "┌───────┬───────┬─────────┬────────┬─────────┬─────────────────┐\n",
       "│ C     ┆ gamma ┆ kernel  ┆ degree ┆ epsilon ┆ mean_test_score │\n",
       "│ ---   ┆ ---   ┆ ---     ┆ ---    ┆ ---     ┆ ---             │\n",
       "│ f64   ┆ str   ┆ str     ┆ i32    ┆ f64     ┆ f64             │\n",
       "╞═══════╪═══════╪═════════╪════════╪═════════╪═════════════════╡\n",
       "│ 0.001 ┆ scale ┆ linear  ┆ 1      ┆ 0.0     ┆ -0.044052       │\n",
       "│ 0.001 ┆ scale ┆ poly    ┆ 1      ┆ 0.0     ┆ -0.050186       │\n",
       "│ 0.001 ┆ scale ┆ rbf     ┆ 1      ┆ 0.0     ┆ -0.050593       │\n",
       "│ 0.001 ┆ scale ┆ sigmoid ┆ 1      ┆ 0.0     ┆ -0.050309       │\n",
       "│ 0.001 ┆ auto  ┆ linear  ┆ 1      ┆ 0.0     ┆ -0.044052       │\n",
       "│ …     ┆ …     ┆ …       ┆ …      ┆ …       ┆ …               │\n",
       "│ 100.0 ┆ scale ┆ sigmoid ┆ 50     ┆ 100.0   ┆ -0.029449       │\n",
       "│ 100.0 ┆ auto  ┆ linear  ┆ 50     ┆ 100.0   ┆ -0.029449       │\n",
       "│ 100.0 ┆ auto  ┆ poly    ┆ 50     ┆ 100.0   ┆ -0.029449       │\n",
       "│ 100.0 ┆ auto  ┆ rbf     ┆ 50     ┆ 100.0   ┆ -0.029449       │\n",
       "│ 100.0 ┆ auto  ┆ sigmoid ┆ 50     ┆ 100.0   ┆ -0.029449       │\n",
       "└───────┴───────┴─────────┴────────┴─────────┴─────────────────┘"
      ],
      "text/html": [
       "<div><style>\n",
       ".dataframe > thead > tr,\n",
       ".dataframe > tbody > tr {\n",
       "  text-align: right;\n",
       "  white-space: pre-wrap;\n",
       "}\n",
       "</style>\n",
       "<small>shape: (15_680, 6)</small><table border=\"1\" class=\"dataframe\"><thead><tr><th>C</th><th>gamma</th><th>kernel</th><th>degree</th><th>epsilon</th><th>mean_test_score</th></tr><tr><td>f64</td><td>str</td><td>str</td><td>i32</td><td>f64</td><td>f64</td></tr></thead><tbody><tr><td>0.001</td><td>&quot;scale&quot;</td><td>&quot;linear&quot;</td><td>1</td><td>0.0</td><td>-0.044052</td></tr><tr><td>0.001</td><td>&quot;scale&quot;</td><td>&quot;poly&quot;</td><td>1</td><td>0.0</td><td>-0.050186</td></tr><tr><td>0.001</td><td>&quot;scale&quot;</td><td>&quot;rbf&quot;</td><td>1</td><td>0.0</td><td>-0.050593</td></tr><tr><td>0.001</td><td>&quot;scale&quot;</td><td>&quot;sigmoid&quot;</td><td>1</td><td>0.0</td><td>-0.050309</td></tr><tr><td>0.001</td><td>&quot;auto&quot;</td><td>&quot;linear&quot;</td><td>1</td><td>0.0</td><td>-0.044052</td></tr><tr><td>&hellip;</td><td>&hellip;</td><td>&hellip;</td><td>&hellip;</td><td>&hellip;</td><td>&hellip;</td></tr><tr><td>100.0</td><td>&quot;scale&quot;</td><td>&quot;sigmoid&quot;</td><td>50</td><td>100.0</td><td>-0.029449</td></tr><tr><td>100.0</td><td>&quot;auto&quot;</td><td>&quot;linear&quot;</td><td>50</td><td>100.0</td><td>-0.029449</td></tr><tr><td>100.0</td><td>&quot;auto&quot;</td><td>&quot;poly&quot;</td><td>50</td><td>100.0</td><td>-0.029449</td></tr><tr><td>100.0</td><td>&quot;auto&quot;</td><td>&quot;rbf&quot;</td><td>50</td><td>100.0</td><td>-0.029449</td></tr><tr><td>100.0</td><td>&quot;auto&quot;</td><td>&quot;sigmoid&quot;</td><td>50</td><td>100.0</td><td>-0.029449</td></tr></tbody></table></div>"
      ]
     },
     "execution_count": 106,
     "metadata": {},
     "output_type": "execute_result"
    }
   ],
   "execution_count": 106
  },
  {
   "metadata": {
    "ExecuteTime": {
     "end_time": "2024-12-21T19:27:35.925294Z",
     "start_time": "2024-12-21T19:27:35.922289Z"
    }
   },
   "cell_type": "code",
   "source": "predicts = grid_model.predict(scaled_X_test)",
   "id": "9bbcf072fa688c6",
   "outputs": [],
   "execution_count": 107
  },
  {
   "metadata": {
    "ExecuteTime": {
     "end_time": "2024-12-21T19:28:03.100581Z",
     "start_time": "2024-12-21T19:28:03.075278Z"
    }
   },
   "cell_type": "code",
   "source": [
    "pl.DataFrame({\n",
    "    'actual': y_test,\n",
    "    'Predictions': predicts,\n",
    "    'MAE': mean_absolute_error(y_test, predicts),\n",
    "    'MSE': mean_squared_error(y_test, predicts),\n",
    "    'RMSE': root_mean_squared_error(y_test, predicts),\n",
    "})"
   ],
   "id": "94dd316f197513e4",
   "outputs": [
    {
     "data": {
      "text/plain": [
       "shape: (31, 5)\n",
       "┌────────┬─────────────┬──────────┬──────────┬──────────┐\n",
       "│ actual ┆ Predictions ┆ MAE      ┆ MSE      ┆ RMSE     │\n",
       "│ ---    ┆ ---         ┆ ---      ┆ ---      ┆ ---      │\n",
       "│ f64    ┆ f64         ┆ f64      ┆ f64      ┆ f64      │\n",
       "╞════════╪═════════════╪══════════╪══════════╪══════════╡\n",
       "│ 18.26  ┆ 21.178142   ┆ 1.947105 ┆ 8.980397 ┆ 2.996731 │\n",
       "│ 41.14  ┆ 38.82159    ┆ 1.947105 ┆ 8.980397 ┆ 2.996731 │\n",
       "│ 31.9   ┆ 33.136087   ┆ 1.947105 ┆ 8.980397 ┆ 2.996731 │\n",
       "│ 26.42  ┆ 28.462457   ┆ 1.947105 ┆ 8.980397 ┆ 2.996731 │\n",
       "│ 44.48  ┆ 44.069383   ┆ 1.947105 ┆ 8.980397 ┆ 2.996731 │\n",
       "│ …      ┆ …           ┆ …        ┆ …        ┆ …        │\n",
       "│ 30.43  ┆ 31.303799   ┆ 1.947105 ┆ 8.980397 ┆ 2.996731 │\n",
       "│ 26.42  ┆ 27.681073   ┆ 1.947105 ┆ 8.980397 ┆ 2.996731 │\n",
       "│ 41.81  ┆ 37.188331   ┆ 1.947105 ┆ 8.980397 ┆ 2.996731 │\n",
       "│ 33.91  ┆ 34.42883    ┆ 1.947105 ┆ 8.980397 ┆ 2.996731 │\n",
       "│ 31.77  ┆ 31.337555   ┆ 1.947105 ┆ 8.980397 ┆ 2.996731 │\n",
       "└────────┴─────────────┴──────────┴──────────┴──────────┘"
      ],
      "text/html": [
       "<div><style>\n",
       ".dataframe > thead > tr,\n",
       ".dataframe > tbody > tr {\n",
       "  text-align: right;\n",
       "  white-space: pre-wrap;\n",
       "}\n",
       "</style>\n",
       "<small>shape: (31, 5)</small><table border=\"1\" class=\"dataframe\"><thead><tr><th>actual</th><th>Predictions</th><th>MAE</th><th>MSE</th><th>RMSE</th></tr><tr><td>f64</td><td>f64</td><td>f64</td><td>f64</td><td>f64</td></tr></thead><tbody><tr><td>18.26</td><td>21.178142</td><td>1.947105</td><td>8.980397</td><td>2.996731</td></tr><tr><td>41.14</td><td>38.82159</td><td>1.947105</td><td>8.980397</td><td>2.996731</td></tr><tr><td>31.9</td><td>33.136087</td><td>1.947105</td><td>8.980397</td><td>2.996731</td></tr><tr><td>26.42</td><td>28.462457</td><td>1.947105</td><td>8.980397</td><td>2.996731</td></tr><tr><td>44.48</td><td>44.069383</td><td>1.947105</td><td>8.980397</td><td>2.996731</td></tr><tr><td>&hellip;</td><td>&hellip;</td><td>&hellip;</td><td>&hellip;</td><td>&hellip;</td></tr><tr><td>30.43</td><td>31.303799</td><td>1.947105</td><td>8.980397</td><td>2.996731</td></tr><tr><td>26.42</td><td>27.681073</td><td>1.947105</td><td>8.980397</td><td>2.996731</td></tr><tr><td>41.81</td><td>37.188331</td><td>1.947105</td><td>8.980397</td><td>2.996731</td></tr><tr><td>33.91</td><td>34.42883</td><td>1.947105</td><td>8.980397</td><td>2.996731</td></tr><tr><td>31.77</td><td>31.337555</td><td>1.947105</td><td>8.980397</td><td>2.996731</td></tr></tbody></table></div>"
      ]
     },
     "execution_count": 108,
     "metadata": {},
     "output_type": "execute_result"
    }
   ],
   "execution_count": 108
  },
  {
   "metadata": {
    "ExecuteTime": {
     "end_time": "2024-12-21T19:28:22.703203Z",
     "start_time": "2024-12-21T19:28:22.699041Z"
    }
   },
   "cell_type": "code",
   "source": "MAE = mean_absolute_error(y_test, predicts)",
   "id": "fd15ce7734fb5f73",
   "outputs": [],
   "execution_count": 109
  },
  {
   "metadata": {
    "ExecuteTime": {
     "end_time": "2024-12-21T19:28:37.383502Z",
     "start_time": "2024-12-21T19:28:37.379611Z"
    }
   },
   "cell_type": "code",
   "source": "MSE = mean_squared_error(y_test, predicts)",
   "id": "83743bc526fa21",
   "outputs": [],
   "execution_count": 110
  },
  {
   "metadata": {
    "ExecuteTime": {
     "end_time": "2024-12-21T19:28:54.163205Z",
     "start_time": "2024-12-21T19:28:54.160039Z"
    }
   },
   "cell_type": "code",
   "source": "RMSE = root_mean_squared_error(y_test, predicts)",
   "id": "84e20e253d7304cd",
   "outputs": [],
   "execution_count": 111
  },
  {
   "metadata": {
    "ExecuteTime": {
     "end_time": "2024-12-21T19:29:47.764590Z",
     "start_time": "2024-12-21T19:29:47.761114Z"
    }
   },
   "cell_type": "code",
   "source": "print(f'MAE: {MAE}\\n MSE: {MSE}\\n RMSE: {RMSE}')",
   "id": "a04182b3118eb7c7",
   "outputs": [
    {
     "name": "stdout",
     "output_type": "stream",
     "text": [
      "MAE: 1.94710540371379\n",
      " MSE: 8.980397250440701\n",
      " RMSE: 2.996731094115837\n"
     ]
    }
   ],
   "execution_count": 113
  },
  {
   "metadata": {
    "ExecuteTime": {
     "end_time": "2024-12-21T19:30:57.485940Z",
     "start_time": "2024-12-21T19:30:57.482554Z"
    }
   },
   "cell_type": "code",
   "source": "from sklearn.metrics import accuracy_score, classification_report",
   "id": "9fcb04a216988469",
   "outputs": [],
   "execution_count": 116
  }
 ],
 "metadata": {
  "kernelspec": {
   "display_name": "Python 3",
   "language": "python",
   "name": "python3"
  },
  "language_info": {
   "codemirror_mode": {
    "name": "ipython",
    "version": 2
   },
   "file_extension": ".py",
   "mimetype": "text/x-python",
   "name": "python",
   "nbconvert_exporter": "python",
   "pygments_lexer": "ipython2",
   "version": "2.7.6"
  }
 },
 "nbformat": 4,
 "nbformat_minor": 5
}
