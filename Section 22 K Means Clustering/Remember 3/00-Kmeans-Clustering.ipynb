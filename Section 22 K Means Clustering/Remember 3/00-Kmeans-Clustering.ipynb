{
 "cells": [
  {
   "cell_type": "code",
   "id": "initial_id",
   "metadata": {
    "collapsed": true,
    "ExecuteTime": {
     "end_time": "2024-12-24T17:38:18.823376Z",
     "start_time": "2024-12-24T17:38:18.457786Z"
    }
   },
   "source": [
    "import numpy as np\n",
    "import polars as pl\n",
    "import polars.selectors as cs\n",
    "import matplotlib.pyplot as plt\n",
    "import seaborn as sns\n",
    "import plotly.express as px\n",
    "import plotly.graph_objects as go\n",
    "import great_tables as tg"
   ],
   "outputs": [],
   "execution_count": 1
  },
  {
   "metadata": {
    "ExecuteTime": {
     "end_time": "2024-12-24T17:40:26.564742Z",
     "start_time": "2024-12-24T17:40:26.535648Z"
    }
   },
   "cell_type": "code",
   "source": "df = pl.read_csv(\"../../DATA/bank-full.csv\")",
   "id": "921c84ce436a3c22",
   "outputs": [],
   "execution_count": 2
  },
  {
   "metadata": {
    "ExecuteTime": {
     "end_time": "2024-12-24T17:40:27.955028Z",
     "start_time": "2024-12-24T17:40:27.947527Z"
    }
   },
   "cell_type": "code",
   "source": "df",
   "id": "3e2dac5a21e2df47",
   "outputs": [
    {
     "data": {
      "text/plain": [
       "shape: (41_188, 21)\n",
       "┌─────┬─────────────┬─────────┬─────────────┬───┬────────────┬───────────┬────────────┬────────────┐\n",
       "│ age ┆ job         ┆ marital ┆ education   ┆ … ┆ cons.conf. ┆ euribor3m ┆ nr.employe ┆ subscribed │\n",
       "│ --- ┆ ---         ┆ ---     ┆ ---         ┆   ┆ idx        ┆ ---       ┆ d          ┆ ---        │\n",
       "│ i64 ┆ str         ┆ str     ┆ str         ┆   ┆ ---        ┆ f64       ┆ ---        ┆ str        │\n",
       "│     ┆             ┆         ┆             ┆   ┆ f64        ┆           ┆ f64        ┆            │\n",
       "╞═════╪═════════════╪═════════╪═════════════╪═══╪════════════╪═══════════╪════════════╪════════════╡\n",
       "│ 56  ┆ housemaid   ┆ married ┆ basic.4y    ┆ … ┆ -36.4      ┆ 4.857     ┆ 5191.0     ┆ no         │\n",
       "│ 57  ┆ services    ┆ married ┆ high.school ┆ … ┆ -36.4      ┆ 4.857     ┆ 5191.0     ┆ no         │\n",
       "│ 37  ┆ services    ┆ married ┆ high.school ┆ … ┆ -36.4      ┆ 4.857     ┆ 5191.0     ┆ no         │\n",
       "│ 40  ┆ admin.      ┆ married ┆ basic.6y    ┆ … ┆ -36.4      ┆ 4.857     ┆ 5191.0     ┆ no         │\n",
       "│ 56  ┆ services    ┆ married ┆ high.school ┆ … ┆ -36.4      ┆ 4.857     ┆ 5191.0     ┆ no         │\n",
       "│ …   ┆ …           ┆ …       ┆ …           ┆ … ┆ …          ┆ …         ┆ …          ┆ …          │\n",
       "│ 73  ┆ retired     ┆ married ┆ professiona ┆ … ┆ -50.8      ┆ 1.028     ┆ 4963.6     ┆ yes        │\n",
       "│     ┆             ┆         ┆ l.course    ┆   ┆            ┆           ┆            ┆            │\n",
       "│ 46  ┆ blue-collar ┆ married ┆ professiona ┆ … ┆ -50.8      ┆ 1.028     ┆ 4963.6     ┆ no         │\n",
       "│     ┆             ┆         ┆ l.course    ┆   ┆            ┆           ┆            ┆            │\n",
       "│ 56  ┆ retired     ┆ married ┆ university. ┆ … ┆ -50.8      ┆ 1.028     ┆ 4963.6     ┆ no         │\n",
       "│     ┆             ┆         ┆ degree      ┆   ┆            ┆           ┆            ┆            │\n",
       "│ 44  ┆ technician  ┆ married ┆ professiona ┆ … ┆ -50.8      ┆ 1.028     ┆ 4963.6     ┆ yes        │\n",
       "│     ┆             ┆         ┆ l.course    ┆   ┆            ┆           ┆            ┆            │\n",
       "│ 74  ┆ retired     ┆ married ┆ professiona ┆ … ┆ -50.8      ┆ 1.028     ┆ 4963.6     ┆ no         │\n",
       "│     ┆             ┆         ┆ l.course    ┆   ┆            ┆           ┆            ┆            │\n",
       "└─────┴─────────────┴─────────┴─────────────┴───┴────────────┴───────────┴────────────┴────────────┘"
      ],
      "text/html": [
       "<div><style>\n",
       ".dataframe > thead > tr,\n",
       ".dataframe > tbody > tr {\n",
       "  text-align: right;\n",
       "  white-space: pre-wrap;\n",
       "}\n",
       "</style>\n",
       "<small>shape: (41_188, 21)</small><table border=\"1\" class=\"dataframe\"><thead><tr><th>age</th><th>job</th><th>marital</th><th>education</th><th>default</th><th>housing</th><th>loan</th><th>contact</th><th>month</th><th>day_of_week</th><th>duration</th><th>campaign</th><th>pdays</th><th>previous</th><th>poutcome</th><th>emp.var.rate</th><th>cons.price.idx</th><th>cons.conf.idx</th><th>euribor3m</th><th>nr.employed</th><th>subscribed</th></tr><tr><td>i64</td><td>str</td><td>str</td><td>str</td><td>str</td><td>str</td><td>str</td><td>str</td><td>str</td><td>str</td><td>i64</td><td>i64</td><td>i64</td><td>i64</td><td>str</td><td>f64</td><td>f64</td><td>f64</td><td>f64</td><td>f64</td><td>str</td></tr></thead><tbody><tr><td>56</td><td>&quot;housemaid&quot;</td><td>&quot;married&quot;</td><td>&quot;basic.4y&quot;</td><td>&quot;no&quot;</td><td>&quot;no&quot;</td><td>&quot;no&quot;</td><td>&quot;telephone&quot;</td><td>&quot;may&quot;</td><td>&quot;mon&quot;</td><td>261</td><td>1</td><td>999</td><td>0</td><td>&quot;nonexistent&quot;</td><td>1.1</td><td>93.994</td><td>-36.4</td><td>4.857</td><td>5191.0</td><td>&quot;no&quot;</td></tr><tr><td>57</td><td>&quot;services&quot;</td><td>&quot;married&quot;</td><td>&quot;high.school&quot;</td><td>&quot;unknown&quot;</td><td>&quot;no&quot;</td><td>&quot;no&quot;</td><td>&quot;telephone&quot;</td><td>&quot;may&quot;</td><td>&quot;mon&quot;</td><td>149</td><td>1</td><td>999</td><td>0</td><td>&quot;nonexistent&quot;</td><td>1.1</td><td>93.994</td><td>-36.4</td><td>4.857</td><td>5191.0</td><td>&quot;no&quot;</td></tr><tr><td>37</td><td>&quot;services&quot;</td><td>&quot;married&quot;</td><td>&quot;high.school&quot;</td><td>&quot;no&quot;</td><td>&quot;yes&quot;</td><td>&quot;no&quot;</td><td>&quot;telephone&quot;</td><td>&quot;may&quot;</td><td>&quot;mon&quot;</td><td>226</td><td>1</td><td>999</td><td>0</td><td>&quot;nonexistent&quot;</td><td>1.1</td><td>93.994</td><td>-36.4</td><td>4.857</td><td>5191.0</td><td>&quot;no&quot;</td></tr><tr><td>40</td><td>&quot;admin.&quot;</td><td>&quot;married&quot;</td><td>&quot;basic.6y&quot;</td><td>&quot;no&quot;</td><td>&quot;no&quot;</td><td>&quot;no&quot;</td><td>&quot;telephone&quot;</td><td>&quot;may&quot;</td><td>&quot;mon&quot;</td><td>151</td><td>1</td><td>999</td><td>0</td><td>&quot;nonexistent&quot;</td><td>1.1</td><td>93.994</td><td>-36.4</td><td>4.857</td><td>5191.0</td><td>&quot;no&quot;</td></tr><tr><td>56</td><td>&quot;services&quot;</td><td>&quot;married&quot;</td><td>&quot;high.school&quot;</td><td>&quot;no&quot;</td><td>&quot;no&quot;</td><td>&quot;yes&quot;</td><td>&quot;telephone&quot;</td><td>&quot;may&quot;</td><td>&quot;mon&quot;</td><td>307</td><td>1</td><td>999</td><td>0</td><td>&quot;nonexistent&quot;</td><td>1.1</td><td>93.994</td><td>-36.4</td><td>4.857</td><td>5191.0</td><td>&quot;no&quot;</td></tr><tr><td>&hellip;</td><td>&hellip;</td><td>&hellip;</td><td>&hellip;</td><td>&hellip;</td><td>&hellip;</td><td>&hellip;</td><td>&hellip;</td><td>&hellip;</td><td>&hellip;</td><td>&hellip;</td><td>&hellip;</td><td>&hellip;</td><td>&hellip;</td><td>&hellip;</td><td>&hellip;</td><td>&hellip;</td><td>&hellip;</td><td>&hellip;</td><td>&hellip;</td><td>&hellip;</td></tr><tr><td>73</td><td>&quot;retired&quot;</td><td>&quot;married&quot;</td><td>&quot;professional.course&quot;</td><td>&quot;no&quot;</td><td>&quot;yes&quot;</td><td>&quot;no&quot;</td><td>&quot;cellular&quot;</td><td>&quot;nov&quot;</td><td>&quot;fri&quot;</td><td>334</td><td>1</td><td>999</td><td>0</td><td>&quot;nonexistent&quot;</td><td>-1.1</td><td>94.767</td><td>-50.8</td><td>1.028</td><td>4963.6</td><td>&quot;yes&quot;</td></tr><tr><td>46</td><td>&quot;blue-collar&quot;</td><td>&quot;married&quot;</td><td>&quot;professional.course&quot;</td><td>&quot;no&quot;</td><td>&quot;no&quot;</td><td>&quot;no&quot;</td><td>&quot;cellular&quot;</td><td>&quot;nov&quot;</td><td>&quot;fri&quot;</td><td>383</td><td>1</td><td>999</td><td>0</td><td>&quot;nonexistent&quot;</td><td>-1.1</td><td>94.767</td><td>-50.8</td><td>1.028</td><td>4963.6</td><td>&quot;no&quot;</td></tr><tr><td>56</td><td>&quot;retired&quot;</td><td>&quot;married&quot;</td><td>&quot;university.degree&quot;</td><td>&quot;no&quot;</td><td>&quot;yes&quot;</td><td>&quot;no&quot;</td><td>&quot;cellular&quot;</td><td>&quot;nov&quot;</td><td>&quot;fri&quot;</td><td>189</td><td>2</td><td>999</td><td>0</td><td>&quot;nonexistent&quot;</td><td>-1.1</td><td>94.767</td><td>-50.8</td><td>1.028</td><td>4963.6</td><td>&quot;no&quot;</td></tr><tr><td>44</td><td>&quot;technician&quot;</td><td>&quot;married&quot;</td><td>&quot;professional.course&quot;</td><td>&quot;no&quot;</td><td>&quot;no&quot;</td><td>&quot;no&quot;</td><td>&quot;cellular&quot;</td><td>&quot;nov&quot;</td><td>&quot;fri&quot;</td><td>442</td><td>1</td><td>999</td><td>0</td><td>&quot;nonexistent&quot;</td><td>-1.1</td><td>94.767</td><td>-50.8</td><td>1.028</td><td>4963.6</td><td>&quot;yes&quot;</td></tr><tr><td>74</td><td>&quot;retired&quot;</td><td>&quot;married&quot;</td><td>&quot;professional.course&quot;</td><td>&quot;no&quot;</td><td>&quot;yes&quot;</td><td>&quot;no&quot;</td><td>&quot;cellular&quot;</td><td>&quot;nov&quot;</td><td>&quot;fri&quot;</td><td>239</td><td>3</td><td>999</td><td>1</td><td>&quot;failure&quot;</td><td>-1.1</td><td>94.767</td><td>-50.8</td><td>1.028</td><td>4963.6</td><td>&quot;no&quot;</td></tr></tbody></table></div>"
      ]
     },
     "execution_count": 3,
     "metadata": {},
     "output_type": "execute_result"
    }
   ],
   "execution_count": 3
  },
  {
   "metadata": {},
   "cell_type": "code",
   "outputs": [],
   "execution_count": null,
   "source": "",
   "id": "a98a60e55509c122"
  }
 ],
 "metadata": {
  "kernelspec": {
   "display_name": "Python 3",
   "language": "python",
   "name": "python3"
  },
  "language_info": {
   "codemirror_mode": {
    "name": "ipython",
    "version": 2
   },
   "file_extension": ".py",
   "mimetype": "text/x-python",
   "name": "python",
   "nbconvert_exporter": "python",
   "pygments_lexer": "ipython2",
   "version": "2.7.6"
  }
 },
 "nbformat": 4,
 "nbformat_minor": 5
}
