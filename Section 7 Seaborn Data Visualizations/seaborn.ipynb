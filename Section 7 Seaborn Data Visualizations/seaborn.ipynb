{
 "cells": [
  {
   "cell_type": "code",
   "id": "initial_id",
   "metadata": {
    "collapsed": true,
    "ExecuteTime": {
     "end_time": "2024-06-06T19:29:39.281335Z",
     "start_time": "2024-06-06T19:29:39.277770Z"
    }
   },
   "source": [
    "import numpy as np\n",
    "import pandas as pd\n",
    "import seaborn as sns\n",
    "import matplotlib.pyplot as plt"
   ],
   "execution_count": 1,
   "outputs": []
  },
  {
   "metadata": {},
   "cell_type": "markdown",
   "source": "# 59. Scatterplots with Seaborn",
   "id": "8a8d3a29139c6922"
  },
  {
   "metadata": {
    "ExecuteTime": {
     "end_time": "2024-06-06T19:29:39.287375Z",
     "start_time": "2024-06-06T19:29:39.281335Z"
    }
   },
   "cell_type": "code",
   "source": "df_path = r'F:\\DataSpell\\data_science_ml_learning\\Section 7 Seaborn Data Visualizations\\data\\dm_office_sales.csv'",
   "id": "12bdc77f29c55054",
   "execution_count": 2,
   "outputs": []
  },
  {
   "metadata": {
    "ExecuteTime": {
     "end_time": "2024-06-06T19:29:39.316747Z",
     "start_time": "2024-06-06T19:29:39.288381Z"
    }
   },
   "cell_type": "code",
   "source": "df = pd.read_csv(df_path)",
   "id": "1405c5f12b3ed7e0",
   "execution_count": 3,
   "outputs": []
  },
  {
   "metadata": {
    "ExecuteTime": {
     "end_time": "2024-06-06T19:29:39.743878Z",
     "start_time": "2024-06-06T19:29:39.316747Z"
    }
   },
   "cell_type": "code",
   "source": [
    "plt.figure(figsize=(10,5), dpi=150)\n",
    "\n",
    "# sns.scatterplot(x='salary', y='sales', data=df, hue='salary')\n",
    "sns.scatterplot(x='salary', y='sales', data=df, hue='level of education', palette='Set2', size='work experience', \n",
    "                s=200, alpha=1, style='level of education')\n",
    "\n",
    "plt.savefig('scatterplot.png')"
   ],
   "id": "dbb16877bd0516fe",
   "execution_count": 4,
   "outputs": []
  },
  {
   "metadata": {},
   "cell_type": "markdown",
   "source": "# 60. Distribution Plots - Part One - Understanding Plot Types",
   "id": "3d621eaa17fe6cb0"
  },
  {
   "metadata": {},
   "cell_type": "markdown",
   "source": "# 61. Distribution Plots - Part Two - Coding with Seaborn",
   "id": "d6b4f0c897b64557"
  },
  {
   "metadata": {
    "ExecuteTime": {
     "end_time": "2024-06-06T19:29:39.903616Z",
     "start_time": "2024-06-06T19:29:39.744888Z"
    }
   },
   "cell_type": "code",
   "source": [
    "plt.figure(figsize=(8,5), dpi=150)\n",
    "\n",
    "sns.rugplot(x='salary', data=df, height=0.5)"
   ],
   "id": "228bf32dae7a091b",
   "execution_count": 5,
   "outputs": []
  },
  {
   "metadata": {
    "ExecuteTime": {
     "end_time": "2024-06-06T19:29:40.127615Z",
     "start_time": "2024-06-06T19:29:39.904133Z"
    }
   },
   "cell_type": "code",
   "source": [
    "plt.figure(figsize=(10,6), dpi=150)\n",
    "\n",
    "# sns.set(style='whitegrid') # darkgrid, whitegrid, dark, white, ticks set the background style of the plot \n",
    "sns.displot(data=df, x='salary', bins=15, color='red', edgecolor='black', kde=True, rug=True)"
   ],
   "id": "895796a011803717",
   "execution_count": 6,
   "outputs": []
  },
  {
   "metadata": {
    "ExecuteTime": {
     "end_time": "2024-06-06T19:29:40.275287Z",
     "start_time": "2024-06-06T19:29:40.127615Z"
    }
   },
   "cell_type": "code",
   "source": "sns.histplot(data=df, x='salary', kde=True)",
   "id": "5991af3e5733bccd",
   "execution_count": 7,
   "outputs": []
  },
  {
   "metadata": {
    "ExecuteTime": {
     "end_time": "2024-06-06T19:29:40.389362Z",
     "start_time": "2024-06-06T19:29:40.275287Z"
    }
   },
   "cell_type": "code",
   "source": "sns.kdeplot(data=df, x='salary')",
   "id": "107c665166881973",
   "execution_count": 8,
   "outputs": []
  },
  {
   "metadata": {
    "ExecuteTime": {
     "end_time": "2024-06-06T19:29:40.494850Z",
     "start_time": "2024-06-06T19:29:40.389362Z"
    }
   },
   "cell_type": "code",
   "source": [
    "np.random.seed(42)\n",
    "samples_ages = np.random.randint(0, 100, 200)\n",
    "\n",
    "samples_ages = pd.DataFrame(samples_ages, columns=['age'])\n",
    "sns.rugplot(data=samples_ages, x='age')"
   ],
   "id": "2c7abe4f1fb27e83",
   "execution_count": 9,
   "outputs": []
  },
  {
   "metadata": {
    "ExecuteTime": {
     "end_time": "2024-06-06T19:29:40.691445Z",
     "start_time": "2024-06-06T19:29:40.494850Z"
    }
   },
   "cell_type": "code",
   "source": "sns.displot(data=samples_ages, x='age', rug=True, bins=30, kde=True)",
   "id": "593774fe6cd83a25",
   "execution_count": 10,
   "outputs": []
  },
  {
   "metadata": {
    "ExecuteTime": {
     "end_time": "2024-06-06T19:29:40.800959Z",
     "start_time": "2024-06-06T19:29:40.691445Z"
    }
   },
   "cell_type": "code",
   "source": "sns.kdeplot(data=samples_ages, x='age', clip=[0,100], bw_adjust=0.5, shade=True)",
   "id": "6be782d8dc08dbf",
   "execution_count": 11,
   "outputs": []
  },
  {
   "metadata": {},
   "cell_type": "markdown",
   "source": "# 62. Categorical Plots - Statistics within Categories - Understanding Plot Types",
   "id": "59ee7929e64194c0"
  },
  {
   "metadata": {},
   "cell_type": "markdown",
   "source": "# 63. Categorical Plots - Statistics within Categories - Coding with Seaborn",
   "id": "a9a947280e00392a"
  },
  {
   "metadata": {
    "ExecuteTime": {
     "end_time": "2024-06-06T19:29:40.805917Z",
     "start_time": "2024-06-06T19:29:40.802962Z"
    }
   },
   "cell_type": "code",
   "source": "df_path = r'F:\\DataSpell\\data_science_ml_learning\\Section 7 Seaborn Data Visualizations\\data\\dm_office_sales.csv'",
   "id": "cb6a629a3cd4f8ce",
   "execution_count": 12,
   "outputs": []
  },
  {
   "metadata": {
    "ExecuteTime": {
     "end_time": "2024-06-06T19:29:40.813933Z",
     "start_time": "2024-06-06T19:29:40.805917Z"
    }
   },
   "cell_type": "code",
   "source": "df = pd.read_csv(df_path)",
   "id": "8defce23c7d1676f",
   "execution_count": 13,
   "outputs": []
  },
  {
   "metadata": {
    "ExecuteTime": {
     "end_time": "2024-06-06T19:29:40.819348Z",
     "start_time": "2024-06-06T19:29:40.813933Z"
    }
   },
   "cell_type": "code",
   "source": "df['division'].value_counts()",
   "id": "f475fcff845a5b8d",
   "execution_count": 14,
   "outputs": []
  },
  {
   "metadata": {
    "ExecuteTime": {
     "end_time": "2024-06-06T19:29:41.013113Z",
     "start_time": "2024-06-06T19:29:40.819348Z"
    }
   },
   "cell_type": "code",
   "source": [
    "plt.figure(figsize=(10,6), dpi=150)\n",
    "\n",
    "sns.countplot(data=df, x='level of education', hue='division', palette='Set2')\n",
    "\n",
    "# plt.ylim(0, 1000)"
   ],
   "id": "d4f0d9963f1bd732",
   "execution_count": 15,
   "outputs": []
  },
  {
   "metadata": {
    "ExecuteTime": {
     "end_time": "2024-06-06T19:29:41.017958Z",
     "start_time": "2024-06-06T19:29:41.014115Z"
    }
   },
   "cell_type": "code",
   "source": "df['level of education'].value_counts()",
   "id": "c21b6be71d9370f1",
   "execution_count": 16,
   "outputs": []
  },
  {
   "metadata": {
    "ExecuteTime": {
     "end_time": "2024-06-06T19:29:41.228205Z",
     "start_time": "2024-06-06T19:29:41.017958Z"
    }
   },
   "cell_type": "code",
   "source": [
    "plt.figure(figsize=(10,6), dpi=150)\n",
    "\n",
    "sns.barplot(data=df, x='level of education', y='salary', estimator=np.mean, errorbar='sd', hue='division', palette='Set2')\n",
    "\n",
    "plt.legend(bbox_to_anchor=(1.05, 1), loc=2)"
   ],
   "id": "8b46e5fb23c7650d",
   "execution_count": 17,
   "outputs": []
  },
  {
   "metadata": {},
   "cell_type": "markdown",
   "source": "# 65. Categorical Plots - Distributions within Categories - Coding with Seaborn",
   "id": "ee9074f88c396ab7"
  },
  {
   "metadata": {
    "ExecuteTime": {
     "end_time": "2024-06-06T19:29:41.231498Z",
     "start_time": "2024-06-06T19:29:41.228205Z"
    }
   },
   "cell_type": "code",
   "source": "df_path = r'F:\\DataSpell\\data_science_ml_learning\\Section 7 Seaborn Data Visualizations\\data\\StudentsPerformance.csv'",
   "id": "6f8fdb9a6b27e03d",
   "execution_count": 18,
   "outputs": []
  },
  {
   "metadata": {
    "ExecuteTime": {
     "end_time": "2024-06-06T19:29:41.265182Z",
     "start_time": "2024-06-06T19:29:41.231498Z"
    }
   },
   "cell_type": "code",
   "source": "df = pd.read_csv(df_path)",
   "id": "329d9c961f2ea1c",
   "execution_count": 19,
   "outputs": []
  },
  {
   "metadata": {
    "ExecuteTime": {
     "end_time": "2024-06-06T19:29:41.268968Z",
     "start_time": "2024-06-06T19:29:41.265182Z"
    }
   },
   "cell_type": "code",
   "source": "df.columns",
   "id": "3f97f0c9c63fcc3e",
   "execution_count": 20,
   "outputs": []
  },
  {
   "metadata": {
    "ExecuteTime": {
     "end_time": "2024-06-06T19:29:41.513087Z",
     "start_time": "2024-06-06T19:29:41.268968Z"
    }
   },
   "cell_type": "code",
   "source": [
    "plt.figure(figsize=(10,6), dpi=150)\n",
    "\n",
    "# sns.boxplot(data=df, y='reading score', x='parental level of education', hue='test preparation course')\n",
    "sns.boxplot(data=df, x='reading score', y='parental level of education', hue='test preparation course', palette='Set2')\n",
    "\n",
    "plt.legend(bbox_to_anchor=(1.05, 1), loc=2)"
   ],
   "id": "8d13fcf30405fdfa",
   "execution_count": 21,
   "outputs": []
  },
  {
   "metadata": {
    "ExecuteTime": {
     "end_time": "2024-06-06T19:29:41.781633Z",
     "start_time": "2024-06-06T19:29:41.513087Z"
    }
   },
   "cell_type": "code",
   "source": [
    "plt.figure(figsize=(12,8), dpi=150)\n",
    "\n",
    "# sns.violinplot(data=df, x='reading score', y='parental level of education', hue='test preparation course', \n",
    "#                palette='Set2', split=True, inner='quartile')\n",
    "\n",
    "sns.violinplot(data=df, x='reading score', y='parental level of education', hue='test preparation course',\n",
    "               palette='Set2', bw_method=0.2)\n",
    "\n",
    "plt.legend(bbox_to_anchor=(1.05, 1), loc=2)"
   ],
   "id": "40eaadbb7bd092b8",
   "execution_count": 22,
   "outputs": []
  },
  {
   "metadata": {
    "ExecuteTime": {
     "end_time": "2024-06-06T19:29:42.767296Z",
     "start_time": "2024-06-06T19:29:41.781633Z"
    }
   },
   "cell_type": "code",
   "source": [
    "plt.figure(figsize=(12,8), dpi=150)\n",
    "\n",
    "sns.swarmplot(data=df, x='math score', y='gender', size=7, hue='test preparation course', palette='Set2', dodge=True)"
   ],
   "id": "a89df51f81c55463",
   "execution_count": 23,
   "outputs": []
  },
  {
   "metadata": {
    "ExecuteTime": {
     "end_time": "2024-06-06T19:29:42.952084Z",
     "start_time": "2024-06-06T19:29:42.768302Z"
    }
   },
   "cell_type": "code",
   "source": [
    "plt.figure(figsize=(12,8), dpi=150)\n",
    "\n",
    "sns.boxenplot(data=df, x='math score', y='test preparation course', hue='gender', palette='Set2')"
   ],
   "id": "9228f846bf5f1e1c",
   "execution_count": 24,
   "outputs": []
  },
  {
   "metadata": {},
   "cell_type": "markdown",
   "source": "# 66. Seaborn - Comparison Plots - Understanding the Plot Types",
   "id": "ae2f485c093cce43"
  },
  {
   "metadata": {},
   "cell_type": "markdown",
   "source": "# 67. Seaborn - Comparison Plots - Coding with Seaborn",
   "id": "ead26898a494bc4c"
  },
  {
   "metadata": {
    "ExecuteTime": {
     "end_time": "2024-06-06T19:29:42.955440Z",
     "start_time": "2024-06-06T19:29:42.952084Z"
    }
   },
   "cell_type": "code",
   "source": "df_path = r'F:\\DataSpell\\data_science_ml_learning\\Section 7 Seaborn Data Visualizations\\data\\StudentsPerformance.csv'",
   "id": "731bea4d84b34",
   "execution_count": 25,
   "outputs": []
  },
  {
   "metadata": {
    "ExecuteTime": {
     "end_time": "2024-06-06T19:29:42.964469Z",
     "start_time": "2024-06-06T19:29:42.956447Z"
    }
   },
   "cell_type": "code",
   "source": "df = pd.read_csv(df_path)",
   "id": "533d63a53952ce81",
   "execution_count": 26,
   "outputs": []
  },
  {
   "metadata": {
    "ExecuteTime": {
     "end_time": "2024-06-06T19:29:42.980335Z",
     "start_time": "2024-06-06T19:29:42.964469Z"
    }
   },
   "cell_type": "code",
   "source": "df",
   "id": "b14e659723fc015e",
   "execution_count": 27,
   "outputs": []
  },
  {
   "metadata": {
    "ExecuteTime": {
     "end_time": "2024-06-06T19:29:43.302026Z",
     "start_time": "2024-06-06T19:29:42.980335Z"
    }
   },
   "cell_type": "code",
   "source": [
    "# sns.jointplot(data=df, x='math score', y='reading score', kind='reg')\n",
    "# sns.jointplot(data=df, x='math score', y='reading score', kind='hex')\n",
    "sns.jointplot(data=df, x='math score', y='reading score', kind='scatter', alpha=0.2, hue='gender')\n"
   ],
   "id": "833094976f174ae3",
   "execution_count": 28,
   "outputs": []
  },
  {
   "metadata": {
    "ExecuteTime": {
     "end_time": "2024-06-06T19:29:44.430168Z",
     "start_time": "2024-06-06T19:29:43.302026Z"
    }
   },
   "cell_type": "code",
   "source": [
    "# sns.pairplot(data=df, hue='gender', diag_kind='hist')\n",
    "sns.pairplot(data=df, hue='gender', corner=True, diag_kind='kde', palette='Set2')"
   ],
   "id": "3417ad572b924fe4",
   "execution_count": 29,
   "outputs": []
  },
  {
   "metadata": {},
   "cell_type": "markdown",
   "source": "# 68. Seaborn Grid Plots",
   "id": "7a2cf9abf6fb1916"
  },
  {
   "metadata": {
    "ExecuteTime": {
     "end_time": "2024-06-06T19:29:45.919463Z",
     "start_time": "2024-06-06T19:29:44.430168Z"
    }
   },
   "cell_type": "code",
   "source": [
    "# sns.catplot(data=df, x='gender', y='math score', kind='boxen')\n",
    "# sns.catplot(data=df, x='gender', y='math score', kind='box', row='lunch')\n",
    "# sns.catplot(data=df, x='gender', y='math score', kind='box', hue='lunch')\n",
    "# sns.catplot(data=df, x='gender', y='math score', kind='box', col='lunch')\n",
    "# sns.catplot(data=df, x='gender', y='math score', kind='box', row='race/ethnicity', col='lunch')\n",
    "sns.catplot(data=df, x='gender', y='math score', kind='violin', row='race/ethnicity', col='lunch')"
   ],
   "id": "1c66eed86491b581",
   "execution_count": 30,
   "outputs": []
  },
  {
   "metadata": {
    "ExecuteTime": {
     "end_time": "2024-06-06T19:29:49.943072Z",
     "start_time": "2024-06-06T19:29:45.920467Z"
    }
   },
   "cell_type": "code",
   "source": [
    "g = sns.PairGrid(data=df, hue='gender')\n",
    "\n",
    "g = g.map_upper(sns.scatterplot)\n",
    "\n",
    "g = g.map_lower(sns.kdeplot)\n",
    "\n",
    "g = g.map_diag(sns.histplot, kde=True)\n",
    "\n",
    "g = g.add_legend()"
   ],
   "id": "d9352304cf299f8a",
   "execution_count": 31,
   "outputs": []
  },
  {
   "metadata": {},
   "cell_type": "markdown",
   "source": "# 69. Seaborn - Matrix Plots",
   "id": "9f2fb7e0d10ae9ae"
  },
  {
   "metadata": {
    "ExecuteTime": {
     "end_time": "2024-06-06T19:36:38.258978Z",
     "start_time": "2024-06-06T19:36:38.255269Z"
    }
   },
   "cell_type": "code",
   "source": "df_path = r'F:\\DataSpell\\data_science_ml_learning\\Section 7 Seaborn Data Visualizations\\data\\country_table.csv'",
   "id": "c6cc49c96862adf2",
   "execution_count": 34,
   "outputs": []
  },
  {
   "metadata": {
    "ExecuteTime": {
     "end_time": "2024-06-06T19:36:48.356324Z",
     "start_time": "2024-06-06T19:36:48.350386Z"
    }
   },
   "cell_type": "code",
   "source": "df = pd.read_csv(df_path)",
   "id": "63d345ccbe1dcd0c",
   "execution_count": 35,
   "outputs": []
  },
  {
   "metadata": {
    "ExecuteTime": {
     "end_time": "2024-06-06T19:37:02.954268Z",
     "start_time": "2024-06-06T19:37:02.951154Z"
    }
   },
   "cell_type": "code",
   "source": "df = df.set_index('Countries')",
   "id": "d91a84f2b18037b",
   "execution_count": 37,
   "outputs": []
  },
  {
   "metadata": {
    "ExecuteTime": {
     "end_time": "2024-06-06T19:42:35.248916Z",
     "start_time": "2024-06-06T19:42:35.048071Z"
    }
   },
   "cell_type": "code",
   "source": [
    "plt.figure(figsize=(10,6), dpi=150)\n",
    "\n",
    "sns.heatmap(df.drop('Life expectancy', axis=1), linewidths=0.5, annot=True, cmap='viridis', center=40)"
   ],
   "id": "db9213cbb4228b13",
   "execution_count": 48,
   "outputs": []
  },
  {
   "metadata": {
    "ExecuteTime": {
     "end_time": "2024-06-06T19:52:53.072731Z",
     "start_time": "2024-06-06T19:52:52.796913Z"
    }
   },
   "cell_type": "code",
   "source": [
    "plt.figure(figsize=(10,6), dpi=150)\n",
    "\n",
    "# sns.clustermap(df.drop('Life expectancy', axis=1), linewidths=0.5, annot=True, cmap='viridis', center=40, col_cluster=True)\n",
    "sns.clustermap(df.drop('Life expectancy', axis=1), linewidths=0.5, annot=True, cmap='viridis', center=40, col_cluster=False)"
   ],
   "id": "df7e5f321d20ef8b",
   "execution_count": 50,
   "outputs": []
  }
 ],
 "metadata": {
  "kernelspec": {
   "display_name": "Python 3",
   "language": "python",
   "name": "python3"
  },
  "language_info": {
   "codemirror_mode": {
    "name": "ipython",
    "version": 2
   },
   "file_extension": ".py",
   "mimetype": "text/x-python",
   "name": "python",
   "nbconvert_exporter": "python",
   "pygments_lexer": "ipython2",
   "version": "2.7.6"
  }
 },
 "nbformat": 4,
 "nbformat_minor": 5
}
