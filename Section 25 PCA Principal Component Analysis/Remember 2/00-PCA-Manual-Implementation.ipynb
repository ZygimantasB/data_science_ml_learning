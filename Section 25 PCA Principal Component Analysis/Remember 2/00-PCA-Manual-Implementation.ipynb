{
 "cells": [
  {
   "cell_type": "code",
   "id": "initial_id",
   "metadata": {
    "collapsed": true,
    "ExecuteTime": {
     "end_time": "2024-12-27T19:01:09.096005Z",
     "start_time": "2024-12-27T19:01:09.092996Z"
    }
   },
   "source": [
    "import numpy as np\n",
    "import polars as pl\n",
    "import polars.selectors as cs\n",
    "import matplotlib.pyplot as plt\n",
    "import seaborn as sns\n",
    "import plotly.express as px\n",
    "import plotly.graph_objects as go\n",
    "import great_tables as tg\n",
    "import altair as alt"
   ],
   "outputs": [],
   "execution_count": 13
  },
  {
   "metadata": {
    "ExecuteTime": {
     "end_time": "2024-12-27T19:01:09.122397Z",
     "start_time": "2024-12-27T19:01:09.116340Z"
    }
   },
   "cell_type": "code",
   "source": "df = pl.read_csv('../../DATA/cancer_tumor_data_features.csv')",
   "id": "dd54087ca975b638",
   "outputs": [],
   "execution_count": 14
  },
  {
   "metadata": {
    "ExecuteTime": {
     "end_time": "2024-12-27T19:01:09.201043Z",
     "start_time": "2024-12-27T19:01:09.194597Z"
    }
   },
   "cell_type": "code",
   "source": "df",
   "id": "f4c4e00fb9fac36",
   "outputs": [
    {
     "data": {
      "text/plain": [
       "shape: (569, 30)\n",
       "┌───────────┬───────────┬───────────┬───────────┬───┬───────────┬───────────┬───────────┬──────────┐\n",
       "│ mean      ┆ mean      ┆ mean      ┆ mean area ┆ … ┆ worst     ┆ worst     ┆ worst     ┆ worst    │\n",
       "│ radius    ┆ texture   ┆ perimeter ┆ ---       ┆   ┆ concavity ┆ concave   ┆ symmetry  ┆ fractal  │\n",
       "│ ---       ┆ ---       ┆ ---       ┆ f64       ┆   ┆ ---       ┆ points    ┆ ---       ┆ dimensio │\n",
       "│ f64       ┆ f64       ┆ f64       ┆           ┆   ┆ f64       ┆ ---       ┆ f64       ┆ n        │\n",
       "│           ┆           ┆           ┆           ┆   ┆           ┆ f64       ┆           ┆ ---      │\n",
       "│           ┆           ┆           ┆           ┆   ┆           ┆           ┆           ┆ f64      │\n",
       "╞═══════════╪═══════════╪═══════════╪═══════════╪═══╪═══════════╪═══════════╪═══════════╪══════════╡\n",
       "│ 17.99     ┆ 10.38     ┆ 122.8     ┆ 1001.0    ┆ … ┆ 0.7119    ┆ 0.2654    ┆ 0.4601    ┆ 0.1189   │\n",
       "│ 20.57     ┆ 17.77     ┆ 132.9     ┆ 1326.0    ┆ … ┆ 0.2416    ┆ 0.186     ┆ 0.275     ┆ 0.08902  │\n",
       "│ 19.69     ┆ 21.25     ┆ 130.0     ┆ 1203.0    ┆ … ┆ 0.4504    ┆ 0.243     ┆ 0.3613    ┆ 0.08758  │\n",
       "│ 11.42     ┆ 20.38     ┆ 77.58     ┆ 386.1     ┆ … ┆ 0.6869    ┆ 0.2575    ┆ 0.6638    ┆ 0.173    │\n",
       "│ 20.29     ┆ 14.34     ┆ 135.1     ┆ 1297.0    ┆ … ┆ 0.4       ┆ 0.1625    ┆ 0.2364    ┆ 0.07678  │\n",
       "│ …         ┆ …         ┆ …         ┆ …         ┆ … ┆ …         ┆ …         ┆ …         ┆ …        │\n",
       "│ 21.56     ┆ 22.39     ┆ 142.0     ┆ 1479.0    ┆ … ┆ 0.4107    ┆ 0.2216    ┆ 0.206     ┆ 0.07115  │\n",
       "│ 20.13     ┆ 28.25     ┆ 131.2     ┆ 1261.0    ┆ … ┆ 0.3215    ┆ 0.1628    ┆ 0.2572    ┆ 0.06637  │\n",
       "│ 16.6      ┆ 28.08     ┆ 108.3     ┆ 858.1     ┆ … ┆ 0.3403    ┆ 0.1418    ┆ 0.2218    ┆ 0.0782   │\n",
       "│ 20.6      ┆ 29.33     ┆ 140.1     ┆ 1265.0    ┆ … ┆ 0.9387    ┆ 0.265     ┆ 0.4087    ┆ 0.124    │\n",
       "│ 7.76      ┆ 24.54     ┆ 47.92     ┆ 181.0     ┆ … ┆ 0.0       ┆ 0.0       ┆ 0.2871    ┆ 0.07039  │\n",
       "└───────────┴───────────┴───────────┴───────────┴───┴───────────┴───────────┴───────────┴──────────┘"
      ],
      "text/html": [
       "<div><style>\n",
       ".dataframe > thead > tr,\n",
       ".dataframe > tbody > tr {\n",
       "  text-align: right;\n",
       "  white-space: pre-wrap;\n",
       "}\n",
       "</style>\n",
       "<small>shape: (569, 30)</small><table border=\"1\" class=\"dataframe\"><thead><tr><th>mean radius</th><th>mean texture</th><th>mean perimeter</th><th>mean area</th><th>mean smoothness</th><th>mean compactness</th><th>mean concavity</th><th>mean concave points</th><th>mean symmetry</th><th>mean fractal dimension</th><th>radius error</th><th>texture error</th><th>perimeter error</th><th>area error</th><th>smoothness error</th><th>compactness error</th><th>concavity error</th><th>concave points error</th><th>symmetry error</th><th>fractal dimension error</th><th>worst radius</th><th>worst texture</th><th>worst perimeter</th><th>worst area</th><th>worst smoothness</th><th>worst compactness</th><th>worst concavity</th><th>worst concave points</th><th>worst symmetry</th><th>worst fractal dimension</th></tr><tr><td>f64</td><td>f64</td><td>f64</td><td>f64</td><td>f64</td><td>f64</td><td>f64</td><td>f64</td><td>f64</td><td>f64</td><td>f64</td><td>f64</td><td>f64</td><td>f64</td><td>f64</td><td>f64</td><td>f64</td><td>f64</td><td>f64</td><td>f64</td><td>f64</td><td>f64</td><td>f64</td><td>f64</td><td>f64</td><td>f64</td><td>f64</td><td>f64</td><td>f64</td><td>f64</td></tr></thead><tbody><tr><td>17.99</td><td>10.38</td><td>122.8</td><td>1001.0</td><td>0.1184</td><td>0.2776</td><td>0.3001</td><td>0.1471</td><td>0.2419</td><td>0.07871</td><td>1.095</td><td>0.9053</td><td>8.589</td><td>153.4</td><td>0.006399</td><td>0.04904</td><td>0.05373</td><td>0.01587</td><td>0.03003</td><td>0.006193</td><td>25.38</td><td>17.33</td><td>184.6</td><td>2019.0</td><td>0.1622</td><td>0.6656</td><td>0.7119</td><td>0.2654</td><td>0.4601</td><td>0.1189</td></tr><tr><td>20.57</td><td>17.77</td><td>132.9</td><td>1326.0</td><td>0.08474</td><td>0.07864</td><td>0.0869</td><td>0.07017</td><td>0.1812</td><td>0.05667</td><td>0.5435</td><td>0.7339</td><td>3.398</td><td>74.08</td><td>0.005225</td><td>0.01308</td><td>0.0186</td><td>0.0134</td><td>0.01389</td><td>0.003532</td><td>24.99</td><td>23.41</td><td>158.8</td><td>1956.0</td><td>0.1238</td><td>0.1866</td><td>0.2416</td><td>0.186</td><td>0.275</td><td>0.08902</td></tr><tr><td>19.69</td><td>21.25</td><td>130.0</td><td>1203.0</td><td>0.1096</td><td>0.1599</td><td>0.1974</td><td>0.1279</td><td>0.2069</td><td>0.05999</td><td>0.7456</td><td>0.7869</td><td>4.585</td><td>94.03</td><td>0.00615</td><td>0.04006</td><td>0.03832</td><td>0.02058</td><td>0.0225</td><td>0.004571</td><td>23.57</td><td>25.53</td><td>152.5</td><td>1709.0</td><td>0.1444</td><td>0.4245</td><td>0.4504</td><td>0.243</td><td>0.3613</td><td>0.08758</td></tr><tr><td>11.42</td><td>20.38</td><td>77.58</td><td>386.1</td><td>0.1425</td><td>0.2839</td><td>0.2414</td><td>0.1052</td><td>0.2597</td><td>0.09744</td><td>0.4956</td><td>1.156</td><td>3.445</td><td>27.23</td><td>0.00911</td><td>0.07458</td><td>0.05661</td><td>0.01867</td><td>0.05963</td><td>0.009208</td><td>14.91</td><td>26.5</td><td>98.87</td><td>567.7</td><td>0.2098</td><td>0.8663</td><td>0.6869</td><td>0.2575</td><td>0.6638</td><td>0.173</td></tr><tr><td>20.29</td><td>14.34</td><td>135.1</td><td>1297.0</td><td>0.1003</td><td>0.1328</td><td>0.198</td><td>0.1043</td><td>0.1809</td><td>0.05883</td><td>0.7572</td><td>0.7813</td><td>5.438</td><td>94.44</td><td>0.01149</td><td>0.02461</td><td>0.05688</td><td>0.01885</td><td>0.01756</td><td>0.005115</td><td>22.54</td><td>16.67</td><td>152.2</td><td>1575.0</td><td>0.1374</td><td>0.205</td><td>0.4</td><td>0.1625</td><td>0.2364</td><td>0.07678</td></tr><tr><td>&hellip;</td><td>&hellip;</td><td>&hellip;</td><td>&hellip;</td><td>&hellip;</td><td>&hellip;</td><td>&hellip;</td><td>&hellip;</td><td>&hellip;</td><td>&hellip;</td><td>&hellip;</td><td>&hellip;</td><td>&hellip;</td><td>&hellip;</td><td>&hellip;</td><td>&hellip;</td><td>&hellip;</td><td>&hellip;</td><td>&hellip;</td><td>&hellip;</td><td>&hellip;</td><td>&hellip;</td><td>&hellip;</td><td>&hellip;</td><td>&hellip;</td><td>&hellip;</td><td>&hellip;</td><td>&hellip;</td><td>&hellip;</td><td>&hellip;</td></tr><tr><td>21.56</td><td>22.39</td><td>142.0</td><td>1479.0</td><td>0.111</td><td>0.1159</td><td>0.2439</td><td>0.1389</td><td>0.1726</td><td>0.05623</td><td>1.176</td><td>1.256</td><td>7.673</td><td>158.7</td><td>0.0103</td><td>0.02891</td><td>0.05198</td><td>0.02454</td><td>0.01114</td><td>0.004239</td><td>25.45</td><td>26.4</td><td>166.1</td><td>2027.0</td><td>0.141</td><td>0.2113</td><td>0.4107</td><td>0.2216</td><td>0.206</td><td>0.07115</td></tr><tr><td>20.13</td><td>28.25</td><td>131.2</td><td>1261.0</td><td>0.0978</td><td>0.1034</td><td>0.144</td><td>0.09791</td><td>0.1752</td><td>0.05533</td><td>0.7655</td><td>2.463</td><td>5.203</td><td>99.04</td><td>0.005769</td><td>0.02423</td><td>0.0395</td><td>0.01678</td><td>0.01898</td><td>0.002498</td><td>23.69</td><td>38.25</td><td>155.0</td><td>1731.0</td><td>0.1166</td><td>0.1922</td><td>0.3215</td><td>0.1628</td><td>0.2572</td><td>0.06637</td></tr><tr><td>16.6</td><td>28.08</td><td>108.3</td><td>858.1</td><td>0.08455</td><td>0.1023</td><td>0.09251</td><td>0.05302</td><td>0.159</td><td>0.05648</td><td>0.4564</td><td>1.075</td><td>3.425</td><td>48.55</td><td>0.005903</td><td>0.03731</td><td>0.0473</td><td>0.01557</td><td>0.01318</td><td>0.003892</td><td>18.98</td><td>34.12</td><td>126.7</td><td>1124.0</td><td>0.1139</td><td>0.3094</td><td>0.3403</td><td>0.1418</td><td>0.2218</td><td>0.0782</td></tr><tr><td>20.6</td><td>29.33</td><td>140.1</td><td>1265.0</td><td>0.1178</td><td>0.277</td><td>0.3514</td><td>0.152</td><td>0.2397</td><td>0.07016</td><td>0.726</td><td>1.595</td><td>5.772</td><td>86.22</td><td>0.006522</td><td>0.06158</td><td>0.07117</td><td>0.01664</td><td>0.02324</td><td>0.006185</td><td>25.74</td><td>39.42</td><td>184.6</td><td>1821.0</td><td>0.165</td><td>0.8681</td><td>0.9387</td><td>0.265</td><td>0.4087</td><td>0.124</td></tr><tr><td>7.76</td><td>24.54</td><td>47.92</td><td>181.0</td><td>0.05263</td><td>0.04362</td><td>0.0</td><td>0.0</td><td>0.1587</td><td>0.05884</td><td>0.3857</td><td>1.428</td><td>2.548</td><td>19.15</td><td>0.007189</td><td>0.00466</td><td>0.0</td><td>0.0</td><td>0.02676</td><td>0.002783</td><td>9.456</td><td>30.37</td><td>59.16</td><td>268.6</td><td>0.08996</td><td>0.06444</td><td>0.0</td><td>0.0</td><td>0.2871</td><td>0.07039</td></tr></tbody></table></div>"
      ]
     },
     "execution_count": 15,
     "metadata": {},
     "output_type": "execute_result"
    }
   ],
   "execution_count": 15
  },
  {
   "metadata": {
    "ExecuteTime": {
     "end_time": "2024-12-27T19:01:09.229836Z",
     "start_time": "2024-12-27T19:01:09.227490Z"
    }
   },
   "cell_type": "code",
   "source": "from sklearn.preprocessing import StandardScaler",
   "id": "9a20f9e31e53d6ed",
   "outputs": [],
   "execution_count": 16
  },
  {
   "metadata": {
    "ExecuteTime": {
     "end_time": "2024-12-27T19:01:09.265576Z",
     "start_time": "2024-12-27T19:01:09.262801Z"
    }
   },
   "cell_type": "code",
   "source": "scaler = StandardScaler()",
   "id": "ce402d7e0f48f964",
   "outputs": [],
   "execution_count": 17
  },
  {
   "metadata": {
    "ExecuteTime": {
     "end_time": "2024-12-27T19:01:09.339372Z",
     "start_time": "2024-12-27T19:01:09.335311Z"
    }
   },
   "cell_type": "code",
   "source": "scaled_X = scaler.fit_transform(df)",
   "id": "9a4f4ce7972e7eea",
   "outputs": [],
   "execution_count": 18
  },
  {
   "metadata": {
    "ExecuteTime": {
     "end_time": "2024-12-27T19:01:09.553799Z",
     "start_time": "2024-12-27T19:01:09.390557Z"
    }
   },
   "cell_type": "code",
   "source": "scaled_X = pl.DataFrame(scaled_X, schema=df.schema)",
   "id": "c4af4e11ebf2c79a",
   "outputs": [],
   "execution_count": 19
  },
  {
   "metadata": {
    "ExecuteTime": {
     "end_time": "2024-12-27T19:01:11.711440Z",
     "start_time": "2024-12-27T19:01:11.704993Z"
    }
   },
   "cell_type": "code",
   "source": "scaled_X",
   "id": "9219180c3d2c435c",
   "outputs": [
    {
     "data": {
      "text/plain": [
       "shape: (569, 30)\n",
       "┌───────────┬───────────┬───────────┬───────────┬───┬───────────┬───────────┬───────────┬──────────┐\n",
       "│ mean      ┆ mean      ┆ mean      ┆ mean area ┆ … ┆ worst     ┆ worst     ┆ worst     ┆ worst    │\n",
       "│ radius    ┆ texture   ┆ perimeter ┆ ---       ┆   ┆ concavity ┆ concave   ┆ symmetry  ┆ fractal  │\n",
       "│ ---       ┆ ---       ┆ ---       ┆ f64       ┆   ┆ ---       ┆ points    ┆ ---       ┆ dimensio │\n",
       "│ f64       ┆ f64       ┆ f64       ┆           ┆   ┆ f64       ┆ ---       ┆ f64       ┆ n        │\n",
       "│           ┆           ┆           ┆           ┆   ┆           ┆ f64       ┆           ┆ ---      │\n",
       "│           ┆           ┆           ┆           ┆   ┆           ┆           ┆           ┆ f64      │\n",
       "╞═══════════╪═══════════╪═══════════╪═══════════╪═══╪═══════════╪═══════════╪═══════════╪══════════╡\n",
       "│ 1.097064  ┆ -2.073335 ┆ 1.269934  ┆ 0.984375  ┆ … ┆ 2.109526  ┆ 2.296076  ┆ 2.750622  ┆ 1.937015 │\n",
       "│ 1.829821  ┆ -0.353632 ┆ 1.685955  ┆ 1.908708  ┆ … ┆ -0.146749 ┆ 1.087084  ┆ -0.24389  ┆ 0.28119  │\n",
       "│ 1.579888  ┆ 0.456187  ┆ 1.566503  ┆ 1.558884  ┆ … ┆ 0.854974  ┆ 1.955     ┆ 1.152255  ┆ 0.201391 │\n",
       "│ -0.768909 ┆ 0.253732  ┆ -0.592687 ┆ -0.764464 ┆ … ┆ 1.989588  ┆ 2.175786  ┆ 6.046041  ┆ 4.93501  │\n",
       "│ 1.750297  ┆ -1.151816 ┆ 1.776573  ┆ 1.826229  ┆ … ┆ 0.613179  ┆ 0.729259  ┆ -0.868353 ┆ -0.3971  │\n",
       "│ …         ┆ …         ┆ …         ┆ …         ┆ … ┆ …         ┆ …         ┆ …         ┆ …        │\n",
       "│ 2.110995  ┆ 0.721473  ┆ 2.060786  ┆ 2.343856  ┆ … ┆ 0.664512  ┆ 1.629151  ┆ -1.360158 ┆ -0.70909 │\n",
       "│           ┆           ┆           ┆           ┆   ┆           ┆           ┆           ┆ 1        │\n",
       "│ 1.704854  ┆ 2.085134  ┆ 1.615931  ┆ 1.723842  ┆ … ┆ 0.236573  ┆ 0.733827  ┆ -0.531855 ┆ -0.97397 │\n",
       "│           ┆           ┆           ┆           ┆   ┆           ┆           ┆           ┆ 8        │\n",
       "│ 0.702284  ┆ 2.045574  ┆ 0.672676  ┆ 0.577953  ┆ … ┆ 0.326767  ┆ 0.414069  ┆ -1.104549 ┆ -0.31840 │\n",
       "│           ┆           ┆           ┆           ┆   ┆           ┆           ┆           ┆ 9        │\n",
       "│ 1.838341  ┆ 2.336457  ┆ 1.982524  ┆ 1.735218  ┆ … ┆ 3.197605  ┆ 2.289985  ┆ 1.919083  ┆ 2.219635 │\n",
       "│ -1.808401 ┆ 1.221792  ┆ -1.814389 ┆ -1.347789 ┆ … ┆ -1.305831 ┆ -1.745063 ┆ -0.048138 ┆ -0.75120 │\n",
       "│           ┆           ┆           ┆           ┆   ┆           ┆           ┆           ┆ 7        │\n",
       "└───────────┴───────────┴───────────┴───────────┴───┴───────────┴───────────┴───────────┴──────────┘"
      ],
      "text/html": [
       "<div><style>\n",
       ".dataframe > thead > tr,\n",
       ".dataframe > tbody > tr {\n",
       "  text-align: right;\n",
       "  white-space: pre-wrap;\n",
       "}\n",
       "</style>\n",
       "<small>shape: (569, 30)</small><table border=\"1\" class=\"dataframe\"><thead><tr><th>mean radius</th><th>mean texture</th><th>mean perimeter</th><th>mean area</th><th>mean smoothness</th><th>mean compactness</th><th>mean concavity</th><th>mean concave points</th><th>mean symmetry</th><th>mean fractal dimension</th><th>radius error</th><th>texture error</th><th>perimeter error</th><th>area error</th><th>smoothness error</th><th>compactness error</th><th>concavity error</th><th>concave points error</th><th>symmetry error</th><th>fractal dimension error</th><th>worst radius</th><th>worst texture</th><th>worst perimeter</th><th>worst area</th><th>worst smoothness</th><th>worst compactness</th><th>worst concavity</th><th>worst concave points</th><th>worst symmetry</th><th>worst fractal dimension</th></tr><tr><td>f64</td><td>f64</td><td>f64</td><td>f64</td><td>f64</td><td>f64</td><td>f64</td><td>f64</td><td>f64</td><td>f64</td><td>f64</td><td>f64</td><td>f64</td><td>f64</td><td>f64</td><td>f64</td><td>f64</td><td>f64</td><td>f64</td><td>f64</td><td>f64</td><td>f64</td><td>f64</td><td>f64</td><td>f64</td><td>f64</td><td>f64</td><td>f64</td><td>f64</td><td>f64</td></tr></thead><tbody><tr><td>1.097064</td><td>-2.073335</td><td>1.269934</td><td>0.984375</td><td>1.568466</td><td>3.283515</td><td>2.652874</td><td>2.532475</td><td>2.217515</td><td>2.255747</td><td>2.489734</td><td>-0.565265</td><td>2.833031</td><td>2.487578</td><td>-0.214002</td><td>1.316862</td><td>0.724026</td><td>0.66082</td><td>1.148757</td><td>0.907083</td><td>1.88669</td><td>-1.359293</td><td>2.303601</td><td>2.001237</td><td>1.307686</td><td>2.616665</td><td>2.109526</td><td>2.296076</td><td>2.750622</td><td>1.937015</td></tr><tr><td>1.829821</td><td>-0.353632</td><td>1.685955</td><td>1.908708</td><td>-0.826962</td><td>-0.487072</td><td>-0.023846</td><td>0.548144</td><td>0.001392</td><td>-0.868652</td><td>0.499255</td><td>-0.876244</td><td>0.263327</td><td>0.742402</td><td>-0.605351</td><td>-0.692926</td><td>-0.44078</td><td>0.260162</td><td>-0.80545</td><td>-0.099444</td><td>1.805927</td><td>-0.369203</td><td>1.535126</td><td>1.890489</td><td>-0.375612</td><td>-0.430444</td><td>-0.146749</td><td>1.087084</td><td>-0.24389</td><td>0.28119</td></tr><tr><td>1.579888</td><td>0.456187</td><td>1.566503</td><td>1.558884</td><td>0.94221</td><td>1.052926</td><td>1.363478</td><td>2.037231</td><td>0.939685</td><td>-0.398008</td><td>1.228676</td><td>-0.780083</td><td>0.850928</td><td>1.181336</td><td>-0.297005</td><td>0.814974</td><td>0.213076</td><td>1.424827</td><td>0.237036</td><td>0.293559</td><td>1.51187</td><td>-0.023974</td><td>1.347475</td><td>1.456285</td><td>0.527407</td><td>1.082932</td><td>0.854974</td><td>1.955</td><td>1.152255</td><td>0.201391</td></tr><tr><td>-0.768909</td><td>0.253732</td><td>-0.592687</td><td>-0.764464</td><td>3.283553</td><td>3.402909</td><td>1.915897</td><td>1.451707</td><td>2.867383</td><td>4.910919</td><td>0.326373</td><td>-0.110409</td><td>0.286593</td><td>-0.288378</td><td>0.689702</td><td>2.74428</td><td>0.819518</td><td>1.115007</td><td>4.73268</td><td>2.047511</td><td>-0.281464</td><td>0.133984</td><td>-0.249939</td><td>-0.550021</td><td>3.394275</td><td>3.893397</td><td>1.989588</td><td>2.175786</td><td>6.046041</td><td>4.93501</td></tr><tr><td>1.750297</td><td>-1.151816</td><td>1.776573</td><td>1.826229</td><td>0.280372</td><td>0.53934</td><td>1.371011</td><td>1.428493</td><td>-0.00956</td><td>-0.56245</td><td>1.270543</td><td>-0.790244</td><td>1.273189</td><td>1.190357</td><td>1.483067</td><td>-0.04852</td><td>0.828471</td><td>1.144205</td><td>-0.361092</td><td>0.499328</td><td>1.298575</td><td>-1.46677</td><td>1.338539</td><td>1.220724</td><td>0.220556</td><td>-0.313395</td><td>0.613179</td><td>0.729259</td><td>-0.868353</td><td>-0.3971</td></tr><tr><td>&hellip;</td><td>&hellip;</td><td>&hellip;</td><td>&hellip;</td><td>&hellip;</td><td>&hellip;</td><td>&hellip;</td><td>&hellip;</td><td>&hellip;</td><td>&hellip;</td><td>&hellip;</td><td>&hellip;</td><td>&hellip;</td><td>&hellip;</td><td>&hellip;</td><td>&hellip;</td><td>&hellip;</td><td>&hellip;</td><td>&hellip;</td><td>&hellip;</td><td>&hellip;</td><td>&hellip;</td><td>&hellip;</td><td>&hellip;</td><td>&hellip;</td><td>&hellip;</td><td>&hellip;</td><td>&hellip;</td><td>&hellip;</td><td>&hellip;</td></tr><tr><td>2.110995</td><td>0.721473</td><td>2.060786</td><td>2.343856</td><td>1.041842</td><td>0.21906</td><td>1.947285</td><td>2.320965</td><td>-0.312589</td><td>-0.931027</td><td>2.78208</td><td>0.071025</td><td>2.379583</td><td>2.604187</td><td>1.086384</td><td>0.191805</td><td>0.666001</td><td>2.067178</td><td>-1.138416</td><td>0.16798</td><td>1.901185</td><td>0.1177</td><td>1.752563</td><td>2.015301</td><td>0.378365</td><td>-0.273318</td><td>0.664512</td><td>1.629151</td><td>-1.360158</td><td>-0.709091</td></tr><tr><td>1.704854</td><td>2.085134</td><td>1.615931</td><td>1.723842</td><td>0.102458</td><td>-0.017833</td><td>0.693043</td><td>1.263669</td><td>-0.217664</td><td>-1.058611</td><td>1.300499</td><td>2.260938</td><td>1.156857</td><td>1.291565</td><td>-0.42401</td><td>-0.069758</td><td>0.252202</td><td>0.808431</td><td>-0.189161</td><td>-0.490556</td><td>1.53672</td><td>2.047399</td><td>1.42194</td><td>1.494959</td><td>-0.69123</td><td>-0.39482</td><td>0.236573</td><td>0.733827</td><td>-0.531855</td><td>-0.973978</td></tr><tr><td>0.702284</td><td>2.045574</td><td>0.672676</td><td>0.577953</td><td>-0.840484</td><td>-0.03868</td><td>0.046588</td><td>0.105777</td><td>-0.809117</td><td>-0.895587</td><td>0.184892</td><td>-0.257371</td><td>0.276693</td><td>0.180698</td><td>-0.379342</td><td>0.661277</td><td>0.510827</td><td>0.612157</td><td>-0.891416</td><td>0.036727</td><td>0.561361</td><td>1.374854</td><td>0.579001</td><td>0.427906</td><td>-0.809587</td><td>0.350735</td><td>0.326767</td><td>0.414069</td><td>-1.104549</td><td>-0.318409</td></tr><tr><td>1.838341</td><td>2.336457</td><td>1.982524</td><td>1.735218</td><td>1.525767</td><td>3.272144</td><td>3.296944</td><td>2.658866</td><td>2.137194</td><td>1.043695</td><td>1.157935</td><td>0.686088</td><td>1.43853</td><td>1.009503</td><td>-0.173</td><td>2.017716</td><td>1.302285</td><td>0.785721</td><td>0.326634</td><td>0.904057</td><td>1.961239</td><td>2.237926</td><td>2.303601</td><td>1.653171</td><td>1.430427</td><td>3.904848</td><td>3.197605</td><td>2.289985</td><td>1.919083</td><td>2.219635</td></tr><tr><td>-1.808401</td><td>1.221792</td><td>-1.814389</td><td>-1.347789</td><td>-3.112085</td><td>-1.150752</td><td>-1.114873</td><td>-1.26182</td><td>-0.82007</td><td>-0.561032</td><td>-0.070279</td><td>0.383092</td><td>-0.157449</td><td>-0.466152</td><td>0.049342</td><td>-1.163516</td><td>-1.057501</td><td>-1.913447</td><td>0.75283</td><td>-0.382754</td><td>-1.410893</td><td>0.76419</td><td>-1.432735</td><td>-1.075813</td><td>-1.859019</td><td>-1.207552</td><td>-1.305831</td><td>-1.745063</td><td>-0.048138</td><td>-0.751207</td></tr></tbody></table></div>"
      ]
     },
     "execution_count": 20,
     "metadata": {},
     "output_type": "execute_result"
    }
   ],
   "execution_count": 20
  },
  {
   "metadata": {},
   "cell_type": "code",
   "outputs": [],
   "execution_count": null,
   "source": "",
   "id": "2ff3e2ec8d258e"
  }
 ],
 "metadata": {
  "kernelspec": {
   "display_name": "Python 3",
   "language": "python",
   "name": "python3"
  },
  "language_info": {
   "codemirror_mode": {
    "name": "ipython",
    "version": 2
   },
   "file_extension": ".py",
   "mimetype": "text/x-python",
   "name": "python",
   "nbconvert_exporter": "python",
   "pygments_lexer": "ipython2",
   "version": "2.7.6"
  }
 },
 "nbformat": 4,
 "nbformat_minor": 5
}
