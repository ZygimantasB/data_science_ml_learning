{
 "cells": [
  {
   "metadata": {},
   "cell_type": "markdown",
   "source": "# 218. Introduction to Principal Component Analysis",
   "id": "58dd09e2661703bc"
  },
  {
   "metadata": {},
   "cell_type": "markdown",
   "source": "# 219. PCA Theory and Intuition - Part One",
   "id": "269e9721e030be06"
  },
  {
   "metadata": {},
   "cell_type": "markdown",
   "source": "# 220. PCA Theory and Intuition - Part Two",
   "id": "acc67aa5313546f"
  },
  {
   "metadata": {},
   "cell_type": "markdown",
   "source": "# 221. PCA - Manual Implementation in Python",
   "id": "f732652271b3035e"
  },
  {
   "cell_type": "code",
   "execution_count": null,
   "id": "initial_id",
   "metadata": {
    "collapsed": true
   },
   "outputs": [],
   "source": ""
  }
 ],
 "metadata": {
  "kernelspec": {
   "display_name": "Python 3",
   "language": "python",
   "name": "python3"
  },
  "language_info": {
   "codemirror_mode": {
    "name": "ipython",
    "version": 2
   },
   "file_extension": ".py",
   "mimetype": "text/x-python",
   "name": "python",
   "nbconvert_exporter": "python",
   "pygments_lexer": "ipython2",
   "version": "2.7.6"
  }
 },
 "nbformat": 4,
 "nbformat_minor": 5
}
