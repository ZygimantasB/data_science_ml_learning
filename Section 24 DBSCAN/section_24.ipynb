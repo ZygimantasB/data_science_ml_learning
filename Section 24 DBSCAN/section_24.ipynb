{
 "cells": [
  {
   "metadata": {},
   "cell_type": "markdown",
   "source": "# 212. DBSCAN - Theory and Intuition",
   "id": "a11b213983e3acad"
  },
  {
   "metadata": {},
   "cell_type": "markdown",
   "source": "# 213. DBSCAN versus K-Means Clustering",
   "id": "336fd93fe53800e4"
  },
  {
   "cell_type": "code",
   "id": "initial_id",
   "metadata": {
    "collapsed": true,
    "ExecuteTime": {
     "end_time": "2024-12-02T18:27:21.837670Z",
     "start_time": "2024-12-02T18:27:21.833883Z"
    }
   },
   "source": [
    "import numpy as np\n",
    "import pandas as pd\n",
    "import matplotlib.pyplot as plt\n",
    "import seaborn as sns"
   ],
   "outputs": [],
   "execution_count": 1
  },
  {
   "metadata": {
    "ExecuteTime": {
     "end_time": "2024-12-02T18:27:36.576392Z",
     "start_time": "2024-12-02T18:27:36.565721Z"
    }
   },
   "cell_type": "code",
   "source": "blobs = pd.read_csv('../DATA/cluster_blobs.csv')",
   "id": "19d878ca6bcf2713",
   "outputs": [],
   "execution_count": 3
  }
 ],
 "metadata": {
  "kernelspec": {
   "display_name": "Python 3",
   "language": "python",
   "name": "python3"
  },
  "language_info": {
   "codemirror_mode": {
    "name": "ipython",
    "version": 2
   },
   "file_extension": ".py",
   "mimetype": "text/x-python",
   "name": "python",
   "nbconvert_exporter": "python",
   "pygments_lexer": "ipython2",
   "version": "2.7.6"
  }
 },
 "nbformat": 4,
 "nbformat_minor": 5
}
