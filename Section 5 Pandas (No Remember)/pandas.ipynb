{
 "cells": [
  {
   "cell_type": "code",
   "id": "initial_id",
   "metadata": {
    "collapsed": true,
    "ExecuteTime": {
     "end_time": "2024-05-28T18:09:10.364915Z",
     "start_time": "2024-05-28T18:09:08.764492Z"
    }
   },
   "source": [
    "import timeit\n",
    "import os\n",
    "\n",
    "import numpy as np\n",
    "import pandas as pd\n",
    "import datetime as dt\n",
    "\n",
    "from sqlalchemy import create_engine"
   ],
   "execution_count": 1,
   "outputs": []
  },
  {
   "metadata": {},
   "cell_type": "markdown",
   "source": "# 20. Series - Part One",
   "id": "2f02a52bcd2c8dea"
  },
  {
   "metadata": {
    "ExecuteTime": {
     "end_time": "2024-05-28T18:09:10.369293Z",
     "start_time": "2024-05-28T18:09:10.365926Z"
    }
   },
   "cell_type": "code",
   "source": "myindex = ['USA', 'Canada', 'Mexico']",
   "id": "f58cf7c221ad3371",
   "execution_count": 2,
   "outputs": []
  },
  {
   "metadata": {
    "ExecuteTime": {
     "end_time": "2024-05-28T18:09:10.376845Z",
     "start_time": "2024-05-28T18:09:10.370302Z"
    }
   },
   "cell_type": "code",
   "source": "mydata = [1776, 1867, 1821]",
   "id": "cd8ac086f1920bf",
   "execution_count": 3,
   "outputs": []
  },
  {
   "metadata": {
    "ExecuteTime": {
     "end_time": "2024-05-28T18:09:10.384359Z",
     "start_time": "2024-05-28T18:09:10.377852Z"
    }
   },
   "cell_type": "code",
   "source": "myser = pd.Series(data=mydata, index=myindex)",
   "id": "c76c11c182a41397",
   "execution_count": 4,
   "outputs": []
  },
  {
   "metadata": {
    "ExecuteTime": {
     "end_time": "2024-05-28T18:09:10.392497Z",
     "start_time": "2024-05-28T18:09:10.384359Z"
    }
   },
   "cell_type": "code",
   "source": "myser",
   "id": "8cfeb0c2d8536d19",
   "execution_count": 5,
   "outputs": []
  },
  {
   "metadata": {
    "ExecuteTime": {
     "end_time": "2024-05-28T18:09:10.398541Z",
     "start_time": "2024-05-28T18:09:10.392497Z"
    }
   },
   "cell_type": "code",
   "source": "myser.iloc[0]",
   "id": "9c889620252f3d2a",
   "execution_count": 6,
   "outputs": []
  },
  {
   "metadata": {
    "ExecuteTime": {
     "end_time": "2024-05-28T18:09:10.404582Z",
     "start_time": "2024-05-28T18:09:10.398541Z"
    }
   },
   "cell_type": "code",
   "source": "myser.loc['USA']",
   "id": "373edc6bac4d7587",
   "execution_count": 7,
   "outputs": []
  },
  {
   "metadata": {
    "ExecuteTime": {
     "end_time": "2024-05-28T18:09:10.409821Z",
     "start_time": "2024-05-28T18:09:10.404582Z"
    }
   },
   "cell_type": "code",
   "source": "ages = {'Sam':5, 'Frank':10, 'Spike':7}",
   "id": "9b2fa3a04bbbf7d0",
   "execution_count": 8,
   "outputs": []
  },
  {
   "metadata": {
    "ExecuteTime": {
     "end_time": "2024-05-28T18:09:10.416726Z",
     "start_time": "2024-05-28T18:09:10.409821Z"
    }
   },
   "cell_type": "code",
   "source": "pd.Series(ages)",
   "id": "d92eab1368fd0ca1",
   "execution_count": 9,
   "outputs": []
  },
  {
   "metadata": {},
   "cell_type": "markdown",
   "source": "# Coding Exercise 4: Check-in: Labeled Index in Pandas Series",
   "id": "314ba095f3cb2410"
  },
  {
   "metadata": {
    "ExecuteTime": {
     "end_time": "2024-05-28T18:09:10.423119Z",
     "start_time": "2024-05-28T18:09:10.417734Z"
    }
   },
   "cell_type": "code",
   "source": [
    "# TASK: Use pandas to grab the expenses paid by Bob.\n",
    "# MAKE SURE TO READ THE FULL INSTRUCTIONS ABOVE CAREFULLY, AS THE EVALUATION SCRIPT IS VERY STRICT.\n",
    "#  Link to Solution: https://gist.github.com/Pierian-Data/3d7f7cb3528f015d9584d04a7168b97f\n",
    "expenses = pd.Series({'Andrew':200,'Bob':150,'Claire':450})\n",
    "\n",
    "bob_expense = expenses.loc['Bob']\n",
    "bob_expense"
   ],
   "id": "f5ec41c5f0b76835",
   "execution_count": 10,
   "outputs": []
  },
  {
   "metadata": {},
   "cell_type": "markdown",
   "source": "# 21. Series - Part Two",
   "id": "a01c9022995ea672"
  },
  {
   "metadata": {
    "ExecuteTime": {
     "end_time": "2024-05-28T18:09:10.427752Z",
     "start_time": "2024-05-28T18:09:10.423119Z"
    }
   },
   "cell_type": "code",
   "source": [
    "q1 = {'Japan': 80, 'China': 450, 'India': 200, 'USA': 250}\n",
    "q2 = {'Brazil': 100, 'China': 500, 'India': 210, 'USA': 260}"
   ],
   "id": "8abb57da6a83a89",
   "execution_count": 11,
   "outputs": []
  },
  {
   "metadata": {
    "ExecuteTime": {
     "end_time": "2024-05-28T18:09:10.434787Z",
     "start_time": "2024-05-28T18:09:10.427752Z"
    }
   },
   "cell_type": "code",
   "source": "sales_q1 = pd.Series(q1)",
   "id": "fc6b5cb37763ed80",
   "execution_count": 12,
   "outputs": []
  },
  {
   "metadata": {
    "ExecuteTime": {
     "end_time": "2024-05-28T18:09:10.440961Z",
     "start_time": "2024-05-28T18:09:10.435791Z"
    }
   },
   "cell_type": "code",
   "source": "sales_q2 = pd.Series(q2)",
   "id": "33ace917db937942",
   "execution_count": 13,
   "outputs": []
  },
  {
   "metadata": {
    "ExecuteTime": {
     "end_time": "2024-05-28T18:09:10.448494Z",
     "start_time": "2024-05-28T18:09:10.440961Z"
    }
   },
   "cell_type": "code",
   "source": "sales_q1",
   "id": "ee8d95ea9452adf0",
   "execution_count": 14,
   "outputs": []
  },
  {
   "metadata": {
    "ExecuteTime": {
     "end_time": "2024-05-28T18:09:10.454068Z",
     "start_time": "2024-05-28T18:09:10.448494Z"
    }
   },
   "cell_type": "code",
   "source": "sales_q2",
   "id": "217f1d6450c4a1cf",
   "execution_count": 15,
   "outputs": []
  },
  {
   "metadata": {
    "ExecuteTime": {
     "end_time": "2024-05-28T18:09:10.458939Z",
     "start_time": "2024-05-28T18:09:10.455011Z"
    }
   },
   "cell_type": "code",
   "source": [
    "sales_q1['Japan']\n",
    "sales_q1.iloc[0]"
   ],
   "id": "c8e3b4743f698bce",
   "execution_count": 16,
   "outputs": []
  },
  {
   "metadata": {
    "ExecuteTime": {
     "end_time": "2024-05-28T18:09:10.464969Z",
     "start_time": "2024-05-28T18:09:10.458939Z"
    }
   },
   "cell_type": "code",
   "source": "sales_q1.keys()",
   "id": "c8dd44ababc85860",
   "execution_count": 17,
   "outputs": []
  },
  {
   "metadata": {
    "ExecuteTime": {
     "end_time": "2024-05-28T18:09:10.470328Z",
     "start_time": "2024-05-28T18:09:10.464969Z"
    }
   },
   "cell_type": "code",
   "source": "sales_q1.values",
   "id": "f44014a37efe9bde",
   "execution_count": 18,
   "outputs": []
  },
  {
   "metadata": {
    "ExecuteTime": {
     "end_time": "2024-05-28T18:09:10.476638Z",
     "start_time": "2024-05-28T18:09:10.470328Z"
    }
   },
   "cell_type": "code",
   "source": [
    "# [1, 2] * 2\n",
    "np.array([1, 2]) * 2"
   ],
   "id": "d6605ec825fe0217",
   "execution_count": 19,
   "outputs": []
  },
  {
   "metadata": {
    "ExecuteTime": {
     "end_time": "2024-05-28T18:09:10.482911Z",
     "start_time": "2024-05-28T18:09:10.476638Z"
    }
   },
   "cell_type": "code",
   "source": [
    "# sales_q1 * 2\n",
    "sales_q1 / 100"
   ],
   "id": "90b76a9496978a96",
   "execution_count": 20,
   "outputs": []
  },
  {
   "metadata": {
    "ExecuteTime": {
     "end_time": "2024-05-28T18:09:10.490608Z",
     "start_time": "2024-05-28T18:09:10.484425Z"
    }
   },
   "cell_type": "code",
   "source": "sales_q1 + sales_q2 # NaN is added for the missing values in the series",
   "id": "94aaa07fb25cdc64",
   "execution_count": 21,
   "outputs": []
  },
  {
   "metadata": {
    "ExecuteTime": {
     "end_time": "2024-05-28T18:09:10.588079Z",
     "start_time": "2024-05-28T18:09:10.584560Z"
    }
   },
   "cell_type": "code",
   "source": "first_half = sales_q1.add(sales_q2, fill_value=0) # fill_value=0 is used to fill the missing values with 0",
   "id": "75da4efd429dcae7",
   "execution_count": 22,
   "outputs": []
  },
  {
   "metadata": {
    "ExecuteTime": {
     "end_time": "2024-05-28T18:09:11.521493Z",
     "start_time": "2024-05-28T18:09:11.517370Z"
    }
   },
   "cell_type": "code",
   "source": "sales_q1.dtypes",
   "id": "bc78a2124b4bdb58",
   "execution_count": 23,
   "outputs": []
  },
  {
   "metadata": {
    "ExecuteTime": {
     "end_time": "2024-05-28T18:09:12.199509Z",
     "start_time": "2024-05-28T18:09:12.195438Z"
    }
   },
   "cell_type": "code",
   "source": "first_half.dtypes",
   "id": "3c1a5e5673dee56e",
   "execution_count": 24,
   "outputs": []
  },
  {
   "metadata": {},
   "cell_type": "markdown",
   "source": "# 22. DataFrames - Part One - Creating a DataFrame",
   "id": "f687b9ff52c13d4"
  },
  {
   "metadata": {
    "ExecuteTime": {
     "end_time": "2024-05-28T18:09:12.376065Z",
     "start_time": "2024-05-28T18:09:12.371040Z"
    }
   },
   "cell_type": "code",
   "source": [
    "np.random.seed(101) # to get the same random numbers\n",
    "mydata = np.random.randint(0, 101, (4, 3))\n",
    "mydata"
   ],
   "id": "23047e665b5f72f1",
   "execution_count": 25,
   "outputs": []
  },
  {
   "metadata": {
    "ExecuteTime": {
     "end_time": "2024-05-28T18:09:12.564862Z",
     "start_time": "2024-05-28T18:09:12.561355Z"
    }
   },
   "cell_type": "code",
   "source": "myindex = ['CA', 'NY', 'AZ', 'TX']",
   "id": "14f261e0af113c9d",
   "execution_count": 26,
   "outputs": []
  },
  {
   "metadata": {
    "ExecuteTime": {
     "end_time": "2024-05-28T18:09:12.765371Z",
     "start_time": "2024-05-28T18:09:12.762612Z"
    }
   },
   "cell_type": "code",
   "source": "mycolumns = ['Jan', 'Feb', 'Mar']",
   "id": "8cc04381cf11b37b",
   "execution_count": 27,
   "outputs": []
  },
  {
   "metadata": {
    "ExecuteTime": {
     "end_time": "2024-05-28T18:09:12.912127Z",
     "start_time": "2024-05-28T18:09:12.908291Z"
    }
   },
   "cell_type": "code",
   "source": "df = pd.DataFrame(data=mydata, index=myindex, columns=mycolumns)",
   "id": "5f990af2bb5bd4a3",
   "execution_count": 28,
   "outputs": []
  },
  {
   "metadata": {
    "ExecuteTime": {
     "end_time": "2024-05-28T18:09:13.070897Z",
     "start_time": "2024-05-28T18:09:13.064349Z"
    }
   },
   "cell_type": "code",
   "source": "df.info()",
   "id": "dd52f293020da426",
   "execution_count": 29,
   "outputs": []
  },
  {
   "metadata": {
    "ExecuteTime": {
     "end_time": "2024-05-28T18:09:13.248254Z",
     "start_time": "2024-05-28T18:09:13.224685Z"
    }
   },
   "cell_type": "code",
   "source": [
    "df = pd.read_csv(r'data_frame\\tips.csv')\n",
    "df"
   ],
   "id": "d433700e16956041",
   "execution_count": 30,
   "outputs": []
  },
  {
   "metadata": {},
   "cell_type": "markdown",
   "source": "# 23. DataFrames - Part Two - Basic Properties",
   "id": "805d083c81d28b"
  },
  {
   "metadata": {
    "ExecuteTime": {
     "end_time": "2024-05-28T18:09:13.394147Z",
     "start_time": "2024-05-28T18:09:13.390149Z"
    }
   },
   "cell_type": "code",
   "source": "df.columns",
   "id": "2c08d8fef2c6439d",
   "execution_count": 31,
   "outputs": []
  },
  {
   "metadata": {
    "ExecuteTime": {
     "end_time": "2024-05-28T18:09:13.552286Z",
     "start_time": "2024-05-28T18:09:13.548009Z"
    }
   },
   "cell_type": "code",
   "source": "df.index",
   "id": "86db46e2664de427",
   "execution_count": 32,
   "outputs": []
  },
  {
   "metadata": {
    "ExecuteTime": {
     "end_time": "2024-05-28T18:09:13.791273Z",
     "start_time": "2024-05-28T18:09:13.783303Z"
    }
   },
   "cell_type": "code",
   "source": "df.head()",
   "id": "71179b2d62f2269c",
   "execution_count": 33,
   "outputs": []
  },
  {
   "metadata": {
    "ExecuteTime": {
     "end_time": "2024-05-28T18:09:14.003093Z",
     "start_time": "2024-05-28T18:09:13.995309Z"
    }
   },
   "cell_type": "code",
   "source": "df.tail()",
   "id": "e40b187856c7273b",
   "execution_count": 34,
   "outputs": []
  },
  {
   "metadata": {
    "ExecuteTime": {
     "end_time": "2024-05-28T18:09:14.401718Z",
     "start_time": "2024-05-28T18:09:14.389015Z"
    }
   },
   "cell_type": "code",
   "source": "df.describe().transpose() # transpose() is used to make the output more readable by switching the rows and columns",
   "id": "8c9014dd88d9f121",
   "execution_count": 35,
   "outputs": []
  },
  {
   "metadata": {},
   "cell_type": "markdown",
   "source": "# 24. DataFrames - Part Three - Working with Columns",
   "id": "789d43e39d8265b2"
  },
  {
   "metadata": {},
   "cell_type": "markdown",
   "source": "# Columns",
   "id": "53277bfcf5553cde"
  },
  {
   "metadata": {
    "ExecuteTime": {
     "end_time": "2024-05-28T18:09:14.520018Z",
     "start_time": "2024-05-28T18:09:14.511428Z"
    }
   },
   "cell_type": "code",
   "source": "df.head()",
   "id": "aa5b0f5afc5cac76",
   "execution_count": 36,
   "outputs": []
  },
  {
   "metadata": {
    "ExecuteTime": {
     "end_time": "2024-05-28T18:09:14.809278Z",
     "start_time": "2024-05-28T18:09:14.803985Z"
    }
   },
   "cell_type": "code",
   "source": "df['total_bill']",
   "id": "71a10f203036fd1a",
   "execution_count": 37,
   "outputs": []
  },
  {
   "metadata": {
    "ExecuteTime": {
     "end_time": "2024-05-28T18:09:14.987498Z",
     "start_time": "2024-05-28T18:09:14.983110Z"
    }
   },
   "cell_type": "code",
   "source": "type(df['total_bill'])",
   "id": "f09405b46311b3d5",
   "execution_count": 38,
   "outputs": []
  },
  {
   "metadata": {
    "ExecuteTime": {
     "end_time": "2024-05-28T18:09:15.390779Z",
     "start_time": "2024-05-28T18:09:15.382609Z"
    }
   },
   "cell_type": "code",
   "source": [
    "mycols = ['total_bill', 'tip']\n",
    "df[mycols]"
   ],
   "id": "f4a054e0154b8049",
   "execution_count": 39,
   "outputs": []
  },
  {
   "metadata": {
    "ExecuteTime": {
     "end_time": "2024-05-28T18:09:15.598336Z",
     "start_time": "2024-05-28T18:09:15.591620Z"
    }
   },
   "cell_type": "code",
   "source": "df[['total_bill', 'tip']]",
   "id": "98426e0a417cf766",
   "execution_count": 40,
   "outputs": []
  },
  {
   "metadata": {
    "ExecuteTime": {
     "end_time": "2024-05-28T18:09:15.972712Z",
     "start_time": "2024-05-28T18:09:15.967833Z"
    }
   },
   "cell_type": "code",
   "source": [
    "# df_percentage = df['tip'] / df['total_bill']  * 100\n",
    "df_percentage = df.apply(lambda row: (row['tip'] / row['total_bill']) * 100, axis=1)\n",
    "df['tip_percentage'] = df_percentage"
   ],
   "id": "78e048b70278af1a",
   "execution_count": 41,
   "outputs": []
  },
  {
   "metadata": {
    "ExecuteTime": {
     "end_time": "2024-05-28T18:09:16.136653Z",
     "start_time": "2024-05-28T18:09:16.132427Z"
    }
   },
   "cell_type": "code",
   "source": [
    "df['price_per_person'] = df['size'] / df['total_bill']\n",
    "# If overate the column name, name will be changed"
   ],
   "id": "fd2bdd19b889930b",
   "execution_count": 42,
   "outputs": []
  },
  {
   "metadata": {
    "ExecuteTime": {
     "end_time": "2024-05-28T18:09:16.360643Z",
     "start_time": "2024-05-28T18:09:16.357237Z"
    }
   },
   "cell_type": "code",
   "source": [
    "df['price_per_person'] = df['size'] / df['total_bill']\n",
    "# If overate the column name, name will be changed"
   ],
   "id": "385dacb2ad0d04c8",
   "execution_count": 43,
   "outputs": []
  },
  {
   "metadata": {
    "ExecuteTime": {
     "end_time": "2024-05-28T18:09:16.557913Z",
     "start_time": "2024-05-28T18:09:16.553208Z"
    }
   },
   "cell_type": "code",
   "source": "np.round(df['price_per_person'], 2)",
   "id": "e927b3b9d3977a8b",
   "execution_count": 44,
   "outputs": []
  },
  {
   "metadata": {
    "ExecuteTime": {
     "end_time": "2024-05-28T18:09:16.863747Z",
     "start_time": "2024-05-28T18:09:16.859983Z"
    }
   },
   "cell_type": "code",
   "source": "df['price_per_person'] = np.round(df['price_per_person'], 2)",
   "id": "ceef98e9c7a1bde1",
   "execution_count": 45,
   "outputs": []
  },
  {
   "metadata": {
    "ExecuteTime": {
     "end_time": "2024-05-28T18:09:16.962718Z",
     "start_time": "2024-05-28T18:09:16.953023Z"
    }
   },
   "cell_type": "code",
   "source": "df",
   "id": "b175193d1a202e08",
   "execution_count": 46,
   "outputs": []
  },
  {
   "metadata": {
    "ExecuteTime": {
     "end_time": "2024-05-28T18:09:18.176400Z",
     "start_time": "2024-05-28T18:09:17.232399Z"
    }
   },
   "cell_type": "code",
   "source": [
    "df.drop('tip_percentage', axis=1, inplace=True)\n",
    "df = df.drop('tip_percentage', axis=1) # This is the same as the above line recommended"
   ],
   "id": "8d6023db8f45a294",
   "execution_count": 47,
   "outputs": []
  },
  {
   "metadata": {
    "ExecuteTime": {
     "end_time": "2024-05-28T18:09:18.177405Z",
     "start_time": "2024-05-28T18:09:18.177405Z"
    }
   },
   "cell_type": "code",
   "source": "df.shape # axis = 1 is for columns and axis = 0 is for rows because the shape is (rows, columns)",
   "id": "1af6c696037ba481",
   "execution_count": null,
   "outputs": []
  },
  {
   "metadata": {},
   "cell_type": "markdown",
   "source": "# 25. DataFrames - Part Four - Working with Rows",
   "id": "6704b3eeea8e43be"
  },
  {
   "metadata": {},
   "cell_type": "code",
   "source": "df = df.set_index('Payment ID')",
   "id": "685bffa012f4905d",
   "execution_count": null,
   "outputs": []
  },
  {
   "metadata": {
    "ExecuteTime": {
     "end_time": "2024-05-28T18:09:18.179407Z",
     "start_time": "2024-05-28T18:09:18.179407Z"
    }
   },
   "cell_type": "code",
   "source": "df.reset_index()",
   "id": "7fe9a1999fddbc0d",
   "execution_count": null,
   "outputs": []
  },
  {
   "metadata": {},
   "cell_type": "code",
   "source": "df.iloc[0]",
   "id": "f06ed7336dacc0f5",
   "execution_count": null,
   "outputs": []
  },
  {
   "metadata": {},
   "cell_type": "code",
   "source": "df.loc['Sun2959']",
   "id": "10d1467dd286c7f7",
   "execution_count": null,
   "outputs": []
  },
  {
   "metadata": {},
   "cell_type": "code",
   "source": "df.iloc[1:4]",
   "id": "288a30d33776e562",
   "execution_count": null,
   "outputs": []
  },
  {
   "metadata": {
    "ExecuteTime": {
     "end_time": "2024-05-28T18:09:18.295109Z",
     "start_time": "2024-05-28T18:09:18.196435Z"
    }
   },
   "cell_type": "code",
   "source": "df.loc[['Sun2959', 'Sun4608']]",
   "id": "441699162a791995",
   "execution_count": 48,
   "outputs": []
  },
  {
   "metadata": {
    "ExecuteTime": {
     "end_time": "2024-05-28T18:09:18.343929Z",
     "start_time": "2024-05-28T18:09:18.307301Z"
    }
   },
   "cell_type": "code",
   "source": "df = df.drop('Sun2959', axis=0)",
   "id": "c4a6b14796813b4e",
   "execution_count": 49,
   "outputs": []
  },
  {
   "metadata": {
    "ExecuteTime": {
     "end_time": "2024-05-28T18:09:24.648926Z",
     "start_time": "2024-05-28T18:09:24.640511Z"
    }
   },
   "cell_type": "code",
   "source": "df.head()",
   "id": "c5c52079dff4a5c5",
   "execution_count": 50,
   "outputs": []
  },
  {
   "metadata": {
    "ExecuteTime": {
     "end_time": "2024-05-28T18:09:24.902340Z",
     "start_time": "2024-05-28T18:09:24.899142Z"
    }
   },
   "cell_type": "code",
   "source": "df = df.iloc[1:]",
   "id": "2b16a259b8ba4f0a",
   "execution_count": 51,
   "outputs": []
  },
  {
   "metadata": {
    "ExecuteTime": {
     "end_time": "2024-05-28T18:09:25.089143Z",
     "start_time": "2024-05-28T18:09:25.079139Z"
    }
   },
   "cell_type": "code",
   "source": "df # select lows is more efficient than drop",
   "id": "9c2692184ecb8fd5",
   "execution_count": 52,
   "outputs": []
  },
  {
   "metadata": {
    "ExecuteTime": {
     "end_time": "2024-05-28T18:09:25.352800Z",
     "start_time": "2024-05-28T18:09:25.348298Z"
    }
   },
   "cell_type": "code",
   "source": "one_row = df.iloc[0]",
   "id": "eda0b5313ccea364",
   "execution_count": 53,
   "outputs": []
  },
  {
   "metadata": {
    "ExecuteTime": {
     "end_time": "2024-05-28T18:09:25.505833Z",
     "start_time": "2024-05-28T18:09:25.501167Z"
    }
   },
   "cell_type": "code",
   "source": "one_row",
   "id": "d6dc5cc639d3984",
   "execution_count": 54,
   "outputs": []
  },
  {
   "metadata": {
    "ExecuteTime": {
     "end_time": "2024-05-28T18:09:25.862568Z",
     "start_time": "2024-05-28T18:09:25.859052Z"
    }
   },
   "cell_type": "code",
   "source": "# df = df.append(one_row)",
   "id": "f62b4e24c4c52f95",
   "execution_count": 55,
   "outputs": []
  },
  {
   "metadata": {},
   "cell_type": "markdown",
   "source": "# 26. Pandas - Conditional Filtering",
   "id": "47bde545eac09155"
  },
  {
   "metadata": {
    "ExecuteTime": {
     "end_time": "2024-05-28T18:09:26.111442Z",
     "start_time": "2024-05-28T18:09:26.102376Z"
    }
   },
   "cell_type": "code",
   "source": "df[df['total_bill'] > 40]",
   "id": "9e465fb3c8ad433c",
   "execution_count": 56,
   "outputs": []
  },
  {
   "metadata": {
    "ExecuteTime": {
     "end_time": "2024-05-28T18:09:26.565559Z",
     "start_time": "2024-05-28T18:09:26.556021Z"
    }
   },
   "cell_type": "code",
   "source": "df[df['sex'] == 'Male']",
   "id": "6e7841bafccc002d",
   "execution_count": 57,
   "outputs": []
  },
  {
   "metadata": {
    "ExecuteTime": {
     "end_time": "2024-05-28T18:09:26.664178Z",
     "start_time": "2024-05-28T18:09:26.650162Z"
    }
   },
   "cell_type": "code",
   "source": "df[df['size'] > 3]",
   "id": "8ffcbbd47e784ba0",
   "execution_count": 58,
   "outputs": []
  },
  {
   "metadata": {
    "ExecuteTime": {
     "end_time": "2024-05-28T18:09:26.914395Z",
     "start_time": "2024-05-28T18:09:26.902862Z"
    }
   },
   "cell_type": "code",
   "source": "df[(df['total_bill'] > 30) & (df['sex'] == 'Male')]",
   "id": "4a3992c2f07bb994",
   "execution_count": 59,
   "outputs": []
  },
  {
   "metadata": {
    "ExecuteTime": {
     "end_time": "2024-05-28T18:09:27.127177Z",
     "start_time": "2024-05-28T18:09:27.117632Z"
    }
   },
   "cell_type": "code",
   "source": "df[(df['day'] == 'Sun') | (df['day'] == 'Sat') | (df['day'] == 'Fri')]",
   "id": "db5c72ef4425daea",
   "execution_count": 60,
   "outputs": []
  },
  {
   "metadata": {
    "ExecuteTime": {
     "end_time": "2024-05-28T18:09:27.491960Z",
     "start_time": "2024-05-28T18:09:27.482406Z"
    }
   },
   "cell_type": "code",
   "source": [
    "options = ['Sat', 'Sun', 'Fri']\n",
    "df[df['day'].isin(options)]"
   ],
   "id": "9da7d89859f91e2",
   "execution_count": 61,
   "outputs": []
  },
  {
   "metadata": {},
   "cell_type": "markdown",
   "source": "# 27. Pandas - Useful Methods - Apply on Single Column",
   "id": "932c5070001a94c9"
  },
  {
   "metadata": {
    "ExecuteTime": {
     "end_time": "2024-05-28T18:09:27.672957Z",
     "start_time": "2024-05-28T18:09:27.662400Z"
    }
   },
   "cell_type": "code",
   "source": [
    "def last_four(number):\n",
    "  return int(str(number)[-4:])\n",
    "\n",
    "df['last_four']= df['CC Number'].apply(last_four)\n",
    "df"
   ],
   "id": "9ae2ad376864c7f",
   "execution_count": 62,
   "outputs": []
  },
  {
   "metadata": {
    "ExecuteTime": {
     "end_time": "2024-05-28T18:09:28.336955Z",
     "start_time": "2024-05-28T18:09:28.330929Z"
    }
   },
   "cell_type": "code",
   "source": "df['total_bill']",
   "id": "ed7e4dcdbae77f74",
   "execution_count": 63,
   "outputs": []
  },
  {
   "metadata": {
    "ExecuteTime": {
     "end_time": "2024-05-28T18:09:28.597875Z",
     "start_time": "2024-05-28T18:09:28.593863Z"
    }
   },
   "cell_type": "code",
   "source": [
    "def yelp(price):\n",
    "  if price < 10: return '$'\n",
    "  elif 10 <= price <= 30: return '$$'\n",
    "  else: return '$$$'"
   ],
   "id": "8ee6b0509ef38065",
   "execution_count": 64,
   "outputs": []
  },
  {
   "metadata": {
    "ExecuteTime": {
     "end_time": "2024-05-28T18:09:29.099843Z",
     "start_time": "2024-05-28T18:09:29.095795Z"
    }
   },
   "cell_type": "code",
   "source": "df['yelp'] = df['total_bill'].apply(yelp)",
   "id": "5242b4e0bfff8e07",
   "execution_count": 65,
   "outputs": []
  },
  {
   "metadata": {
    "ExecuteTime": {
     "end_time": "2024-05-28T18:09:29.350425Z",
     "start_time": "2024-05-28T18:09:29.338365Z"
    }
   },
   "cell_type": "code",
   "source": "df",
   "id": "b7e4355a74994e5f",
   "execution_count": 66,
   "outputs": []
  },
  {
   "metadata": {},
   "cell_type": "markdown",
   "source": "# 28. Pandas - Useful Methods - Apply on Multiple Columns",
   "id": "37c95c6b3ff3ff29"
  },
  {
   "metadata": {
    "ExecuteTime": {
     "end_time": "2024-05-28T18:09:29.702354Z",
     "start_time": "2024-05-28T18:09:29.698849Z"
    }
   },
   "cell_type": "code",
   "source": [
    "def simple(number):\n",
    "  return number *2"
   ],
   "id": "add93f2380442c13",
   "execution_count": 67,
   "outputs": []
  },
  {
   "metadata": {
    "ExecuteTime": {
     "end_time": "2024-05-28T18:09:29.958758Z",
     "start_time": "2024-05-28T18:09:29.955246Z"
    }
   },
   "cell_type": "code",
   "source": "# lambda number: number * 2",
   "id": "fb6453a8c8683e2c",
   "execution_count": 68,
   "outputs": []
  },
  {
   "metadata": {
    "ExecuteTime": {
     "end_time": "2024-05-28T18:09:30.257575Z",
     "start_time": "2024-05-28T18:09:30.253200Z"
    }
   },
   "cell_type": "code",
   "source": "simple(2)",
   "id": "c8456d518b70fb7f",
   "execution_count": 69,
   "outputs": []
  },
  {
   "metadata": {
    "ExecuteTime": {
     "end_time": "2024-05-28T18:09:30.480253Z",
     "start_time": "2024-05-28T18:09:30.475198Z"
    }
   },
   "cell_type": "code",
   "source": "df['total_bill'].apply(simple)",
   "id": "a6cd267f7aad2586",
   "execution_count": 70,
   "outputs": []
  },
  {
   "metadata": {
    "ExecuteTime": {
     "end_time": "2024-05-28T18:09:30.819145Z",
     "start_time": "2024-05-28T18:09:30.812741Z"
    }
   },
   "cell_type": "code",
   "source": "df['total_bill'].apply(lambda number: number * 2)",
   "id": "6a4c5a8adfff6c33",
   "execution_count": 71,
   "outputs": []
  },
  {
   "metadata": {
    "ExecuteTime": {
     "end_time": "2024-05-28T18:09:30.944321Z",
     "start_time": "2024-05-28T18:09:30.940300Z"
    }
   },
   "cell_type": "code",
   "source": [
    "def quality(total_bill, tip):\n",
    "  if tip / total_bill > 0.25: return 'Generous'\n",
    "  else: return 'Others'"
   ],
   "id": "d4eeee0fb17ed939",
   "execution_count": 72,
   "outputs": []
  },
  {
   "metadata": {
    "ExecuteTime": {
     "end_time": "2024-05-28T18:09:31.194855Z",
     "start_time": "2024-05-28T18:09:31.190839Z"
    }
   },
   "cell_type": "code",
   "source": "quality(16.99, 1.01)",
   "id": "f0b3e8c09598829d",
   "execution_count": 73,
   "outputs": []
  },
  {
   "metadata": {
    "ExecuteTime": {
     "end_time": "2024-05-28T18:09:31.331695Z",
     "start_time": "2024-05-28T18:09:31.325190Z"
    }
   },
   "cell_type": "code",
   "source": "df['quality'] = df[['total_bill', 'tip']].apply(lambda df: quality(df['total_bill'], df['tip']), axis=1)",
   "id": "212a9970c99b97a6",
   "execution_count": 74,
   "outputs": []
  },
  {
   "metadata": {
    "ExecuteTime": {
     "end_time": "2024-05-28T18:09:31.562485Z",
     "start_time": "2024-05-28T18:09:31.558669Z"
    }
   },
   "cell_type": "code",
   "source": "df['quality'] = np.vectorize(quality)(df['total_bill'], df['tip'])",
   "id": "2fd09df5ba2a4bfd",
   "execution_count": 75,
   "outputs": []
  },
  {
   "metadata": {
    "ExecuteTime": {
     "end_time": "2024-05-28T18:09:31.711900Z",
     "start_time": "2024-05-28T18:09:31.708225Z"
    }
   },
   "cell_type": "code",
   "source": [
    "setup = '''\n",
    "import numpy as np\n",
    "import pandas as pd\n",
    "df = pd.read_csv(r'data_frame\\\\tips.csv')\n",
    "def quality(total_bill,tip):\n",
    "    if tip/total_bill  > 0.25:\n",
    "        return \"Generous\"\n",
    "    else:\n",
    "        return \"Other\"\n",
    "'''\n",
    "\n",
    "# code snippet whose execution time is to be measured \n",
    "stmt_one = ''' \n",
    "df['Tip Quality'] = df[['total_bill','tip']].apply(lambda df: quality(df['total_bill'],df['tip']),axis=1)\n",
    "'''\n",
    "\n",
    "stmt_two = '''\n",
    "df['Tip Quality'] = np.vectorize(quality)(df['total_bill'], df['tip'])\n",
    "'''\n",
    "  "
   ],
   "id": "1a2eabc7ed0678d8",
   "execution_count": 76,
   "outputs": []
  },
  {
   "metadata": {
    "ExecuteTime": {
     "end_time": "2024-05-28T18:09:33.189947Z",
     "start_time": "2024-05-28T18:09:31.956197Z"
    }
   },
   "cell_type": "code",
   "source": [
    "timeit.timeit(setup = setup,\n",
    "              stmt = stmt_one,\n",
    "              number = 1000) "
   ],
   "id": "33d05bc74c7cea22",
   "execution_count": 77,
   "outputs": []
  },
  {
   "metadata": {
    "ExecuteTime": {
     "end_time": "2024-05-28T18:09:33.372721Z",
     "start_time": "2024-05-28T18:09:33.190952Z"
    }
   },
   "cell_type": "code",
   "source": [
    "timeit.timeit(setup = setup,\n",
    "              stmt = stmt_two,\n",
    "              number = 1000) "
   ],
   "id": "6f522fde954fe5ac",
   "execution_count": 78,
   "outputs": []
  },
  {
   "metadata": {},
   "cell_type": "markdown",
   "source": "# 29. Pandas - Useful Methods - Statistical Information and Sorting",
   "id": "ed45f2c3b1c4c1ae"
  },
  {
   "metadata": {
    "ExecuteTime": {
     "end_time": "2024-05-28T18:09:33.378395Z",
     "start_time": "2024-05-28T18:09:33.372721Z"
    }
   },
   "cell_type": "code",
   "source": "df = pd.read_csv(r'data_frame\\tips.csv')",
   "id": "5a92202cb2ab0ad5",
   "execution_count": 79,
   "outputs": []
  },
  {
   "metadata": {
    "ExecuteTime": {
     "end_time": "2024-05-28T18:09:33.390885Z",
     "start_time": "2024-05-28T18:09:33.379400Z"
    }
   },
   "cell_type": "code",
   "source": "df.describe()",
   "id": "1e18e9a33c67f94f",
   "execution_count": 80,
   "outputs": []
  },
  {
   "metadata": {
    "ExecuteTime": {
     "end_time": "2024-05-28T18:09:33.400847Z",
     "start_time": "2024-05-28T18:09:33.391890Z"
    }
   },
   "cell_type": "code",
   "source": "df.sort_values(by=['tip', 'size'], ascending=False)",
   "id": "486ebb541c2ca0ae",
   "execution_count": 81,
   "outputs": []
  },
  {
   "metadata": {
    "ExecuteTime": {
     "end_time": "2024-05-28T18:09:33.405262Z",
     "start_time": "2024-05-28T18:09:33.400847Z"
    }
   },
   "cell_type": "code",
   "source": "df['total_bill'].max()",
   "id": "c5b5d0efb8240397",
   "execution_count": 82,
   "outputs": []
  },
  {
   "metadata": {
    "ExecuteTime": {
     "end_time": "2024-05-28T18:09:33.411703Z",
     "start_time": "2024-05-28T18:09:33.406268Z"
    }
   },
   "cell_type": "code",
   "source": "df['total_bill'].idxmax()",
   "id": "df82139d9b3815c3",
   "execution_count": 83,
   "outputs": []
  },
  {
   "metadata": {
    "ExecuteTime": {
     "end_time": "2024-05-28T18:09:33.419716Z",
     "start_time": "2024-05-28T18:09:33.412709Z"
    }
   },
   "cell_type": "code",
   "source": "df.loc[170]",
   "id": "40cfbe4275687ad2",
   "execution_count": 84,
   "outputs": []
  },
  {
   "metadata": {
    "ExecuteTime": {
     "end_time": "2024-05-28T18:09:33.425741Z",
     "start_time": "2024-05-28T18:09:33.419716Z"
    }
   },
   "cell_type": "code",
   "source": "df['total_bill'].min()",
   "id": "2314bdb92f7e0630",
   "execution_count": 85,
   "outputs": []
  },
  {
   "metadata": {
    "ExecuteTime": {
     "end_time": "2024-05-28T18:09:33.431320Z",
     "start_time": "2024-05-28T18:09:33.426747Z"
    }
   },
   "cell_type": "code",
   "source": "df['total_bill'].idxmin()",
   "id": "e56a2727cd092e70",
   "execution_count": 86,
   "outputs": []
  },
  {
   "metadata": {
    "ExecuteTime": {
     "end_time": "2024-05-28T18:09:33.437753Z",
     "start_time": "2024-05-28T18:09:33.431320Z"
    }
   },
   "cell_type": "code",
   "source": "df.loc[67]",
   "id": "f845c52053f674a7",
   "execution_count": 87,
   "outputs": []
  },
  {
   "metadata": {
    "ExecuteTime": {
     "end_time": "2024-05-28T18:09:33.446489Z",
     "start_time": "2024-05-28T18:09:33.437753Z"
    }
   },
   "cell_type": "code",
   "source": [
    "numeric_df = df.select_dtypes(include=[np.number])\n",
    "correlation_matrix = numeric_df.corr()\n",
    "correlation_matrix"
   ],
   "id": "264d6f59e4bf7f43",
   "execution_count": 88,
   "outputs": []
  },
  {
   "metadata": {
    "ExecuteTime": {
     "end_time": "2024-05-28T18:09:33.552333Z",
     "start_time": "2024-05-28T18:09:33.545708Z"
    }
   },
   "cell_type": "code",
   "source": "df.select_dtypes(include=[np.number]).corr()",
   "id": "20ff9dad121d99f2",
   "execution_count": 89,
   "outputs": []
  },
  {
   "metadata": {
    "ExecuteTime": {
     "end_time": "2024-05-28T18:09:33.636010Z",
     "start_time": "2024-05-28T18:09:33.628430Z"
    }
   },
   "cell_type": "code",
   "source": "df.head()",
   "id": "e1814e3a6ebe235b",
   "execution_count": 90,
   "outputs": []
  },
  {
   "metadata": {
    "ExecuteTime": {
     "end_time": "2024-05-28T18:09:34.619026Z",
     "start_time": "2024-05-28T18:09:34.614490Z"
    }
   },
   "cell_type": "code",
   "source": "df['sex'].value_counts()",
   "id": "3425e2692b3819ad",
   "execution_count": 91,
   "outputs": []
  },
  {
   "metadata": {
    "ExecuteTime": {
     "end_time": "2024-05-28T18:09:34.969034Z",
     "start_time": "2024-05-28T18:09:34.964524Z"
    }
   },
   "cell_type": "code",
   "source": "df['day'].unique()",
   "id": "b89b7b4cba3d2802",
   "execution_count": 92,
   "outputs": []
  },
  {
   "metadata": {
    "ExecuteTime": {
     "end_time": "2024-05-28T18:09:35.406633Z",
     "start_time": "2024-05-28T18:09:35.402717Z"
    }
   },
   "cell_type": "code",
   "source": "df['day'].nunique()",
   "id": "9a3f20c01daf73c8",
   "execution_count": 93,
   "outputs": []
  },
  {
   "metadata": {
    "ExecuteTime": {
     "end_time": "2024-05-28T18:09:35.666971Z",
     "start_time": "2024-05-28T18:09:35.661952Z"
    }
   },
   "cell_type": "code",
   "source": "df['day'].value_counts()",
   "id": "22584859b4fc423c",
   "execution_count": 94,
   "outputs": []
  },
  {
   "metadata": {
    "ExecuteTime": {
     "end_time": "2024-05-28T18:09:36.010155Z",
     "start_time": "2024-05-28T18:09:36.002151Z"
    }
   },
   "cell_type": "code",
   "source": "df.head()",
   "id": "7f825fdb95a76852",
   "execution_count": 95,
   "outputs": []
  },
  {
   "metadata": {
    "ExecuteTime": {
     "end_time": "2024-05-28T18:09:36.196044Z",
     "start_time": "2024-05-28T18:09:36.190680Z"
    }
   },
   "cell_type": "code",
   "source": "df['sex'].replace(['Female', 'Male'], ['F', 'M'])",
   "id": "44ee3b9de3e91ffd",
   "execution_count": 96,
   "outputs": []
  },
  {
   "metadata": {
    "ExecuteTime": {
     "end_time": "2024-05-28T18:09:36.414580Z",
     "start_time": "2024-05-28T18:09:36.411487Z"
    }
   },
   "cell_type": "code",
   "source": "mymap = {'Female': 'F', 'Male': 'M'}",
   "id": "54a59f493bac549c",
   "execution_count": 97,
   "outputs": []
  },
  {
   "metadata": {
    "ExecuteTime": {
     "end_time": "2024-05-28T18:09:36.591853Z",
     "start_time": "2024-05-28T18:09:36.585928Z"
    }
   },
   "cell_type": "code",
   "source": "df['sex'].map(mymap)",
   "id": "5aab0f8b6afec8cc",
   "execution_count": 98,
   "outputs": []
  },
  {
   "metadata": {
    "ExecuteTime": {
     "end_time": "2024-05-28T18:09:36.795444Z",
     "start_time": "2024-05-28T18:09:36.788735Z"
    }
   },
   "cell_type": "code",
   "source": "df[df.duplicated()]",
   "id": "b60457f8c0b8bfcc",
   "execution_count": 99,
   "outputs": []
  },
  {
   "metadata": {
    "ExecuteTime": {
     "end_time": "2024-05-28T18:09:36.962157Z",
     "start_time": "2024-05-28T18:09:36.958251Z"
    }
   },
   "cell_type": "code",
   "source": "simple_df = pd.DataFrame([1, 2, 2], ['a', 'b', 'c'])",
   "id": "4d5f8dfaa3e0586",
   "execution_count": 100,
   "outputs": []
  },
  {
   "metadata": {
    "ExecuteTime": {
     "end_time": "2024-05-28T18:09:37.157039Z",
     "start_time": "2024-05-28T18:09:37.152122Z"
    }
   },
   "cell_type": "code",
   "source": "simple_df.duplicated()",
   "id": "652b95855aa1ed34",
   "execution_count": 101,
   "outputs": []
  },
  {
   "metadata": {
    "ExecuteTime": {
     "end_time": "2024-05-28T18:09:37.338310Z",
     "start_time": "2024-05-28T18:09:37.332844Z"
    }
   },
   "cell_type": "code",
   "source": "simple_df.drop_duplicates()",
   "id": "1ca3e93de180f41",
   "execution_count": 102,
   "outputs": []
  },
  {
   "metadata": {
    "ExecuteTime": {
     "end_time": "2024-05-28T18:09:37.529203Z",
     "start_time": "2024-05-28T18:09:37.524165Z"
    }
   },
   "cell_type": "code",
   "source": "df['total_bill'].between(10, 20, inclusive='both')",
   "id": "1bb2b570c8f3f2e",
   "execution_count": 103,
   "outputs": []
  },
  {
   "metadata": {
    "ExecuteTime": {
     "end_time": "2024-05-28T18:09:37.696025Z",
     "start_time": "2024-05-28T18:09:37.691402Z"
    }
   },
   "cell_type": "code",
   "source": "df['total_bill'].between(10, 20, inclusive='neither')",
   "id": "de5d225e4afbc42c",
   "execution_count": 104,
   "outputs": []
  },
  {
   "metadata": {
    "ExecuteTime": {
     "end_time": "2024-05-28T18:09:37.914391Z",
     "start_time": "2024-05-28T18:09:37.908773Z"
    }
   },
   "cell_type": "code",
   "source": "df['total_bill'].between(10, 20, inclusive='left')",
   "id": "e78c06697bab7fbd",
   "execution_count": 105,
   "outputs": []
  },
  {
   "metadata": {
    "ExecuteTime": {
     "end_time": "2024-05-28T18:09:38.173931Z",
     "start_time": "2024-05-28T18:09:38.168916Z"
    }
   },
   "cell_type": "code",
   "source": "df['total_bill'].between(10, 20, inclusive='right')",
   "id": "189a6d24302b5e31",
   "execution_count": 106,
   "outputs": []
  },
  {
   "metadata": {
    "ExecuteTime": {
     "end_time": "2024-05-28T18:09:38.472450Z",
     "start_time": "2024-05-28T18:09:38.462386Z"
    }
   },
   "cell_type": "code",
   "source": "df.nlargest(10, 'total_bill')",
   "id": "7c0d4e53d065b48e",
   "execution_count": 107,
   "outputs": []
  },
  {
   "metadata": {
    "ExecuteTime": {
     "end_time": "2024-05-28T18:09:38.668738Z",
     "start_time": "2024-05-28T18:09:38.660180Z"
    }
   },
   "cell_type": "code",
   "source": "df.nsmallest(10, 'total_bill')",
   "id": "defe165d487e10c8",
   "execution_count": 108,
   "outputs": []
  },
  {
   "metadata": {
    "ExecuteTime": {
     "end_time": "2024-05-28T18:09:38.884302Z",
     "start_time": "2024-05-28T18:09:38.878490Z"
    }
   },
   "cell_type": "code",
   "source": "df.info(memory_usage='deep')",
   "id": "e09bcd89d09eedba",
   "execution_count": 109,
   "outputs": []
  },
  {
   "metadata": {
    "ExecuteTime": {
     "end_time": "2024-05-28T18:09:39.068442Z",
     "start_time": "2024-05-28T18:09:39.060044Z"
    }
   },
   "cell_type": "code",
   "source": "df.sample(n=5) # random sample of 5 rows",
   "id": "20db30285e654e99",
   "execution_count": 110,
   "outputs": []
  },
  {
   "metadata": {
    "ExecuteTime": {
     "end_time": "2024-05-28T18:09:39.301408Z",
     "start_time": "2024-05-28T18:09:39.290338Z"
    }
   },
   "cell_type": "code",
   "source": "df.sample(frac=0.1) # random sample of 10% of the rows",
   "id": "87e5ee03cd7ea193",
   "execution_count": 111,
   "outputs": []
  },
  {
   "metadata": {},
   "cell_type": "markdown",
   "source": "# 30. Missing Data - Overview",
   "id": "620235818e1074ef"
  },
  {
   "metadata": {},
   "cell_type": "markdown",
   "source": "# 31. Missing Data - Pandas Operations",
   "id": "8eb697140a43a30f"
  },
  {
   "metadata": {
    "ExecuteTime": {
     "end_time": "2024-05-28T18:09:39.564012Z",
     "start_time": "2024-05-28T18:09:39.559507Z"
    }
   },
   "cell_type": "code",
   "source": "np.nan",
   "id": "50a5c9e4f5b68416",
   "execution_count": 112,
   "outputs": []
  },
  {
   "metadata": {
    "ExecuteTime": {
     "end_time": "2024-05-28T18:09:39.883116Z",
     "start_time": "2024-05-28T18:09:39.879068Z"
    }
   },
   "cell_type": "code",
   "source": "pd.NA",
   "id": "8e0cfa655af4950c",
   "execution_count": 113,
   "outputs": []
  },
  {
   "metadata": {
    "ExecuteTime": {
     "end_time": "2024-05-28T18:09:40.071435Z",
     "start_time": "2024-05-28T18:09:40.067299Z"
    }
   },
   "cell_type": "code",
   "source": "pd.NaT",
   "id": "aa00e7e87639c4ea",
   "execution_count": 114,
   "outputs": []
  },
  {
   "metadata": {
    "ExecuteTime": {
     "end_time": "2024-05-28T18:09:40.423822Z",
     "start_time": "2024-05-28T18:09:40.418823Z"
    }
   },
   "cell_type": "code",
   "source": "np.nan == np.nan # False because NaN is not equal to NaN",
   "id": "ec809100edc4e9bb",
   "execution_count": 115,
   "outputs": []
  },
  {
   "metadata": {
    "ExecuteTime": {
     "end_time": "2024-05-28T18:09:40.615038Z",
     "start_time": "2024-05-28T18:09:40.610505Z"
    }
   },
   "cell_type": "code",
   "source": "np.nan is np.nan # True because NaN is NaN",
   "id": "8f2f29c8ba55e90c",
   "execution_count": 116,
   "outputs": []
  },
  {
   "metadata": {
    "ExecuteTime": {
     "end_time": "2024-05-28T18:09:40.816229Z",
     "start_time": "2024-05-28T18:09:40.812764Z"
    }
   },
   "cell_type": "code",
   "source": "myvar = np.nan",
   "id": "28f5d930c8ce170",
   "execution_count": 117,
   "outputs": []
  },
  {
   "metadata": {
    "ExecuteTime": {
     "end_time": "2024-05-28T18:09:41.032433Z",
     "start_time": "2024-05-28T18:09:41.022464Z"
    }
   },
   "cell_type": "code",
   "source": "df = pd.read_csv(r'data_frame\\movie_scores.csv')",
   "id": "74cc7787bfb47f04",
   "execution_count": 118,
   "outputs": []
  },
  {
   "metadata": {
    "ExecuteTime": {
     "end_time": "2024-05-28T18:09:41.194945Z",
     "start_time": "2024-05-28T18:09:41.187238Z"
    }
   },
   "cell_type": "code",
   "source": "df",
   "id": "dda77272e5f15c2d",
   "execution_count": 119,
   "outputs": []
  },
  {
   "metadata": {
    "ExecuteTime": {
     "end_time": "2024-05-28T18:09:41.419567Z",
     "start_time": "2024-05-28T18:09:41.411028Z"
    }
   },
   "cell_type": "code",
   "source": "df.isnull()",
   "id": "1063b0509e1b3f7d",
   "execution_count": 120,
   "outputs": []
  },
  {
   "metadata": {
    "ExecuteTime": {
     "end_time": "2024-05-28T18:09:41.643002Z",
     "start_time": "2024-05-28T18:09:41.636496Z"
    }
   },
   "cell_type": "code",
   "source": "df.isnull().sum()",
   "id": "f6a42984570233cf",
   "execution_count": 121,
   "outputs": []
  },
  {
   "metadata": {
    "ExecuteTime": {
     "end_time": "2024-05-28T18:09:41.861136Z",
     "start_time": "2024-05-28T18:09:41.856547Z"
    }
   },
   "cell_type": "code",
   "source": "df['pre_movie_score'].notnull()",
   "id": "1bbc29152de5cb49",
   "execution_count": 122,
   "outputs": []
  },
  {
   "metadata": {
    "ExecuteTime": {
     "end_time": "2024-05-28T18:09:42.062355Z",
     "start_time": "2024-05-28T18:09:42.054319Z"
    }
   },
   "cell_type": "code",
   "source": "df[df['pre_movie_score'].isnull()]",
   "id": "49bac59124a2db58",
   "execution_count": 123,
   "outputs": []
  },
  {
   "metadata": {
    "ExecuteTime": {
     "end_time": "2024-05-28T18:09:42.312137Z",
     "start_time": "2024-05-28T18:09:42.309137Z"
    }
   },
   "cell_type": "code",
   "source": [
    "# KEEP THE DATA \n",
    "# DROP THE DATA\n",
    "# FILL THE DATA\n"
   ],
   "id": "f78bba730a5159ca",
   "execution_count": 124,
   "outputs": []
  },
  {
   "metadata": {
    "ExecuteTime": {
     "end_time": "2024-05-28T18:09:42.594041Z",
     "start_time": "2024-05-28T18:09:42.589532Z"
    }
   },
   "cell_type": "code",
   "source": "help(df.dropna)",
   "id": "cff4feeae66fe071",
   "execution_count": 125,
   "outputs": []
  },
  {
   "metadata": {
    "ExecuteTime": {
     "end_time": "2024-05-28T18:09:42.740268Z",
     "start_time": "2024-05-28T18:09:42.733Z"
    }
   },
   "cell_type": "code",
   "source": "df.dropna()",
   "id": "aa2af7f3fac8f30a",
   "execution_count": 126,
   "outputs": []
  },
  {
   "metadata": {
    "ExecuteTime": {
     "end_time": "2024-05-28T18:09:42.899177Z",
     "start_time": "2024-05-28T18:09:42.890880Z"
    }
   },
   "cell_type": "code",
   "source": "df.dropna(thresh=4)",
   "id": "a3733d3430f3eca5",
   "execution_count": 127,
   "outputs": []
  },
  {
   "metadata": {
    "ExecuteTime": {
     "end_time": "2024-05-28T18:09:43.083132Z",
     "start_time": "2024-05-28T18:09:43.077219Z"
    }
   },
   "cell_type": "code",
   "source": "df.dropna(axis=1) # drop columns with missing values",
   "id": "f1de2f5ad84add48",
   "execution_count": 128,
   "outputs": []
  },
  {
   "metadata": {
    "ExecuteTime": {
     "end_time": "2024-05-28T18:09:43.309455Z",
     "start_time": "2024-05-28T18:09:43.302020Z"
    }
   },
   "cell_type": "code",
   "source": "df.dropna(axis=1, thresh=4)",
   "id": "aee8bfcf3e1ed4d",
   "execution_count": 129,
   "outputs": []
  },
  {
   "metadata": {
    "ExecuteTime": {
     "end_time": "2024-05-28T18:09:43.538899Z",
     "start_time": "2024-05-28T18:09:43.531046Z"
    }
   },
   "cell_type": "code",
   "source": "df.dropna(subset=['pre_movie_score'])",
   "id": "87338d251241670a",
   "execution_count": 130,
   "outputs": []
  },
  {
   "metadata": {
    "ExecuteTime": {
     "end_time": "2024-05-28T18:09:43.844286Z",
     "start_time": "2024-05-28T18:09:43.837196Z"
    }
   },
   "cell_type": "code",
   "source": "df.fillna('NEW VALUE!')",
   "id": "ec2d1407406952c1",
   "execution_count": 131,
   "outputs": []
  },
  {
   "metadata": {
    "ExecuteTime": {
     "end_time": "2024-05-28T18:09:44.055452Z",
     "start_time": "2024-05-28T18:09:44.051800Z"
    }
   },
   "cell_type": "code",
   "source": "df['pre_movie_score'] = df['pre_movie_score'].fillna(df['pre_movie_score'].mean())",
   "id": "a259691978b65d57",
   "execution_count": 132,
   "outputs": []
  },
  {
   "metadata": {
    "ExecuteTime": {
     "end_time": "2024-05-28T18:09:44.318750Z",
     "start_time": "2024-05-28T18:09:44.313748Z"
    }
   },
   "cell_type": "code",
   "source": "df['pre_movie_score'].fillna(df['pre_movie_score'].mean())",
   "id": "bd1a952cde1c79e7",
   "execution_count": 133,
   "outputs": []
  },
  {
   "metadata": {
    "ExecuteTime": {
     "end_time": "2024-05-28T18:09:44.530339Z",
     "start_time": "2024-05-28T18:09:44.527486Z"
    }
   },
   "cell_type": "code",
   "source": "# df.fillna(df.mean())",
   "id": "ba9e41eb19feb3e8",
   "execution_count": 134,
   "outputs": []
  },
  {
   "metadata": {
    "ExecuteTime": {
     "end_time": "2024-05-28T18:09:44.770863Z",
     "start_time": "2024-05-28T18:09:44.767563Z"
    }
   },
   "cell_type": "code",
   "source": "airline_tix = {'first':100, 'business':np.nan, 'economy-plus':50}",
   "id": "ad66d8f5eba25981",
   "execution_count": 135,
   "outputs": []
  },
  {
   "metadata": {
    "ExecuteTime": {
     "end_time": "2024-05-28T18:09:44.933006Z",
     "start_time": "2024-05-28T18:09:44.929238Z"
    }
   },
   "cell_type": "code",
   "source": "ser = pd.Series(airline_tix)",
   "id": "b15425ded6db076e",
   "execution_count": 136,
   "outputs": []
  },
  {
   "metadata": {
    "ExecuteTime": {
     "end_time": "2024-05-28T18:09:45.058380Z",
     "start_time": "2024-05-28T18:09:45.052676Z"
    }
   },
   "cell_type": "code",
   "source": "ser.fillna(ser.mean())",
   "id": "327dbee06fb11c50",
   "execution_count": 137,
   "outputs": []
  },
  {
   "metadata": {
    "ExecuteTime": {
     "end_time": "2024-05-28T18:09:45.195329Z",
     "start_time": "2024-05-28T18:09:45.190535Z"
    }
   },
   "cell_type": "code",
   "source": "ser.interpolate()",
   "id": "82b294d8fa81721b",
   "execution_count": 138,
   "outputs": []
  },
  {
   "metadata": {},
   "cell_type": "markdown",
   "source": "# 32. GroupBy Operations - Part One",
   "id": "965045e42c48bc99"
  },
  {
   "metadata": {
    "ExecuteTime": {
     "end_time": "2024-05-28T18:09:45.348283Z",
     "start_time": "2024-05-28T18:09:45.338001Z"
    }
   },
   "cell_type": "code",
   "source": "df = pd.read_csv(r'data_frame\\mpg.csv')",
   "id": "60c069abd3dcca21",
   "execution_count": 139,
   "outputs": []
  },
  {
   "metadata": {
    "ExecuteTime": {
     "end_time": "2024-05-28T18:09:45.516228Z",
     "start_time": "2024-05-28T18:09:45.511760Z"
    }
   },
   "cell_type": "code",
   "source": "df['model_year'].unique()",
   "id": "84667694a439ae56",
   "execution_count": 140,
   "outputs": []
  },
  {
   "metadata": {
    "ExecuteTime": {
     "end_time": "2024-05-28T18:09:45.708560Z",
     "start_time": "2024-05-28T18:09:45.702169Z"
    }
   },
   "cell_type": "code",
   "source": "df.groupby('model_year')['mpg'].mean()",
   "id": "a779b44d5a79e295",
   "execution_count": 141,
   "outputs": []
  },
  {
   "metadata": {
    "ExecuteTime": {
     "end_time": "2024-05-28T18:09:45.858399Z",
     "start_time": "2024-05-28T18:09:45.848493Z"
    }
   },
   "cell_type": "code",
   "source": [
    "numeric_cols = df.select_dtypes(include=[np.number]).columns\n",
    "\n",
    "df.groupby('model_year')[numeric_cols].mean()"
   ],
   "id": "dc4fef971ba97095",
   "execution_count": 142,
   "outputs": []
  },
  {
   "metadata": {
    "ExecuteTime": {
     "end_time": "2024-05-28T18:09:46.093099Z",
     "start_time": "2024-05-28T18:09:46.052540Z"
    }
   },
   "cell_type": "code",
   "source": "to_numeric = pd.to_numeric(df)",
   "id": "cdafa232c565612f",
   "execution_count": 143,
   "outputs": []
  },
  {
   "metadata": {
    "ExecuteTime": {
     "end_time": "2024-05-28T18:09:46.300039Z",
     "start_time": "2024-05-28T18:09:46.211262Z"
    }
   },
   "cell_type": "code",
   "source": "df.groupby('model_year')[numeric_cols].describe().transpose()",
   "id": "c6bbc731bc930e47",
   "execution_count": 144,
   "outputs": []
  },
  {
   "metadata": {
    "ExecuteTime": {
     "end_time": "2024-05-28T18:09:46.440084Z",
     "start_time": "2024-05-28T18:09:46.434759Z"
    }
   },
   "cell_type": "code",
   "source": "df.groupby('model_year')['mpg'].mean()",
   "id": "852f5ed699c5d025",
   "execution_count": 145,
   "outputs": []
  },
  {
   "metadata": {
    "ExecuteTime": {
     "end_time": "2024-05-28T18:09:46.827503Z",
     "start_time": "2024-05-28T18:09:46.820912Z"
    }
   },
   "cell_type": "code",
   "source": "df.groupby(['cylinders', 'model_year'])['mpg'].mean()",
   "id": "5b95d12fe5136cdc",
   "execution_count": 146,
   "outputs": []
  },
  {
   "metadata": {
    "ExecuteTime": {
     "end_time": "2024-05-28T18:09:47.212898Z",
     "start_time": "2024-05-28T18:09:47.136209Z"
    }
   },
   "cell_type": "code",
   "source": "df.groupby('model_year').describe()",
   "id": "e4242da07dc766ae",
   "execution_count": 147,
   "outputs": []
  },
  {
   "metadata": {
    "ExecuteTime": {
     "end_time": "2024-05-28T18:09:47.486929Z",
     "start_time": "2024-05-28T18:09:47.479265Z"
    }
   },
   "cell_type": "code",
   "source": [
    "numeric_columns = df.select_dtypes(include=[np.number]).columns\n",
    "\n",
    "year_cyl = df.groupby(['model_year', 'cylinders'])[numeric_columns].mean()"
   ],
   "id": "64a0d8377a95503e",
   "execution_count": 148,
   "outputs": []
  },
  {
   "metadata": {
    "ExecuteTime": {
     "end_time": "2024-05-28T18:09:47.657388Z",
     "start_time": "2024-05-28T18:09:47.652751Z"
    }
   },
   "cell_type": "code",
   "source": "year_cyl.index.levels",
   "id": "6a0dc81ed29e4cee",
   "execution_count": 149,
   "outputs": []
  },
  {
   "metadata": {
    "ExecuteTime": {
     "end_time": "2024-05-28T18:09:47.890781Z",
     "start_time": "2024-05-28T18:09:47.882665Z"
    }
   },
   "cell_type": "code",
   "source": "year_cyl.loc[70]",
   "id": "3b0be2c6d53dd46e",
   "execution_count": 150,
   "outputs": []
  },
  {
   "metadata": {
    "ExecuteTime": {
     "end_time": "2024-05-28T18:09:48.052212Z",
     "start_time": "2024-05-28T18:09:48.046760Z"
    }
   },
   "cell_type": "code",
   "source": "year_cyl.loc[(70, 4)]",
   "id": "d1bea099554caa78",
   "execution_count": 151,
   "outputs": []
  },
  {
   "metadata": {},
   "cell_type": "markdown",
   "source": "# 33. GroupBy Operations - Part Two - MultiIndex",
   "id": "ffce2053d0de7097"
  },
  {
   "metadata": {
    "ExecuteTime": {
     "end_time": "2024-05-28T18:09:48.514595Z",
     "start_time": "2024-05-28T18:09:48.507092Z"
    }
   },
   "cell_type": "code",
   "source": "year_cyl.xs(key=70, level='model_year')",
   "id": "183fa4c35ab8ecfa",
   "execution_count": 152,
   "outputs": []
  },
  {
   "metadata": {
    "ExecuteTime": {
     "end_time": "2024-05-28T18:09:48.609669Z",
     "start_time": "2024-05-28T18:09:48.600866Z"
    }
   },
   "cell_type": "code",
   "source": "year_cyl.loc[[70, 80]]",
   "id": "486982ecfd872e29",
   "execution_count": 153,
   "outputs": []
  },
  {
   "metadata": {
    "ExecuteTime": {
     "end_time": "2024-05-28T18:09:48.857046Z",
     "start_time": "2024-05-28T18:09:48.847592Z"
    }
   },
   "cell_type": "code",
   "source": "year_cyl.xs(key=4, level='cylinders')",
   "id": "5f4ae5132e3d5a15",
   "execution_count": 154,
   "outputs": []
  },
  {
   "metadata": {
    "ExecuteTime": {
     "end_time": "2024-05-28T18:09:48.970746Z",
     "start_time": "2024-05-28T18:09:48.964016Z"
    }
   },
   "cell_type": "code",
   "source": "df[df['cylinders'].isin([4, 6])].groupby(['model_year', 'cylinders'])['mpg'].mean()",
   "id": "7cbe219b8321f84a",
   "execution_count": 155,
   "outputs": []
  },
  {
   "metadata": {
    "ExecuteTime": {
     "end_time": "2024-05-28T18:09:49.195559Z",
     "start_time": "2024-05-28T18:09:49.181716Z"
    }
   },
   "cell_type": "code",
   "source": "year_cyl.swaplevel()",
   "id": "147defe942100208",
   "execution_count": 156,
   "outputs": []
  },
  {
   "metadata": {
    "ExecuteTime": {
     "end_time": "2024-05-28T18:09:49.375723Z",
     "start_time": "2024-05-28T18:09:49.361968Z"
    }
   },
   "cell_type": "code",
   "source": "year_cyl.sort_index(level='model_year', ascending=False)",
   "id": "2b472c8d9d4336e1",
   "execution_count": 157,
   "outputs": []
  },
  {
   "metadata": {
    "ExecuteTime": {
     "end_time": "2024-05-28T18:09:49.685763Z",
     "start_time": "2024-05-28T18:09:49.676492Z"
    }
   },
   "cell_type": "code",
   "source": [
    "numeric_columns1 = df.select_dtypes(include=[np.number]).columns\n",
    "\n",
    "df[numeric_columns1].agg(['mean', 'std'])"
   ],
   "id": "f52b4f09f619676a",
   "execution_count": 158,
   "outputs": []
  },
  {
   "metadata": {
    "ExecuteTime": {
     "end_time": "2024-05-28T18:09:49.783847Z",
     "start_time": "2024-05-28T18:09:49.776842Z"
    }
   },
   "cell_type": "code",
   "source": "df.agg({'mpg': ['max', 'mean'], 'weight': ['mean', 'std']})",
   "id": "fe782135c4fe6d28",
   "execution_count": 159,
   "outputs": []
  },
  {
   "metadata": {},
   "cell_type": "markdown",
   "source": "# 34. Combining DataFrames - Concatenation",
   "id": "1b4de9719f01c016"
  },
  {
   "metadata": {
    "ExecuteTime": {
     "end_time": "2024-05-28T18:09:50.028353Z",
     "start_time": "2024-05-28T18:09:50.024347Z"
    }
   },
   "cell_type": "code",
   "source": [
    "data_one = {'A': ['A0', 'A1', 'A2', 'A3'], 'B': ['B0', 'B1', 'B2', 'B3']}\n",
    "data_two = {'C': ['C0', 'C1', 'C2', 'C3'], 'D': ['D0', 'D1', 'D2', 'D3']}"
   ],
   "id": "e5d472d4298a69f2",
   "execution_count": 160,
   "outputs": []
  },
  {
   "metadata": {
    "ExecuteTime": {
     "end_time": "2024-05-28T18:09:50.198876Z",
     "start_time": "2024-05-28T18:09:50.195249Z"
    }
   },
   "cell_type": "code",
   "source": [
    "one = pd.DataFrame(data_one)\n",
    "two = pd.DataFrame(data_two)"
   ],
   "id": "e52a42ef73a13e18",
   "execution_count": 161,
   "outputs": []
  },
  {
   "metadata": {
    "ExecuteTime": {
     "end_time": "2024-05-28T18:09:50.535874Z",
     "start_time": "2024-05-28T18:09:50.529204Z"
    }
   },
   "cell_type": "code",
   "source": "pd.concat([one, two])",
   "id": "7438c4b9fdf64081",
   "execution_count": 162,
   "outputs": []
  },
  {
   "metadata": {
    "ExecuteTime": {
     "end_time": "2024-05-28T18:09:50.674563Z",
     "start_time": "2024-05-28T18:09:50.667340Z"
    }
   },
   "cell_type": "code",
   "source": "pd.concat([one, two], axis=0)",
   "id": "4f83ee335e2a5582",
   "execution_count": 163,
   "outputs": []
  },
  {
   "metadata": {
    "ExecuteTime": {
     "end_time": "2024-05-28T18:09:50.950678Z",
     "start_time": "2024-05-28T18:09:50.944568Z"
    }
   },
   "cell_type": "code",
   "source": "pd.concat([one, two], axis=1)",
   "id": "d2b38e9a5bd74d38",
   "execution_count": 164,
   "outputs": []
  },
  {
   "metadata": {
    "ExecuteTime": {
     "end_time": "2024-05-28T18:09:51.064271Z",
     "start_time": "2024-05-28T18:09:51.060252Z"
    }
   },
   "cell_type": "code",
   "source": "two.columns = one.columns # to make the columns the same",
   "id": "1240e68798fbe8e5",
   "execution_count": 165,
   "outputs": []
  },
  {
   "metadata": {
    "ExecuteTime": {
     "end_time": "2024-05-28T18:09:51.285538Z",
     "start_time": "2024-05-28T18:09:51.281884Z"
    }
   },
   "cell_type": "code",
   "source": "mdfy = pd.concat([one, two], axis=0)",
   "id": "90ea94203d638095",
   "execution_count": 166,
   "outputs": []
  },
  {
   "metadata": {
    "ExecuteTime": {
     "end_time": "2024-05-28T18:09:51.487433Z",
     "start_time": "2024-05-28T18:09:51.484286Z"
    }
   },
   "cell_type": "code",
   "source": "mdfy.index = range(len(mdfy))",
   "id": "90ba79d2fd643f76",
   "execution_count": 167,
   "outputs": []
  },
  {
   "metadata": {
    "ExecuteTime": {
     "end_time": "2024-05-28T18:09:51.782805Z",
     "start_time": "2024-05-28T18:09:51.776660Z"
    }
   },
   "cell_type": "code",
   "source": "mdfy",
   "id": "ff17421515f1307f",
   "execution_count": 168,
   "outputs": []
  },
  {
   "metadata": {},
   "cell_type": "markdown",
   "source": "# 35. Combining DataFrames - Inner Merge",
   "id": "dd5f64552ac4998"
  },
  {
   "metadata": {
    "ExecuteTime": {
     "end_time": "2024-05-28T18:09:51.877982Z",
     "start_time": "2024-05-28T18:09:51.873749Z"
    }
   },
   "cell_type": "code",
   "source": [
    "registrations = pd.DataFrame({'reg_id': [1, 2, 3, 4], 'name': ['Andrew', 'Bob', 'Claire', 'David']})\n",
    "logins = pd.DataFrame({'log_id': [1, 2, 3, 4], 'name': ['Xavier', 'Andrew', 'Yolanda', 'Bob']})"
   ],
   "id": "895d55f13c39aca2",
   "execution_count": 169,
   "outputs": []
  },
  {
   "metadata": {
    "ExecuteTime": {
     "end_time": "2024-05-28T18:09:52.105108Z",
     "start_time": "2024-05-28T18:09:52.099971Z"
    }
   },
   "cell_type": "code",
   "source": "registrations",
   "id": "c93164369ea585bc",
   "execution_count": 170,
   "outputs": []
  },
  {
   "metadata": {
    "ExecuteTime": {
     "end_time": "2024-05-28T18:09:52.230151Z",
     "start_time": "2024-05-28T18:09:52.223829Z"
    }
   },
   "cell_type": "code",
   "source": "logins",
   "id": "f3838987b74b0ff",
   "execution_count": 171,
   "outputs": []
  },
  {
   "metadata": {
    "ExecuteTime": {
     "end_time": "2024-05-28T18:09:52.437388Z",
     "start_time": "2024-05-28T18:09:52.433873Z"
    }
   },
   "cell_type": "code",
   "source": "# help(pd.merge)",
   "id": "a9069964ee9697a4",
   "execution_count": 172,
   "outputs": []
  },
  {
   "metadata": {
    "ExecuteTime": {
     "end_time": "2024-05-28T18:09:52.557676Z",
     "start_time": "2024-05-28T18:09:52.550325Z"
    }
   },
   "cell_type": "code",
   "source": "pd.merge(registrations, logins, how='inner', on='name')",
   "id": "b8377caa553c0e51",
   "execution_count": 173,
   "outputs": []
  },
  {
   "metadata": {
    "ExecuteTime": {
     "end_time": "2024-05-28T18:09:52.825106Z",
     "start_time": "2024-05-28T18:09:52.817790Z"
    }
   },
   "cell_type": "code",
   "source": "pd.merge(logins, registrations, how='inner', on='name')",
   "id": "9c90c6f44f156a3e",
   "execution_count": 174,
   "outputs": []
  },
  {
   "metadata": {},
   "cell_type": "markdown",
   "source": "# 36. Combining DataFrames - Left and Right Merge",
   "id": "966cb02a543b168e"
  },
  {
   "metadata": {
    "ExecuteTime": {
     "end_time": "2024-05-28T18:09:52.977406Z",
     "start_time": "2024-05-28T18:09:52.969841Z"
    }
   },
   "cell_type": "code",
   "source": "pd.merge(registrations, logins, how='left', on='name')",
   "id": "cd256764ecd87776",
   "execution_count": 175,
   "outputs": []
  },
  {
   "metadata": {
    "ExecuteTime": {
     "end_time": "2024-05-28T18:09:53.324197Z",
     "start_time": "2024-05-28T18:09:53.314685Z"
    }
   },
   "cell_type": "code",
   "source": "pd.merge(registrations, logins, how='right', on='name')",
   "id": "c28529c189e6f193",
   "execution_count": 176,
   "outputs": []
  },
  {
   "metadata": {},
   "cell_type": "markdown",
   "source": "# 37. Combining DataFrames - Outer Merge",
   "id": "5e0b0fb8020017d8"
  },
  {
   "metadata": {
    "ExecuteTime": {
     "end_time": "2024-05-28T18:09:53.500529Z",
     "start_time": "2024-05-28T18:09:53.496653Z"
    }
   },
   "cell_type": "code",
   "source": [
    "registrations = pd.DataFrame({'reg_id': [1, 2, 3, 4], 'name': ['Andrew', 'Bob', 'Claire', 'David']})\n",
    "logins = pd.DataFrame({'log_id': [1, 2, 3, 4], 'name': ['Xavier', 'Andrew', 'Yolanda', 'Bob']})"
   ],
   "id": "1f137318fade6b36",
   "execution_count": 177,
   "outputs": []
  },
  {
   "metadata": {
    "ExecuteTime": {
     "end_time": "2024-05-28T18:09:53.850127Z",
     "start_time": "2024-05-28T18:09:53.841922Z"
    }
   },
   "cell_type": "code",
   "source": "pd.merge(registrations, logins, how='outer', on='name')",
   "id": "f86b76d7e9bab4d0",
   "execution_count": 178,
   "outputs": []
  },
  {
   "metadata": {
    "ExecuteTime": {
     "end_time": "2024-05-28T18:09:54.036071Z",
     "start_time": "2024-05-28T18:09:54.029865Z"
    }
   },
   "cell_type": "code",
   "source": "logins",
   "id": "175294647ba6bac0",
   "execution_count": 179,
   "outputs": []
  },
  {
   "metadata": {
    "ExecuteTime": {
     "end_time": "2024-05-28T18:09:54.360589Z",
     "start_time": "2024-05-28T18:09:54.352989Z"
    }
   },
   "cell_type": "code",
   "source": "pd.merge(registrations, logins, left_index=True, right_index=True, how='inner')",
   "id": "7797a9ac8398e56e",
   "execution_count": 180,
   "outputs": []
  },
  {
   "metadata": {
    "ExecuteTime": {
     "end_time": "2024-05-28T18:09:54.469667Z",
     "start_time": "2024-05-28T18:09:54.459905Z"
    }
   },
   "cell_type": "code",
   "source": "registrations = registrations.set_index('index')",
   "id": "4ea58ecfa909f999",
   "execution_count": 181,
   "outputs": []
  },
  {
   "metadata": {
    "ExecuteTime": {
     "end_time": "2024-05-28T18:09:54.713091Z",
     "start_time": "2024-05-28T18:09:54.709985Z"
    }
   },
   "cell_type": "code",
   "source": "registrations.columns = ['reg_id', 'reg_name']",
   "id": "fb284bfda6e23512",
   "execution_count": 182,
   "outputs": []
  },
  {
   "metadata": {
    "ExecuteTime": {
     "end_time": "2024-05-28T18:09:54.892034Z",
     "start_time": "2024-05-28T18:09:54.888469Z"
    }
   },
   "cell_type": "code",
   "source": "logins.columns = [ 'log_id', 'name']",
   "id": "1709bca549b47fc5",
   "execution_count": 183,
   "outputs": []
  },
  {
   "metadata": {
    "ExecuteTime": {
     "end_time": "2024-05-28T18:09:55.203565Z",
     "start_time": "2024-05-28T18:09:55.198169Z"
    }
   },
   "cell_type": "code",
   "source": "registrations",
   "id": "8e27fe99e3f7c49",
   "execution_count": 184,
   "outputs": []
  },
  {
   "metadata": {
    "ExecuteTime": {
     "end_time": "2024-05-28T18:09:55.299101Z",
     "start_time": "2024-05-28T18:09:55.295084Z"
    }
   },
   "cell_type": "code",
   "source": "results = pd.merge(registrations, logins, how='inner', left_on='reg_name', right_on='name')",
   "id": "cbbac723c2169df9",
   "execution_count": 185,
   "outputs": []
  },
  {
   "metadata": {
    "ExecuteTime": {
     "end_time": "2024-05-28T18:09:55.519625Z",
     "start_time": "2024-05-28T18:09:55.514019Z"
    }
   },
   "cell_type": "code",
   "source": "results",
   "id": "9f45f79787bc1eaf",
   "execution_count": 186,
   "outputs": []
  },
  {
   "metadata": {
    "ExecuteTime": {
     "end_time": "2024-05-28T18:09:55.608903Z",
     "start_time": "2024-05-28T18:09:55.602781Z"
    }
   },
   "cell_type": "code",
   "source": "results.drop('name', axis=1)",
   "id": "9b5d2b16ddafc48e",
   "execution_count": 187,
   "outputs": []
  },
  {
   "metadata": {
    "ExecuteTime": {
     "end_time": "2024-05-28T18:09:55.827026Z",
     "start_time": "2024-05-28T18:09:55.821482Z"
    }
   },
   "cell_type": "code",
   "source": "registrations",
   "id": "50d8f157a8cf7a77",
   "execution_count": 188,
   "outputs": []
  },
  {
   "metadata": {
    "ExecuteTime": {
     "end_time": "2024-05-28T18:09:55.933947Z",
     "start_time": "2024-05-28T18:09:55.929950Z"
    }
   },
   "cell_type": "code",
   "source": "registrations.columns = ['id', 'name']",
   "id": "83282778745ed5f3",
   "execution_count": 189,
   "outputs": []
  },
  {
   "metadata": {
    "ExecuteTime": {
     "end_time": "2024-05-28T18:09:56.166492Z",
     "start_time": "2024-05-28T18:09:56.162260Z"
    }
   },
   "cell_type": "code",
   "source": "logins.columns = ['id', 'name']",
   "id": "664ff6c25f0ce564",
   "execution_count": 190,
   "outputs": []
  },
  {
   "metadata": {
    "ExecuteTime": {
     "end_time": "2024-05-28T18:09:56.346733Z",
     "start_time": "2024-05-28T18:09:56.340817Z"
    }
   },
   "cell_type": "code",
   "source": "registrations",
   "id": "dbc906e3502fe0ea",
   "execution_count": 191,
   "outputs": []
  },
  {
   "metadata": {
    "ExecuteTime": {
     "end_time": "2024-05-28T18:09:56.650070Z",
     "start_time": "2024-05-28T18:09:56.643745Z"
    }
   },
   "cell_type": "code",
   "source": "logins",
   "id": "e2d728ef29644756",
   "execution_count": 192,
   "outputs": []
  },
  {
   "metadata": {
    "ExecuteTime": {
     "end_time": "2024-05-28T18:09:56.762768Z",
     "start_time": "2024-05-28T18:09:56.755850Z"
    }
   },
   "cell_type": "code",
   "source": "pd.merge(registrations, logins, how='inner', on='name', suffixes=('_reg', '_log'))",
   "id": "d81c8b17d1878e67",
   "execution_count": 193,
   "outputs": []
  },
  {
   "metadata": {},
   "cell_type": "markdown",
   "source": "# 38. Pandas - Text Methods for String Data",
   "id": "c173a352779135aa"
  },
  {
   "metadata": {
    "ExecuteTime": {
     "end_time": "2024-05-28T18:09:57.008570Z",
     "start_time": "2024-05-28T18:09:57.005181Z"
    }
   },
   "cell_type": "code",
   "source": "email = 'jose@email.com'",
   "id": "9949253548951f29",
   "execution_count": 194,
   "outputs": []
  },
  {
   "metadata": {
    "ExecuteTime": {
     "end_time": "2024-05-28T18:09:57.205176Z",
     "start_time": "2024-05-28T18:09:57.201147Z"
    }
   },
   "cell_type": "code",
   "source": "email.split('@')",
   "id": "bbb9faf824d298a5",
   "execution_count": 195,
   "outputs": []
  },
  {
   "metadata": {
    "ExecuteTime": {
     "end_time": "2024-05-28T18:09:57.548037Z",
     "start_time": "2024-05-28T18:09:57.544001Z"
    }
   },
   "cell_type": "code",
   "source": "email.isdigit()",
   "id": "9ed97db87db37ca2",
   "execution_count": 196,
   "outputs": []
  },
  {
   "metadata": {
    "ExecuteTime": {
     "end_time": "2024-05-28T18:09:57.681734Z",
     "start_time": "2024-05-28T18:09:57.677367Z"
    }
   },
   "cell_type": "code",
   "source": "'5'.isdigit()",
   "id": "5d43fe2da84a27fd",
   "execution_count": 197,
   "outputs": []
  },
  {
   "metadata": {
    "ExecuteTime": {
     "end_time": "2024-05-28T18:09:58.022442Z",
     "start_time": "2024-05-28T18:09:58.017931Z"
    }
   },
   "cell_type": "code",
   "source": "names = pd.Series(['andrew', 'bobo', 'claire', 'david', '5'])",
   "id": "2db0dc65c90b37dc",
   "execution_count": 198,
   "outputs": []
  },
  {
   "metadata": {
    "ExecuteTime": {
     "end_time": "2024-05-28T18:09:58.136342Z",
     "start_time": "2024-05-28T18:09:58.131521Z"
    }
   },
   "cell_type": "code",
   "source": "names.str.upper()",
   "id": "7bf0ca5e56d5c752",
   "execution_count": 199,
   "outputs": []
  },
  {
   "metadata": {
    "ExecuteTime": {
     "end_time": "2024-05-28T18:09:58.371832Z",
     "start_time": "2024-05-28T18:09:58.366756Z"
    }
   },
   "cell_type": "code",
   "source": "names.str.isdigit()",
   "id": "b295fd9874baab72",
   "execution_count": 200,
   "outputs": []
  },
  {
   "metadata": {
    "ExecuteTime": {
     "end_time": "2024-05-28T18:09:58.459847Z",
     "start_time": "2024-05-28T18:09:58.456832Z"
    }
   },
   "cell_type": "code",
   "source": "tech_finance = ['GOOG, APPL, AMZN', 'JPM, BAC, GS']",
   "id": "b4ee21e4ff873d74",
   "execution_count": 201,
   "outputs": []
  },
  {
   "metadata": {
    "ExecuteTime": {
     "end_time": "2024-05-28T18:09:58.681893Z",
     "start_time": "2024-05-28T18:09:58.677343Z"
    }
   },
   "cell_type": "code",
   "source": "len(tech_finance)",
   "id": "bbf38ea5b65e112b",
   "execution_count": 202,
   "outputs": []
  },
  {
   "metadata": {
    "ExecuteTime": {
     "end_time": "2024-05-28T18:09:58.796910Z",
     "start_time": "2024-05-28T18:09:58.794033Z"
    }
   },
   "cell_type": "code",
   "source": "tickers = pd.Series(tech_finance)",
   "id": "6acae4095df1269b",
   "execution_count": 203,
   "outputs": []
  },
  {
   "metadata": {
    "ExecuteTime": {
     "end_time": "2024-05-28T18:09:58.974275Z",
     "start_time": "2024-05-28T18:09:58.971768Z"
    }
   },
   "cell_type": "code",
   "source": "",
   "id": "8b2b25b8d888f6fd",
   "execution_count": 203,
   "outputs": []
  },
  {
   "metadata": {
    "ExecuteTime": {
     "end_time": "2024-05-28T18:09:59.090123Z",
     "start_time": "2024-05-28T18:09:59.086941Z"
    }
   },
   "cell_type": "code",
   "source": "tech = 'GOOG, APPL, AMZN'",
   "id": "8852243590fcadd2",
   "execution_count": 204,
   "outputs": []
  },
  {
   "metadata": {
    "ExecuteTime": {
     "end_time": "2024-05-28T18:09:59.270154Z",
     "start_time": "2024-05-28T18:09:59.266054Z"
    }
   },
   "cell_type": "code",
   "source": "tech.split(', ')[0]",
   "id": "58a9c66cfd2fa5e",
   "execution_count": 205,
   "outputs": []
  },
  {
   "metadata": {
    "ExecuteTime": {
     "end_time": "2024-05-28T18:09:59.357497Z",
     "start_time": "2024-05-28T18:09:59.353892Z"
    }
   },
   "cell_type": "code",
   "source": "messy_names = pd.Series(['andrew  ', 'bo;bo', '   claire   '])",
   "id": "c0d6ad9e3765d6f9",
   "execution_count": 206,
   "outputs": []
  },
  {
   "metadata": {
    "ExecuteTime": {
     "end_time": "2024-05-28T18:09:59.543600Z",
     "start_time": "2024-05-28T18:09:59.538096Z"
    }
   },
   "cell_type": "code",
   "source": "messy_names.str.replace(';', '').str.strip().str.capitalize()",
   "id": "442b7bb0d68dd5ac",
   "execution_count": 207,
   "outputs": []
  },
  {
   "metadata": {
    "ExecuteTime": {
     "end_time": "2024-05-28T18:09:59.647899Z",
     "start_time": "2024-05-28T18:09:59.644412Z"
    }
   },
   "cell_type": "code",
   "source": [
    "def cleanup(name):\n",
    "  name = name.replace(';', '')\n",
    "  name = name.strip()\n",
    "  name = name.capitalize()\n",
    "  return name"
   ],
   "id": "7876df5400f88b07",
   "execution_count": 208,
   "outputs": []
  },
  {
   "metadata": {
    "ExecuteTime": {
     "end_time": "2024-05-28T18:09:59.849987Z",
     "start_time": "2024-05-28T18:09:59.845484Z"
    }
   },
   "cell_type": "code",
   "source": "messy_names.apply(cleanup)",
   "id": "b40a2258c09c182f",
   "execution_count": 209,
   "outputs": []
  },
  {
   "metadata": {
    "ExecuteTime": {
     "end_time": "2024-05-28T18:09:59.958383Z",
     "start_time": "2024-05-28T18:09:59.955647Z"
    }
   },
   "cell_type": "code",
   "source": [
    "import timeit\n",
    "\n",
    "# code snippet to be executed only once \n",
    "setup = '''\n",
    "import pandas as pd\n",
    "import numpy as np\n",
    "messy_names = pd.Series([\"andrew  \",\"bo;bo\",\"  claire  \"])\n",
    "def cleanup(name):\n",
    "    name = name.replace(\";\",\"\")\n",
    "    name = name.strip()\n",
    "    name = name.capitalize()\n",
    "    return name\n",
    "'''\n",
    "\n",
    "# code snippet whose execution time is to be measured \n",
    "stmt_pandas_str = ''' \n",
    "messy_names.str.replace(\";\",\"\").str.strip().str.capitalize()\n",
    "'''\n",
    "\n",
    "stmt_pandas_apply = '''\n",
    "messy_names.apply(cleanup)\n",
    "'''\n",
    "\n",
    "stmt_pandas_vectorize='''\n",
    "np.vectorize(cleanup)(messy_names)\n",
    "'''"
   ],
   "id": "f73052e902838040",
   "execution_count": 210,
   "outputs": []
  },
  {
   "metadata": {
    "ExecuteTime": {
     "end_time": "2024-05-28T18:10:01.997424Z",
     "start_time": "2024-05-28T18:10:00.144356Z"
    }
   },
   "cell_type": "code",
   "source": [
    "timeit.timeit(setup = setup,\n",
    "              stmt = stmt_pandas_str,\n",
    "              number = 10000) "
   ],
   "id": "ad9a43b75191f025",
   "execution_count": 211,
   "outputs": []
  },
  {
   "metadata": {
    "ExecuteTime": {
     "end_time": "2024-05-28T18:10:02.291247Z",
     "start_time": "2024-05-28T18:10:01.998430Z"
    }
   },
   "cell_type": "code",
   "source": [
    "timeit.timeit(setup = setup,\n",
    "              stmt = stmt_pandas_apply,\n",
    "              number = 10000) "
   ],
   "id": "847d2cffad0dc4e6",
   "execution_count": 212,
   "outputs": []
  },
  {
   "metadata": {
    "ExecuteTime": {
     "end_time": "2024-05-28T18:10:02.482053Z",
     "start_time": "2024-05-28T18:10:02.291247Z"
    }
   },
   "cell_type": "code",
   "source": [
    "timeit.timeit(setup = setup,\n",
    "              stmt = stmt_pandas_vectorize,\n",
    "              number = 10000) "
   ],
   "id": "38ff1af378961f28",
   "execution_count": 213,
   "outputs": []
  },
  {
   "metadata": {},
   "cell_type": "markdown",
   "source": "# 39. Pandas - Time Methods for Date and Time Data",
   "id": "a453ed38bd4ae8a1"
  },
  {
   "metadata": {
    "ExecuteTime": {
     "end_time": "2024-05-28T18:10:02.486295Z",
     "start_time": "2024-05-28T18:10:02.483562Z"
    }
   },
   "cell_type": "code",
   "source": [
    "myyear = 2015\n",
    "mymonth = 1\n",
    "myday = 1\n",
    "myhour = 2\n",
    "mymin = 30\n",
    "mysec = 15"
   ],
   "id": "101b0de1cea98358",
   "execution_count": 214,
   "outputs": []
  },
  {
   "metadata": {
    "ExecuteTime": {
     "end_time": "2024-05-28T18:10:02.492785Z",
     "start_time": "2024-05-28T18:10:02.486295Z"
    }
   },
   "cell_type": "code",
   "source": "mydate = dt.datetime(myyear, mymonth, myday)",
   "id": "4b717ed07084b939",
   "execution_count": 215,
   "outputs": []
  },
  {
   "metadata": {
    "ExecuteTime": {
     "end_time": "2024-05-28T18:10:02.498721Z",
     "start_time": "2024-05-28T18:10:02.492785Z"
    }
   },
   "cell_type": "code",
   "source": "mydatetime = dt.datetime(myyear, mymonth, myday, myhour, mymin, mysec)",
   "id": "944f9091dc09d147",
   "execution_count": 216,
   "outputs": []
  },
  {
   "metadata": {
    "ExecuteTime": {
     "end_time": "2024-05-28T18:10:02.505797Z",
     "start_time": "2024-05-28T18:10:02.499655Z"
    }
   },
   "cell_type": "code",
   "source": "mydatetime.year",
   "id": "d697115c67e281d7",
   "execution_count": 217,
   "outputs": []
  },
  {
   "metadata": {
    "ExecuteTime": {
     "end_time": "2024-05-28T18:10:02.510843Z",
     "start_time": "2024-05-28T18:10:02.506804Z"
    }
   },
   "cell_type": "code",
   "source": "myser = pd.Series(['Nov 3, 1990', '2000-01-01', None])",
   "id": "79e5450754096b3d",
   "execution_count": 218,
   "outputs": []
  },
  {
   "metadata": {
    "ExecuteTime": {
     "end_time": "2024-05-28T18:10:02.517400Z",
     "start_time": "2024-05-28T18:10:02.511849Z"
    }
   },
   "cell_type": "code",
   "source": "timeser = pd.to_datetime(myser, format=\"mixed\")",
   "id": "95ca95a4cd53b452",
   "execution_count": 219,
   "outputs": []
  },
  {
   "metadata": {
    "ExecuteTime": {
     "end_time": "2024-05-28T18:10:02.524434Z",
     "start_time": "2024-05-28T18:10:02.519406Z"
    }
   },
   "cell_type": "code",
   "source": "timeser",
   "id": "fbbf91f9d603bba8",
   "execution_count": 220,
   "outputs": []
  },
  {
   "metadata": {
    "ExecuteTime": {
     "end_time": "2024-05-28T18:10:02.528150Z",
     "start_time": "2024-05-28T18:10:02.525441Z"
    }
   },
   "cell_type": "code",
   "source": "obvi_euro_date = '31-12-2000'",
   "id": "5839a3ebd5dbd9eb",
   "execution_count": 221,
   "outputs": []
  },
  {
   "metadata": {
    "ExecuteTime": {
     "end_time": "2024-05-28T18:10:02.536220Z",
     "start_time": "2024-05-28T18:10:02.528150Z"
    }
   },
   "cell_type": "code",
   "source": "pd.to_datetime(obvi_euro_date, dayfirst=True)",
   "id": "970ed01651253ec3",
   "execution_count": 222,
   "outputs": []
  },
  {
   "metadata": {
    "ExecuteTime": {
     "end_time": "2024-05-28T18:10:02.539918Z",
     "start_time": "2024-05-28T18:10:02.537226Z"
    }
   },
   "cell_type": "code",
   "source": "euro_date = '10-12-2000'",
   "id": "de1d358dec8a07ca",
   "execution_count": 223,
   "outputs": []
  },
  {
   "metadata": {
    "ExecuteTime": {
     "end_time": "2024-05-28T18:10:02.548488Z",
     "start_time": "2024-05-28T18:10:02.540924Z"
    }
   },
   "cell_type": "code",
   "source": "pd.to_datetime(euro_date, dayfirst=True)",
   "id": "3a0191b859a6ce79",
   "execution_count": 224,
   "outputs": []
  },
  {
   "metadata": {
    "ExecuteTime": {
     "end_time": "2024-05-28T18:10:02.554002Z",
     "start_time": "2024-05-28T18:10:02.549495Z"
    }
   },
   "cell_type": "code",
   "source": "style_date = '12--Dec--2000'",
   "id": "c7ec15c81ec858c9",
   "execution_count": 225,
   "outputs": []
  },
  {
   "metadata": {
    "ExecuteTime": {
     "end_time": "2024-05-28T18:10:02.564545Z",
     "start_time": "2024-05-28T18:10:02.555010Z"
    }
   },
   "cell_type": "code",
   "source": "pd.to_datetime(style_date, format='%d--%b--%Y')",
   "id": "46290f14292857e2",
   "execution_count": 226,
   "outputs": []
  },
  {
   "metadata": {
    "ExecuteTime": {
     "end_time": "2024-05-28T18:10:02.570028Z",
     "start_time": "2024-05-28T18:10:02.565553Z"
    }
   },
   "cell_type": "code",
   "source": "custom_date = '12th of Dec 2000'",
   "id": "5097a1dd95cc3494",
   "execution_count": 227,
   "outputs": []
  },
  {
   "metadata": {
    "ExecuteTime": {
     "end_time": "2024-05-28T18:10:02.578495Z",
     "start_time": "2024-05-28T18:10:02.571036Z"
    }
   },
   "cell_type": "code",
   "source": "pd.to_datetime(custom_date, format='%dth of %b %Y')",
   "id": "21c52f69200a0bde",
   "execution_count": 228,
   "outputs": []
  },
  {
   "metadata": {
    "ExecuteTime": {
     "end_time": "2024-05-28T18:10:02.590332Z",
     "start_time": "2024-05-28T18:10:02.579501Z"
    }
   },
   "cell_type": "code",
   "source": "sales = pd.read_csv(r'data_frame\\RetailSales_BeerWineLiquor.csv')",
   "id": "e970175d55dcc132",
   "execution_count": 229,
   "outputs": []
  },
  {
   "metadata": {
    "ExecuteTime": {
     "end_time": "2024-05-28T18:10:02.595146Z",
     "start_time": "2024-05-28T18:10:02.591339Z"
    }
   },
   "cell_type": "code",
   "source": "sales['DATE'] = pd.to_datetime(sales['DATE'])",
   "id": "94bfac97766f20e",
   "execution_count": 230,
   "outputs": []
  },
  {
   "metadata": {
    "ExecuteTime": {
     "end_time": "2024-05-28T18:10:02.604563Z",
     "start_time": "2024-05-28T18:10:02.595146Z"
    }
   },
   "cell_type": "code",
   "source": "sales",
   "id": "952cee4cb702ed0a",
   "execution_count": 231,
   "outputs": []
  },
  {
   "metadata": {
    "ExecuteTime": {
     "end_time": "2024-05-28T18:10:02.610778Z",
     "start_time": "2024-05-28T18:10:02.604563Z"
    }
   },
   "cell_type": "code",
   "source": "sales = pd.read_csv(r'data_frame\\RetailSales_BeerWineLiquor.csv', parse_dates=['DATE'])",
   "id": "be48b2255e5ebee1",
   "execution_count": 232,
   "outputs": []
  },
  {
   "metadata": {
    "ExecuteTime": {
     "end_time": "2024-05-28T18:10:02.614951Z",
     "start_time": "2024-05-28T18:10:02.611784Z"
    }
   },
   "cell_type": "code",
   "source": "sales = sales.set_index('DATE')",
   "id": "ed675e6c902560e3",
   "execution_count": 233,
   "outputs": []
  },
  {
   "metadata": {
    "ExecuteTime": {
     "end_time": "2024-05-28T18:10:02.624658Z",
     "start_time": "2024-05-28T18:10:02.614951Z"
    }
   },
   "cell_type": "code",
   "source": "sales.resample(rule='YE').mean()",
   "id": "2a4c351f2cd46b71",
   "execution_count": 234,
   "outputs": []
  },
  {
   "metadata": {
    "ExecuteTime": {
     "end_time": "2024-05-28T18:10:02.629811Z",
     "start_time": "2024-05-28T18:10:02.624658Z"
    }
   },
   "cell_type": "code",
   "source": "sales = pd.read_csv(r'data_frame\\RetailSales_BeerWineLiquor.csv', parse_dates=['DATE'])",
   "id": "20dcd9c50a19135",
   "execution_count": 235,
   "outputs": []
  },
  {
   "metadata": {
    "ExecuteTime": {
     "end_time": "2024-05-28T18:10:02.636949Z",
     "start_time": "2024-05-28T18:10:02.629811Z"
    }
   },
   "cell_type": "code",
   "source": "sales.info()",
   "id": "1480e12e86f5e75d",
   "execution_count": 236,
   "outputs": []
  },
  {
   "metadata": {
    "ExecuteTime": {
     "end_time": "2024-05-28T18:10:02.643955Z",
     "start_time": "2024-05-28T18:10:02.638957Z"
    }
   },
   "cell_type": "code",
   "source": "sales['DATE'].dt.year",
   "id": "30cfacaf952c1f0",
   "execution_count": 237,
   "outputs": []
  },
  {
   "metadata": {},
   "cell_type": "markdown",
   "source": "# 40. Pandas Input and Output - CSV Files",
   "id": "20cdf580d52c2288"
  },
  {
   "metadata": {
    "ExecuteTime": {
     "end_time": "2024-05-28T18:10:02.683682Z",
     "start_time": "2024-05-28T18:10:02.680177Z"
    }
   },
   "cell_type": "code",
   "source": "os.getcwd()",
   "id": "c87ca675e33d9e8f",
   "execution_count": 238,
   "outputs": []
  },
  {
   "metadata": {
    "ExecuteTime": {
     "end_time": "2024-05-28T18:10:03.914067Z",
     "start_time": "2024-05-28T18:10:03.907704Z"
    }
   },
   "cell_type": "code",
   "source": "df = pd.read_csv(r'data_frame\\example.csv', index_col=0)",
   "id": "171ee48c12c3cbe7",
   "execution_count": 239,
   "outputs": []
  },
  {
   "metadata": {
    "ExecuteTime": {
     "end_time": "2024-05-28T18:10:04.624976Z",
     "start_time": "2024-05-28T18:10:04.599002Z"
    }
   },
   "cell_type": "code",
   "source": "new = df.to_csv(r'data_frame\\my_output.csv', index=False)",
   "id": "1feeb7579f1ae759",
   "execution_count": 240,
   "outputs": []
  },
  {
   "metadata": {
    "ExecuteTime": {
     "end_time": "2024-05-28T18:10:04.812676Z",
     "start_time": "2024-05-28T18:10:04.809632Z"
    }
   },
   "cell_type": "code",
   "source": "new",
   "id": "e13396f8aa5242e4",
   "execution_count": 241,
   "outputs": []
  },
  {
   "metadata": {},
   "cell_type": "markdown",
   "source": "# 41. Pandas Input and Output - HTML Tables",
   "id": "155914eb17523015"
  },
  {
   "metadata": {
    "ExecuteTime": {
     "end_time": "2024-05-28T18:10:05.062283Z",
     "start_time": "2024-05-28T18:10:05.058677Z"
    }
   },
   "cell_type": "code",
   "source": "url = 'https://en.wikipedia.org/wiki/World_population'",
   "id": "412abd6aaea73c85",
   "execution_count": 242,
   "outputs": []
  },
  {
   "metadata": {
    "ExecuteTime": {
     "end_time": "2024-05-28T18:10:05.739697Z",
     "start_time": "2024-05-28T18:10:05.234718Z"
    }
   },
   "cell_type": "code",
   "source": "tables = pd.read_html(url)",
   "id": "afd56320cbc816f1",
   "execution_count": 243,
   "outputs": []
  },
  {
   "metadata": {
    "ExecuteTime": {
     "end_time": "2024-05-28T18:10:05.744724Z",
     "start_time": "2024-05-28T18:10:05.740706Z"
    }
   },
   "cell_type": "code",
   "source": "len(tables)",
   "id": "189cadd9f432f185",
   "execution_count": 244,
   "outputs": []
  },
  {
   "metadata": {
    "ExecuteTime": {
     "end_time": "2024-05-28T18:10:05.755141Z",
     "start_time": "2024-05-28T18:10:05.744724Z"
    }
   },
   "cell_type": "code",
   "source": "tables[0]",
   "id": "2c2de5e298330259",
   "execution_count": 245,
   "outputs": []
  },
  {
   "metadata": {
    "ExecuteTime": {
     "end_time": "2024-05-28T18:10:05.761578Z",
     "start_time": "2024-05-28T18:10:05.756149Z"
    }
   },
   "cell_type": "code",
   "source": "tables[1]",
   "id": "8acde34a85eb6fce",
   "execution_count": 246,
   "outputs": []
  },
  {
   "metadata": {
    "ExecuteTime": {
     "end_time": "2024-05-28T18:10:05.766659Z",
     "start_time": "2024-05-28T18:10:05.761578Z"
    }
   },
   "cell_type": "code",
   "source": "world_topten = tables[1]",
   "id": "7d821cc5864a503e",
   "execution_count": 247,
   "outputs": []
  },
  {
   "metadata": {
    "ExecuteTime": {
     "end_time": "2024-05-28T18:10:05.774759Z",
     "start_time": "2024-05-28T18:10:05.766659Z"
    }
   },
   "cell_type": "code",
   "source": "world_topten",
   "id": "1ffeb0fa96f1afd0",
   "execution_count": 248,
   "outputs": []
  },
  {
   "metadata": {},
   "cell_type": "markdown",
   "source": "# 42. Pandas Input and Output - Excel Files",
   "id": "73e6ce16f545e043"
  },
  {
   "metadata": {
    "ExecuteTime": {
     "end_time": "2024-05-28T18:10:06.386037Z",
     "start_time": "2024-05-28T18:10:05.853911Z"
    }
   },
   "cell_type": "code",
   "source": "df = pd.read_excel(r'data_frame\\my_excel_file.xlsx', sheet_name='First_Sheet')",
   "id": "439f457f3728f848",
   "execution_count": 249,
   "outputs": []
  },
  {
   "metadata": {
    "ExecuteTime": {
     "end_time": "2024-05-28T18:10:06.393619Z",
     "start_time": "2024-05-28T18:10:06.387042Z"
    }
   },
   "cell_type": "code",
   "source": "wb = pd.ExcelFile(r'data_frame\\my_excel_file.xlsx')",
   "id": "90c830ed8f098255",
   "execution_count": 250,
   "outputs": []
  },
  {
   "metadata": {
    "ExecuteTime": {
     "end_time": "2024-05-28T18:10:06.427962Z",
     "start_time": "2024-05-28T18:10:06.424095Z"
    }
   },
   "cell_type": "code",
   "source": "wb.sheet_names",
   "id": "f8106629790aeee2",
   "execution_count": 251,
   "outputs": []
  },
  {
   "metadata": {
    "ExecuteTime": {
     "end_time": "2024-05-28T18:10:06.677242Z",
     "start_time": "2024-05-28T18:10:06.668984Z"
    }
   },
   "cell_type": "code",
   "source": "excel_sheet_dict = pd.read_excel(r'data_frame\\my_excel_file.xlsx', sheet_name=None)",
   "id": "fc1fcd14d7d7edf0",
   "execution_count": 252,
   "outputs": []
  },
  {
   "metadata": {
    "ExecuteTime": {
     "end_time": "2024-05-28T18:10:07.031135Z",
     "start_time": "2024-05-28T18:10:07.026908Z"
    }
   },
   "cell_type": "code",
   "source": "excel_sheet_dict",
   "id": "2a2d903058c0d939",
   "execution_count": 253,
   "outputs": []
  },
  {
   "metadata": {
    "ExecuteTime": {
     "end_time": "2024-05-28T18:10:07.162468Z",
     "start_time": "2024-05-28T18:10:07.158799Z"
    }
   },
   "cell_type": "code",
   "source": "our_df = excel_sheet_dict['First_Sheet']",
   "id": "6dbf97d36b77c845",
   "execution_count": 254,
   "outputs": []
  },
  {
   "metadata": {
    "ExecuteTime": {
     "end_time": "2024-05-28T18:10:07.397761Z",
     "start_time": "2024-05-28T18:10:07.362073Z"
    }
   },
   "cell_type": "code",
   "source": "our_df.to_excel(r'data_frame\\example_excel.xlsx', sheet_name='First_Sheet', index=False)",
   "id": "daf02f9bd8288a37",
   "execution_count": 255,
   "outputs": []
  },
  {
   "metadata": {},
   "cell_type": "markdown",
   "source": "# 43. Pandas Input and Output - SQL Databases",
   "id": "f59d45223a089a0a"
  },
  {
   "metadata": {
    "ExecuteTime": {
     "end_time": "2024-05-28T18:10:07.543603Z",
     "start_time": "2024-05-28T18:10:07.510069Z"
    }
   },
   "cell_type": "code",
   "source": "temp_db = create_engine('sqlite:///:memory:')",
   "id": "dea51a2e3fd4ebe2",
   "execution_count": 256,
   "outputs": []
  },
  {
   "metadata": {
    "ExecuteTime": {
     "end_time": "2024-05-28T18:10:07.705768Z",
     "start_time": "2024-05-28T18:10:07.696856Z"
    }
   },
   "cell_type": "code",
   "source": "pd.DataFrame(data=np.random.randint(low=0, high=100, size=(4, 4)), columns=['a', 'b', 'c', 'd']).to_sql(name='new_table', con=temp_db)",
   "id": "2ec73bfee899ff64",
   "execution_count": 257,
   "outputs": []
  },
  {
   "metadata": {
    "ExecuteTime": {
     "end_time": "2024-05-28T18:10:08.031184Z",
     "start_time": "2024-05-28T18:10:07.885693Z"
    }
   },
   "cell_type": "code",
   "source": "df.to_sql(name='new_table', con=temp_db)",
   "id": "660856d5a6808a0c",
   "execution_count": 258,
   "outputs": []
  },
  {
   "metadata": {
    "ExecuteTime": {
     "end_time": "2024-05-28T18:10:08.032191Z",
     "start_time": "2024-05-28T18:10:08.032191Z"
    }
   },
   "cell_type": "code",
   "source": "new_dt = pd.read_sql(sql='new_table', con=temp_db)",
   "id": "d38c0b554e76b71b",
   "execution_count": null,
   "outputs": []
  },
  {
   "metadata": {
    "ExecuteTime": {
     "end_time": "2024-05-28T18:10:08.199225Z",
     "start_time": "2024-05-28T18:10:08.189112Z"
    }
   },
   "cell_type": "code",
   "source": "new_dt",
   "id": "9f2a8effd62f9f12",
   "execution_count": 259,
   "outputs": []
  },
  {
   "metadata": {
    "ExecuteTime": {
     "end_time": "2024-05-28T18:10:08.288728Z",
     "start_time": "2024-05-28T18:10:08.284953Z"
    }
   },
   "cell_type": "code",
   "source": "result = pd.read_sql_query(sql='SELECT a, c FROM new_table', con=temp_db)",
   "id": "4adf0921596dad64",
   "execution_count": 260,
   "outputs": []
  },
  {
   "metadata": {
    "ExecuteTime": {
     "end_time": "2024-05-28T18:10:08.491999Z",
     "start_time": "2024-05-28T18:10:08.486915Z"
    }
   },
   "cell_type": "code",
   "source": "result",
   "id": "2588b45141810d28",
   "execution_count": 261,
   "outputs": []
  },
  {
   "metadata": {},
   "cell_type": "markdown",
   "source": "# 44. Pandas Pivot Tables",
   "id": "ae1464de9ab4ac12"
  },
  {
   "metadata": {
    "ExecuteTime": {
     "end_time": "2024-05-28T18:10:08.667075Z",
     "start_time": "2024-05-28T18:10:08.656503Z"
    }
   },
   "cell_type": "code",
   "source": "df = pd.read_csv(r'data_frame\\Sales_Funnel_CRM.csv')",
   "id": "c4aafbbe565b28a4",
   "execution_count": 262,
   "outputs": []
  },
  {
   "metadata": {
    "ExecuteTime": {
     "end_time": "2024-05-28T18:10:08.837200Z",
     "start_time": "2024-05-28T18:10:08.826624Z"
    }
   },
   "cell_type": "code",
   "source": "df.pivot_table(index='Company', columns='Product', values='Licenses', aggfunc='sum')",
   "id": "ed95ae239f3efbf6",
   "execution_count": 263,
   "outputs": []
  },
  {
   "metadata": {
    "ExecuteTime": {
     "end_time": "2024-05-28T18:10:09.088412Z",
     "start_time": "2024-05-28T18:10:09.031604Z"
    }
   },
   "cell_type": "code",
   "source": "pd.pivot_table(df, index='Company', aggfunc='sum', values=['Licenses', 'Units'])",
   "id": "6af1985d67f17e20",
   "execution_count": 264,
   "outputs": []
  },
  {
   "metadata": {
    "ExecuteTime": {
     "end_time": "2024-05-28T18:10:09.299086Z",
     "start_time": "2024-05-28T18:10:09.291020Z"
    }
   },
   "cell_type": "code",
   "source": "df.groupby('Company').sum()",
   "id": "ff99786218d2df61",
   "execution_count": 265,
   "outputs": []
  },
  {
   "metadata": {
    "ExecuteTime": {
     "end_time": "2024-05-28T18:10:09.532923Z",
     "start_time": "2024-05-28T18:10:09.515823Z"
    }
   },
   "cell_type": "code",
   "source": [
    "pd.pivot_table(df, index=['Account Manager', 'Contact'], values=['Sale Price'], columns=['Product'], aggfunc='sum', \n",
    "               fill_value=0, margins=True, margins_name='Grand Total')"
   ],
   "id": "5821b316c959c21",
   "execution_count": 266,
   "outputs": []
  },
  {
   "metadata": {},
   "cell_type": "markdown",
   "source": "# 45. Pandas Project Exercise Overview",
   "id": "a4f3668999eda6b5"
  },
  {
   "metadata": {
    "ExecuteTime": {
     "end_time": "2024-05-28T18:10:09.808341Z",
     "start_time": "2024-05-28T18:10:09.806217Z"
    }
   },
   "cell_type": "code",
   "source": "",
   "id": "2e67961e9f5030a1",
   "execution_count": 266,
   "outputs": []
  }
 ],
 "metadata": {
  "kernelspec": {
   "display_name": "Python 3",
   "language": "python",
   "name": "python3"
  },
  "language_info": {
   "codemirror_mode": {
    "name": "ipython",
    "version": 2
   },
   "file_extension": ".py",
   "mimetype": "text/x-python",
   "name": "python",
   "nbconvert_exporter": "python",
   "pygments_lexer": "ipython2",
   "version": "2.7.6"
  }
 },
 "nbformat": 4,
 "nbformat_minor": 5
}
