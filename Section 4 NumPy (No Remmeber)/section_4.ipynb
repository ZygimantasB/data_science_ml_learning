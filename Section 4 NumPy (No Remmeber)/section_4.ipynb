{
 "cells": [
  {
   "cell_type": "code",
   "id": "initial_id",
   "metadata": {
    "collapsed": true,
    "ExecuteTime": {
     "end_time": "2024-05-21T19:06:22.736527Z",
     "start_time": "2024-05-21T19:06:21.378743Z"
    }
   },
   "source": [
    "import pandas as pd\n",
    "import numpy as np"
   ],
   "execution_count": 1,
   "outputs": []
  },
  {
   "metadata": {},
   "cell_type": "markdown",
   "source": "# 14. NumPy Arrays",
   "id": "83aa9573fe4a6555"
  },
  {
   "metadata": {
    "ExecuteTime": {
     "end_time": "2024-05-21T19:06:22.740837Z",
     "start_time": "2024-05-21T19:06:22.736527Z"
    }
   },
   "cell_type": "code",
   "source": "my_list = [1, 2, 3]",
   "id": "f63edef4d85cfd5d",
   "execution_count": 2,
   "outputs": []
  },
  {
   "metadata": {
    "ExecuteTime": {
     "end_time": "2024-05-21T19:06:22.747845Z",
     "start_time": "2024-05-21T19:06:22.741845Z"
    }
   },
   "cell_type": "code",
   "source": "my_array = np.array([1, 2, 3])",
   "id": "d4198950ee78c4a2",
   "execution_count": 3,
   "outputs": []
  },
  {
   "metadata": {
    "ExecuteTime": {
     "end_time": "2024-05-21T19:06:22.756618Z",
     "start_time": "2024-05-21T19:06:22.748350Z"
    }
   },
   "cell_type": "code",
   "source": "my_array",
   "id": "e274268013110c3f",
   "execution_count": 4,
   "outputs": []
  },
  {
   "metadata": {
    "ExecuteTime": {
     "end_time": "2024-05-21T19:06:22.764881Z",
     "start_time": "2024-05-21T19:06:22.758138Z"
    }
   },
   "cell_type": "code",
   "source": "type(my_array)",
   "id": "eafc812167e995f8",
   "execution_count": 5,
   "outputs": []
  },
  {
   "metadata": {
    "ExecuteTime": {
     "end_time": "2024-05-21T19:06:22.771020Z",
     "start_time": "2024-05-21T19:06:22.765892Z"
    }
   },
   "cell_type": "code",
   "source": "my_matrix = [[1, 2, 3], [4, 5, 6], [7, 8, 9]]",
   "id": "fa7146ac466c0d28",
   "execution_count": 6,
   "outputs": []
  },
  {
   "metadata": {
    "ExecuteTime": {
     "end_time": "2024-05-21T19:06:22.779021Z",
     "start_time": "2024-05-21T19:06:22.772026Z"
    }
   },
   "cell_type": "code",
   "source": "my_matrix",
   "id": "9adf16d8e5927299",
   "execution_count": 7,
   "outputs": []
  },
  {
   "metadata": {
    "ExecuteTime": {
     "end_time": "2024-05-21T19:06:22.786171Z",
     "start_time": "2024-05-21T19:06:22.780028Z"
    }
   },
   "cell_type": "code",
   "source": "np.array(my_matrix) # makes a 2D array from a list of lists",
   "id": "6fd1c754982b6334",
   "execution_count": 8,
   "outputs": []
  },
  {
   "metadata": {
    "ExecuteTime": {
     "end_time": "2024-05-21T19:06:22.791824Z",
     "start_time": "2024-05-21T19:06:22.787242Z"
    }
   },
   "cell_type": "code",
   "source": [
    "np.arange(0, 10) # creates numpy range array \n",
    "np.arange(0, 101, 20)"
   ],
   "id": "f91d4c0d1a259f09",
   "execution_count": 9,
   "outputs": []
  },
  {
   "metadata": {
    "ExecuteTime": {
     "end_time": "2024-05-21T19:06:22.798340Z",
     "start_time": "2024-05-21T19:06:22.792831Z"
    }
   },
   "cell_type": "code",
   "source": "np.zeros(5) # creates an array of zeros 0. indicates float",
   "id": "bdbbc12b00f2803b",
   "execution_count": 10,
   "outputs": []
  },
  {
   "metadata": {
    "ExecuteTime": {
     "end_time": "2024-05-21T19:06:22.806450Z",
     "start_time": "2024-05-21T19:06:22.799346Z"
    }
   },
   "cell_type": "code",
   "source": "np.zeros((2, 5)) # creates a 2D array of zeros",
   "id": "94a8d879ecf86c12",
   "execution_count": 11,
   "outputs": []
  },
  {
   "metadata": {
    "ExecuteTime": {
     "end_time": "2024-05-21T19:06:22.814949Z",
     "start_time": "2024-05-21T19:06:22.806450Z"
    }
   },
   "cell_type": "code",
   "source": "np.ones((4, 4)) # creates a 2D array of ones",
   "id": "19e59dd1ae5d6874",
   "execution_count": 12,
   "outputs": []
  },
  {
   "metadata": {
    "ExecuteTime": {
     "end_time": "2024-05-21T19:06:22.823703Z",
     "start_time": "2024-05-21T19:06:22.815956Z"
    }
   },
   "cell_type": "code",
   "source": [
    "np.linspace(0, 10, 3) # creates an array of 3 evenly spaced numbers between 0 and 10\n",
    "np.linspace(0, 10, 11) # 11 numbers between 0 and 10\n",
    "np.linspace(0, 10, 21) "
   ],
   "id": "c6d9a7c48576f654",
   "execution_count": 13,
   "outputs": []
  },
  {
   "metadata": {
    "ExecuteTime": {
     "end_time": "2024-05-21T19:06:22.831331Z",
     "start_time": "2024-05-21T19:06:22.825711Z"
    }
   },
   "cell_type": "code",
   "source": "np.eye(5) # creates an identity matrix",
   "id": "c345bf67ff283296",
   "execution_count": 14,
   "outputs": []
  },
  {
   "metadata": {
    "ExecuteTime": {
     "end_time": "2024-05-21T19:06:22.839304Z",
     "start_time": "2024-05-21T19:06:22.832338Z"
    }
   },
   "cell_type": "code",
   "source": [
    "np.random.rand(5) # creates an array of 5 random numbers between 0 and 1      \n",
    "np.random.rand(5, 6) # creates a 2D array of random numbers"
   ],
   "id": "7894821a7062b23a",
   "execution_count": 15,
   "outputs": []
  },
  {
   "metadata": {
    "ExecuteTime": {
     "end_time": "2024-05-21T19:06:22.845766Z",
     "start_time": "2024-05-21T19:06:22.840309Z"
    }
   },
   "cell_type": "code",
   "source": "np.random.randn(10) # creates an array of 10 random numbers from a standard normal distribution",
   "id": "d1b97fa9a44632c8",
   "execution_count": 16,
   "outputs": []
  },
  {
   "metadata": {
    "ExecuteTime": {
     "end_time": "2024-05-21T19:06:22.852058Z",
     "start_time": "2024-05-21T19:06:22.846772Z"
    }
   },
   "cell_type": "code",
   "source": [
    "np.random.randint(0, 101, 5) # creates an array of 5 random integers between 0 and 100\n",
    "np.random.randint(0, 101, (4, 5)) # creates an array of 5 random integers between 0 and 100"
   ],
   "id": "94c54e42f08d9ee5",
   "execution_count": 17,
   "outputs": []
  },
  {
   "metadata": {
    "ExecuteTime": {
     "end_time": "2024-05-21T19:06:22.858844Z",
     "start_time": "2024-05-21T19:06:22.853065Z"
    }
   },
   "cell_type": "code",
   "source": [
    "np.random.seed(42) # sets the seed for reproducibility \n",
    "np.random.rand(4)"
   ],
   "id": "e2d52441b4b640d9",
   "execution_count": 18,
   "outputs": []
  },
  {
   "metadata": {
    "ExecuteTime": {
     "end_time": "2024-05-21T19:06:22.863780Z",
     "start_time": "2024-05-21T19:06:22.859851Z"
    }
   },
   "cell_type": "code",
   "source": "arr = np.arange(0, 25)",
   "id": "22bb20fe2d0e8bd9",
   "execution_count": 19,
   "outputs": []
  },
  {
   "metadata": {
    "ExecuteTime": {
     "end_time": "2024-05-21T19:06:22.872092Z",
     "start_time": "2024-05-21T19:06:22.864787Z"
    }
   },
   "cell_type": "code",
   "source": "arr.reshape(5, 5) # reshapes the array into a 5x5 matrix",
   "id": "9007cc8bcd1b8132",
   "execution_count": 20,
   "outputs": []
  },
  {
   "metadata": {
    "ExecuteTime": {
     "end_time": "2024-05-21T19:06:22.877604Z",
     "start_time": "2024-05-21T19:06:22.873101Z"
    }
   },
   "cell_type": "code",
   "source": "ranarr = np.random.randint(0, 101, 10)",
   "id": "7adda13cca31afd3",
   "execution_count": 21,
   "outputs": []
  },
  {
   "metadata": {
    "ExecuteTime": {
     "end_time": "2024-05-21T19:06:22.885947Z",
     "start_time": "2024-05-21T19:06:22.878229Z"
    }
   },
   "cell_type": "code",
   "source": "ranarr.max() # returns the maximum value in the array",
   "id": "4c5c8de537872581",
   "execution_count": 22,
   "outputs": []
  },
  {
   "metadata": {
    "ExecuteTime": {
     "end_time": "2024-05-21T19:06:22.892767Z",
     "start_time": "2024-05-21T19:06:22.886957Z"
    }
   },
   "cell_type": "code",
   "source": "ranarr.min() # returns the minimum value in the array",
   "id": "952ec54d51edffcd",
   "execution_count": 23,
   "outputs": []
  },
  {
   "metadata": {
    "ExecuteTime": {
     "end_time": "2024-05-21T19:06:22.899445Z",
     "start_time": "2024-05-21T19:06:22.893915Z"
    }
   },
   "cell_type": "code",
   "source": "ranarr.argmax() # returns the index of the maximum value in the array",
   "id": "be5c09ae689997bc",
   "execution_count": 24,
   "outputs": []
  },
  {
   "metadata": {
    "ExecuteTime": {
     "end_time": "2024-05-21T19:06:22.905299Z",
     "start_time": "2024-05-21T19:06:22.900452Z"
    }
   },
   "cell_type": "code",
   "source": "ranarr.argmin() # returns the index of the minimum value in the array",
   "id": "79e81e5b2b8c601e",
   "execution_count": 25,
   "outputs": []
  },
  {
   "metadata": {
    "ExecuteTime": {
     "end_time": "2024-05-21T19:06:22.913407Z",
     "start_time": "2024-05-21T19:06:22.906306Z"
    }
   },
   "cell_type": "code",
   "source": "ranarr.dtype # returns the data type of the array",
   "id": "aad1393ff2182a3e",
   "execution_count": 26,
   "outputs": []
  },
  {
   "metadata": {
    "ExecuteTime": {
     "end_time": "2024-05-21T19:06:22.919779Z",
     "start_time": "2024-05-21T19:06:22.914419Z"
    }
   },
   "cell_type": "code",
   "source": "ranarr.shape # returns the shape of the array",
   "id": "7212b904e02adae8",
   "execution_count": 27,
   "outputs": []
  },
  {
   "metadata": {
    "ExecuteTime": {
     "end_time": "2024-05-21T19:06:22.926022Z",
     "start_time": "2024-05-21T19:06:22.920786Z"
    }
   },
   "cell_type": "code",
   "source": "arr = arr.reshape(5, 5)",
   "id": "1c2f523dbfc06290",
   "execution_count": 28,
   "outputs": []
  },
  {
   "metadata": {
    "ExecuteTime": {
     "end_time": "2024-05-21T19:06:22.933779Z",
     "start_time": "2024-05-21T19:06:22.927030Z"
    }
   },
   "cell_type": "code",
   "source": "arr.shape",
   "id": "efa3d448a40036ae",
   "execution_count": 29,
   "outputs": []
  },
  {
   "metadata": {
    "ExecuteTime": {
     "end_time": "2024-05-21T19:06:22.939802Z",
     "start_time": "2024-05-21T19:06:22.933779Z"
    }
   },
   "cell_type": "code",
   "source": [
    "arr.reshape(25, 1) # reshapes the array into a 25x1 matrix\n",
    "arr.reshape(1, 25)"
   ],
   "id": "d1a8a20a57dedb29",
   "execution_count": 30,
   "outputs": []
  },
  {
   "metadata": {},
   "cell_type": "markdown",
   "source": "# 15. NumPy Indexing and Selection",
   "id": "e8838ac45a96e76f"
  },
  {
   "metadata": {
    "ExecuteTime": {
     "end_time": "2024-05-21T19:11:23.872117Z",
     "start_time": "2024-05-21T19:11:23.868934Z"
    }
   },
   "cell_type": "code",
   "source": "arr = np.arange(0, 11)",
   "id": "33fc5898c4dbaf46",
   "execution_count": 31,
   "outputs": []
  },
  {
   "metadata": {
    "ExecuteTime": {
     "end_time": "2024-05-21T19:11:44.686024Z",
     "start_time": "2024-05-21T19:11:44.681416Z"
    }
   },
   "cell_type": "code",
   "source": "arr[8]",
   "id": "2f0e004171715583",
   "execution_count": 35,
   "outputs": []
  },
  {
   "metadata": {
    "ExecuteTime": {
     "end_time": "2024-05-21T19:12:01.816957Z",
     "start_time": "2024-05-21T19:12:01.812231Z"
    }
   },
   "cell_type": "code",
   "source": "arr[1:5]",
   "id": "fced09144c3741b3",
   "execution_count": 37,
   "outputs": []
  },
  {
   "metadata": {
    "ExecuteTime": {
     "end_time": "2024-05-21T19:12:06.342751Z",
     "start_time": "2024-05-21T19:12:06.338722Z"
    }
   },
   "cell_type": "code",
   "source": "arr[0:5]",
   "id": "71cf83fd5ccdb5c8",
   "execution_count": 38,
   "outputs": []
  },
  {
   "metadata": {
    "ExecuteTime": {
     "end_time": "2024-05-21T19:12:28.109828Z",
     "start_time": "2024-05-21T19:12:28.105932Z"
    }
   },
   "cell_type": "code",
   "source": "arr[:5]",
   "id": "47a38e364251e7be",
   "execution_count": 40,
   "outputs": []
  },
  {
   "metadata": {
    "ExecuteTime": {
     "end_time": "2024-05-21T19:12:31.453473Z",
     "start_time": "2024-05-21T19:12:31.448309Z"
    }
   },
   "cell_type": "code",
   "source": "arr[5:]",
   "id": "9a450b9ef38ef8c1",
   "execution_count": 41,
   "outputs": []
  },
  {
   "metadata": {
    "ExecuteTime": {
     "end_time": "2024-05-21T19:13:05.685048Z",
     "start_time": "2024-05-21T19:13:05.680740Z"
    }
   },
   "cell_type": "code",
   "source": "arr[0:5] = 100",
   "id": "24feda4975a0be67",
   "execution_count": 43,
   "outputs": []
  },
  {
   "metadata": {
    "ExecuteTime": {
     "end_time": "2024-05-21T19:13:18.518377Z",
     "start_time": "2024-05-21T19:13:18.514833Z"
    }
   },
   "cell_type": "code",
   "source": "arr ",
   "id": "344ee83d56335bb0",
   "execution_count": 45,
   "outputs": []
  },
  {
   "metadata": {
    "ExecuteTime": {
     "end_time": "2024-05-21T19:13:34.642027Z",
     "start_time": "2024-05-21T19:13:34.638512Z"
    }
   },
   "cell_type": "code",
   "source": "arr = np.arange(0, 11)",
   "id": "446210ee01b9af9b",
   "execution_count": 46,
   "outputs": []
  },
  {
   "metadata": {
    "ExecuteTime": {
     "end_time": "2024-05-21T19:14:14.176902Z",
     "start_time": "2024-05-21T19:14:14.173241Z"
    }
   },
   "cell_type": "code",
   "source": "slice_of_arr = arr[0:5]",
   "id": "63061e55c763f92c",
   "execution_count": 48,
   "outputs": []
  },
  {
   "metadata": {
    "ExecuteTime": {
     "end_time": "2024-05-21T19:14:39.634244Z",
     "start_time": "2024-05-21T19:14:39.630074Z"
    }
   },
   "cell_type": "code",
   "source": "slice_of_arr[:] = 99",
   "id": "5a4d955c522b3b5e",
   "execution_count": 50,
   "outputs": []
  },
  {
   "metadata": {
    "ExecuteTime": {
     "end_time": "2024-05-21T19:14:55.158954Z",
     "start_time": "2024-05-21T19:14:55.154647Z"
    }
   },
   "cell_type": "code",
   "source": "slice_of_arr",
   "id": "6c4850becf323403",
   "execution_count": 52,
   "outputs": []
  },
  {
   "metadata": {
    "ExecuteTime": {
     "end_time": "2024-05-21T19:18:34.356403Z",
     "start_time": "2024-05-21T19:18:34.352403Z"
    }
   },
   "cell_type": "code",
   "source": "arr_copy = arr.copy()",
   "id": "27ed6979e94b88ef",
   "execution_count": 57,
   "outputs": []
  },
  {
   "metadata": {
    "ExecuteTime": {
     "end_time": "2024-05-21T19:18:55.805814Z",
     "start_time": "2024-05-21T19:18:55.802216Z"
    }
   },
   "cell_type": "code",
   "source": "arr_copy[:] = 100",
   "id": "a89fce54ab6f1407",
   "execution_count": 59,
   "outputs": []
  },
  {
   "metadata": {
    "ExecuteTime": {
     "end_time": "2024-05-21T19:19:01.593096Z",
     "start_time": "2024-05-21T19:19:01.588827Z"
    }
   },
   "cell_type": "code",
   "source": "arr_copy",
   "id": "c9f6d34ced4b68db",
   "execution_count": 61,
   "outputs": []
  },
  {
   "metadata": {
    "ExecuteTime": {
     "end_time": "2024-05-21T19:19:08.753068Z",
     "start_time": "2024-05-21T19:19:08.749228Z"
    }
   },
   "cell_type": "code",
   "source": "arr",
   "id": "76b42aba0334c479",
   "execution_count": 63,
   "outputs": []
  },
  {
   "metadata": {
    "ExecuteTime": {
     "end_time": "2024-05-21T19:19:53.901759Z",
     "start_time": "2024-05-21T19:19:53.897640Z"
    }
   },
   "cell_type": "code",
   "source": "arr_2d = np.array([[5, 10, 15], [20, 25, 30], [35, 40, 45]])",
   "id": "598f923cd2644d79",
   "execution_count": 64,
   "outputs": []
  },
  {
   "metadata": {
    "ExecuteTime": {
     "end_time": "2024-05-21T19:20:58.305467Z",
     "start_time": "2024-05-21T19:20:58.301638Z"
    }
   },
   "cell_type": "code",
   "source": "arr_2d.shape",
   "id": "2011e4d328f5c788",
   "execution_count": 67,
   "outputs": []
  },
  {
   "metadata": {
    "ExecuteTime": {
     "end_time": "2024-05-21T19:21:13.915295Z",
     "start_time": "2024-05-21T19:21:13.911015Z"
    }
   },
   "cell_type": "code",
   "source": "arr_2d[0]",
   "id": "c6fcca9f3f31c056",
   "execution_count": 69,
   "outputs": []
  },
  {
   "metadata": {
    "ExecuteTime": {
     "end_time": "2024-05-21T19:21:50.752812Z",
     "start_time": "2024-05-21T19:21:50.748211Z"
    }
   },
   "cell_type": "code",
   "source": "arr_2d[-1]",
   "id": "af19a0bc1499104e",
   "execution_count": 71,
   "outputs": []
  },
  {
   "metadata": {
    "ExecuteTime": {
     "end_time": "2024-05-21T19:22:20.943432Z",
     "start_time": "2024-05-21T19:22:20.938680Z"
    }
   },
   "cell_type": "code",
   "source": [
    "arr_2d[1][1]\n",
    "arr_2d[1, 1]\n",
    "arr_2d[0,2]"
   ],
   "id": "756c4dc1b4091c94",
   "execution_count": 75,
   "outputs": []
  },
  {
   "metadata": {
    "ExecuteTime": {
     "end_time": "2024-05-21T19:23:31.411244Z",
     "start_time": "2024-05-21T19:23:31.406710Z"
    }
   },
   "cell_type": "code",
   "source": "arr_2d",
   "id": "60289833318e0f41",
   "execution_count": 78,
   "outputs": []
  },
  {
   "metadata": {
    "ExecuteTime": {
     "end_time": "2024-05-21T19:25:14.554622Z",
     "start_time": "2024-05-21T19:25:14.550126Z"
    }
   },
   "cell_type": "code",
   "source": "arr_2d[:2, :1]",
   "id": "529e700bc3a208b6",
   "execution_count": 81,
   "outputs": []
  },
  {
   "metadata": {
    "ExecuteTime": {
     "end_time": "2024-05-21T19:25:25.111377Z",
     "start_time": "2024-05-21T19:25:25.108686Z"
    }
   },
   "cell_type": "code",
   "source": "arr = np.arange(1, 11)",
   "id": "397706aeea8f58e6",
   "execution_count": 82,
   "outputs": []
  },
  {
   "metadata": {
    "ExecuteTime": {
     "end_time": "2024-05-21T19:25:27.053950Z",
     "start_time": "2024-05-21T19:25:27.050202Z"
    }
   },
   "cell_type": "code",
   "source": "arr",
   "id": "f8bd211631a97009",
   "execution_count": 83,
   "outputs": []
  },
  {
   "metadata": {
    "ExecuteTime": {
     "end_time": "2024-05-21T19:25:52.356143Z",
     "start_time": "2024-05-21T19:25:52.351640Z"
    }
   },
   "cell_type": "code",
   "source": "arr > 4",
   "id": "7f5115a38ef8fbf5",
   "execution_count": 86,
   "outputs": []
  },
  {
   "metadata": {
    "ExecuteTime": {
     "end_time": "2024-05-21T19:25:59.385548Z",
     "start_time": "2024-05-21T19:25:59.382679Z"
    }
   },
   "cell_type": "code",
   "source": "bool_arr = arr > 4",
   "id": "419a3ef8f55b258b",
   "execution_count": 88,
   "outputs": []
  },
  {
   "metadata": {
    "ExecuteTime": {
     "end_time": "2024-05-21T19:26:45.096663Z",
     "start_time": "2024-05-21T19:26:45.092468Z"
    }
   },
   "cell_type": "code",
   "source": "arr[bool_arr]",
   "id": "224e500c99ae47ae",
   "execution_count": 91,
   "outputs": []
  },
  {
   "metadata": {
    "ExecuteTime": {
     "end_time": "2024-05-21T19:26:49.473208Z",
     "start_time": "2024-05-21T19:26:49.468932Z"
    }
   },
   "cell_type": "code",
   "source": "arr[arr > 5]",
   "id": "31456712b006c1f4",
   "execution_count": 92,
   "outputs": []
  },
  {
   "metadata": {},
   "cell_type": "markdown",
   "source": "# Coding Exercise 2: Coding Exercise Check-in: Selecting Data from Numpy Array",
   "id": "359122c5821f340d"
  },
  {
   "metadata": {
    "ExecuteTime": {
     "end_time": "2024-05-21T19:30:54.991878Z",
     "start_time": "2024-05-21T19:30:54.988259Z"
    }
   },
   "cell_type": "code",
   "source": "dice_rolls = np.array([3, 1, 5, 2, 5, 1, 1, 5, 1, 4, 2, 1, 4, 5, 3, 4, 5, 2, 4, 2, 6, 6, 3, 6, 2, 3, 5, 6, 5])",
   "id": "39d8c058989e0e63",
   "execution_count": 93,
   "outputs": []
  },
  {
   "metadata": {
    "ExecuteTime": {
     "end_time": "2024-05-21T19:33:48.782492Z",
     "start_time": "2024-05-21T19:33:48.778982Z"
    }
   },
   "cell_type": "code",
   "source": "bool_array = dice_rolls > 2",
   "id": "b5c8ac88dc54dae1",
   "execution_count": 96,
   "outputs": []
  },
  {
   "metadata": {
    "ExecuteTime": {
     "end_time": "2024-05-21T19:34:08.534657Z",
     "start_time": "2024-05-21T19:34:08.531219Z"
    }
   },
   "cell_type": "code",
   "source": "total_rolls_over_two = bool_array.sum()",
   "id": "bf862a9a528194ea",
   "execution_count": 98,
   "outputs": []
  },
  {
   "metadata": {
    "ExecuteTime": {
     "end_time": "2024-05-21T19:35:19.877888Z",
     "start_time": "2024-05-21T19:35:19.873433Z"
    }
   },
   "cell_type": "code",
   "source": "total_rolls_over_two",
   "id": "6ef187e099d3273",
   "execution_count": 100,
   "outputs": []
  },
  {
   "metadata": {},
   "cell_type": "markdown",
   "source": "# 16. NumPy Operations",
   "id": "ccc4869e2758f39f"
  },
  {
   "metadata": {
    "ExecuteTime": {
     "end_time": "2024-05-21T19:36:27.165911Z",
     "start_time": "2024-05-21T19:36:27.163365Z"
    }
   },
   "cell_type": "code",
   "source": "arr = np.arange(0, 10)",
   "id": "b312a1b405985bc4",
   "execution_count": 101,
   "outputs": []
  },
  {
   "metadata": {
    "ExecuteTime": {
     "end_time": "2024-05-21T19:36:54.021631Z",
     "start_time": "2024-05-21T19:36:54.017408Z"
    }
   },
   "cell_type": "code",
   "source": "arr + 5 # adds 5 to each element in the array",
   "id": "ba24e27ea869f79c",
   "execution_count": 104,
   "outputs": []
  },
  {
   "metadata": {
    "ExecuteTime": {
     "end_time": "2024-05-21T19:36:59.134593Z",
     "start_time": "2024-05-21T19:36:59.130975Z"
    }
   },
   "cell_type": "code",
   "source": "arr - 2 # subtracts 2 from each element in the array",
   "id": "9eb2648d28bf7ecf",
   "execution_count": 105,
   "outputs": []
  },
  {
   "metadata": {
    "ExecuteTime": {
     "end_time": "2024-05-21T19:37:11.622814Z",
     "start_time": "2024-05-21T19:37:11.618436Z"
    }
   },
   "cell_type": "code",
   "source": "arr + arr # adds two arrays element-wise",
   "id": "621a810da7b27f71",
   "execution_count": 107,
   "outputs": []
  },
  {
   "metadata": {
    "ExecuteTime": {
     "end_time": "2024-05-21T19:37:25.447268Z",
     "start_time": "2024-05-21T19:37:25.443310Z"
    }
   },
   "cell_type": "code",
   "source": "arr - arr # subtracts two arrays element-wise",
   "id": "d42c602bc9583b58",
   "execution_count": 108,
   "outputs": []
  },
  {
   "metadata": {
    "ExecuteTime": {
     "end_time": "2024-05-21T19:38:32.632803Z",
     "start_time": "2024-05-21T19:38:32.627782Z"
    }
   },
   "cell_type": "code",
   "source": "arr / arr # divide by zero warning but not an error",
   "id": "b2af24d06924efeb",
   "execution_count": 110,
   "outputs": []
  },
  {
   "metadata": {
    "ExecuteTime": {
     "end_time": "2024-05-21T19:41:23.324263Z",
     "start_time": "2024-05-21T19:41:23.319511Z"
    }
   },
   "cell_type": "code",
   "source": "1 / arr # divide by zero warning but not an error",
   "id": "2186e31deb5d9119",
   "execution_count": 112,
   "outputs": []
  },
  {
   "metadata": {
    "ExecuteTime": {
     "end_time": "2024-05-21T19:41:36.108359Z",
     "start_time": "2024-05-21T19:41:36.103858Z"
    }
   },
   "cell_type": "code",
   "source": "np.sqrt(arr) # takes the square root of each element in the array",
   "id": "3df3d795d9cec90c",
   "execution_count": 114,
   "outputs": []
  },
  {
   "metadata": {
    "ExecuteTime": {
     "end_time": "2024-05-21T19:42:08.654185Z",
     "start_time": "2024-05-21T19:42:08.650050Z"
    }
   },
   "cell_type": "code",
   "source": "np.sin(arr) # takes the sine of each element in the array",
   "id": "e202e69a588d11d3",
   "execution_count": 116,
   "outputs": []
  },
  {
   "metadata": {
    "ExecuteTime": {
     "end_time": "2024-05-21T19:44:06.187970Z",
     "start_time": "2024-05-21T19:44:06.182970Z"
    }
   },
   "cell_type": "code",
   "source": "np.log(arr) # takes the natural log of each element in the array",
   "id": "1ed6de63f5ce07b",
   "execution_count": 118,
   "outputs": []
  },
  {
   "metadata": {
    "ExecuteTime": {
     "end_time": "2024-05-21T19:44:23.376823Z",
     "start_time": "2024-05-21T19:44:23.372565Z"
    }
   },
   "cell_type": "code",
   "source": "arr.sum() # returns the sum of all elements in the array",
   "id": "e08c94c6b0da4865",
   "execution_count": 119,
   "outputs": []
  },
  {
   "metadata": {
    "ExecuteTime": {
     "end_time": "2024-05-21T19:44:28.313016Z",
     "start_time": "2024-05-21T19:44:28.308955Z"
    }
   },
   "cell_type": "code",
   "source": "arr.mean() # returns the mean of all elements in the array",
   "id": "5b1a42dbc1e76104",
   "execution_count": 120,
   "outputs": []
  },
  {
   "metadata": {
    "ExecuteTime": {
     "end_time": "2024-05-21T19:44:30.311863Z",
     "start_time": "2024-05-21T19:44:30.307289Z"
    }
   },
   "cell_type": "code",
   "source": "arr.max() # returns the maximum value in the array",
   "id": "d4d3b1e8f911e642",
   "execution_count": 121,
   "outputs": []
  },
  {
   "metadata": {
    "ExecuteTime": {
     "end_time": "2024-05-21T19:44:36.847020Z",
     "start_time": "2024-05-21T19:44:36.842626Z"
    }
   },
   "cell_type": "code",
   "source": "arr.var()",
   "id": "30a4d5e9089dccad",
   "execution_count": 122,
   "outputs": []
  },
  {
   "metadata": {
    "ExecuteTime": {
     "end_time": "2024-05-21T19:46:53.799348Z",
     "start_time": "2024-05-21T19:46:53.795838Z"
    }
   },
   "cell_type": "code",
   "source": "arr.std()",
   "id": "1bcde8b0531b581c",
   "execution_count": 125,
   "outputs": []
  },
  {
   "metadata": {
    "ExecuteTime": {
     "end_time": "2024-05-21T19:47:31.154751Z",
     "start_time": "2024-05-21T19:47:31.151915Z"
    }
   },
   "cell_type": "code",
   "source": "arr_2d = np.arange(0, 25).reshape(5, 5)",
   "id": "8ed803fc20504805",
   "execution_count": 128,
   "outputs": []
  },
  {
   "metadata": {
    "ExecuteTime": {
     "end_time": "2024-05-21T19:47:49.961447Z",
     "start_time": "2024-05-21T19:47:49.957608Z"
    }
   },
   "cell_type": "code",
   "source": "arr_2d.sum()",
   "id": "49773553720b1076",
   "execution_count": 131,
   "outputs": []
  },
  {
   "metadata": {
    "ExecuteTime": {
     "end_time": "2024-05-21T19:48:49.803236Z",
     "start_time": "2024-05-21T19:48:49.799545Z"
    }
   },
   "cell_type": "code",
   "source": "arr_2d",
   "id": "ad54661e2b40d800",
   "execution_count": 136,
   "outputs": []
  },
  {
   "metadata": {
    "ExecuteTime": {
     "end_time": "2024-05-21T19:48:01.013896Z",
     "start_time": "2024-05-21T19:48:01.009311Z"
    }
   },
   "cell_type": "code",
   "source": "arr_2d.sum(axis=0) # returns the sum of each column",
   "id": "b2842fdb237b481d",
   "execution_count": 132,
   "outputs": []
  },
  {
   "metadata": {
    "ExecuteTime": {
     "end_time": "2024-05-21T19:48:05.321911Z",
     "start_time": "2024-05-21T19:48:05.317999Z"
    }
   },
   "cell_type": "code",
   "source": "arr_2d.sum(axis=1) # returns the sum of each row",
   "id": "a708e6cd09ea85dd",
   "execution_count": 133,
   "outputs": []
  },
  {
   "metadata": {
    "ExecuteTime": {
     "end_time": "2024-05-21T19:49:42.915842Z",
     "start_time": "2024-05-21T19:49:42.912065Z"
    }
   },
   "cell_type": "code",
   "source": "arr_2d[:, 0].sum()",
   "id": "3413d37f85890cf",
   "execution_count": 144,
   "outputs": []
  },
  {
   "metadata": {},
   "cell_type": "markdown",
   "source": "# Coding Exercise 3: Check-In: Operations on NumPy Array",
   "id": "342dc898f806437"
  },
  {
   "metadata": {
    "ExecuteTime": {
     "end_time": "2024-05-21T19:52:51.698492Z",
     "start_time": "2024-05-21T19:52:51.694476Z"
    }
   },
   "cell_type": "code",
   "source": [
    "# TASK: Use numpy to check the total remaining in the account after the series of transactions.\n",
    "# NOTE: Many different ways to do this! \n",
    "# MAKE SURE TO READ THE FULL INSTRUCTIONS ABOVE CAREFULLY, AS THE EVALUATION SCRIPT IS VERY STRICT.\n",
    "# Link to Solution: https://gist.github.com/Pierian-Data/225a449484e12e0535fbbac2231b426b\n",
    "\n",
    "account_transactions = np.array([100,-200,300,-400,100,100,-230,450,500,2000])\n",
    "\n",
    "account_total =  account_transactions.sum()\n",
    "account_total"
   ],
   "id": "619548c2abfb0efc",
   "execution_count": 146,
   "outputs": []
  },
  {
   "metadata": {},
   "cell_type": "markdown",
   "source": "# 17. NumPy Exercises",
   "id": "a268407d05000e3d"
  },
  {
   "metadata": {},
   "cell_type": "code",
   "execution_count": null,
   "source": "",
   "id": "dbddfddacee64ef8",
   "outputs": []
  }
 ],
 "metadata": {
  "kernelspec": {
   "display_name": "Python 3",
   "language": "python",
   "name": "python3"
  },
  "language_info": {
   "codemirror_mode": {
    "name": "ipython",
    "version": 2
   },
   "file_extension": ".py",
   "mimetype": "text/x-python",
   "name": "python",
   "nbconvert_exporter": "python",
   "pygments_lexer": "ipython2",
   "version": "2.7.6"
  }
 },
 "nbformat": 4,
 "nbformat_minor": 5
}
