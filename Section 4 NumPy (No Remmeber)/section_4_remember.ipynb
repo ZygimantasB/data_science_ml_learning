{
 "cells": [
  {
   "cell_type": "code",
   "id": "initial_id",
   "metadata": {
    "collapsed": true,
    "ExecuteTime": {
     "end_time": "2024-05-20T17:35:11.594637Z",
     "start_time": "2024-05-20T17:35:11.590008Z"
    }
   },
   "source": [
    "import pandas as pd\n",
    "import numpy as np"
   ],
   "outputs": [],
   "execution_count": 2
  },
  {
   "metadata": {
    "ExecuteTime": {
     "end_time": "2024-05-20T17:39:32.838567Z",
     "start_time": "2024-05-20T17:39:32.833851Z"
    }
   },
   "cell_type": "code",
   "source": [
    "lists = [[1, 2, 3, 4, 5], [6, 7, 8, 9, 10]]\n",
    "\n",
    "np.array(lists)"
   ],
   "id": "e7869cdc7b01feac",
   "outputs": [
    {
     "data": {
      "text/plain": [
       "array([[ 1,  2,  3,  4,  5],\n",
       "       [ 6,  7,  8,  9, 10]])"
      ]
     },
     "execution_count": 5,
     "metadata": {},
     "output_type": "execute_result"
    }
   ],
   "execution_count": 5
  },
  {
   "metadata": {
    "ExecuteTime": {
     "end_time": "2024-05-20T17:41:05.764742Z",
     "start_time": "2024-05-20T17:41:05.760825Z"
    }
   },
   "cell_type": "code",
   "source": [
    "np.arange(0, 10)\n",
    "np.arange(0, 10, 2)"
   ],
   "id": "13a21772ba6889d",
   "outputs": [
    {
     "data": {
      "text/plain": [
       "array([0, 2, 4, 6, 8])"
      ]
     },
     "execution_count": 12,
     "metadata": {},
     "output_type": "execute_result"
    }
   ],
   "execution_count": 12
  },
  {
   "metadata": {
    "ExecuteTime": {
     "end_time": "2024-05-20T17:43:16.516260Z",
     "start_time": "2024-05-20T17:43:16.511240Z"
    }
   },
   "cell_type": "code",
   "source": "np.zeros((10,20))",
   "id": "d1cc82bb4f9a39ab",
   "outputs": [
    {
     "data": {
      "text/plain": [
       "array([[0., 0., 0., 0., 0., 0., 0., 0., 0., 0., 0., 0., 0., 0., 0., 0.,\n",
       "        0., 0., 0., 0.],\n",
       "       [0., 0., 0., 0., 0., 0., 0., 0., 0., 0., 0., 0., 0., 0., 0., 0.,\n",
       "        0., 0., 0., 0.],\n",
       "       [0., 0., 0., 0., 0., 0., 0., 0., 0., 0., 0., 0., 0., 0., 0., 0.,\n",
       "        0., 0., 0., 0.],\n",
       "       [0., 0., 0., 0., 0., 0., 0., 0., 0., 0., 0., 0., 0., 0., 0., 0.,\n",
       "        0., 0., 0., 0.],\n",
       "       [0., 0., 0., 0., 0., 0., 0., 0., 0., 0., 0., 0., 0., 0., 0., 0.,\n",
       "        0., 0., 0., 0.],\n",
       "       [0., 0., 0., 0., 0., 0., 0., 0., 0., 0., 0., 0., 0., 0., 0., 0.,\n",
       "        0., 0., 0., 0.],\n",
       "       [0., 0., 0., 0., 0., 0., 0., 0., 0., 0., 0., 0., 0., 0., 0., 0.,\n",
       "        0., 0., 0., 0.],\n",
       "       [0., 0., 0., 0., 0., 0., 0., 0., 0., 0., 0., 0., 0., 0., 0., 0.,\n",
       "        0., 0., 0., 0.],\n",
       "       [0., 0., 0., 0., 0., 0., 0., 0., 0., 0., 0., 0., 0., 0., 0., 0.,\n",
       "        0., 0., 0., 0.],\n",
       "       [0., 0., 0., 0., 0., 0., 0., 0., 0., 0., 0., 0., 0., 0., 0., 0.,\n",
       "        0., 0., 0., 0.]])"
      ]
     },
     "execution_count": 18,
     "metadata": {},
     "output_type": "execute_result"
    }
   ],
   "execution_count": 18
  },
  {
   "metadata": {
    "ExecuteTime": {
     "end_time": "2024-05-20T17:44:30.959626Z",
     "start_time": "2024-05-20T17:44:30.954076Z"
    }
   },
   "cell_type": "code",
   "source": "np.ones((10, 20))",
   "id": "8a13ffbc11bba761",
   "outputs": [
    {
     "data": {
      "text/plain": [
       "array([[1., 1., 1., 1., 1., 1., 1., 1., 1., 1., 1., 1., 1., 1., 1., 1.,\n",
       "        1., 1., 1., 1.],\n",
       "       [1., 1., 1., 1., 1., 1., 1., 1., 1., 1., 1., 1., 1., 1., 1., 1.,\n",
       "        1., 1., 1., 1.],\n",
       "       [1., 1., 1., 1., 1., 1., 1., 1., 1., 1., 1., 1., 1., 1., 1., 1.,\n",
       "        1., 1., 1., 1.],\n",
       "       [1., 1., 1., 1., 1., 1., 1., 1., 1., 1., 1., 1., 1., 1., 1., 1.,\n",
       "        1., 1., 1., 1.],\n",
       "       [1., 1., 1., 1., 1., 1., 1., 1., 1., 1., 1., 1., 1., 1., 1., 1.,\n",
       "        1., 1., 1., 1.],\n",
       "       [1., 1., 1., 1., 1., 1., 1., 1., 1., 1., 1., 1., 1., 1., 1., 1.,\n",
       "        1., 1., 1., 1.],\n",
       "       [1., 1., 1., 1., 1., 1., 1., 1., 1., 1., 1., 1., 1., 1., 1., 1.,\n",
       "        1., 1., 1., 1.],\n",
       "       [1., 1., 1., 1., 1., 1., 1., 1., 1., 1., 1., 1., 1., 1., 1., 1.,\n",
       "        1., 1., 1., 1.],\n",
       "       [1., 1., 1., 1., 1., 1., 1., 1., 1., 1., 1., 1., 1., 1., 1., 1.,\n",
       "        1., 1., 1., 1.],\n",
       "       [1., 1., 1., 1., 1., 1., 1., 1., 1., 1., 1., 1., 1., 1., 1., 1.,\n",
       "        1., 1., 1., 1.]])"
      ]
     },
     "execution_count": 20,
     "metadata": {},
     "output_type": "execute_result"
    }
   ],
   "execution_count": 20
  },
  {
   "metadata": {
    "ExecuteTime": {
     "end_time": "2024-05-20T17:53:51.982851Z",
     "start_time": "2024-05-20T17:53:51.978164Z"
    }
   },
   "cell_type": "code",
   "source": "np.linspace(0, 10, 5)",
   "id": "42576d2bb75f2ee6",
   "outputs": [
    {
     "data": {
      "text/plain": [
       "array([ 0. ,  2.5,  5. ,  7.5, 10. ])"
      ]
     },
     "execution_count": 31,
     "metadata": {},
     "output_type": "execute_result"
    }
   ],
   "execution_count": 31
  },
  {
   "metadata": {
    "ExecuteTime": {
     "end_time": "2024-05-20T17:55:35.092115Z",
     "start_time": "2024-05-20T17:55:35.087409Z"
    }
   },
   "cell_type": "code",
   "source": [
    "np.eye(42)\n",
    "np.random.rand(5)"
   ],
   "id": "7a969a0e6f6d3f2",
   "outputs": [
    {
     "data": {
      "text/plain": [
       "array([0.68078131, 0.19132551, 0.97751933, 0.65239119, 0.58914904])"
      ]
     },
     "execution_count": 53,
     "metadata": {},
     "output_type": "execute_result"
    }
   ],
   "execution_count": 53
  },
  {
   "metadata": {
    "ExecuteTime": {
     "end_time": "2024-05-20T18:00:21.831834Z",
     "start_time": "2024-05-20T18:00:21.827807Z"
    }
   },
   "cell_type": "code",
   "source": "np.random.randint(1, 100, (1, 4))",
   "id": "a36d24a6a9002272",
   "outputs": [
    {
     "data": {
      "text/plain": [
       "array([[97, 82, 44, 91]])"
      ]
     },
     "execution_count": 65,
     "metadata": {},
     "output_type": "execute_result"
    }
   ],
   "execution_count": 65
  },
  {
   "metadata": {
    "ExecuteTime": {
     "end_time": "2024-05-20T18:00:54.783351Z",
     "start_time": "2024-05-20T18:00:54.778676Z"
    }
   },
   "cell_type": "code",
   "source": "np.eye(5)",
   "id": "c22180db70bf443d",
   "outputs": [
    {
     "data": {
      "text/plain": [
       "array([[1., 0., 0., 0., 0.],\n",
       "       [0., 1., 0., 0., 0.],\n",
       "       [0., 0., 1., 0., 0.],\n",
       "       [0., 0., 0., 1., 0.],\n",
       "       [0., 0., 0., 0., 1.]])"
      ]
     },
     "execution_count": 67,
     "metadata": {},
     "output_type": "execute_result"
    }
   ],
   "execution_count": 67
  },
  {
   "metadata": {
    "ExecuteTime": {
     "end_time": "2024-05-20T18:04:30.246315Z",
     "start_time": "2024-05-20T18:04:30.241861Z"
    }
   },
   "cell_type": "code",
   "source": [
    "np.random.seed(42)\n",
    "np.random.randint(1, 101, (1, 4))"
   ],
   "id": "b9421b2ab61ba33c",
   "outputs": [
    {
     "data": {
      "text/plain": [
       "array([[52, 93, 15, 72]])"
      ]
     },
     "execution_count": 78,
     "metadata": {},
     "output_type": "execute_result"
    }
   ],
   "execution_count": 78
  },
  {
   "metadata": {
    "ExecuteTime": {
     "end_time": "2024-05-20T18:07:12.272425Z",
     "start_time": "2024-05-20T18:07:12.268360Z"
    }
   },
   "cell_type": "code",
   "source": [
    "np.random.seed(42)\n",
    "ranarr = np.random.randint(0, 500, 10)\n",
    "ranarr"
   ],
   "id": "8ebd5305848f0f14",
   "outputs": [
    {
     "data": {
      "text/plain": [
       "array([102, 435, 348, 270, 106,  71, 188,  20, 102, 121])"
      ]
     },
     "execution_count": 85,
     "metadata": {},
     "output_type": "execute_result"
    }
   ],
   "execution_count": 85
  },
  {
   "metadata": {
    "ExecuteTime": {
     "end_time": "2024-05-20T18:07:57.012002Z",
     "start_time": "2024-05-20T18:07:57.008265Z"
    }
   },
   "cell_type": "code",
   "source": "ranarr.max()",
   "id": "ba45839cf53ec6bf",
   "outputs": [
    {
     "data": {
      "text/plain": [
       "435"
      ]
     },
     "execution_count": 87,
     "metadata": {},
     "output_type": "execute_result"
    }
   ],
   "execution_count": 87
  },
  {
   "metadata": {
    "ExecuteTime": {
     "end_time": "2024-05-20T18:07:59.464837Z",
     "start_time": "2024-05-20T18:07:59.461375Z"
    }
   },
   "cell_type": "code",
   "source": "ranarr.min()",
   "id": "79e42fc3761b9f09",
   "outputs": [
    {
     "data": {
      "text/plain": [
       "20"
      ]
     },
     "execution_count": 88,
     "metadata": {},
     "output_type": "execute_result"
    }
   ],
   "execution_count": 88
  },
  {
   "metadata": {
    "ExecuteTime": {
     "end_time": "2024-05-20T18:08:07.961987Z",
     "start_time": "2024-05-20T18:08:07.958480Z"
    }
   },
   "cell_type": "code",
   "source": "ranarr.argmax()",
   "id": "a684a364486a963f",
   "outputs": [
    {
     "data": {
      "text/plain": [
       "1"
      ]
     },
     "execution_count": 89,
     "metadata": {},
     "output_type": "execute_result"
    }
   ],
   "execution_count": 89
  },
  {
   "metadata": {
    "ExecuteTime": {
     "end_time": "2024-05-20T18:08:15.322837Z",
     "start_time": "2024-05-20T18:08:15.319284Z"
    }
   },
   "cell_type": "code",
   "source": "ranarr.argmin()",
   "id": "c9f91c27ec8f06d2",
   "outputs": [
    {
     "data": {
      "text/plain": [
       "7"
      ]
     },
     "execution_count": 90,
     "metadata": {},
     "output_type": "execute_result"
    }
   ],
   "execution_count": 90
  },
  {
   "metadata": {},
   "cell_type": "code",
   "outputs": [],
   "execution_count": null,
   "source": "",
   "id": "d614b52b6e815e9f"
  }
 ],
 "metadata": {
  "kernelspec": {
   "display_name": "Python 3",
   "language": "python",
   "name": "python3"
  },
  "language_info": {
   "codemirror_mode": {
    "name": "ipython",
    "version": 2
   },
   "file_extension": ".py",
   "mimetype": "text/x-python",
   "name": "python",
   "nbconvert_exporter": "python",
   "pygments_lexer": "ipython2",
   "version": "2.7.6"
  }
 },
 "nbformat": 4,
 "nbformat_minor": 5
}
