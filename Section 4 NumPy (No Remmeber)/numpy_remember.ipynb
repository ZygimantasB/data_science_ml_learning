{
 "cells": [
  {
   "cell_type": "code",
   "id": "initial_id",
   "metadata": {
    "collapsed": true,
    "ExecuteTime": {
     "end_time": "2024-06-08T14:17:05.459306Z",
     "start_time": "2024-06-08T14:17:04.280424Z"
    }
   },
   "source": [
    "import numpy as np\n",
    "import pandas as pd"
   ],
   "outputs": [],
   "execution_count": 1
  },
  {
   "metadata": {
    "ExecuteTime": {
     "end_time": "2024-06-08T14:17:05.462819Z",
     "start_time": "2024-06-08T14:17:05.460313Z"
    }
   },
   "cell_type": "code",
   "source": "my_list = [1, 2, 3]",
   "id": "dc647ff5e9827141",
   "outputs": [],
   "execution_count": 2
  },
  {
   "metadata": {
    "ExecuteTime": {
     "end_time": "2024-06-08T14:17:05.473321Z",
     "start_time": "2024-06-08T14:17:05.462819Z"
    }
   },
   "cell_type": "code",
   "source": "my_array = np.array(my_list)",
   "id": "d4b744d58dd45cad",
   "outputs": [],
   "execution_count": 3
  },
  {
   "metadata": {
    "ExecuteTime": {
     "end_time": "2024-06-08T14:17:05.481477Z",
     "start_time": "2024-06-08T14:17:05.473321Z"
    }
   },
   "cell_type": "code",
   "source": "my_array",
   "id": "dafc878ed2e7e56c",
   "outputs": [
    {
     "data": {
      "text/plain": [
       "array([1, 2, 3])"
      ]
     },
     "execution_count": 4,
     "metadata": {},
     "output_type": "execute_result"
    }
   ],
   "execution_count": 4
  },
  {
   "metadata": {
    "ExecuteTime": {
     "end_time": "2024-06-08T14:17:05.487409Z",
     "start_time": "2024-06-08T14:17:05.482983Z"
    }
   },
   "cell_type": "code",
   "source": [
    "my_matrix = [[1, 2, 3], [4, 5, 6], [7, 8, 9]]\n",
    "my_array"
   ],
   "id": "2aff418bc6103fde",
   "outputs": [
    {
     "data": {
      "text/plain": [
       "array([1, 2, 3])"
      ]
     },
     "execution_count": 5,
     "metadata": {},
     "output_type": "execute_result"
    }
   ],
   "execution_count": 5
  },
  {
   "metadata": {
    "ExecuteTime": {
     "end_time": "2024-06-08T14:17:05.493181Z",
     "start_time": "2024-06-08T14:17:05.487925Z"
    }
   },
   "cell_type": "code",
   "source": "np.array(my_matrix)",
   "id": "d4204179deae7d29",
   "outputs": [
    {
     "data": {
      "text/plain": [
       "array([[1, 2, 3],\n",
       "       [4, 5, 6],\n",
       "       [7, 8, 9]])"
      ]
     },
     "execution_count": 6,
     "metadata": {},
     "output_type": "execute_result"
    }
   ],
   "execution_count": 6
  },
  {
   "metadata": {
    "ExecuteTime": {
     "end_time": "2024-06-08T14:17:05.506446Z",
     "start_time": "2024-06-08T14:17:05.493181Z"
    }
   },
   "cell_type": "code",
   "source": "pd.DataFrame(np.arange(0, 50))",
   "id": "cc187c1fdf8b631d",
   "outputs": [
    {
     "data": {
      "text/plain": [
       "     0\n",
       "0    0\n",
       "1    1\n",
       "2    2\n",
       "3    3\n",
       "4    4\n",
       "5    5\n",
       "6    6\n",
       "7    7\n",
       "8    8\n",
       "9    9\n",
       "10  10\n",
       "11  11\n",
       "12  12\n",
       "13  13\n",
       "14  14\n",
       "15  15\n",
       "16  16\n",
       "17  17\n",
       "18  18\n",
       "19  19\n",
       "20  20\n",
       "21  21\n",
       "22  22\n",
       "23  23\n",
       "24  24\n",
       "25  25\n",
       "26  26\n",
       "27  27\n",
       "28  28\n",
       "29  29\n",
       "30  30\n",
       "31  31\n",
       "32  32\n",
       "33  33\n",
       "34  34\n",
       "35  35\n",
       "36  36\n",
       "37  37\n",
       "38  38\n",
       "39  39\n",
       "40  40\n",
       "41  41\n",
       "42  42\n",
       "43  43\n",
       "44  44\n",
       "45  45\n",
       "46  46\n",
       "47  47\n",
       "48  48\n",
       "49  49"
      ],
      "text/html": [
       "<div>\n",
       "<style scoped>\n",
       "    .dataframe tbody tr th:only-of-type {\n",
       "        vertical-align: middle;\n",
       "    }\n",
       "\n",
       "    .dataframe tbody tr th {\n",
       "        vertical-align: top;\n",
       "    }\n",
       "\n",
       "    .dataframe thead th {\n",
       "        text-align: right;\n",
       "    }\n",
       "</style>\n",
       "<table border=\"1\" class=\"dataframe\">\n",
       "  <thead>\n",
       "    <tr style=\"text-align: right;\">\n",
       "      <th></th>\n",
       "      <th>0</th>\n",
       "    </tr>\n",
       "  </thead>\n",
       "  <tbody>\n",
       "    <tr>\n",
       "      <th>0</th>\n",
       "      <td>0</td>\n",
       "    </tr>\n",
       "    <tr>\n",
       "      <th>1</th>\n",
       "      <td>1</td>\n",
       "    </tr>\n",
       "    <tr>\n",
       "      <th>2</th>\n",
       "      <td>2</td>\n",
       "    </tr>\n",
       "    <tr>\n",
       "      <th>3</th>\n",
       "      <td>3</td>\n",
       "    </tr>\n",
       "    <tr>\n",
       "      <th>4</th>\n",
       "      <td>4</td>\n",
       "    </tr>\n",
       "    <tr>\n",
       "      <th>5</th>\n",
       "      <td>5</td>\n",
       "    </tr>\n",
       "    <tr>\n",
       "      <th>6</th>\n",
       "      <td>6</td>\n",
       "    </tr>\n",
       "    <tr>\n",
       "      <th>7</th>\n",
       "      <td>7</td>\n",
       "    </tr>\n",
       "    <tr>\n",
       "      <th>8</th>\n",
       "      <td>8</td>\n",
       "    </tr>\n",
       "    <tr>\n",
       "      <th>9</th>\n",
       "      <td>9</td>\n",
       "    </tr>\n",
       "    <tr>\n",
       "      <th>10</th>\n",
       "      <td>10</td>\n",
       "    </tr>\n",
       "    <tr>\n",
       "      <th>11</th>\n",
       "      <td>11</td>\n",
       "    </tr>\n",
       "    <tr>\n",
       "      <th>12</th>\n",
       "      <td>12</td>\n",
       "    </tr>\n",
       "    <tr>\n",
       "      <th>13</th>\n",
       "      <td>13</td>\n",
       "    </tr>\n",
       "    <tr>\n",
       "      <th>14</th>\n",
       "      <td>14</td>\n",
       "    </tr>\n",
       "    <tr>\n",
       "      <th>15</th>\n",
       "      <td>15</td>\n",
       "    </tr>\n",
       "    <tr>\n",
       "      <th>16</th>\n",
       "      <td>16</td>\n",
       "    </tr>\n",
       "    <tr>\n",
       "      <th>17</th>\n",
       "      <td>17</td>\n",
       "    </tr>\n",
       "    <tr>\n",
       "      <th>18</th>\n",
       "      <td>18</td>\n",
       "    </tr>\n",
       "    <tr>\n",
       "      <th>19</th>\n",
       "      <td>19</td>\n",
       "    </tr>\n",
       "    <tr>\n",
       "      <th>20</th>\n",
       "      <td>20</td>\n",
       "    </tr>\n",
       "    <tr>\n",
       "      <th>21</th>\n",
       "      <td>21</td>\n",
       "    </tr>\n",
       "    <tr>\n",
       "      <th>22</th>\n",
       "      <td>22</td>\n",
       "    </tr>\n",
       "    <tr>\n",
       "      <th>23</th>\n",
       "      <td>23</td>\n",
       "    </tr>\n",
       "    <tr>\n",
       "      <th>24</th>\n",
       "      <td>24</td>\n",
       "    </tr>\n",
       "    <tr>\n",
       "      <th>25</th>\n",
       "      <td>25</td>\n",
       "    </tr>\n",
       "    <tr>\n",
       "      <th>26</th>\n",
       "      <td>26</td>\n",
       "    </tr>\n",
       "    <tr>\n",
       "      <th>27</th>\n",
       "      <td>27</td>\n",
       "    </tr>\n",
       "    <tr>\n",
       "      <th>28</th>\n",
       "      <td>28</td>\n",
       "    </tr>\n",
       "    <tr>\n",
       "      <th>29</th>\n",
       "      <td>29</td>\n",
       "    </tr>\n",
       "    <tr>\n",
       "      <th>30</th>\n",
       "      <td>30</td>\n",
       "    </tr>\n",
       "    <tr>\n",
       "      <th>31</th>\n",
       "      <td>31</td>\n",
       "    </tr>\n",
       "    <tr>\n",
       "      <th>32</th>\n",
       "      <td>32</td>\n",
       "    </tr>\n",
       "    <tr>\n",
       "      <th>33</th>\n",
       "      <td>33</td>\n",
       "    </tr>\n",
       "    <tr>\n",
       "      <th>34</th>\n",
       "      <td>34</td>\n",
       "    </tr>\n",
       "    <tr>\n",
       "      <th>35</th>\n",
       "      <td>35</td>\n",
       "    </tr>\n",
       "    <tr>\n",
       "      <th>36</th>\n",
       "      <td>36</td>\n",
       "    </tr>\n",
       "    <tr>\n",
       "      <th>37</th>\n",
       "      <td>37</td>\n",
       "    </tr>\n",
       "    <tr>\n",
       "      <th>38</th>\n",
       "      <td>38</td>\n",
       "    </tr>\n",
       "    <tr>\n",
       "      <th>39</th>\n",
       "      <td>39</td>\n",
       "    </tr>\n",
       "    <tr>\n",
       "      <th>40</th>\n",
       "      <td>40</td>\n",
       "    </tr>\n",
       "    <tr>\n",
       "      <th>41</th>\n",
       "      <td>41</td>\n",
       "    </tr>\n",
       "    <tr>\n",
       "      <th>42</th>\n",
       "      <td>42</td>\n",
       "    </tr>\n",
       "    <tr>\n",
       "      <th>43</th>\n",
       "      <td>43</td>\n",
       "    </tr>\n",
       "    <tr>\n",
       "      <th>44</th>\n",
       "      <td>44</td>\n",
       "    </tr>\n",
       "    <tr>\n",
       "      <th>45</th>\n",
       "      <td>45</td>\n",
       "    </tr>\n",
       "    <tr>\n",
       "      <th>46</th>\n",
       "      <td>46</td>\n",
       "    </tr>\n",
       "    <tr>\n",
       "      <th>47</th>\n",
       "      <td>47</td>\n",
       "    </tr>\n",
       "    <tr>\n",
       "      <th>48</th>\n",
       "      <td>48</td>\n",
       "    </tr>\n",
       "    <tr>\n",
       "      <th>49</th>\n",
       "      <td>49</td>\n",
       "    </tr>\n",
       "  </tbody>\n",
       "</table>\n",
       "</div>"
      ]
     },
     "execution_count": 7,
     "metadata": {},
     "output_type": "execute_result"
    }
   ],
   "execution_count": 7
  },
  {
   "metadata": {
    "ExecuteTime": {
     "end_time": "2024-06-08T14:17:05.510342Z",
     "start_time": "2024-06-08T14:17:05.506446Z"
    }
   },
   "cell_type": "code",
   "source": "np.arange(0, 50, 10)",
   "id": "96b50b641961b3a2",
   "outputs": [
    {
     "data": {
      "text/plain": [
       "array([ 0, 10, 20, 30, 40])"
      ]
     },
     "execution_count": 8,
     "metadata": {},
     "output_type": "execute_result"
    }
   ],
   "execution_count": 8
  },
  {
   "metadata": {
    "ExecuteTime": {
     "end_time": "2024-06-08T14:17:05.515921Z",
     "start_time": "2024-06-08T14:17:05.510342Z"
    }
   },
   "cell_type": "code",
   "source": "np.zeros(10)",
   "id": "a064aa9bd4c324ce",
   "outputs": [
    {
     "data": {
      "text/plain": [
       "array([0., 0., 0., 0., 0., 0., 0., 0., 0., 0.])"
      ]
     },
     "execution_count": 9,
     "metadata": {},
     "output_type": "execute_result"
    }
   ],
   "execution_count": 9
  },
  {
   "metadata": {
    "ExecuteTime": {
     "end_time": "2024-06-08T14:17:05.522946Z",
     "start_time": "2024-06-08T14:17:05.515921Z"
    }
   },
   "cell_type": "code",
   "source": "np.ones(10)",
   "id": "d03ef53c169a7bb8",
   "outputs": [
    {
     "data": {
      "text/plain": [
       "array([1., 1., 1., 1., 1., 1., 1., 1., 1., 1.])"
      ]
     },
     "execution_count": 10,
     "metadata": {},
     "output_type": "execute_result"
    }
   ],
   "execution_count": 10
  },
  {
   "metadata": {
    "ExecuteTime": {
     "end_time": "2024-06-08T14:17:05.527339Z",
     "start_time": "2024-06-08T14:17:05.522946Z"
    }
   },
   "cell_type": "code",
   "source": "np.ones((9, 10))",
   "id": "e417a1a0713041fb",
   "outputs": [
    {
     "data": {
      "text/plain": [
       "array([[1., 1., 1., 1., 1., 1., 1., 1., 1., 1.],\n",
       "       [1., 1., 1., 1., 1., 1., 1., 1., 1., 1.],\n",
       "       [1., 1., 1., 1., 1., 1., 1., 1., 1., 1.],\n",
       "       [1., 1., 1., 1., 1., 1., 1., 1., 1., 1.],\n",
       "       [1., 1., 1., 1., 1., 1., 1., 1., 1., 1.],\n",
       "       [1., 1., 1., 1., 1., 1., 1., 1., 1., 1.],\n",
       "       [1., 1., 1., 1., 1., 1., 1., 1., 1., 1.],\n",
       "       [1., 1., 1., 1., 1., 1., 1., 1., 1., 1.],\n",
       "       [1., 1., 1., 1., 1., 1., 1., 1., 1., 1.]])"
      ]
     },
     "execution_count": 11,
     "metadata": {},
     "output_type": "execute_result"
    }
   ],
   "execution_count": 11
  },
  {
   "metadata": {
    "ExecuteTime": {
     "end_time": "2024-06-08T14:17:05.532855Z",
     "start_time": "2024-06-08T14:17:05.527339Z"
    }
   },
   "cell_type": "code",
   "source": "np.linspace(0, 10, 3)",
   "id": "6b302e0c6b3da83e",
   "outputs": [
    {
     "data": {
      "text/plain": [
       "array([ 0.,  5., 10.])"
      ]
     },
     "execution_count": 12,
     "metadata": {},
     "output_type": "execute_result"
    }
   ],
   "execution_count": 12
  },
  {
   "metadata": {
    "ExecuteTime": {
     "end_time": "2024-06-08T14:17:05.540039Z",
     "start_time": "2024-06-08T14:17:05.532855Z"
    }
   },
   "cell_type": "code",
   "source": "pd.DataFrame(np.linspace(0, 10, 85))",
   "id": "de44a6f637c49159",
   "outputs": [
    {
     "data": {
      "text/plain": [
       "            0\n",
       "0    0.000000\n",
       "1    0.119048\n",
       "2    0.238095\n",
       "3    0.357143\n",
       "4    0.476190\n",
       "..        ...\n",
       "80   9.523810\n",
       "81   9.642857\n",
       "82   9.761905\n",
       "83   9.880952\n",
       "84  10.000000\n",
       "\n",
       "[85 rows x 1 columns]"
      ],
      "text/html": [
       "<div>\n",
       "<style scoped>\n",
       "    .dataframe tbody tr th:only-of-type {\n",
       "        vertical-align: middle;\n",
       "    }\n",
       "\n",
       "    .dataframe tbody tr th {\n",
       "        vertical-align: top;\n",
       "    }\n",
       "\n",
       "    .dataframe thead th {\n",
       "        text-align: right;\n",
       "    }\n",
       "</style>\n",
       "<table border=\"1\" class=\"dataframe\">\n",
       "  <thead>\n",
       "    <tr style=\"text-align: right;\">\n",
       "      <th></th>\n",
       "      <th>0</th>\n",
       "    </tr>\n",
       "  </thead>\n",
       "  <tbody>\n",
       "    <tr>\n",
       "      <th>0</th>\n",
       "      <td>0.000000</td>\n",
       "    </tr>\n",
       "    <tr>\n",
       "      <th>1</th>\n",
       "      <td>0.119048</td>\n",
       "    </tr>\n",
       "    <tr>\n",
       "      <th>2</th>\n",
       "      <td>0.238095</td>\n",
       "    </tr>\n",
       "    <tr>\n",
       "      <th>3</th>\n",
       "      <td>0.357143</td>\n",
       "    </tr>\n",
       "    <tr>\n",
       "      <th>4</th>\n",
       "      <td>0.476190</td>\n",
       "    </tr>\n",
       "    <tr>\n",
       "      <th>...</th>\n",
       "      <td>...</td>\n",
       "    </tr>\n",
       "    <tr>\n",
       "      <th>80</th>\n",
       "      <td>9.523810</td>\n",
       "    </tr>\n",
       "    <tr>\n",
       "      <th>81</th>\n",
       "      <td>9.642857</td>\n",
       "    </tr>\n",
       "    <tr>\n",
       "      <th>82</th>\n",
       "      <td>9.761905</td>\n",
       "    </tr>\n",
       "    <tr>\n",
       "      <th>83</th>\n",
       "      <td>9.880952</td>\n",
       "    </tr>\n",
       "    <tr>\n",
       "      <th>84</th>\n",
       "      <td>10.000000</td>\n",
       "    </tr>\n",
       "  </tbody>\n",
       "</table>\n",
       "<p>85 rows × 1 columns</p>\n",
       "</div>"
      ]
     },
     "execution_count": 13,
     "metadata": {},
     "output_type": "execute_result"
    }
   ],
   "execution_count": 13
  },
  {
   "metadata": {
    "ExecuteTime": {
     "end_time": "2024-06-08T14:17:05.546054Z",
     "start_time": "2024-06-08T14:17:05.542047Z"
    }
   },
   "cell_type": "code",
   "source": "np.eye(5)",
   "id": "2d4a66bdc1aa91ed",
   "outputs": [
    {
     "data": {
      "text/plain": [
       "array([[1., 0., 0., 0., 0.],\n",
       "       [0., 1., 0., 0., 0.],\n",
       "       [0., 0., 1., 0., 0.],\n",
       "       [0., 0., 0., 1., 0.],\n",
       "       [0., 0., 0., 0., 1.]])"
      ]
     },
     "execution_count": 14,
     "metadata": {},
     "output_type": "execute_result"
    }
   ],
   "execution_count": 14
  },
  {
   "metadata": {
    "ExecuteTime": {
     "end_time": "2024-06-08T14:17:05.552969Z",
     "start_time": "2024-06-08T14:17:05.546054Z"
    }
   },
   "cell_type": "code",
   "source": "np.random.rand(5)",
   "id": "7dd3a4b82f1ba4da",
   "outputs": [
    {
     "data": {
      "text/plain": [
       "array([0.43201546, 0.80004048, 0.57058058, 0.31986886, 0.57431372])"
      ]
     },
     "execution_count": 15,
     "metadata": {},
     "output_type": "execute_result"
    }
   ],
   "execution_count": 15
  },
  {
   "metadata": {
    "ExecuteTime": {
     "end_time": "2024-06-08T14:17:05.559581Z",
     "start_time": "2024-06-08T14:17:05.552969Z"
    }
   },
   "cell_type": "code",
   "source": "np.random.rand(5, 5)",
   "id": "da7a7047757685b1",
   "outputs": [
    {
     "data": {
      "text/plain": [
       "array([[0.60513579, 0.03115908, 0.60576424, 0.35089163, 0.12806909],\n",
       "       [0.08031966, 0.72987722, 0.98721432, 0.09607079, 0.45336395],\n",
       "       [0.42055264, 0.82697432, 0.72228453, 0.23373057, 0.13676803],\n",
       "       [0.4776796 , 0.15437724, 0.97741455, 0.32134475, 0.78289249],\n",
       "       [0.51022814, 0.60076319, 0.49704681, 0.15206097, 0.20134186]])"
      ]
     },
     "execution_count": 16,
     "metadata": {},
     "output_type": "execute_result"
    }
   ],
   "execution_count": 16
  },
  {
   "metadata": {
    "ExecuteTime": {
     "end_time": "2024-06-08T14:17:05.566018Z",
     "start_time": "2024-06-08T14:17:05.559581Z"
    }
   },
   "cell_type": "code",
   "source": "np.random.randn(2)",
   "id": "d3f29d1a6810ee5c",
   "outputs": [
    {
     "data": {
      "text/plain": [
       "array([-1.55761702, -0.36586799])"
      ]
     },
     "execution_count": 17,
     "metadata": {},
     "output_type": "execute_result"
    }
   ],
   "execution_count": 17
  },
  {
   "metadata": {
    "ExecuteTime": {
     "end_time": "2024-06-08T14:17:05.571876Z",
     "start_time": "2024-06-08T14:17:05.566018Z"
    }
   },
   "cell_type": "code",
   "source": [
    "np.random.rand(1, 100).transpose()\n",
    "np.random.randint(1, 100)"
   ],
   "id": "66cebfb965168424",
   "outputs": [
    {
     "data": {
      "text/plain": [
       "17"
      ]
     },
     "execution_count": 18,
     "metadata": {},
     "output_type": "execute_result"
    }
   ],
   "execution_count": 18
  },
  {
   "metadata": {
    "ExecuteTime": {
     "end_time": "2024-06-08T14:17:05.577384Z",
     "start_time": "2024-06-08T14:17:05.572387Z"
    }
   },
   "cell_type": "code",
   "source": "np.random.randint(1, 100, 24).reshape(6, 4)",
   "id": "e3192bcbecee7567",
   "outputs": [
    {
     "data": {
      "text/plain": [
       "array([[50, 35, 83, 50],\n",
       "       [96, 80, 63, 53],\n",
       "       [73, 96, 89, 48],\n",
       "       [24, 13,  2, 58],\n",
       "       [38, 60, 12, 53],\n",
       "       [82, 55, 76, 12]])"
      ]
     },
     "execution_count": 19,
     "metadata": {},
     "output_type": "execute_result"
    }
   ],
   "execution_count": 19
  },
  {
   "metadata": {
    "ExecuteTime": {
     "end_time": "2024-06-08T14:17:05.583531Z",
     "start_time": "2024-06-08T14:17:05.577384Z"
    }
   },
   "cell_type": "code",
   "source": [
    "np.random.seed(42)\n",
    "np.random.rand(8)"
   ],
   "id": "c942dc756d7768b2",
   "outputs": [
    {
     "data": {
      "text/plain": [
       "array([0.37454012, 0.95071431, 0.73199394, 0.59865848, 0.15601864,\n",
       "       0.15599452, 0.05808361, 0.86617615])"
      ]
     },
     "execution_count": 20,
     "metadata": {},
     "output_type": "execute_result"
    }
   ],
   "execution_count": 20
  },
  {
   "metadata": {
    "ExecuteTime": {
     "end_time": "2024-06-08T14:17:05.588171Z",
     "start_time": "2024-06-08T14:17:05.583531Z"
    }
   },
   "cell_type": "code",
   "source": [
    "np.random.seed(42)\n",
    "np.random.randint(1, 100, 24).reshape(6, 4)"
   ],
   "id": "f90dde1bda7ba31e",
   "outputs": [
    {
     "data": {
      "text/plain": [
       "array([[52, 93, 15, 72],\n",
       "       [61, 21, 83, 87],\n",
       "       [75, 75, 88, 24],\n",
       "       [ 3, 22, 53,  2],\n",
       "       [88, 30, 38,  2],\n",
       "       [64, 60, 21, 33]])"
      ]
     },
     "execution_count": 21,
     "metadata": {},
     "output_type": "execute_result"
    }
   ],
   "execution_count": 21
  },
  {
   "metadata": {
    "ExecuteTime": {
     "end_time": "2024-06-08T14:17:05.593157Z",
     "start_time": "2024-06-08T14:17:05.588171Z"
    }
   },
   "cell_type": "code",
   "source": "np.random.randint(1, 10, 24)",
   "id": "7b88c0e2dcf63b11",
   "outputs": [
    {
     "data": {
      "text/plain": [
       "array([6, 9, 1, 3, 7, 4, 9, 3, 5, 3, 7, 5, 9, 7, 2, 4, 9, 2, 9, 5, 2, 4,\n",
       "       7, 8])"
      ]
     },
     "execution_count": 22,
     "metadata": {},
     "output_type": "execute_result"
    }
   ],
   "execution_count": 22
  },
  {
   "metadata": {
    "ExecuteTime": {
     "end_time": "2024-06-08T14:17:05.598711Z",
     "start_time": "2024-06-08T14:17:05.593157Z"
    }
   },
   "cell_type": "code",
   "source": [
    "arr = np.arange(25)\n",
    "ranarr = np.random.randint(0, 50, 10)"
   ],
   "id": "8e407fd0701e7115",
   "outputs": [],
   "execution_count": 23
  },
  {
   "metadata": {
    "ExecuteTime": {
     "end_time": "2024-06-08T14:17:05.604648Z",
     "start_time": "2024-06-08T14:17:05.598711Z"
    }
   },
   "cell_type": "code",
   "source": "arr",
   "id": "e995097ff8cae44c",
   "outputs": [
    {
     "data": {
      "text/plain": [
       "array([ 0,  1,  2,  3,  4,  5,  6,  7,  8,  9, 10, 11, 12, 13, 14, 15, 16,\n",
       "       17, 18, 19, 20, 21, 22, 23, 24])"
      ]
     },
     "execution_count": 24,
     "metadata": {},
     "output_type": "execute_result"
    }
   ],
   "execution_count": 24
  },
  {
   "metadata": {
    "ExecuteTime": {
     "end_time": "2024-06-08T14:17:05.609981Z",
     "start_time": "2024-06-08T14:17:05.604648Z"
    }
   },
   "cell_type": "code",
   "source": "ranarr",
   "id": "5d7b0af8acaa68ae",
   "outputs": [
    {
     "data": {
      "text/plain": [
       "array([46, 34, 13, 16, 35, 49, 39,  3,  1,  5])"
      ]
     },
     "execution_count": 25,
     "metadata": {},
     "output_type": "execute_result"
    }
   ],
   "execution_count": 25
  },
  {
   "metadata": {
    "ExecuteTime": {
     "end_time": "2024-06-08T14:17:05.615173Z",
     "start_time": "2024-06-08T14:17:05.609981Z"
    }
   },
   "cell_type": "code",
   "source": "arr.reshape(5, 5)",
   "id": "2c33c9194625eee",
   "outputs": [
    {
     "data": {
      "text/plain": [
       "array([[ 0,  1,  2,  3,  4],\n",
       "       [ 5,  6,  7,  8,  9],\n",
       "       [10, 11, 12, 13, 14],\n",
       "       [15, 16, 17, 18, 19],\n",
       "       [20, 21, 22, 23, 24]])"
      ]
     },
     "execution_count": 26,
     "metadata": {},
     "output_type": "execute_result"
    }
   ],
   "execution_count": 26
  },
  {
   "metadata": {
    "ExecuteTime": {
     "end_time": "2024-06-08T14:17:05.620017Z",
     "start_time": "2024-06-08T14:17:05.615173Z"
    }
   },
   "cell_type": "code",
   "source": "ranarr.reshape(2, 5)",
   "id": "34a135f05d2bdb9a",
   "outputs": [
    {
     "data": {
      "text/plain": [
       "array([[46, 34, 13, 16, 35],\n",
       "       [49, 39,  3,  1,  5]])"
      ]
     },
     "execution_count": 27,
     "metadata": {},
     "output_type": "execute_result"
    }
   ],
   "execution_count": 27
  },
  {
   "metadata": {
    "ExecuteTime": {
     "end_time": "2024-06-08T14:17:05.625400Z",
     "start_time": "2024-06-08T14:17:05.620017Z"
    }
   },
   "cell_type": "code",
   "source": "ranarr.max()",
   "id": "cf362cc19179ee3d",
   "outputs": [
    {
     "data": {
      "text/plain": [
       "49"
      ]
     },
     "execution_count": 28,
     "metadata": {},
     "output_type": "execute_result"
    }
   ],
   "execution_count": 28
  },
  {
   "metadata": {
    "ExecuteTime": {
     "end_time": "2024-06-08T14:17:05.629869Z",
     "start_time": "2024-06-08T14:17:05.625400Z"
    }
   },
   "cell_type": "code",
   "source": "arr.min()",
   "id": "6fd88d3169418e86",
   "outputs": [
    {
     "data": {
      "text/plain": [
       "0"
      ]
     },
     "execution_count": 29,
     "metadata": {},
     "output_type": "execute_result"
    }
   ],
   "execution_count": 29
  },
  {
   "metadata": {
    "ExecuteTime": {
     "end_time": "2024-06-08T14:17:05.635360Z",
     "start_time": "2024-06-08T14:17:05.629869Z"
    }
   },
   "cell_type": "code",
   "source": "arr.shape",
   "id": "347b0d09c740ff80",
   "outputs": [
    {
     "data": {
      "text/plain": [
       "(25,)"
      ]
     },
     "execution_count": 30,
     "metadata": {},
     "output_type": "execute_result"
    }
   ],
   "execution_count": 30
  },
  {
   "metadata": {
    "ExecuteTime": {
     "end_time": "2024-06-08T14:17:05.641720Z",
     "start_time": "2024-06-08T14:17:05.635360Z"
    }
   },
   "cell_type": "code",
   "source": "arr.reshape(25, 1)",
   "id": "f310317f0a33a4bf",
   "outputs": [
    {
     "data": {
      "text/plain": [
       "array([[ 0],\n",
       "       [ 1],\n",
       "       [ 2],\n",
       "       [ 3],\n",
       "       [ 4],\n",
       "       [ 5],\n",
       "       [ 6],\n",
       "       [ 7],\n",
       "       [ 8],\n",
       "       [ 9],\n",
       "       [10],\n",
       "       [11],\n",
       "       [12],\n",
       "       [13],\n",
       "       [14],\n",
       "       [15],\n",
       "       [16],\n",
       "       [17],\n",
       "       [18],\n",
       "       [19],\n",
       "       [20],\n",
       "       [21],\n",
       "       [22],\n",
       "       [23],\n",
       "       [24]])"
      ]
     },
     "execution_count": 31,
     "metadata": {},
     "output_type": "execute_result"
    }
   ],
   "execution_count": 31
  },
  {
   "metadata": {
    "ExecuteTime": {
     "end_time": "2024-06-08T14:17:05.647059Z",
     "start_time": "2024-06-08T14:17:05.642233Z"
    }
   },
   "cell_type": "code",
   "source": "arr.dtype",
   "id": "6142378f418213dc",
   "outputs": [
    {
     "data": {
      "text/plain": [
       "dtype('int32')"
      ]
     },
     "execution_count": 32,
     "metadata": {},
     "output_type": "execute_result"
    }
   ],
   "execution_count": 32
  },
  {
   "metadata": {},
   "cell_type": "markdown",
   "source": "# 01-NumPy-Indexing-and-Selection",
   "id": "f602f791e37cc9fd"
  },
  {
   "metadata": {
    "ExecuteTime": {
     "end_time": "2024-06-08T14:22:06.270817Z",
     "start_time": "2024-06-08T14:22:06.267430Z"
    }
   },
   "cell_type": "code",
   "source": "arr = np.arange(0, 11)",
   "id": "9d3f886f3d86c756",
   "outputs": [],
   "execution_count": 33
  },
  {
   "metadata": {
    "ExecuteTime": {
     "end_time": "2024-06-08T14:22:16.925039Z",
     "start_time": "2024-06-08T14:22:16.920870Z"
    }
   },
   "cell_type": "code",
   "source": "arr",
   "id": "a305782b42503405",
   "outputs": [
    {
     "data": {
      "text/plain": [
       "array([ 0,  1,  2,  3,  4,  5,  6,  7,  8,  9, 10])"
      ]
     },
     "execution_count": 36,
     "metadata": {},
     "output_type": "execute_result"
    }
   ],
   "execution_count": 36
  },
  {
   "metadata": {
    "ExecuteTime": {
     "end_time": "2024-06-08T14:22:27.954268Z",
     "start_time": "2024-06-08T14:22:27.951Z"
    }
   },
   "cell_type": "code",
   "source": "arr[8]",
   "id": "cbe164ae1f4fdfb8",
   "outputs": [
    {
     "data": {
      "text/plain": [
       "8"
      ]
     },
     "execution_count": 38,
     "metadata": {},
     "output_type": "execute_result"
    }
   ],
   "execution_count": 38
  },
  {
   "metadata": {
    "ExecuteTime": {
     "end_time": "2024-06-08T14:22:34.385302Z",
     "start_time": "2024-06-08T14:22:34.381252Z"
    }
   },
   "cell_type": "code",
   "source": "arr[1:5]",
   "id": "890521bf688ab68b",
   "outputs": [
    {
     "data": {
      "text/plain": [
       "array([1, 2, 3, 4])"
      ]
     },
     "execution_count": 39,
     "metadata": {},
     "output_type": "execute_result"
    }
   ],
   "execution_count": 39
  },
  {
   "metadata": {
    "ExecuteTime": {
     "end_time": "2024-06-08T14:22:46.451196Z",
     "start_time": "2024-06-08T14:22:46.447705Z"
    }
   },
   "cell_type": "code",
   "source": "arr[0:5]",
   "id": "1a80a4046adc8ce",
   "outputs": [
    {
     "data": {
      "text/plain": [
       "array([0, 1, 2, 3, 4])"
      ]
     },
     "execution_count": 41,
     "metadata": {},
     "output_type": "execute_result"
    }
   ],
   "execution_count": 41
  },
  {
   "metadata": {
    "ExecuteTime": {
     "end_time": "2024-06-08T14:22:51.846410Z",
     "start_time": "2024-06-08T14:22:51.842897Z"
    }
   },
   "cell_type": "code",
   "source": "arr[5:]",
   "id": "5e7d4612ede7c248",
   "outputs": [
    {
     "data": {
      "text/plain": [
       "array([ 5,  6,  7,  8,  9, 10])"
      ]
     },
     "execution_count": 42,
     "metadata": {},
     "output_type": "execute_result"
    }
   ],
   "execution_count": 42
  },
  {
   "metadata": {
    "ExecuteTime": {
     "end_time": "2024-06-08T14:23:57.495414Z",
     "start_time": "2024-06-08T14:23:57.491922Z"
    }
   },
   "cell_type": "code",
   "source": "arr[0:5] = 100",
   "id": "d0fe7ff035c32c86",
   "outputs": [],
   "execution_count": 44
  },
  {
   "metadata": {
    "ExecuteTime": {
     "end_time": "2024-06-08T14:24:31.728116Z",
     "start_time": "2024-06-08T14:24:31.724766Z"
    }
   },
   "cell_type": "code",
   "source": "arr",
   "id": "d836fedc83335024",
   "outputs": [
    {
     "data": {
      "text/plain": [
       "array([100, 100, 100, 100, 100,   5,   6,   7,   8,   9,  10])"
      ]
     },
     "execution_count": 46,
     "metadata": {},
     "output_type": "execute_result"
    }
   ],
   "execution_count": 46
  },
  {
   "metadata": {
    "ExecuteTime": {
     "end_time": "2024-06-08T14:24:48.148779Z",
     "start_time": "2024-06-08T14:24:48.145926Z"
    }
   },
   "cell_type": "code",
   "source": "arr = np.arange(0, 11)",
   "id": "4861ff2b35fbc9f4",
   "outputs": [],
   "execution_count": 47
  },
  {
   "metadata": {
    "ExecuteTime": {
     "end_time": "2024-06-08T14:24:51.196586Z",
     "start_time": "2024-06-08T14:24:51.193522Z"
    }
   },
   "cell_type": "code",
   "source": "arr",
   "id": "26c9ed2e0b538816",
   "outputs": [
    {
     "data": {
      "text/plain": [
       "array([ 0,  1,  2,  3,  4,  5,  6,  7,  8,  9, 10])"
      ]
     },
     "execution_count": 49,
     "metadata": {},
     "output_type": "execute_result"
    }
   ],
   "execution_count": 49
  },
  {
   "metadata": {
    "ExecuteTime": {
     "end_time": "2024-06-08T14:25:25.808754Z",
     "start_time": "2024-06-08T14:25:25.806096Z"
    }
   },
   "cell_type": "code",
   "source": "slice_of_arr = arr[0:6]",
   "id": "ec10fefff8e4bb91",
   "outputs": [],
   "execution_count": 50
  },
  {
   "metadata": {
    "ExecuteTime": {
     "end_time": "2024-06-08T14:25:28.582783Z",
     "start_time": "2024-06-08T14:25:28.578715Z"
    }
   },
   "cell_type": "code",
   "source": "slice_of_arr",
   "id": "9e0570e02cf5ccd9",
   "outputs": [
    {
     "data": {
      "text/plain": [
       "array([0, 1, 2, 3, 4, 5])"
      ]
     },
     "execution_count": 52,
     "metadata": {},
     "output_type": "execute_result"
    }
   ],
   "execution_count": 52
  },
  {
   "metadata": {
    "ExecuteTime": {
     "end_time": "2024-06-08T14:26:31.997698Z",
     "start_time": "2024-06-08T14:26:31.994151Z"
    }
   },
   "cell_type": "code",
   "source": "slice_of_arr[:] = 99",
   "id": "b31b7ea55458a76",
   "outputs": [],
   "execution_count": 53
  },
  {
   "metadata": {
    "ExecuteTime": {
     "end_time": "2024-06-08T14:26:34.451239Z",
     "start_time": "2024-06-08T14:26:34.448049Z"
    }
   },
   "cell_type": "code",
   "source": "slice_of_arr",
   "id": "f2798cb0a6c9cf15",
   "outputs": [
    {
     "data": {
      "text/plain": [
       "array([99, 99, 99, 99, 99, 99])"
      ]
     },
     "execution_count": 55,
     "metadata": {},
     "output_type": "execute_result"
    }
   ],
   "execution_count": 55
  },
  {
   "metadata": {
    "ExecuteTime": {
     "end_time": "2024-06-08T14:27:22.898776Z",
     "start_time": "2024-06-08T14:27:22.895257Z"
    }
   },
   "cell_type": "code",
   "source": "arr",
   "id": "b9265e4121a39b8b",
   "outputs": [
    {
     "data": {
      "text/plain": [
       "array([99, 99, 99, 99, 99, 99,  6,  7,  8,  9, 10])"
      ]
     },
     "execution_count": 56,
     "metadata": {},
     "output_type": "execute_result"
    }
   ],
   "execution_count": 56
  },
  {
   "metadata": {
    "ExecuteTime": {
     "end_time": "2024-06-08T14:27:32.967976Z",
     "start_time": "2024-06-08T14:27:32.964830Z"
    }
   },
   "cell_type": "code",
   "source": "arr_copy = arr.copy()",
   "id": "ddbf1d72b15eb634",
   "outputs": [],
   "execution_count": 57
  },
  {
   "metadata": {
    "ExecuteTime": {
     "end_time": "2024-06-08T14:27:35.989384Z",
     "start_time": "2024-06-08T14:27:35.985839Z"
    }
   },
   "cell_type": "code",
   "source": "arr_copy",
   "id": "daf475270d0c7e7",
   "outputs": [
    {
     "data": {
      "text/plain": [
       "array([99, 99, 99, 99, 99, 99,  6,  7,  8,  9, 10])"
      ]
     },
     "execution_count": 59,
     "metadata": {},
     "output_type": "execute_result"
    }
   ],
   "execution_count": 59
  },
  {
   "metadata": {
    "ExecuteTime": {
     "end_time": "2024-06-08T14:28:38.571152Z",
     "start_time": "2024-06-08T14:28:38.568240Z"
    }
   },
   "cell_type": "code",
   "source": "arr_2d = np.array(([5, 10, 20], [9, 8, 7], [66, 55, 44]))",
   "id": "651efe327533a358",
   "outputs": [],
   "execution_count": 61
  },
  {
   "metadata": {
    "ExecuteTime": {
     "end_time": "2024-06-08T14:29:48.123805Z",
     "start_time": "2024-06-08T14:29:48.120299Z"
    }
   },
   "cell_type": "code",
   "source": "arr_2d[1]",
   "id": "508e254706254edb",
   "outputs": [
    {
     "data": {
      "text/plain": [
       "array([9, 8, 7])"
      ]
     },
     "execution_count": 63,
     "metadata": {},
     "output_type": "execute_result"
    }
   ],
   "execution_count": 63
  },
  {
   "metadata": {
    "ExecuteTime": {
     "end_time": "2024-06-08T14:30:00.342157Z",
     "start_time": "2024-06-08T14:30:00.338919Z"
    }
   },
   "cell_type": "code",
   "source": "arr_2d[1][0]",
   "id": "b01b5b8f009ef77d",
   "outputs": [
    {
     "data": {
      "text/plain": [
       "9"
      ]
     },
     "execution_count": 64,
     "metadata": {},
     "output_type": "execute_result"
    }
   ],
   "execution_count": 64
  },
  {
   "metadata": {
    "ExecuteTime": {
     "end_time": "2024-06-08T14:30:25.201854Z",
     "start_time": "2024-06-08T14:30:25.198047Z"
    }
   },
   "cell_type": "code",
   "source": "arr_2d",
   "id": "db47f00b3066cfda",
   "outputs": [
    {
     "data": {
      "text/plain": [
       "array([[ 5, 10, 20],\n",
       "       [ 9,  8,  7],\n",
       "       [66, 55, 44]])"
      ]
     },
     "execution_count": 66,
     "metadata": {},
     "output_type": "execute_result"
    }
   ],
   "execution_count": 66
  },
  {
   "metadata": {
    "ExecuteTime": {
     "end_time": "2024-06-08T14:47:56.586364Z",
     "start_time": "2024-06-08T14:47:56.582338Z"
    }
   },
   "cell_type": "code",
   "source": "arr_2d[:2,1:]",
   "id": "a1b432ffa155a9e3",
   "outputs": [
    {
     "data": {
      "text/plain": [
       "array([[10, 20],\n",
       "       [ 8,  7]])"
      ]
     },
     "execution_count": 67,
     "metadata": {},
     "output_type": "execute_result"
    }
   ],
   "execution_count": 67
  },
  {
   "metadata": {
    "ExecuteTime": {
     "end_time": "2024-06-08T14:48:03.904741Z",
     "start_time": "2024-06-08T14:48:03.901330Z"
    }
   },
   "cell_type": "code",
   "source": "arr_2d[2]",
   "id": "3305c569f9e40ce7",
   "outputs": [
    {
     "data": {
      "text/plain": [
       "array([66, 55, 44])"
      ]
     },
     "execution_count": 68,
     "metadata": {},
     "output_type": "execute_result"
    }
   ],
   "execution_count": 68
  },
  {
   "metadata": {
    "ExecuteTime": {
     "end_time": "2024-06-08T14:48:23.793712Z",
     "start_time": "2024-06-08T14:48:23.789332Z"
    }
   },
   "cell_type": "code",
   "source": "arr_2d[2, :2]",
   "id": "6c6a4dec18fae727",
   "outputs": [
    {
     "data": {
      "text/plain": [
       "array([66, 55])"
      ]
     },
     "execution_count": 71,
     "metadata": {},
     "output_type": "execute_result"
    }
   ],
   "execution_count": 71
  },
  {
   "metadata": {
    "ExecuteTime": {
     "end_time": "2024-06-08T14:48:51.386735Z",
     "start_time": "2024-06-08T14:48:51.383229Z"
    }
   },
   "cell_type": "code",
   "source": "arr_2d[0, 3:5]",
   "id": "b6419ee87fbfc5dc",
   "outputs": [
    {
     "data": {
      "text/plain": [
       "array([], dtype=int32)"
      ]
     },
     "execution_count": 72,
     "metadata": {},
     "output_type": "execute_result"
    }
   ],
   "execution_count": 72
  },
  {
   "metadata": {
    "ExecuteTime": {
     "end_time": "2024-06-08T14:51:24.270126Z",
     "start_time": "2024-06-08T14:51:24.266541Z"
    }
   },
   "cell_type": "code",
   "source": "arr = np.arange(1, 11)",
   "id": "fcb93c2ac2b4eed9",
   "outputs": [],
   "execution_count": 73
  },
  {
   "metadata": {
    "ExecuteTime": {
     "end_time": "2024-06-08T14:51:29.161501Z",
     "start_time": "2024-06-08T14:51:29.158401Z"
    }
   },
   "cell_type": "code",
   "source": "arr",
   "id": "dda2dfd05e26b285",
   "outputs": [
    {
     "data": {
      "text/plain": [
       "array([ 1,  2,  3,  4,  5,  6,  7,  8,  9, 10])"
      ]
     },
     "execution_count": 75,
     "metadata": {},
     "output_type": "execute_result"
    }
   ],
   "execution_count": 75
  },
  {
   "metadata": {
    "ExecuteTime": {
     "end_time": "2024-06-08T14:52:13.106407Z",
     "start_time": "2024-06-08T14:52:13.102902Z"
    }
   },
   "cell_type": "code",
   "source": "all(arr > 4)",
   "id": "fc17a53c79064197",
   "outputs": [
    {
     "data": {
      "text/plain": [
       "False"
      ]
     },
     "execution_count": 78,
     "metadata": {},
     "output_type": "execute_result"
    }
   ],
   "execution_count": 78
  },
  {
   "metadata": {
    "ExecuteTime": {
     "end_time": "2024-06-08T14:53:00.645305Z",
     "start_time": "2024-06-08T14:53:00.641995Z"
    }
   },
   "cell_type": "code",
   "source": "bool_arr = arr > 4",
   "id": "858c7811646aca21",
   "outputs": [],
   "execution_count": 79
  },
  {
   "metadata": {
    "ExecuteTime": {
     "end_time": "2024-06-08T14:53:03.327644Z",
     "start_time": "2024-06-08T14:53:03.323579Z"
    }
   },
   "cell_type": "code",
   "source": "bool_arr",
   "id": "4d8ab47ccfc632d3",
   "outputs": [
    {
     "data": {
      "text/plain": [
       "array([False, False, False, False,  True,  True,  True,  True,  True,\n",
       "        True])"
      ]
     },
     "execution_count": 81,
     "metadata": {},
     "output_type": "execute_result"
    }
   ],
   "execution_count": 81
  },
  {
   "metadata": {
    "ExecuteTime": {
     "end_time": "2024-06-08T14:53:50.805547Z",
     "start_time": "2024-06-08T14:53:50.802002Z"
    }
   },
   "cell_type": "code",
   "source": "arr[bool_arr]",
   "id": "5dcdbf9eab1d2cb9",
   "outputs": [
    {
     "data": {
      "text/plain": [
       "array([ 5,  6,  7,  8,  9, 10])"
      ]
     },
     "execution_count": 83,
     "metadata": {},
     "output_type": "execute_result"
    }
   ],
   "execution_count": 83
  },
  {
   "metadata": {
    "ExecuteTime": {
     "end_time": "2024-06-08T14:53:54.676542Z",
     "start_time": "2024-06-08T14:53:54.672539Z"
    }
   },
   "cell_type": "code",
   "source": "arr[arr > 2]",
   "id": "7a1aa96c5bf9c2ed",
   "outputs": [
    {
     "data": {
      "text/plain": [
       "array([ 3,  4,  5,  6,  7,  8,  9, 10])"
      ]
     },
     "execution_count": 84,
     "metadata": {},
     "output_type": "execute_result"
    }
   ],
   "execution_count": 84
  },
  {
   "metadata": {
    "ExecuteTime": {
     "end_time": "2024-06-08T14:54:27.291899Z",
     "start_time": "2024-06-08T14:54:27.287607Z"
    }
   },
   "cell_type": "code",
   "source": [
    "x = 2\n",
    "\n",
    "arr[arr>x]"
   ],
   "id": "fe041de0f194fbf3",
   "outputs": [
    {
     "data": {
      "text/plain": [
       "array([ 3,  4,  5,  6,  7,  8,  9, 10])"
      ]
     },
     "execution_count": 88,
     "metadata": {},
     "output_type": "execute_result"
    }
   ],
   "execution_count": 88
  },
  {
   "metadata": {},
   "cell_type": "markdown",
   "source": "# 02-NumPy-Operations",
   "id": "3d7a78eef5f660e4"
  },
  {
   "metadata": {
    "ExecuteTime": {
     "end_time": "2024-06-08T14:55:35.938765Z",
     "start_time": "2024-06-08T14:55:35.935667Z"
    }
   },
   "cell_type": "code",
   "source": "arr = np.arange(0, 11)",
   "id": "2105aed0b89f1c99",
   "outputs": [],
   "execution_count": 89
  },
  {
   "metadata": {
    "ExecuteTime": {
     "end_time": "2024-06-08T14:55:39.023847Z",
     "start_time": "2024-06-08T14:55:39.020092Z"
    }
   },
   "cell_type": "code",
   "source": "arr + arr",
   "id": "94e00db71fe703e9",
   "outputs": [
    {
     "data": {
      "text/plain": [
       "array([ 0,  2,  4,  6,  8, 10, 12, 14, 16, 18, 20])"
      ]
     },
     "execution_count": 90,
     "metadata": {},
     "output_type": "execute_result"
    }
   ],
   "execution_count": 90
  },
  {
   "metadata": {
    "ExecuteTime": {
     "end_time": "2024-06-08T14:55:58.508827Z",
     "start_time": "2024-06-08T14:55:58.504647Z"
    }
   },
   "cell_type": "code",
   "source": "arr * arr",
   "id": "e52e70fcb5b60e3",
   "outputs": [
    {
     "data": {
      "text/plain": [
       "array([  0,   1,   4,   9,  16,  25,  36,  49,  64,  81, 100])"
      ]
     },
     "execution_count": 91,
     "metadata": {},
     "output_type": "execute_result"
    }
   ],
   "execution_count": 91
  },
  {
   "metadata": {
    "ExecuteTime": {
     "end_time": "2024-06-08T14:56:05.628823Z",
     "start_time": "2024-06-08T14:56:05.625042Z"
    }
   },
   "cell_type": "code",
   "source": "arr - arr",
   "id": "ba4f0589de255f5e",
   "outputs": [
    {
     "data": {
      "text/plain": [
       "array([0, 0, 0, 0, 0, 0, 0, 0, 0, 0, 0])"
      ]
     },
     "execution_count": 92,
     "metadata": {},
     "output_type": "execute_result"
    }
   ],
   "execution_count": 92
  },
  {
   "metadata": {
    "ExecuteTime": {
     "end_time": "2024-06-08T14:56:24.452154Z",
     "start_time": "2024-06-08T14:56:24.448236Z"
    }
   },
   "cell_type": "code",
   "source": "arr / arr",
   "id": "1ff551257aadbe58",
   "outputs": [
    {
     "name": "stderr",
     "output_type": "stream",
     "text": [
      "C:\\Users\\Zygim\\AppData\\Local\\Temp\\ipykernel_37428\\2811617162.py:1: RuntimeWarning: invalid value encountered in divide\n",
      "  arr / arr\n"
     ]
    },
    {
     "data": {
      "text/plain": [
       "array([nan,  1.,  1.,  1.,  1.,  1.,  1.,  1.,  1.,  1.,  1.])"
      ]
     },
     "execution_count": 94,
     "metadata": {},
     "output_type": "execute_result"
    }
   ],
   "execution_count": 94
  },
  {
   "metadata": {
    "ExecuteTime": {
     "end_time": "2024-06-08T15:14:37.010847Z",
     "start_time": "2024-06-08T15:14:37.006887Z"
    }
   },
   "cell_type": "code",
   "source": "1 / arr",
   "id": "42bb0db02ed3c05",
   "outputs": [
    {
     "name": "stderr",
     "output_type": "stream",
     "text": [
      "C:\\Users\\Zygim\\AppData\\Local\\Temp\\ipykernel_37428\\2495778407.py:1: RuntimeWarning: divide by zero encountered in divide\n",
      "  1 / arr\n"
     ]
    },
    {
     "data": {
      "text/plain": [
       "array([       inf, 1.        , 0.5       , 0.33333333, 0.25      ,\n",
       "       0.2       , 0.16666667, 0.14285714, 0.125     , 0.11111111,\n",
       "       0.1       ])"
      ]
     },
     "execution_count": 97,
     "metadata": {},
     "output_type": "execute_result"
    }
   ],
   "execution_count": 97
  },
  {
   "metadata": {
    "ExecuteTime": {
     "end_time": "2024-06-08T15:14:47.482425Z",
     "start_time": "2024-06-08T15:14:47.478509Z"
    }
   },
   "cell_type": "code",
   "source": "arr ** 3",
   "id": "ba0a713fedede301",
   "outputs": [
    {
     "data": {
      "text/plain": [
       "array([   0,    1,    8,   27,   64,  125,  216,  343,  512,  729, 1000],\n",
       "      dtype=int32)"
      ]
     },
     "execution_count": 99,
     "metadata": {},
     "output_type": "execute_result"
    }
   ],
   "execution_count": 99
  },
  {
   "metadata": {
    "ExecuteTime": {
     "end_time": "2024-06-08T15:15:13.689940Z",
     "start_time": "2024-06-08T15:15:13.685644Z"
    }
   },
   "cell_type": "code",
   "source": "np.sqrt(arr)",
   "id": "daf327374fa44a9a",
   "outputs": [
    {
     "data": {
      "text/plain": [
       "array([0.        , 1.        , 1.41421356, 1.73205081, 2.        ,\n",
       "       2.23606798, 2.44948974, 2.64575131, 2.82842712, 3.        ,\n",
       "       3.16227766])"
      ]
     },
     "execution_count": 100,
     "metadata": {},
     "output_type": "execute_result"
    }
   ],
   "execution_count": 100
  },
  {
   "metadata": {
    "ExecuteTime": {
     "end_time": "2024-06-08T15:15:25.337330Z",
     "start_time": "2024-06-08T15:15:25.333038Z"
    }
   },
   "cell_type": "code",
   "source": "np.exp(arr)",
   "id": "39f1924a94f48aa4",
   "outputs": [
    {
     "data": {
      "text/plain": [
       "array([1.00000000e+00, 2.71828183e+00, 7.38905610e+00, 2.00855369e+01,\n",
       "       5.45981500e+01, 1.48413159e+02, 4.03428793e+02, 1.09663316e+03,\n",
       "       2.98095799e+03, 8.10308393e+03, 2.20264658e+04])"
      ]
     },
     "execution_count": 101,
     "metadata": {},
     "output_type": "execute_result"
    }
   ],
   "execution_count": 101
  },
  {
   "metadata": {
    "ExecuteTime": {
     "end_time": "2024-06-08T15:22:41.139355Z",
     "start_time": "2024-06-08T15:22:41.134849Z"
    }
   },
   "cell_type": "code",
   "source": "np.sin(arr)",
   "id": "3dd58ef06cf4ca90",
   "outputs": [
    {
     "data": {
      "text/plain": [
       "array([ 0.        ,  0.84147098,  0.90929743,  0.14112001, -0.7568025 ,\n",
       "       -0.95892427, -0.2794155 ,  0.6569866 ,  0.98935825,  0.41211849,\n",
       "       -0.54402111])"
      ]
     },
     "execution_count": 102,
     "metadata": {},
     "output_type": "execute_result"
    }
   ],
   "execution_count": 102
  },
  {
   "metadata": {
    "ExecuteTime": {
     "end_time": "2024-06-08T15:23:05.809280Z",
     "start_time": "2024-06-08T15:23:05.804936Z"
    }
   },
   "cell_type": "code",
   "source": "np.cos(arr)",
   "id": "25d55c10c7907a9b",
   "outputs": [
    {
     "data": {
      "text/plain": [
       "array([ 1.        ,  0.54030231, -0.41614684, -0.9899925 , -0.65364362,\n",
       "        0.28366219,  0.96017029,  0.75390225, -0.14550003, -0.91113026,\n",
       "       -0.83907153])"
      ]
     },
     "execution_count": 104,
     "metadata": {},
     "output_type": "execute_result"
    }
   ],
   "execution_count": 104
  },
  {
   "metadata": {
    "ExecuteTime": {
     "end_time": "2024-06-08T15:23:14.460599Z",
     "start_time": "2024-06-08T15:23:14.455881Z"
    }
   },
   "cell_type": "code",
   "source": "np.log(arr)",
   "id": "77c13d0f4f50b220",
   "outputs": [
    {
     "name": "stderr",
     "output_type": "stream",
     "text": [
      "C:\\Users\\Zygim\\AppData\\Local\\Temp\\ipykernel_37428\\2931416741.py:1: RuntimeWarning: divide by zero encountered in log\n",
      "  np.log(arr)\n"
     ]
    },
    {
     "data": {
      "text/plain": [
       "array([      -inf, 0.        , 0.69314718, 1.09861229, 1.38629436,\n",
       "       1.60943791, 1.79175947, 1.94591015, 2.07944154, 2.19722458,\n",
       "       2.30258509])"
      ]
     },
     "execution_count": 105,
     "metadata": {},
     "output_type": "execute_result"
    }
   ],
   "execution_count": 105
  },
  {
   "metadata": {
    "ExecuteTime": {
     "end_time": "2024-06-08T15:23:26.914042Z",
     "start_time": "2024-06-08T15:23:26.910754Z"
    }
   },
   "cell_type": "code",
   "source": "arr = np.arange(0, 15)",
   "id": "208d2a99b5a7dce2",
   "outputs": [],
   "execution_count": 106
  },
  {
   "metadata": {
    "ExecuteTime": {
     "end_time": "2024-06-08T15:23:34.706784Z",
     "start_time": "2024-06-08T15:23:34.702823Z"
    }
   },
   "cell_type": "code",
   "source": "arr.sum()",
   "id": "6c8558b30e1db61a",
   "outputs": [
    {
     "data": {
      "text/plain": [
       "105"
      ]
     },
     "execution_count": 108,
     "metadata": {},
     "output_type": "execute_result"
    }
   ],
   "execution_count": 108
  },
  {
   "metadata": {
    "ExecuteTime": {
     "end_time": "2024-06-08T15:23:41.084581Z",
     "start_time": "2024-06-08T15:23:41.080222Z"
    }
   },
   "cell_type": "code",
   "source": "arr.mean()",
   "id": "6b5b761a6e86e2e2",
   "outputs": [
    {
     "data": {
      "text/plain": [
       "7.0"
      ]
     },
     "execution_count": 109,
     "metadata": {},
     "output_type": "execute_result"
    }
   ],
   "execution_count": 109
  },
  {
   "metadata": {
    "ExecuteTime": {
     "end_time": "2024-06-08T15:24:16.385597Z",
     "start_time": "2024-06-08T15:24:16.382092Z"
    }
   },
   "cell_type": "code",
   "source": "arr.max()",
   "id": "a45faf67c490cc7a",
   "outputs": [
    {
     "data": {
      "text/plain": [
       "14"
      ]
     },
     "execution_count": 110,
     "metadata": {},
     "output_type": "execute_result"
    }
   ],
   "execution_count": 110
  },
  {
   "metadata": {
    "ExecuteTime": {
     "end_time": "2024-06-08T15:24:28.187001Z",
     "start_time": "2024-06-08T15:24:28.181876Z"
    }
   },
   "cell_type": "code",
   "source": "arr.min()",
   "id": "e821a88bfd5b9953",
   "outputs": [
    {
     "data": {
      "text/plain": [
       "0"
      ]
     },
     "execution_count": 112,
     "metadata": {},
     "output_type": "execute_result"
    }
   ],
   "execution_count": 112
  },
  {
   "metadata": {
    "ExecuteTime": {
     "end_time": "2024-06-08T15:25:50.524618Z",
     "start_time": "2024-06-08T15:25:50.522099Z"
    }
   },
   "cell_type": "code",
   "source": "arr_2d = np.array([[1, 2, 3, 4], [5, 6, 7, 8], [9, 10, 11, 12]])",
   "id": "d943be8f80bddce7",
   "outputs": [],
   "execution_count": 120
  },
  {
   "metadata": {
    "ExecuteTime": {
     "end_time": "2024-06-08T15:26:08.464377Z",
     "start_time": "2024-06-08T15:26:08.460510Z"
    }
   },
   "cell_type": "code",
   "source": "arr_2d",
   "id": "798b968f6151f4bb",
   "outputs": [
    {
     "data": {
      "text/plain": [
       "array([[ 1,  2,  3,  4],\n",
       "       [ 5,  6,  7,  8],\n",
       "       [ 9, 10, 11, 12]])"
      ]
     },
     "execution_count": 122,
     "metadata": {},
     "output_type": "execute_result"
    }
   ],
   "execution_count": 122
  },
  {
   "metadata": {
    "ExecuteTime": {
     "end_time": "2024-06-08T15:27:10.327609Z",
     "start_time": "2024-06-08T15:27:10.323187Z"
    }
   },
   "cell_type": "code",
   "source": "arr_2d.sum(axis=1)",
   "id": "f4b8f437e77fc6e4",
   "outputs": [
    {
     "data": {
      "text/plain": [
       "array([10, 26, 42])"
      ]
     },
     "execution_count": 125,
     "metadata": {},
     "output_type": "execute_result"
    }
   ],
   "execution_count": 125
  }
 ],
 "metadata": {
  "kernelspec": {
   "display_name": "Python 3",
   "language": "python",
   "name": "python3"
  },
  "language_info": {
   "codemirror_mode": {
    "name": "ipython",
    "version": 2
   },
   "file_extension": ".py",
   "mimetype": "text/x-python",
   "name": "python",
   "nbconvert_exporter": "python",
   "pygments_lexer": "ipython2",
   "version": "2.7.6"
  }
 },
 "nbformat": 4,
 "nbformat_minor": 5
}
