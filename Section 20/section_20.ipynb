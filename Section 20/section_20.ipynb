{
 "cells": [
  {
   "metadata": {
    "ExecuteTime": {
     "end_time": "2024-10-28T18:57:59.818532Z",
     "start_time": "2024-10-28T18:57:59.815264Z"
    }
   },
   "cell_type": "code",
   "source": [
    "import pandas as pd\n",
    "import numpy as np\n",
    "import matplotlib.pyplot as plt\n",
    "import seaborn as sns"
   ],
   "id": "3120945359b81602",
   "outputs": [],
   "execution_count": 1
  },
  {
   "metadata": {},
   "cell_type": "markdown",
   "source": "# 188. Feature Extraction from Text - Coding Count Vectorization Manually",
   "id": "64f4eaf262210fa2"
  },
  {
   "cell_type": "code",
   "id": "initial_id",
   "metadata": {
    "collapsed": true,
    "ExecuteTime": {
     "end_time": "2024-10-28T18:59:38.326742Z",
     "start_time": "2024-10-28T18:59:38.323618Z"
    }
   },
   "source": [
    "with open(r'F:\\DataSpell\\data_science_ml_learning\\DATA\\One.txt') as mytext:\n",
    "    a = mytext.readlines()"
   ],
   "outputs": [],
   "execution_count": 5
  },
  {
   "metadata": {
    "ExecuteTime": {
     "end_time": "2024-10-28T18:59:38.776441Z",
     "start_time": "2024-10-28T18:59:38.772721Z"
    }
   },
   "cell_type": "code",
   "source": "print(a)",
   "id": "476efc0602b0d008",
   "outputs": [
    {
     "name": "stdout",
     "output_type": "stream",
     "text": [
      "['This is a story about dogs\\n', 'our canine pets\\n', 'Dogs are furry animals\\n']\n"
     ]
    }
   ],
   "execution_count": 6
  },
  {
   "metadata": {
    "ExecuteTime": {
     "end_time": "2024-10-28T19:02:31.338787Z",
     "start_time": "2024-10-28T19:02:31.335310Z"
    }
   },
   "cell_type": "code",
   "source": "words = [word for line in a for word in line.lower().split()]",
   "id": "3db0962d3f548c96",
   "outputs": [],
   "execution_count": 11
  },
  {
   "metadata": {
    "ExecuteTime": {
     "end_time": "2024-10-28T19:02:40.475966Z",
     "start_time": "2024-10-28T19:02:40.472396Z"
    }
   },
   "cell_type": "code",
   "source": "words",
   "id": "829e3d19e1e14b5b",
   "outputs": [
    {
     "data": {
      "text/plain": [
       "['this',\n",
       " 'is',\n",
       " 'a',\n",
       " 'story',\n",
       " 'about',\n",
       " 'dogs',\n",
       " 'our',\n",
       " 'canine',\n",
       " 'pets',\n",
       " 'dogs',\n",
       " 'are',\n",
       " 'furry',\n",
       " 'animals']"
      ]
     },
     "execution_count": 13,
     "metadata": {},
     "output_type": "execute_result"
    }
   ],
   "execution_count": 13
  },
  {
   "metadata": {
    "ExecuteTime": {
     "end_time": "2024-10-28T19:04:34.030125Z",
     "start_time": "2024-10-28T19:04:34.026310Z"
    }
   },
   "cell_type": "code",
   "source": [
    "with open(r'F:\\DataSpell\\data_science_ml_learning\\DATA\\One.txt') as mytext:\n",
    "    a = mytext.read().lower().split()\n",
    "    unique_words_one = set(a)"
   ],
   "id": "a94cad8ad0a8bd2c",
   "outputs": [],
   "execution_count": 16
  },
  {
   "metadata": {
    "ExecuteTime": {
     "end_time": "2024-10-28T19:04:37.708066Z",
     "start_time": "2024-10-28T19:04:37.703377Z"
    }
   },
   "cell_type": "code",
   "source": "unique_words_one",
   "id": "46f0b11cceffac73",
   "outputs": [
    {
     "data": {
      "text/plain": [
       "{'a',\n",
       " 'about',\n",
       " 'animals',\n",
       " 'are',\n",
       " 'canine',\n",
       " 'dogs',\n",
       " 'furry',\n",
       " 'is',\n",
       " 'our',\n",
       " 'pets',\n",
       " 'story',\n",
       " 'this'}"
      ]
     },
     "execution_count": 17,
     "metadata": {},
     "output_type": "execute_result"
    }
   ],
   "execution_count": 17
  },
  {
   "metadata": {
    "ExecuteTime": {
     "end_time": "2024-10-28T19:13:01.985181Z",
     "start_time": "2024-10-28T19:13:01.981385Z"
    }
   },
   "cell_type": "code",
   "source": [
    "with open(r'F:\\DataSpell\\data_science_ml_learning\\DATA\\Two.txt') as mytext:\n",
    "    word_two = mytext.read().lower().split()\n",
    "    uni_words_two = set(word_two)"
   ],
   "id": "39e877e3dd6455bf",
   "outputs": [],
   "execution_count": 20
  },
  {
   "metadata": {
    "ExecuteTime": {
     "end_time": "2024-10-28T19:13:02.360568Z",
     "start_time": "2024-10-28T19:13:02.356789Z"
    }
   },
   "cell_type": "code",
   "source": "uni_words_two",
   "id": "76e4d1ebbf9ceb0a",
   "outputs": [
    {
     "data": {
      "text/plain": [
       "{'a',\n",
       " 'about',\n",
       " 'catching',\n",
       " 'fun',\n",
       " 'is',\n",
       " 'popular',\n",
       " 'sport',\n",
       " 'story',\n",
       " 'surfing',\n",
       " 'this',\n",
       " 'water',\n",
       " 'waves'}"
      ]
     },
     "execution_count": 21,
     "metadata": {},
     "output_type": "execute_result"
    }
   ],
   "execution_count": 21
  },
  {
   "metadata": {
    "ExecuteTime": {
     "end_time": "2024-10-28T19:14:25.104985Z",
     "start_time": "2024-10-28T19:14:25.101529Z"
    }
   },
   "cell_type": "code",
   "source": [
    "all_unique_words = set()\n",
    "all_unique_words.update(unique_words_one)\n",
    "all_unique_words.update(uni_words_two)"
   ],
   "id": "58c9065d331b6cb9",
   "outputs": [],
   "execution_count": 24
  },
  {
   "metadata": {
    "ExecuteTime": {
     "end_time": "2024-10-28T19:14:29.044475Z",
     "start_time": "2024-10-28T19:14:29.039607Z"
    }
   },
   "cell_type": "code",
   "source": "all_unique_words",
   "id": "a416448c33a076d5",
   "outputs": [
    {
     "data": {
      "text/plain": [
       "{'a',\n",
       " 'about',\n",
       " 'animals',\n",
       " 'are',\n",
       " 'canine',\n",
       " 'catching',\n",
       " 'dogs',\n",
       " 'fun',\n",
       " 'furry',\n",
       " 'is',\n",
       " 'our',\n",
       " 'pets',\n",
       " 'popular',\n",
       " 'sport',\n",
       " 'story',\n",
       " 'surfing',\n",
       " 'this',\n",
       " 'water',\n",
       " 'waves'}"
      ]
     },
     "execution_count": 25,
     "metadata": {},
     "output_type": "execute_result"
    }
   ],
   "execution_count": 25
  },
  {
   "metadata": {
    "ExecuteTime": {
     "end_time": "2024-10-28T19:15:36.526093Z",
     "start_time": "2024-10-28T19:15:36.522809Z"
    }
   },
   "cell_type": "code",
   "source": [
    "full_vocab = dict()\n",
    "i = 0\n",
    "\n",
    "for word in all_unique_words:\n",
    "    full_vocab[word] = i\n",
    "    i += 1"
   ],
   "id": "622f6f54c544318e",
   "outputs": [],
   "execution_count": 27
  },
  {
   "metadata": {
    "ExecuteTime": {
     "end_time": "2024-10-28T19:18:29.549917Z",
     "start_time": "2024-10-28T19:18:29.545923Z"
    }
   },
   "cell_type": "code",
   "source": "{word: i for i, word in enumerate(all_unique_words)}",
   "id": "c2fa5e5c2fcec886",
   "outputs": [
    {
     "data": {
      "text/plain": [
       "{'dogs': 0,\n",
       " 'is': 1,\n",
       " 'animals': 2,\n",
       " 'this': 3,\n",
       " 'furry': 4,\n",
       " 'fun': 5,\n",
       " 'catching': 6,\n",
       " 'pets': 7,\n",
       " 'story': 8,\n",
       " 'our': 9,\n",
       " 'popular': 10,\n",
       " 'water': 11,\n",
       " 'sport': 12,\n",
       " 'canine': 13,\n",
       " 'waves': 14,\n",
       " 'surfing': 15,\n",
       " 'a': 16,\n",
       " 'are': 17,\n",
       " 'about': 18}"
      ]
     },
     "execution_count": 31,
     "metadata": {},
     "output_type": "execute_result"
    }
   ],
   "execution_count": 31
  },
  {
   "metadata": {
    "ExecuteTime": {
     "end_time": "2024-10-28T19:15:37.788358Z",
     "start_time": "2024-10-28T19:15:37.783519Z"
    }
   },
   "cell_type": "code",
   "source": "full_vocab",
   "id": "eec237b6fd2e724a",
   "outputs": [
    {
     "data": {
      "text/plain": [
       "{'dogs': 0,\n",
       " 'is': 1,\n",
       " 'animals': 2,\n",
       " 'this': 3,\n",
       " 'furry': 4,\n",
       " 'fun': 5,\n",
       " 'catching': 6,\n",
       " 'pets': 7,\n",
       " 'story': 8,\n",
       " 'our': 9,\n",
       " 'popular': 10,\n",
       " 'water': 11,\n",
       " 'sport': 12,\n",
       " 'canine': 13,\n",
       " 'waves': 14,\n",
       " 'surfing': 15,\n",
       " 'a': 16,\n",
       " 'are': 17,\n",
       " 'about': 18}"
      ]
     },
     "execution_count": 28,
     "metadata": {},
     "output_type": "execute_result"
    }
   ],
   "execution_count": 28
  },
  {
   "metadata": {
    "ExecuteTime": {
     "end_time": "2024-10-28T19:20:15.958210Z",
     "start_time": "2024-10-28T19:20:15.954181Z"
    }
   },
   "cell_type": "code",
   "source": [
    "one_freq = [0] * len(full_vocab)\n",
    "two_freq = [0] * len(full_vocab)\n",
    "all_words = [''] * len(full_vocab)"
   ],
   "id": "589d098025c76b57",
   "outputs": [],
   "execution_count": 32
  },
  {
   "metadata": {
    "ExecuteTime": {
     "end_time": "2024-10-28T19:20:46.765845Z",
     "start_time": "2024-10-28T19:20:46.761754Z"
    }
   },
   "cell_type": "code",
   "source": "full_vocab",
   "id": "6bd9085ce20ae756",
   "outputs": [
    {
     "data": {
      "text/plain": [
       "{'dogs': 0,\n",
       " 'is': 1,\n",
       " 'animals': 2,\n",
       " 'this': 3,\n",
       " 'furry': 4,\n",
       " 'fun': 5,\n",
       " 'catching': 6,\n",
       " 'pets': 7,\n",
       " 'story': 8,\n",
       " 'our': 9,\n",
       " 'popular': 10,\n",
       " 'water': 11,\n",
       " 'sport': 12,\n",
       " 'canine': 13,\n",
       " 'waves': 14,\n",
       " 'surfing': 15,\n",
       " 'a': 16,\n",
       " 'are': 17,\n",
       " 'about': 18}"
      ]
     },
     "execution_count": 36,
     "metadata": {},
     "output_type": "execute_result"
    }
   ],
   "execution_count": 36
  },
  {
   "metadata": {
    "ExecuteTime": {
     "end_time": "2024-10-28T19:21:38.980469Z",
     "start_time": "2024-10-28T19:21:38.977068Z"
    }
   },
   "cell_type": "code",
   "source": [
    "with open(r'F:\\DataSpell\\data_science_ml_learning\\DATA\\One.txt') as one_text:\n",
    "    one_text = one_text.read().lower().split()"
   ],
   "id": "fc03d9a81c62e209",
   "outputs": [],
   "execution_count": 37
  },
  {
   "metadata": {
    "ExecuteTime": {
     "end_time": "2024-10-28T19:22:08.608102Z",
     "start_time": "2024-10-28T19:22:08.604236Z"
    }
   },
   "cell_type": "code",
   "source": [
    "for word in one_text:\n",
    "    word_ind = full_vocab[word]\n",
    "    one_freq[word_ind] += 1"
   ],
   "id": "d04cb7977bebc0b",
   "outputs": [],
   "execution_count": 39
  },
  {
   "metadata": {
    "ExecuteTime": {
     "end_time": "2024-10-28T19:22:49.853622Z",
     "start_time": "2024-10-28T19:22:49.849225Z"
    }
   },
   "cell_type": "code",
   "source": "one_freq",
   "id": "59f38ad3e797c624",
   "outputs": [
    {
     "data": {
      "text/plain": [
       "[2, 1, 1, 1, 1, 0, 0, 1, 1, 1, 0, 0, 0, 1, 0, 0, 1, 1, 1]"
      ]
     },
     "execution_count": 40,
     "metadata": {},
     "output_type": "execute_result"
    }
   ],
   "execution_count": 40
  },
  {
   "metadata": {
    "ExecuteTime": {
     "end_time": "2024-10-28T19:22:59.127498Z",
     "start_time": "2024-10-28T19:22:59.123401Z"
    }
   },
   "cell_type": "code",
   "source": [
    "with open(r'F:\\DataSpell\\data_science_ml_learning\\DATA\\Two.txt') as two_text:\n",
    "    two_text = two_text.read().lower().split()"
   ],
   "id": "2f5393e2b9fd9c54",
   "outputs": [],
   "execution_count": 41
  },
  {
   "metadata": {
    "ExecuteTime": {
     "end_time": "2024-10-28T19:23:26.761053Z",
     "start_time": "2024-10-28T19:23:26.756932Z"
    }
   },
   "cell_type": "code",
   "source": [
    "for word in two_text:\n",
    "    word_ind = full_vocab[word]\n",
    "    two_freq[word_ind] += 1"
   ],
   "id": "a14937cc4fb6a7be",
   "outputs": [],
   "execution_count": 43
  },
  {
   "metadata": {
    "ExecuteTime": {
     "end_time": "2024-10-28T19:23:36.673111Z",
     "start_time": "2024-10-28T19:23:36.669363Z"
    }
   },
   "cell_type": "code",
   "source": "all_words",
   "id": "89f8e51edc0fb664",
   "outputs": [
    {
     "data": {
      "text/plain": [
       "['', '', '', '', '', '', '', '', '', '', '', '', '', '', '', '', '', '', '']"
      ]
     },
     "execution_count": 45,
     "metadata": {},
     "output_type": "execute_result"
    }
   ],
   "execution_count": 45
  },
  {
   "metadata": {
    "ExecuteTime": {
     "end_time": "2024-10-28T19:23:54.893478Z",
     "start_time": "2024-10-28T19:23:54.890534Z"
    }
   },
   "cell_type": "code",
   "source": [
    "for word in full_vocab:\n",
    "    word_ind = full_vocab[word]\n",
    "    all_words[word_ind] = word"
   ],
   "id": "b29171ee61f8ca45",
   "outputs": [],
   "execution_count": 46
  },
  {
   "metadata": {
    "ExecuteTime": {
     "end_time": "2024-10-28T19:24:20.527010Z",
     "start_time": "2024-10-28T19:24:20.522206Z"
    }
   },
   "cell_type": "code",
   "source": "all_words",
   "id": "e86b64f3f876b8e",
   "outputs": [
    {
     "data": {
      "text/plain": [
       "['dogs',\n",
       " 'is',\n",
       " 'animals',\n",
       " 'this',\n",
       " 'furry',\n",
       " 'fun',\n",
       " 'catching',\n",
       " 'pets',\n",
       " 'story',\n",
       " 'our',\n",
       " 'popular',\n",
       " 'water',\n",
       " 'sport',\n",
       " 'canine',\n",
       " 'waves',\n",
       " 'surfing',\n",
       " 'a',\n",
       " 'are',\n",
       " 'about']"
      ]
     },
     "execution_count": 48,
     "metadata": {},
     "output_type": "execute_result"
    }
   ],
   "execution_count": 48
  },
  {
   "metadata": {
    "ExecuteTime": {
     "end_time": "2024-10-28T19:25:49.038325Z",
     "start_time": "2024-10-28T19:25:49.034448Z"
    }
   },
   "cell_type": "code",
   "source": "bow = pd.DataFrame(data=[one_freq, two_freq], columns=all_words)",
   "id": "5e18aabb339a1a2e",
   "outputs": [],
   "execution_count": 50
  },
  {
   "metadata": {
    "ExecuteTime": {
     "end_time": "2024-10-28T19:25:51.725429Z",
     "start_time": "2024-10-28T19:25:51.718039Z"
    }
   },
   "cell_type": "code",
   "source": "bow",
   "id": "6410bc44962ef356",
   "outputs": [
    {
     "data": {
      "text/plain": [
       "   dogs  is  animals  this  furry  fun  catching  pets  story  our  popular  \\\n",
       "0     2   1        1     1      1    0         0     1      1    1        0   \n",
       "1     0   6        0     2      0    2         2     0      2    0        2   \n",
       "\n",
       "   water  sport  canine  waves  surfing  a  are  about  \n",
       "0      0      0       1      0        0  1    1      1  \n",
       "1      2      2       0      2        4  2    0      2  "
      ],
      "text/html": [
       "<div>\n",
       "<style scoped>\n",
       "    .dataframe tbody tr th:only-of-type {\n",
       "        vertical-align: middle;\n",
       "    }\n",
       "\n",
       "    .dataframe tbody tr th {\n",
       "        vertical-align: top;\n",
       "    }\n",
       "\n",
       "    .dataframe thead th {\n",
       "        text-align: right;\n",
       "    }\n",
       "</style>\n",
       "<table border=\"1\" class=\"dataframe\">\n",
       "  <thead>\n",
       "    <tr style=\"text-align: right;\">\n",
       "      <th></th>\n",
       "      <th>dogs</th>\n",
       "      <th>is</th>\n",
       "      <th>animals</th>\n",
       "      <th>this</th>\n",
       "      <th>furry</th>\n",
       "      <th>fun</th>\n",
       "      <th>catching</th>\n",
       "      <th>pets</th>\n",
       "      <th>story</th>\n",
       "      <th>our</th>\n",
       "      <th>popular</th>\n",
       "      <th>water</th>\n",
       "      <th>sport</th>\n",
       "      <th>canine</th>\n",
       "      <th>waves</th>\n",
       "      <th>surfing</th>\n",
       "      <th>a</th>\n",
       "      <th>are</th>\n",
       "      <th>about</th>\n",
       "    </tr>\n",
       "  </thead>\n",
       "  <tbody>\n",
       "    <tr>\n",
       "      <th>0</th>\n",
       "      <td>2</td>\n",
       "      <td>1</td>\n",
       "      <td>1</td>\n",
       "      <td>1</td>\n",
       "      <td>1</td>\n",
       "      <td>0</td>\n",
       "      <td>0</td>\n",
       "      <td>1</td>\n",
       "      <td>1</td>\n",
       "      <td>1</td>\n",
       "      <td>0</td>\n",
       "      <td>0</td>\n",
       "      <td>0</td>\n",
       "      <td>1</td>\n",
       "      <td>0</td>\n",
       "      <td>0</td>\n",
       "      <td>1</td>\n",
       "      <td>1</td>\n",
       "      <td>1</td>\n",
       "    </tr>\n",
       "    <tr>\n",
       "      <th>1</th>\n",
       "      <td>0</td>\n",
       "      <td>6</td>\n",
       "      <td>0</td>\n",
       "      <td>2</td>\n",
       "      <td>0</td>\n",
       "      <td>2</td>\n",
       "      <td>2</td>\n",
       "      <td>0</td>\n",
       "      <td>2</td>\n",
       "      <td>0</td>\n",
       "      <td>2</td>\n",
       "      <td>2</td>\n",
       "      <td>2</td>\n",
       "      <td>0</td>\n",
       "      <td>2</td>\n",
       "      <td>4</td>\n",
       "      <td>2</td>\n",
       "      <td>0</td>\n",
       "      <td>2</td>\n",
       "    </tr>\n",
       "  </tbody>\n",
       "</table>\n",
       "</div>"
      ]
     },
     "execution_count": 51,
     "metadata": {},
     "output_type": "execute_result"
    }
   ],
   "execution_count": 51
  },
  {
   "metadata": {},
   "cell_type": "markdown",
   "source": "# 189. Feature Extraction from Text - Coding with Scikit-Learn",
   "id": "67f5162277fbd521"
  },
  {
   "metadata": {},
   "cell_type": "code",
   "outputs": [],
   "execution_count": null,
   "source": "",
   "id": "ae49bc7ff4762619"
  }
 ],
 "metadata": {
  "kernelspec": {
   "display_name": "Python 3",
   "language": "python",
   "name": "python3"
  },
  "language_info": {
   "codemirror_mode": {
    "name": "ipython",
    "version": 2
   },
   "file_extension": ".py",
   "mimetype": "text/x-python",
   "name": "python",
   "nbconvert_exporter": "python",
   "pygments_lexer": "ipython2",
   "version": "2.7.6"
  }
 },
 "nbformat": 4,
 "nbformat_minor": 5
}
