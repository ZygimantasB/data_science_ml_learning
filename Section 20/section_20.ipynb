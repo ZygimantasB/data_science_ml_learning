{
 "cells": [
  {
   "metadata": {
    "ExecuteTime": {
     "end_time": "2024-10-29T18:51:34.309991Z",
     "start_time": "2024-10-29T18:51:34.306540Z"
    }
   },
   "cell_type": "code",
   "source": [
    "import pandas as pd\n",
    "import numpy as np\n",
    "import matplotlib.pyplot as plt\n",
    "import seaborn as sns"
   ],
   "id": "3120945359b81602",
   "outputs": [],
   "execution_count": 1
  },
  {
   "metadata": {},
   "cell_type": "markdown",
   "source": "# 188. Feature Extraction from Text - Coding Count Vectorization Manually",
   "id": "64f4eaf262210fa2"
  },
  {
   "cell_type": "code",
   "id": "initial_id",
   "metadata": {
    "collapsed": true,
    "ExecuteTime": {
     "end_time": "2024-10-29T18:51:34.326338Z",
     "start_time": "2024-10-29T18:51:34.322906Z"
    }
   },
   "source": [
    "with open(r'F:\\DataSpell\\data_science_ml_learning\\DATA\\One.txt') as mytext:\n",
    "    a = mytext.readlines()"
   ],
   "outputs": [],
   "execution_count": 2
  },
  {
   "metadata": {
    "ExecuteTime": {
     "end_time": "2024-10-29T18:51:34.338529Z",
     "start_time": "2024-10-29T18:51:34.333604Z"
    }
   },
   "cell_type": "code",
   "source": "print(a)",
   "id": "476efc0602b0d008",
   "outputs": [
    {
     "name": "stdout",
     "output_type": "stream",
     "text": [
      "['This is a story about dogs\\n', 'our canine pets\\n', 'Dogs are furry animals\\n']\n"
     ]
    }
   ],
   "execution_count": 3
  },
  {
   "metadata": {
    "ExecuteTime": {
     "end_time": "2024-10-29T18:51:34.451911Z",
     "start_time": "2024-10-29T18:51:34.448878Z"
    }
   },
   "cell_type": "code",
   "source": "words = [word for line in a for word in line.lower().split()]",
   "id": "3db0962d3f548c96",
   "outputs": [],
   "execution_count": 4
  },
  {
   "metadata": {
    "ExecuteTime": {
     "end_time": "2024-10-29T18:51:34.474659Z",
     "start_time": "2024-10-29T18:51:34.468292Z"
    }
   },
   "cell_type": "code",
   "source": "words",
   "id": "829e3d19e1e14b5b",
   "outputs": [
    {
     "data": {
      "text/plain": [
       "['this',\n",
       " 'is',\n",
       " 'a',\n",
       " 'story',\n",
       " 'about',\n",
       " 'dogs',\n",
       " 'our',\n",
       " 'canine',\n",
       " 'pets',\n",
       " 'dogs',\n",
       " 'are',\n",
       " 'furry',\n",
       " 'animals']"
      ]
     },
     "execution_count": 5,
     "metadata": {},
     "output_type": "execute_result"
    }
   ],
   "execution_count": 5
  },
  {
   "metadata": {
    "ExecuteTime": {
     "end_time": "2024-10-29T18:51:34.598203Z",
     "start_time": "2024-10-29T18:51:34.594567Z"
    }
   },
   "cell_type": "code",
   "source": [
    "with open(r'F:\\DataSpell\\data_science_ml_learning\\DATA\\One.txt') as mytext:\n",
    "    a = mytext.read().lower().split()\n",
    "    unique_words_one = set(a)"
   ],
   "id": "a94cad8ad0a8bd2c",
   "outputs": [],
   "execution_count": 6
  },
  {
   "metadata": {
    "ExecuteTime": {
     "end_time": "2024-10-29T18:51:34.651616Z",
     "start_time": "2024-10-29T18:51:34.647614Z"
    }
   },
   "cell_type": "code",
   "source": "unique_words_one",
   "id": "46f0b11cceffac73",
   "outputs": [
    {
     "data": {
      "text/plain": [
       "{'a',\n",
       " 'about',\n",
       " 'animals',\n",
       " 'are',\n",
       " 'canine',\n",
       " 'dogs',\n",
       " 'furry',\n",
       " 'is',\n",
       " 'our',\n",
       " 'pets',\n",
       " 'story',\n",
       " 'this'}"
      ]
     },
     "execution_count": 7,
     "metadata": {},
     "output_type": "execute_result"
    }
   ],
   "execution_count": 7
  },
  {
   "metadata": {
    "ExecuteTime": {
     "end_time": "2024-10-29T18:51:34.682089Z",
     "start_time": "2024-10-29T18:51:34.678007Z"
    }
   },
   "cell_type": "code",
   "source": [
    "with open(r'F:\\DataSpell\\data_science_ml_learning\\DATA\\Two.txt') as mytext:\n",
    "    word_two = mytext.read().lower().split()\n",
    "    uni_words_two = set(word_two)"
   ],
   "id": "39e877e3dd6455bf",
   "outputs": [],
   "execution_count": 8
  },
  {
   "metadata": {
    "ExecuteTime": {
     "end_time": "2024-10-29T18:51:34.703851Z",
     "start_time": "2024-10-29T18:51:34.699690Z"
    }
   },
   "cell_type": "code",
   "source": "uni_words_two",
   "id": "76e4d1ebbf9ceb0a",
   "outputs": [
    {
     "data": {
      "text/plain": [
       "{'a',\n",
       " 'about',\n",
       " 'catching',\n",
       " 'fun',\n",
       " 'is',\n",
       " 'popular',\n",
       " 'sport',\n",
       " 'story',\n",
       " 'surfing',\n",
       " 'this',\n",
       " 'water',\n",
       " 'waves'}"
      ]
     },
     "execution_count": 9,
     "metadata": {},
     "output_type": "execute_result"
    }
   ],
   "execution_count": 9
  },
  {
   "metadata": {
    "ExecuteTime": {
     "end_time": "2024-10-29T18:51:34.737106Z",
     "start_time": "2024-10-29T18:51:34.733493Z"
    }
   },
   "cell_type": "code",
   "source": [
    "all_unique_words = set()\n",
    "all_unique_words.update(unique_words_one)\n",
    "all_unique_words.update(uni_words_two)"
   ],
   "id": "58c9065d331b6cb9",
   "outputs": [],
   "execution_count": 10
  },
  {
   "metadata": {
    "ExecuteTime": {
     "end_time": "2024-10-29T18:51:34.756260Z",
     "start_time": "2024-10-29T18:51:34.752379Z"
    }
   },
   "cell_type": "code",
   "source": "all_unique_words",
   "id": "a416448c33a076d5",
   "outputs": [
    {
     "data": {
      "text/plain": [
       "{'a',\n",
       " 'about',\n",
       " 'animals',\n",
       " 'are',\n",
       " 'canine',\n",
       " 'catching',\n",
       " 'dogs',\n",
       " 'fun',\n",
       " 'furry',\n",
       " 'is',\n",
       " 'our',\n",
       " 'pets',\n",
       " 'popular',\n",
       " 'sport',\n",
       " 'story',\n",
       " 'surfing',\n",
       " 'this',\n",
       " 'water',\n",
       " 'waves'}"
      ]
     },
     "execution_count": 11,
     "metadata": {},
     "output_type": "execute_result"
    }
   ],
   "execution_count": 11
  },
  {
   "metadata": {
    "ExecuteTime": {
     "end_time": "2024-10-29T18:51:34.795153Z",
     "start_time": "2024-10-29T18:51:34.791309Z"
    }
   },
   "cell_type": "code",
   "source": [
    "full_vocab = dict()\n",
    "i = 0\n",
    "\n",
    "for word in all_unique_words:\n",
    "    full_vocab[word] = i\n",
    "    i += 1"
   ],
   "id": "622f6f54c544318e",
   "outputs": [],
   "execution_count": 12
  },
  {
   "metadata": {
    "ExecuteTime": {
     "end_time": "2024-10-29T18:51:34.819931Z",
     "start_time": "2024-10-29T18:51:34.815749Z"
    }
   },
   "cell_type": "code",
   "source": "{word: i for i, word in enumerate(all_unique_words)}",
   "id": "c2fa5e5c2fcec886",
   "outputs": [
    {
     "data": {
      "text/plain": [
       "{'canine': 0,\n",
       " 'pets': 1,\n",
       " 'fun': 2,\n",
       " 'surfing': 3,\n",
       " 'is': 4,\n",
       " 'our': 5,\n",
       " 'popular': 6,\n",
       " 'animals': 7,\n",
       " 'furry': 8,\n",
       " 'this': 9,\n",
       " 'about': 10,\n",
       " 'sport': 11,\n",
       " 'waves': 12,\n",
       " 'are': 13,\n",
       " 'water': 14,\n",
       " 'catching': 15,\n",
       " 'a': 16,\n",
       " 'dogs': 17,\n",
       " 'story': 18}"
      ]
     },
     "execution_count": 13,
     "metadata": {},
     "output_type": "execute_result"
    }
   ],
   "execution_count": 13
  },
  {
   "metadata": {
    "ExecuteTime": {
     "end_time": "2024-10-29T18:51:34.856935Z",
     "start_time": "2024-10-29T18:51:34.852251Z"
    }
   },
   "cell_type": "code",
   "source": "full_vocab",
   "id": "eec237b6fd2e724a",
   "outputs": [
    {
     "data": {
      "text/plain": [
       "{'canine': 0,\n",
       " 'pets': 1,\n",
       " 'fun': 2,\n",
       " 'surfing': 3,\n",
       " 'is': 4,\n",
       " 'our': 5,\n",
       " 'popular': 6,\n",
       " 'animals': 7,\n",
       " 'furry': 8,\n",
       " 'this': 9,\n",
       " 'about': 10,\n",
       " 'sport': 11,\n",
       " 'waves': 12,\n",
       " 'are': 13,\n",
       " 'water': 14,\n",
       " 'catching': 15,\n",
       " 'a': 16,\n",
       " 'dogs': 17,\n",
       " 'story': 18}"
      ]
     },
     "execution_count": 14,
     "metadata": {},
     "output_type": "execute_result"
    }
   ],
   "execution_count": 14
  },
  {
   "metadata": {
    "ExecuteTime": {
     "end_time": "2024-10-29T18:51:34.884843Z",
     "start_time": "2024-10-29T18:51:34.881570Z"
    }
   },
   "cell_type": "code",
   "source": [
    "one_freq = [0] * len(full_vocab)\n",
    "two_freq = [0] * len(full_vocab)\n",
    "all_words = [''] * len(full_vocab)"
   ],
   "id": "589d098025c76b57",
   "outputs": [],
   "execution_count": 15
  },
  {
   "metadata": {
    "ExecuteTime": {
     "end_time": "2024-10-29T18:51:34.908637Z",
     "start_time": "2024-10-29T18:51:34.904427Z"
    }
   },
   "cell_type": "code",
   "source": "full_vocab",
   "id": "6bd9085ce20ae756",
   "outputs": [
    {
     "data": {
      "text/plain": [
       "{'canine': 0,\n",
       " 'pets': 1,\n",
       " 'fun': 2,\n",
       " 'surfing': 3,\n",
       " 'is': 4,\n",
       " 'our': 5,\n",
       " 'popular': 6,\n",
       " 'animals': 7,\n",
       " 'furry': 8,\n",
       " 'this': 9,\n",
       " 'about': 10,\n",
       " 'sport': 11,\n",
       " 'waves': 12,\n",
       " 'are': 13,\n",
       " 'water': 14,\n",
       " 'catching': 15,\n",
       " 'a': 16,\n",
       " 'dogs': 17,\n",
       " 'story': 18}"
      ]
     },
     "execution_count": 16,
     "metadata": {},
     "output_type": "execute_result"
    }
   ],
   "execution_count": 16
  },
  {
   "metadata": {
    "ExecuteTime": {
     "end_time": "2024-10-29T18:51:34.938596Z",
     "start_time": "2024-10-29T18:51:34.934557Z"
    }
   },
   "cell_type": "code",
   "source": [
    "with open(r'F:\\DataSpell\\data_science_ml_learning\\DATA\\One.txt') as one_text:\n",
    "    one_text = one_text.read().lower().split()"
   ],
   "id": "fc03d9a81c62e209",
   "outputs": [],
   "execution_count": 17
  },
  {
   "metadata": {
    "ExecuteTime": {
     "end_time": "2024-10-29T18:51:34.955660Z",
     "start_time": "2024-10-29T18:51:34.952022Z"
    }
   },
   "cell_type": "code",
   "source": [
    "for word in one_text:\n",
    "    word_ind = full_vocab[word]\n",
    "    one_freq[word_ind] += 1"
   ],
   "id": "d04cb7977bebc0b",
   "outputs": [],
   "execution_count": 18
  },
  {
   "metadata": {
    "ExecuteTime": {
     "end_time": "2024-10-29T18:51:34.967078Z",
     "start_time": "2024-10-29T18:51:34.962703Z"
    }
   },
   "cell_type": "code",
   "source": "one_freq",
   "id": "59f38ad3e797c624",
   "outputs": [
    {
     "data": {
      "text/plain": [
       "[1, 1, 0, 0, 1, 1, 0, 1, 1, 1, 1, 0, 0, 1, 0, 0, 1, 2, 1]"
      ]
     },
     "execution_count": 19,
     "metadata": {},
     "output_type": "execute_result"
    }
   ],
   "execution_count": 19
  },
  {
   "metadata": {
    "ExecuteTime": {
     "end_time": "2024-10-29T18:51:34.995351Z",
     "start_time": "2024-10-29T18:51:34.991320Z"
    }
   },
   "cell_type": "code",
   "source": [
    "with open(r'F:\\DataSpell\\data_science_ml_learning\\DATA\\Two.txt') as two_text:\n",
    "    two_text = two_text.read().lower().split()"
   ],
   "id": "2f5393e2b9fd9c54",
   "outputs": [],
   "execution_count": 20
  },
  {
   "metadata": {
    "ExecuteTime": {
     "end_time": "2024-10-29T18:51:35.007628Z",
     "start_time": "2024-10-29T18:51:35.004869Z"
    }
   },
   "cell_type": "code",
   "source": [
    "for word in two_text:\n",
    "    word_ind = full_vocab[word]\n",
    "    two_freq[word_ind] += 1"
   ],
   "id": "a14937cc4fb6a7be",
   "outputs": [],
   "execution_count": 21
  },
  {
   "metadata": {
    "ExecuteTime": {
     "end_time": "2024-10-29T18:51:35.018414Z",
     "start_time": "2024-10-29T18:51:35.014544Z"
    }
   },
   "cell_type": "code",
   "source": "all_words",
   "id": "89f8e51edc0fb664",
   "outputs": [
    {
     "data": {
      "text/plain": [
       "['', '', '', '', '', '', '', '', '', '', '', '', '', '', '', '', '', '', '']"
      ]
     },
     "execution_count": 22,
     "metadata": {},
     "output_type": "execute_result"
    }
   ],
   "execution_count": 22
  },
  {
   "metadata": {
    "ExecuteTime": {
     "end_time": "2024-10-29T18:51:35.045398Z",
     "start_time": "2024-10-29T18:51:35.042671Z"
    }
   },
   "cell_type": "code",
   "source": [
    "for word in full_vocab:\n",
    "    word_ind = full_vocab[word]\n",
    "    all_words[word_ind] = word"
   ],
   "id": "b29171ee61f8ca45",
   "outputs": [],
   "execution_count": 23
  },
  {
   "metadata": {
    "ExecuteTime": {
     "end_time": "2024-10-29T18:51:35.064068Z",
     "start_time": "2024-10-29T18:51:35.059923Z"
    }
   },
   "cell_type": "code",
   "source": "all_words",
   "id": "e86b64f3f876b8e",
   "outputs": [
    {
     "data": {
      "text/plain": [
       "['canine',\n",
       " 'pets',\n",
       " 'fun',\n",
       " 'surfing',\n",
       " 'is',\n",
       " 'our',\n",
       " 'popular',\n",
       " 'animals',\n",
       " 'furry',\n",
       " 'this',\n",
       " 'about',\n",
       " 'sport',\n",
       " 'waves',\n",
       " 'are',\n",
       " 'water',\n",
       " 'catching',\n",
       " 'a',\n",
       " 'dogs',\n",
       " 'story']"
      ]
     },
     "execution_count": 24,
     "metadata": {},
     "output_type": "execute_result"
    }
   ],
   "execution_count": 24
  },
  {
   "metadata": {
    "ExecuteTime": {
     "end_time": "2024-10-29T18:51:35.086705Z",
     "start_time": "2024-10-29T18:51:35.082379Z"
    }
   },
   "cell_type": "code",
   "source": "bow = pd.DataFrame(data=[one_freq, two_freq], columns=all_words)",
   "id": "5e18aabb339a1a2e",
   "outputs": [],
   "execution_count": 25
  },
  {
   "metadata": {
    "ExecuteTime": {
     "end_time": "2024-10-29T18:51:35.117782Z",
     "start_time": "2024-10-29T18:51:35.107884Z"
    }
   },
   "cell_type": "code",
   "source": "bow",
   "id": "6410bc44962ef356",
   "outputs": [
    {
     "data": {
      "text/plain": [
       "   canine  pets  fun  surfing  is  our  popular  animals  furry  this  about  \\\n",
       "0       1     1    0        0   1    1        0        1      1     1      1   \n",
       "1       0     0    1        2   3    0        1        0      0     1      1   \n",
       "\n",
       "   sport  waves  are  water  catching  a  dogs  story  \n",
       "0      0      0    1      0         0  1     2      1  \n",
       "1      1      1    0      1         1  1     0      1  "
      ],
      "text/html": [
       "<div>\n",
       "<style scoped>\n",
       "    .dataframe tbody tr th:only-of-type {\n",
       "        vertical-align: middle;\n",
       "    }\n",
       "\n",
       "    .dataframe tbody tr th {\n",
       "        vertical-align: top;\n",
       "    }\n",
       "\n",
       "    .dataframe thead th {\n",
       "        text-align: right;\n",
       "    }\n",
       "</style>\n",
       "<table border=\"1\" class=\"dataframe\">\n",
       "  <thead>\n",
       "    <tr style=\"text-align: right;\">\n",
       "      <th></th>\n",
       "      <th>canine</th>\n",
       "      <th>pets</th>\n",
       "      <th>fun</th>\n",
       "      <th>surfing</th>\n",
       "      <th>is</th>\n",
       "      <th>our</th>\n",
       "      <th>popular</th>\n",
       "      <th>animals</th>\n",
       "      <th>furry</th>\n",
       "      <th>this</th>\n",
       "      <th>about</th>\n",
       "      <th>sport</th>\n",
       "      <th>waves</th>\n",
       "      <th>are</th>\n",
       "      <th>water</th>\n",
       "      <th>catching</th>\n",
       "      <th>a</th>\n",
       "      <th>dogs</th>\n",
       "      <th>story</th>\n",
       "    </tr>\n",
       "  </thead>\n",
       "  <tbody>\n",
       "    <tr>\n",
       "      <th>0</th>\n",
       "      <td>1</td>\n",
       "      <td>1</td>\n",
       "      <td>0</td>\n",
       "      <td>0</td>\n",
       "      <td>1</td>\n",
       "      <td>1</td>\n",
       "      <td>0</td>\n",
       "      <td>1</td>\n",
       "      <td>1</td>\n",
       "      <td>1</td>\n",
       "      <td>1</td>\n",
       "      <td>0</td>\n",
       "      <td>0</td>\n",
       "      <td>1</td>\n",
       "      <td>0</td>\n",
       "      <td>0</td>\n",
       "      <td>1</td>\n",
       "      <td>2</td>\n",
       "      <td>1</td>\n",
       "    </tr>\n",
       "    <tr>\n",
       "      <th>1</th>\n",
       "      <td>0</td>\n",
       "      <td>0</td>\n",
       "      <td>1</td>\n",
       "      <td>2</td>\n",
       "      <td>3</td>\n",
       "      <td>0</td>\n",
       "      <td>1</td>\n",
       "      <td>0</td>\n",
       "      <td>0</td>\n",
       "      <td>1</td>\n",
       "      <td>1</td>\n",
       "      <td>1</td>\n",
       "      <td>1</td>\n",
       "      <td>0</td>\n",
       "      <td>1</td>\n",
       "      <td>1</td>\n",
       "      <td>1</td>\n",
       "      <td>0</td>\n",
       "      <td>1</td>\n",
       "    </tr>\n",
       "  </tbody>\n",
       "</table>\n",
       "</div>"
      ]
     },
     "execution_count": 26,
     "metadata": {},
     "output_type": "execute_result"
    }
   ],
   "execution_count": 26
  },
  {
   "metadata": {},
   "cell_type": "markdown",
   "source": "# 189. Feature Extraction from Text - Coding with Scikit-Learn",
   "id": "67f5162277fbd521"
  },
  {
   "metadata": {
    "ExecuteTime": {
     "end_time": "2024-10-29T18:51:35.308346Z",
     "start_time": "2024-10-29T18:51:35.305128Z"
    }
   },
   "cell_type": "code",
   "source": [
    "text = ['This is the line',\n",
    "        'This is another line',\n",
    "        'Completely different line']"
   ],
   "id": "ae49bc7ff4762619",
   "outputs": [],
   "execution_count": 27
  },
  {
   "metadata": {
    "ExecuteTime": {
     "end_time": "2024-10-29T18:51:35.479137Z",
     "start_time": "2024-10-29T18:51:35.327506Z"
    }
   },
   "cell_type": "code",
   "source": "from sklearn.feature_extraction.text import CountVectorizer, TfidfTransformer",
   "id": "b1b64736875e6850",
   "outputs": [],
   "execution_count": 28
  },
  {
   "metadata": {
    "ExecuteTime": {
     "end_time": "2024-10-29T18:51:35.509778Z",
     "start_time": "2024-10-29T18:51:35.506448Z"
    }
   },
   "cell_type": "code",
   "source": [
    "# cv = CountVectorizer(stop_words='english')\n",
    "cv = CountVectorizer()"
   ],
   "id": "5c6688507733aea7",
   "outputs": [],
   "execution_count": 29
  },
  {
   "metadata": {
    "ExecuteTime": {
     "end_time": "2024-10-29T18:51:35.536134Z",
     "start_time": "2024-10-29T18:51:35.529817Z"
    }
   },
   "cell_type": "code",
   "source": "sparse_matrix = cv.fit_transform(text)",
   "id": "ea48b2f1f4d7249c",
   "outputs": [],
   "execution_count": 30
  },
  {
   "metadata": {
    "ExecuteTime": {
     "end_time": "2024-10-29T18:51:35.692952Z",
     "start_time": "2024-10-29T18:51:35.688836Z"
    }
   },
   "cell_type": "code",
   "source": "sparse_matrix.todense()",
   "id": "43d28155e234e569",
   "outputs": [
    {
     "data": {
      "text/plain": [
       "matrix([[0, 0, 0, 1, 1, 1, 1],\n",
       "        [1, 0, 0, 1, 1, 0, 1],\n",
       "        [0, 1, 1, 0, 1, 0, 0]], dtype=int64)"
      ]
     },
     "execution_count": 31,
     "metadata": {},
     "output_type": "execute_result"
    }
   ],
   "execution_count": 31
  },
  {
   "metadata": {
    "ExecuteTime": {
     "end_time": "2024-10-29T18:51:35.831227Z",
     "start_time": "2024-10-29T18:51:35.826228Z"
    }
   },
   "cell_type": "code",
   "source": "cv.vocabulary_",
   "id": "b0c700ecb3b66265",
   "outputs": [
    {
     "data": {
      "text/plain": [
       "{'this': 6,\n",
       " 'is': 3,\n",
       " 'the': 5,\n",
       " 'line': 4,\n",
       " 'another': 0,\n",
       " 'completely': 1,\n",
       " 'different': 2}"
      ]
     },
     "execution_count": 32,
     "metadata": {},
     "output_type": "execute_result"
    }
   ],
   "execution_count": 32
  },
  {
   "metadata": {
    "ExecuteTime": {
     "end_time": "2024-10-29T18:51:35.894082Z",
     "start_time": "2024-10-29T18:51:35.889845Z"
    }
   },
   "cell_type": "code",
   "source": "tfidf = TfidfTransformer()",
   "id": "fd293dafe58d73f",
   "outputs": [],
   "execution_count": 33
  },
  {
   "metadata": {
    "ExecuteTime": {
     "end_time": "2024-10-29T18:51:35.904637Z",
     "start_time": "2024-10-29T18:51:35.900092Z"
    }
   },
   "cell_type": "code",
   "source": "results = tfidf.fit_transform(sparse_matrix)",
   "id": "7978005111d2419c",
   "outputs": [],
   "execution_count": 34
  },
  {
   "metadata": {
    "ExecuteTime": {
     "end_time": "2024-10-29T18:51:35.923591Z",
     "start_time": "2024-10-29T18:51:35.919008Z"
    }
   },
   "cell_type": "code",
   "source": "results.todense()",
   "id": "1649c59425442666",
   "outputs": [
    {
     "data": {
      "text/plain": [
       "matrix([[0.        , 0.        , 0.        , 0.4804584 , 0.37311881,\n",
       "         0.63174505, 0.4804584 ],\n",
       "        [0.63174505, 0.        , 0.        , 0.4804584 , 0.37311881,\n",
       "         0.        , 0.4804584 ],\n",
       "        [0.        , 0.65249088, 0.65249088, 0.        , 0.38537163,\n",
       "         0.        , 0.        ]])"
      ]
     },
     "execution_count": 35,
     "metadata": {},
     "output_type": "execute_result"
    }
   ],
   "execution_count": 35
  },
  {
   "metadata": {
    "ExecuteTime": {
     "end_time": "2024-10-29T18:51:35.956411Z",
     "start_time": "2024-10-29T18:51:35.953409Z"
    }
   },
   "cell_type": "code",
   "source": "from sklearn.feature_extraction.text import TfidfVectorizer",
   "id": "1105e95e6515954",
   "outputs": [],
   "execution_count": 36
  },
  {
   "metadata": {
    "ExecuteTime": {
     "end_time": "2024-10-29T18:51:35.971968Z",
     "start_time": "2024-10-29T18:51:35.968936Z"
    }
   },
   "cell_type": "code",
   "source": "tv = TfidfVectorizer()",
   "id": "e82bff9efe47a0ca",
   "outputs": [],
   "execution_count": 37
  },
  {
   "metadata": {
    "ExecuteTime": {
     "end_time": "2024-10-29T18:51:35.987159Z",
     "start_time": "2024-10-29T18:51:35.983043Z"
    }
   },
   "cell_type": "code",
   "source": "tv_results = tv.fit_transform(text)",
   "id": "bf12fa5a43808adf",
   "outputs": [],
   "execution_count": 38
  },
  {
   "metadata": {
    "ExecuteTime": {
     "end_time": "2024-10-29T18:51:36.000869Z",
     "start_time": "2024-10-29T18:51:35.996767Z"
    }
   },
   "cell_type": "code",
   "source": "tv_results.todense()",
   "id": "50e1e75769a91e6a",
   "outputs": [
    {
     "data": {
      "text/plain": [
       "matrix([[0.        , 0.        , 0.        , 0.4804584 , 0.37311881,\n",
       "         0.63174505, 0.4804584 ],\n",
       "        [0.63174505, 0.        , 0.        , 0.4804584 , 0.37311881,\n",
       "         0.        , 0.4804584 ],\n",
       "        [0.        , 0.65249088, 0.65249088, 0.        , 0.38537163,\n",
       "         0.        , 0.        ]])"
      ]
     },
     "execution_count": 39,
     "metadata": {},
     "output_type": "execute_result"
    }
   ],
   "execution_count": 39
  },
  {
   "metadata": {},
   "cell_type": "markdown",
   "source": "# 190. Natural Language Processing - Classification of Text - Part One",
   "id": "6320458c42fde8ae"
  },
  {
   "metadata": {
    "ExecuteTime": {
     "end_time": "2024-10-29T18:53:26.728327Z",
     "start_time": "2024-10-29T18:53:26.725282Z"
    }
   },
   "cell_type": "code",
   "source": "df_path = r'F:\\DataSpell\\data_science_ml_learning\\DATA\\airline_tweets.csv'",
   "id": "436e6c6333ff7f57",
   "outputs": [],
   "execution_count": 40
  },
  {
   "metadata": {
    "ExecuteTime": {
     "end_time": "2024-10-29T18:53:30.822747Z",
     "start_time": "2024-10-29T18:53:30.756056Z"
    }
   },
   "cell_type": "code",
   "source": "df = pd.read_csv(df_path)",
   "id": "a8630c1b92a25c18",
   "outputs": [],
   "execution_count": 41
  },
  {
   "metadata": {
    "ExecuteTime": {
     "end_time": "2024-10-29T18:53:55.870393Z",
     "start_time": "2024-10-29T18:53:55.860675Z"
    }
   },
   "cell_type": "code",
   "source": "df.head()",
   "id": "dc824be537910f3d",
   "outputs": [
    {
     "data": {
      "text/plain": [
       "             tweet_id airline_sentiment  airline_sentiment_confidence  \\\n",
       "0  570306133677760513           neutral                        1.0000   \n",
       "1  570301130888122368          positive                        0.3486   \n",
       "2  570301083672813571           neutral                        0.6837   \n",
       "3  570301031407624196          negative                        1.0000   \n",
       "4  570300817074462722          negative                        1.0000   \n",
       "\n",
       "  negativereason  negativereason_confidence         airline  \\\n",
       "0            NaN                        NaN  Virgin America   \n",
       "1            NaN                     0.0000  Virgin America   \n",
       "2            NaN                        NaN  Virgin America   \n",
       "3     Bad Flight                     0.7033  Virgin America   \n",
       "4     Can't Tell                     1.0000  Virgin America   \n",
       "\n",
       "  airline_sentiment_gold        name negativereason_gold  retweet_count  \\\n",
       "0                    NaN     cairdin                 NaN              0   \n",
       "1                    NaN    jnardino                 NaN              0   \n",
       "2                    NaN  yvonnalynn                 NaN              0   \n",
       "3                    NaN    jnardino                 NaN              0   \n",
       "4                    NaN    jnardino                 NaN              0   \n",
       "\n",
       "                                                text tweet_coord  \\\n",
       "0                @VirginAmerica What @dhepburn said.         NaN   \n",
       "1  @VirginAmerica plus you've added commercials t...         NaN   \n",
       "2  @VirginAmerica I didn't today... Must mean I n...         NaN   \n",
       "3  @VirginAmerica it's really aggressive to blast...         NaN   \n",
       "4  @VirginAmerica and it's a really big bad thing...         NaN   \n",
       "\n",
       "               tweet_created tweet_location               user_timezone  \n",
       "0  2015-02-24 11:35:52 -0800            NaN  Eastern Time (US & Canada)  \n",
       "1  2015-02-24 11:15:59 -0800            NaN  Pacific Time (US & Canada)  \n",
       "2  2015-02-24 11:15:48 -0800      Lets Play  Central Time (US & Canada)  \n",
       "3  2015-02-24 11:15:36 -0800            NaN  Pacific Time (US & Canada)  \n",
       "4  2015-02-24 11:14:45 -0800            NaN  Pacific Time (US & Canada)  "
      ],
      "text/html": [
       "<div>\n",
       "<style scoped>\n",
       "    .dataframe tbody tr th:only-of-type {\n",
       "        vertical-align: middle;\n",
       "    }\n",
       "\n",
       "    .dataframe tbody tr th {\n",
       "        vertical-align: top;\n",
       "    }\n",
       "\n",
       "    .dataframe thead th {\n",
       "        text-align: right;\n",
       "    }\n",
       "</style>\n",
       "<table border=\"1\" class=\"dataframe\">\n",
       "  <thead>\n",
       "    <tr style=\"text-align: right;\">\n",
       "      <th></th>\n",
       "      <th>tweet_id</th>\n",
       "      <th>airline_sentiment</th>\n",
       "      <th>airline_sentiment_confidence</th>\n",
       "      <th>negativereason</th>\n",
       "      <th>negativereason_confidence</th>\n",
       "      <th>airline</th>\n",
       "      <th>airline_sentiment_gold</th>\n",
       "      <th>name</th>\n",
       "      <th>negativereason_gold</th>\n",
       "      <th>retweet_count</th>\n",
       "      <th>text</th>\n",
       "      <th>tweet_coord</th>\n",
       "      <th>tweet_created</th>\n",
       "      <th>tweet_location</th>\n",
       "      <th>user_timezone</th>\n",
       "    </tr>\n",
       "  </thead>\n",
       "  <tbody>\n",
       "    <tr>\n",
       "      <th>0</th>\n",
       "      <td>570306133677760513</td>\n",
       "      <td>neutral</td>\n",
       "      <td>1.0000</td>\n",
       "      <td>NaN</td>\n",
       "      <td>NaN</td>\n",
       "      <td>Virgin America</td>\n",
       "      <td>NaN</td>\n",
       "      <td>cairdin</td>\n",
       "      <td>NaN</td>\n",
       "      <td>0</td>\n",
       "      <td>@VirginAmerica What @dhepburn said.</td>\n",
       "      <td>NaN</td>\n",
       "      <td>2015-02-24 11:35:52 -0800</td>\n",
       "      <td>NaN</td>\n",
       "      <td>Eastern Time (US &amp; Canada)</td>\n",
       "    </tr>\n",
       "    <tr>\n",
       "      <th>1</th>\n",
       "      <td>570301130888122368</td>\n",
       "      <td>positive</td>\n",
       "      <td>0.3486</td>\n",
       "      <td>NaN</td>\n",
       "      <td>0.0000</td>\n",
       "      <td>Virgin America</td>\n",
       "      <td>NaN</td>\n",
       "      <td>jnardino</td>\n",
       "      <td>NaN</td>\n",
       "      <td>0</td>\n",
       "      <td>@VirginAmerica plus you've added commercials t...</td>\n",
       "      <td>NaN</td>\n",
       "      <td>2015-02-24 11:15:59 -0800</td>\n",
       "      <td>NaN</td>\n",
       "      <td>Pacific Time (US &amp; Canada)</td>\n",
       "    </tr>\n",
       "    <tr>\n",
       "      <th>2</th>\n",
       "      <td>570301083672813571</td>\n",
       "      <td>neutral</td>\n",
       "      <td>0.6837</td>\n",
       "      <td>NaN</td>\n",
       "      <td>NaN</td>\n",
       "      <td>Virgin America</td>\n",
       "      <td>NaN</td>\n",
       "      <td>yvonnalynn</td>\n",
       "      <td>NaN</td>\n",
       "      <td>0</td>\n",
       "      <td>@VirginAmerica I didn't today... Must mean I n...</td>\n",
       "      <td>NaN</td>\n",
       "      <td>2015-02-24 11:15:48 -0800</td>\n",
       "      <td>Lets Play</td>\n",
       "      <td>Central Time (US &amp; Canada)</td>\n",
       "    </tr>\n",
       "    <tr>\n",
       "      <th>3</th>\n",
       "      <td>570301031407624196</td>\n",
       "      <td>negative</td>\n",
       "      <td>1.0000</td>\n",
       "      <td>Bad Flight</td>\n",
       "      <td>0.7033</td>\n",
       "      <td>Virgin America</td>\n",
       "      <td>NaN</td>\n",
       "      <td>jnardino</td>\n",
       "      <td>NaN</td>\n",
       "      <td>0</td>\n",
       "      <td>@VirginAmerica it's really aggressive to blast...</td>\n",
       "      <td>NaN</td>\n",
       "      <td>2015-02-24 11:15:36 -0800</td>\n",
       "      <td>NaN</td>\n",
       "      <td>Pacific Time (US &amp; Canada)</td>\n",
       "    </tr>\n",
       "    <tr>\n",
       "      <th>4</th>\n",
       "      <td>570300817074462722</td>\n",
       "      <td>negative</td>\n",
       "      <td>1.0000</td>\n",
       "      <td>Can't Tell</td>\n",
       "      <td>1.0000</td>\n",
       "      <td>Virgin America</td>\n",
       "      <td>NaN</td>\n",
       "      <td>jnardino</td>\n",
       "      <td>NaN</td>\n",
       "      <td>0</td>\n",
       "      <td>@VirginAmerica and it's a really big bad thing...</td>\n",
       "      <td>NaN</td>\n",
       "      <td>2015-02-24 11:14:45 -0800</td>\n",
       "      <td>NaN</td>\n",
       "      <td>Pacific Time (US &amp; Canada)</td>\n",
       "    </tr>\n",
       "  </tbody>\n",
       "</table>\n",
       "</div>"
      ]
     },
     "execution_count": 42,
     "metadata": {},
     "output_type": "execute_result"
    }
   ],
   "execution_count": 42
  },
  {
   "metadata": {
    "ExecuteTime": {
     "end_time": "2024-10-29T18:56:43.780902Z",
     "start_time": "2024-10-29T18:56:43.671629Z"
    }
   },
   "cell_type": "code",
   "source": "sns.countplot(data=df, x='airline_sentiment')",
   "id": "3ee8cf1082602349",
   "outputs": [
    {
     "data": {
      "text/plain": [
       "<Axes: xlabel='airline_sentiment', ylabel='count'>"
      ]
     },
     "execution_count": 44,
     "metadata": {},
     "output_type": "execute_result"
    },
    {
     "data": {
      "text/plain": [
       "<Figure size 640x480 with 1 Axes>"
      ],
      "image/png": "[encoded data removed]"
     },
     "metadata": {},
     "output_type": "display_data"
    }
   ],
   "execution_count": 44
  },
  {
   "metadata": {
    "ExecuteTime": {
     "end_time": "2024-10-29T18:57:23.819489Z",
     "start_time": "2024-10-29T18:57:23.643443Z"
    }
   },
   "cell_type": "code",
   "source": [
    "sns.countplot(data=df, x='negativereason')\n",
    "plt.xticks(rotation=90);"
   ],
   "id": "d0ed5e81adce1a76",
   "outputs": [
    {
     "data": {
      "text/plain": [
       "<Figure size 640x480 with 1 Axes>"
      ],
      "image/png": "[encoded data removed]"
     },
     "metadata": {},
     "output_type": "display_data"
    }
   ],
   "execution_count": 47
  },
  {
   "metadata": {
    "ExecuteTime": {
     "end_time": "2024-10-29T18:58:25.478325Z",
     "start_time": "2024-10-29T18:58:25.294260Z"
    }
   },
   "cell_type": "code",
   "source": "sns.countplot(data=df, x='airline', hue='airline_sentiment')",
   "id": "c2169f106e0a64b5",
   "outputs": [
    {
     "data": {
      "text/plain": [
       "<Axes: xlabel='airline', ylabel='count'>"
      ]
     },
     "execution_count": 50,
     "metadata": {},
     "output_type": "execute_result"
    },
    {
     "data": {
      "text/plain": [
       "<Figure size 640x480 with 1 Axes>"
      ],
      "image/png": "[encoded data removed]"
     },
     "metadata": {},
     "output_type": "display_data"
    }
   ],
   "execution_count": 50
  },
  {
   "metadata": {
    "ExecuteTime": {
     "end_time": "2024-10-29T18:59:26.408795Z",
     "start_time": "2024-10-29T18:59:26.404172Z"
    }
   },
   "cell_type": "code",
   "source": "data = df[['airline_sentiment', 'text']]",
   "id": "cc8010efa746ff53",
   "outputs": [],
   "execution_count": 52
  },
  {
   "metadata": {
    "ExecuteTime": {
     "end_time": "2024-10-29T18:59:27.612212Z",
     "start_time": "2024-10-29T18:59:27.604661Z"
    }
   },
   "cell_type": "code",
   "source": "data",
   "id": "d3a2af0d1e15ce5",
   "outputs": [
    {
     "data": {
      "text/plain": [
       "      airline_sentiment                                               text\n",
       "0               neutral                @VirginAmerica What @dhepburn said.\n",
       "1              positive  @VirginAmerica plus you've added commercials t...\n",
       "2               neutral  @VirginAmerica I didn't today... Must mean I n...\n",
       "3              negative  @VirginAmerica it's really aggressive to blast...\n",
       "4              negative  @VirginAmerica and it's a really big bad thing...\n",
       "...                 ...                                                ...\n",
       "14635          positive  @AmericanAir thank you we got on a different f...\n",
       "14636          negative  @AmericanAir leaving over 20 minutes Late Flig...\n",
       "14637           neutral  @AmericanAir Please bring American Airlines to...\n",
       "14638          negative  @AmericanAir you have my money, you change my ...\n",
       "14639           neutral  @AmericanAir we have 8 ppl so we need 2 know h...\n",
       "\n",
       "[14640 rows x 2 columns]"
      ],
      "text/html": [
       "<div>\n",
       "<style scoped>\n",
       "    .dataframe tbody tr th:only-of-type {\n",
       "        vertical-align: middle;\n",
       "    }\n",
       "\n",
       "    .dataframe tbody tr th {\n",
       "        vertical-align: top;\n",
       "    }\n",
       "\n",
       "    .dataframe thead th {\n",
       "        text-align: right;\n",
       "    }\n",
       "</style>\n",
       "<table border=\"1\" class=\"dataframe\">\n",
       "  <thead>\n",
       "    <tr style=\"text-align: right;\">\n",
       "      <th></th>\n",
       "      <th>airline_sentiment</th>\n",
       "      <th>text</th>\n",
       "    </tr>\n",
       "  </thead>\n",
       "  <tbody>\n",
       "    <tr>\n",
       "      <th>0</th>\n",
       "      <td>neutral</td>\n",
       "      <td>@VirginAmerica What @dhepburn said.</td>\n",
       "    </tr>\n",
       "    <tr>\n",
       "      <th>1</th>\n",
       "      <td>positive</td>\n",
       "      <td>@VirginAmerica plus you've added commercials t...</td>\n",
       "    </tr>\n",
       "    <tr>\n",
       "      <th>2</th>\n",
       "      <td>neutral</td>\n",
       "      <td>@VirginAmerica I didn't today... Must mean I n...</td>\n",
       "    </tr>\n",
       "    <tr>\n",
       "      <th>3</th>\n",
       "      <td>negative</td>\n",
       "      <td>@VirginAmerica it's really aggressive to blast...</td>\n",
       "    </tr>\n",
       "    <tr>\n",
       "      <th>4</th>\n",
       "      <td>negative</td>\n",
       "      <td>@VirginAmerica and it's a really big bad thing...</td>\n",
       "    </tr>\n",
       "    <tr>\n",
       "      <th>...</th>\n",
       "      <td>...</td>\n",
       "      <td>...</td>\n",
       "    </tr>\n",
       "    <tr>\n",
       "      <th>14635</th>\n",
       "      <td>positive</td>\n",
       "      <td>@AmericanAir thank you we got on a different f...</td>\n",
       "    </tr>\n",
       "    <tr>\n",
       "      <th>14636</th>\n",
       "      <td>negative</td>\n",
       "      <td>@AmericanAir leaving over 20 minutes Late Flig...</td>\n",
       "    </tr>\n",
       "    <tr>\n",
       "      <th>14637</th>\n",
       "      <td>neutral</td>\n",
       "      <td>@AmericanAir Please bring American Airlines to...</td>\n",
       "    </tr>\n",
       "    <tr>\n",
       "      <th>14638</th>\n",
       "      <td>negative</td>\n",
       "      <td>@AmericanAir you have my money, you change my ...</td>\n",
       "    </tr>\n",
       "    <tr>\n",
       "      <th>14639</th>\n",
       "      <td>neutral</td>\n",
       "      <td>@AmericanAir we have 8 ppl so we need 2 know h...</td>\n",
       "    </tr>\n",
       "  </tbody>\n",
       "</table>\n",
       "<p>14640 rows × 2 columns</p>\n",
       "</div>"
      ]
     },
     "execution_count": 53,
     "metadata": {},
     "output_type": "execute_result"
    }
   ],
   "execution_count": 53
  },
  {
   "metadata": {
    "ExecuteTime": {
     "end_time": "2024-10-29T18:59:38.220981Z",
     "start_time": "2024-10-29T18:59:38.217525Z"
    }
   },
   "cell_type": "code",
   "source": "X = data['text']",
   "id": "f31bf631d3ea5bd5",
   "outputs": [],
   "execution_count": 54
  },
  {
   "metadata": {
    "ExecuteTime": {
     "end_time": "2024-10-29T18:59:39.655707Z",
     "start_time": "2024-10-29T18:59:39.652786Z"
    }
   },
   "cell_type": "code",
   "source": "y = data['airline_sentiment']",
   "id": "4268d3e91c6895d7",
   "outputs": [],
   "execution_count": 55
  },
  {
   "metadata": {
    "ExecuteTime": {
     "end_time": "2024-10-29T19:00:02.198114Z",
     "start_time": "2024-10-29T19:00:01.973048Z"
    }
   },
   "cell_type": "code",
   "source": "from sklearn.model_selection import train_test_split",
   "id": "1b9e4678416d6ce5",
   "outputs": [],
   "execution_count": 56
  },
  {
   "metadata": {
    "ExecuteTime": {
     "end_time": "2024-10-29T19:00:35.447126Z",
     "start_time": "2024-10-29T19:00:35.440666Z"
    }
   },
   "cell_type": "code",
   "source": "X_train, X_test, y_train, y_test = train_test_split(X, y, test_size=0.2, random_state=42)",
   "id": "c6e07521c5c4c502",
   "outputs": [],
   "execution_count": 57
  },
  {
   "metadata": {
    "ExecuteTime": {
     "end_time": "2024-10-29T19:00:39.516244Z",
     "start_time": "2024-10-29T19:00:39.513023Z"
    }
   },
   "cell_type": "code",
   "source": "from sklearn.feature_extraction.text import TfidfVectorizer",
   "id": "877934ff1480162d",
   "outputs": [],
   "execution_count": 58
  },
  {
   "metadata": {
    "ExecuteTime": {
     "end_time": "2024-10-29T19:01:39.519185Z",
     "start_time": "2024-10-29T19:01:39.515675Z"
    }
   },
   "cell_type": "code",
   "source": "tfidf = TfidfVectorizer(stop_words='english')",
   "id": "a15b0264630909e3",
   "outputs": [],
   "execution_count": 60
  },
  {
   "metadata": {
    "ExecuteTime": {
     "end_time": "2024-10-29T19:01:57.531164Z",
     "start_time": "2024-10-29T19:01:57.389828Z"
    }
   },
   "cell_type": "code",
   "source": "X_train_tfidf = tfidf.fit_transform(X_train)",
   "id": "9c529f856e959b98",
   "outputs": [],
   "execution_count": 61
  },
  {
   "metadata": {
    "ExecuteTime": {
     "end_time": "2024-10-29T19:02:27.167977Z",
     "start_time": "2024-10-29T19:02:27.132052Z"
    }
   },
   "cell_type": "code",
   "source": "X_test_tfidf = tfidf.transform(X_test)",
   "id": "a9ff4e63e3ec4f13",
   "outputs": [],
   "execution_count": 62
  },
  {
   "metadata": {},
   "cell_type": "markdown",
   "source": "# 191. Natural Language Processing - Classification of Text - Part Two",
   "id": "8811a63b2d7f5e00"
  },
  {
   "metadata": {},
   "cell_type": "code",
   "outputs": [],
   "execution_count": null,
   "source": "",
   "id": "d0ab6c16ed0f3f0a"
  }
 ],
 "metadata": {
  "kernelspec": {
   "display_name": "Python 3",
   "language": "python",
   "name": "python3"
  },
  "language_info": {
   "codemirror_mode": {
    "name": "ipython",
    "version": 2
   },
   "file_extension": ".py",
   "mimetype": "text/x-python",
   "name": "python",
   "nbconvert_exporter": "python",
   "pygments_lexer": "ipython2",
   "version": "2.7.6"
  }
 },
 "nbformat": 4,
 "nbformat_minor": 5
}
