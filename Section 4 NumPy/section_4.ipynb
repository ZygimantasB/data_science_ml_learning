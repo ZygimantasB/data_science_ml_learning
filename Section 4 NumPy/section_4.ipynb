{
 "cells": [
  {
   "cell_type": "code",
   "id": "initial_id",
   "metadata": {
    "collapsed": true,
    "ExecuteTime": {
     "end_time": "2024-05-19T19:15:58.086588Z",
     "start_time": "2024-05-19T19:15:57.554856Z"
    }
   },
   "source": [
    "import pandas as pd\n",
    "import numpy as np"
   ],
   "outputs": [],
   "execution_count": 1
  },
  {
   "metadata": {},
   "cell_type": "markdown",
   "source": "# 14. NumPy Arrays",
   "id": "83aa9573fe4a6555"
  },
  {
   "metadata": {
    "ExecuteTime": {
     "end_time": "2024-05-19T19:15:58.095191Z",
     "start_time": "2024-05-19T19:15:58.087597Z"
    }
   },
   "cell_type": "code",
   "source": "my_list = [1, 2, 3]",
   "id": "f63edef4d85cfd5d",
   "outputs": [],
   "execution_count": 2
  },
  {
   "metadata": {
    "ExecuteTime": {
     "end_time": "2024-05-19T19:15:58.125415Z",
     "start_time": "2024-05-19T19:15:58.098222Z"
    }
   },
   "cell_type": "code",
   "source": "my_array = np.array([1, 2, 3])",
   "id": "d4198950ee78c4a2",
   "outputs": [],
   "execution_count": 3
  },
  {
   "metadata": {
    "ExecuteTime": {
     "end_time": "2024-05-19T19:15:58.137840Z",
     "start_time": "2024-05-19T19:15:58.127425Z"
    }
   },
   "cell_type": "code",
   "source": "my_array",
   "id": "e274268013110c3f",
   "outputs": [
    {
     "data": {
      "text/plain": [
       "array([1, 2, 3])"
      ]
     },
     "execution_count": 4,
     "metadata": {},
     "output_type": "execute_result"
    }
   ],
   "execution_count": 4
  },
  {
   "metadata": {
    "ExecuteTime": {
     "end_time": "2024-05-19T19:15:58.147077Z",
     "start_time": "2024-05-19T19:15:58.138845Z"
    }
   },
   "cell_type": "code",
   "source": "type(my_array)",
   "id": "eafc812167e995f8",
   "outputs": [
    {
     "data": {
      "text/plain": [
       "numpy.ndarray"
      ]
     },
     "execution_count": 5,
     "metadata": {},
     "output_type": "execute_result"
    }
   ],
   "execution_count": 5
  },
  {
   "metadata": {
    "ExecuteTime": {
     "end_time": "2024-05-19T19:15:58.153874Z",
     "start_time": "2024-05-19T19:15:58.150083Z"
    }
   },
   "cell_type": "code",
   "source": "my_matrix = [[1, 2, 3], [4, 5, 6], [7, 8, 9]]",
   "id": "fa7146ac466c0d28",
   "outputs": [],
   "execution_count": 6
  },
  {
   "metadata": {
    "ExecuteTime": {
     "end_time": "2024-05-19T19:15:58.162383Z",
     "start_time": "2024-05-19T19:15:58.153874Z"
    }
   },
   "cell_type": "code",
   "source": "my_matrix",
   "id": "9adf16d8e5927299",
   "outputs": [
    {
     "data": {
      "text/plain": [
       "[[1, 2, 3], [4, 5, 6], [7, 8, 9]]"
      ]
     },
     "execution_count": 7,
     "metadata": {},
     "output_type": "execute_result"
    }
   ],
   "execution_count": 7
  },
  {
   "metadata": {
    "ExecuteTime": {
     "end_time": "2024-05-19T19:16:24.708918Z",
     "start_time": "2024-05-19T19:16:24.704466Z"
    }
   },
   "cell_type": "code",
   "source": "np.array(my_matrix) # makes a 2D array from a list of lists",
   "id": "6fd1c754982b6334",
   "outputs": [
    {
     "data": {
      "text/plain": [
       "array([[1, 2, 3],\n",
       "       [4, 5, 6],\n",
       "       [7, 8, 9]])"
      ]
     },
     "execution_count": 10,
     "metadata": {},
     "output_type": "execute_result"
    }
   ],
   "execution_count": 10
  },
  {
   "metadata": {
    "ExecuteTime": {
     "end_time": "2024-05-19T19:17:08.258170Z",
     "start_time": "2024-05-19T19:17:08.253162Z"
    }
   },
   "cell_type": "code",
   "source": [
    "np.arange(0, 10) # creates numpy range array \n",
    "np.arange(0, 101, 20)"
   ],
   "id": "f91d4c0d1a259f09",
   "outputs": [
    {
     "data": {
      "text/plain": [
       "array([  0,  20,  40,  60,  80, 100])"
      ]
     },
     "execution_count": 13,
     "metadata": {},
     "output_type": "execute_result"
    }
   ],
   "execution_count": 13
  },
  {
   "metadata": {
    "ExecuteTime": {
     "end_time": "2024-05-19T19:17:50.914374Z",
     "start_time": "2024-05-19T19:17:50.909729Z"
    }
   },
   "cell_type": "code",
   "source": "np.zeros(5) # creates an array of zeros 0. indicates float",
   "id": "bdbbc12b00f2803b",
   "outputs": [
    {
     "data": {
      "text/plain": [
       "array([0., 0., 0., 0., 0.])"
      ]
     },
     "execution_count": 15,
     "metadata": {},
     "output_type": "execute_result"
    }
   ],
   "execution_count": 15
  },
  {
   "metadata": {
    "ExecuteTime": {
     "end_time": "2024-05-19T19:18:28.072679Z",
     "start_time": "2024-05-19T19:18:28.068287Z"
    }
   },
   "cell_type": "code",
   "source": "np.zeros((2, 5)) # creates a 2D array of zeros",
   "id": "94a8d879ecf86c12",
   "outputs": [
    {
     "data": {
      "text/plain": [
       "array([[0., 0., 0., 0., 0.],\n",
       "       [0., 0., 0., 0., 0.]])"
      ]
     },
     "execution_count": 18,
     "metadata": {},
     "output_type": "execute_result"
    }
   ],
   "execution_count": 18
  },
  {
   "metadata": {
    "ExecuteTime": {
     "end_time": "2024-05-19T19:18:43.920416Z",
     "start_time": "2024-05-19T19:18:43.915418Z"
    }
   },
   "cell_type": "code",
   "source": "np.ones((4, 4)) # creates a 2D array of ones",
   "id": "19e59dd1ae5d6874",
   "outputs": [
    {
     "data": {
      "text/plain": [
       "array([[1., 1., 1., 1.],\n",
       "       [1., 1., 1., 1.],\n",
       "       [1., 1., 1., 1.],\n",
       "       [1., 1., 1., 1.]])"
      ]
     },
     "execution_count": 20,
     "metadata": {},
     "output_type": "execute_result"
    }
   ],
   "execution_count": 20
  },
  {
   "metadata": {
    "ExecuteTime": {
     "end_time": "2024-05-19T19:20:33.822055Z",
     "start_time": "2024-05-19T19:20:33.816463Z"
    }
   },
   "cell_type": "code",
   "source": [
    "np.linspace(0, 10, 3) # creates an array of 3 evenly spaced numbers between 0 and 10\n",
    "np.linspace(0, 10, 11) # 11 numbers between 0 and 10\n",
    "np.linspace(0, 10, 21) "
   ],
   "id": "c6d9a7c48576f654",
   "outputs": [
    {
     "data": {
      "text/plain": [
       "array([ 0. ,  0.5,  1. ,  1.5,  2. ,  2.5,  3. ,  3.5,  4. ,  4.5,  5. ,\n",
       "        5.5,  6. ,  6.5,  7. ,  7.5,  8. ,  8.5,  9. ,  9.5, 10. ])"
      ]
     },
     "execution_count": 24,
     "metadata": {},
     "output_type": "execute_result"
    }
   ],
   "execution_count": 24
  },
  {
   "metadata": {
    "ExecuteTime": {
     "end_time": "2024-05-19T19:21:18.668286Z",
     "start_time": "2024-05-19T19:21:18.664342Z"
    }
   },
   "cell_type": "code",
   "source": "np.eye(5) # creates an identity matrix",
   "id": "c345bf67ff283296",
   "outputs": [
    {
     "data": {
      "text/plain": [
       "array([[1., 0., 0., 0., 0.],\n",
       "       [0., 1., 0., 0., 0.],\n",
       "       [0., 0., 1., 0., 0.],\n",
       "       [0., 0., 0., 1., 0.],\n",
       "       [0., 0., 0., 0., 1.]])"
      ]
     },
     "execution_count": 26,
     "metadata": {},
     "output_type": "execute_result"
    }
   ],
   "execution_count": 26
  },
  {
   "metadata": {
    "ExecuteTime": {
     "end_time": "2024-05-19T19:24:41.867502Z",
     "start_time": "2024-05-19T19:24:41.862639Z"
    }
   },
   "cell_type": "code",
   "source": [
    "np.random.rand(5) # creates an array of 5 random numbers between 0 and 1      \n",
    "np.random.rand(5, 6) # creates a 2D array of random numbers"
   ],
   "id": "7894821a7062b23a",
   "outputs": [
    {
     "data": {
      "text/plain": [
       "array([[0.97138715, 0.29540362, 0.59873196, 0.92163063, 0.5333998 ,\n",
       "        0.80220637],\n",
       "       [0.86905253, 0.05358041, 0.86603167, 0.80918263, 0.61296646,\n",
       "        0.94987429],\n",
       "       [0.97356252, 0.25667102, 0.84714528, 0.13233597, 0.52418061,\n",
       "        0.46022988],\n",
       "       [0.32758245, 0.51808157, 0.69558106, 0.1849613 , 0.54837321,\n",
       "        0.51255823],\n",
       "       [0.19230694, 0.94307399, 0.45797339, 0.07220993, 0.97672446,\n",
       "        0.87745015]])"
      ]
     },
     "execution_count": 29,
     "metadata": {},
     "output_type": "execute_result"
    }
   ],
   "execution_count": 29
  },
  {
   "metadata": {
    "ExecuteTime": {
     "end_time": "2024-05-19T19:25:39.743088Z",
     "start_time": "2024-05-19T19:25:39.739076Z"
    }
   },
   "cell_type": "code",
   "source": "np.random.randn(10) # creates an array of 10 random numbers from a standard normal distribution",
   "id": "d1b97fa9a44632c8",
   "outputs": [
    {
     "data": {
      "text/plain": [
       "array([ 0.50784906,  1.60981337,  2.07870583, -2.10428107,  0.3114131 ,\n",
       "        0.05122665,  1.13569228, -0.52380775, -1.54371699, -0.4875709 ])"
      ]
     },
     "execution_count": 32,
     "metadata": {},
     "output_type": "execute_result"
    }
   ],
   "execution_count": 32
  },
  {
   "metadata": {
    "ExecuteTime": {
     "end_time": "2024-05-19T19:26:43.904723Z",
     "start_time": "2024-05-19T19:26:43.900616Z"
    }
   },
   "cell_type": "code",
   "source": [
    "np.random.randint(0, 101, 5) # creates an array of 5 random integers between 0 and 100\n",
    "np.random.randint(0, 101, (4, 5)) # creates an array of 5 random integers between 0 and 100"
   ],
   "id": "94c54e42f08d9ee5",
   "outputs": [
    {
     "data": {
      "text/plain": [
       "array([[25, 68, 44, 14, 35],\n",
       "       [65, 79, 78, 76, 59],\n",
       "       [57, 84, 66, 72, 18],\n",
       "       [52, 14, 23, 14, 89]])"
      ]
     },
     "execution_count": 34,
     "metadata": {},
     "output_type": "execute_result"
    }
   ],
   "execution_count": 34
  },
  {
   "metadata": {
    "ExecuteTime": {
     "end_time": "2024-05-19T19:29:11.297049Z",
     "start_time": "2024-05-19T19:29:11.292552Z"
    }
   },
   "cell_type": "code",
   "source": [
    "np.random.seed(42) # sets the seed for reproducibility \n",
    "np.random.rand(4)"
   ],
   "id": "e2d52441b4b640d9",
   "outputs": [
    {
     "data": {
      "text/plain": [
       "array([0.37454012, 0.95071431, 0.73199394, 0.59865848])"
      ]
     },
     "execution_count": 38,
     "metadata": {},
     "output_type": "execute_result"
    }
   ],
   "execution_count": 38
  },
  {
   "metadata": {
    "ExecuteTime": {
     "end_time": "2024-05-19T19:29:26.941735Z",
     "start_time": "2024-05-19T19:29:26.938508Z"
    }
   },
   "cell_type": "code",
   "source": "arr = np.arange(0, 25)",
   "id": "22bb20fe2d0e8bd9",
   "outputs": [],
   "execution_count": 40
  },
  {
   "metadata": {
    "ExecuteTime": {
     "end_time": "2024-05-19T19:30:14.225667Z",
     "start_time": "2024-05-19T19:30:14.220974Z"
    }
   },
   "cell_type": "code",
   "source": "arr.reshape(5, 5) # reshapes the array into a 5x5 matrix",
   "id": "9007cc8bcd1b8132",
   "outputs": [
    {
     "data": {
      "text/plain": [
       "array([[ 0,  1,  2,  3,  4],\n",
       "       [ 5,  6,  7,  8,  9],\n",
       "       [10, 11, 12, 13, 14],\n",
       "       [15, 16, 17, 18, 19],\n",
       "       [20, 21, 22, 23, 24]])"
      ]
     },
     "execution_count": 45,
     "metadata": {},
     "output_type": "execute_result"
    }
   ],
   "execution_count": 45
  },
  {
   "metadata": {
    "ExecuteTime": {
     "end_time": "2024-05-19T19:30:28.474767Z",
     "start_time": "2024-05-19T19:30:28.470952Z"
    }
   },
   "cell_type": "code",
   "source": "ranarr = np.random.randint(0, 101, 10)",
   "id": "7adda13cca31afd3",
   "outputs": [],
   "execution_count": 46
  },
  {
   "metadata": {
    "ExecuteTime": {
     "end_time": "2024-05-19T19:30:37.385668Z",
     "start_time": "2024-05-19T19:30:37.381062Z"
    }
   },
   "cell_type": "code",
   "source": "ranarr.max() # returns the maximum value in the array",
   "id": "4c5c8de537872581",
   "outputs": [
    {
     "data": {
      "text/plain": [
       "99"
      ]
     },
     "execution_count": 48,
     "metadata": {},
     "output_type": "execute_result"
    }
   ],
   "execution_count": 48
  },
  {
   "metadata": {
    "ExecuteTime": {
     "end_time": "2024-05-19T19:30:46.928993Z",
     "start_time": "2024-05-19T19:30:46.924979Z"
    }
   },
   "cell_type": "code",
   "source": "ranarr.min() # returns the minimum value in the array",
   "id": "952ec54d51edffcd",
   "outputs": [
    {
     "data": {
      "text/plain": [
       "2"
      ]
     },
     "execution_count": 49,
     "metadata": {},
     "output_type": "execute_result"
    }
   ],
   "execution_count": 49
  },
  {
   "metadata": {
    "ExecuteTime": {
     "end_time": "2024-05-19T19:30:53.617741Z",
     "start_time": "2024-05-19T19:30:53.613718Z"
    }
   },
   "cell_type": "code",
   "source": "ranarr.argmax() # returns the index of the maximum value in the array",
   "id": "be5c09ae689997bc",
   "outputs": [
    {
     "data": {
      "text/plain": [
       "5"
      ]
     },
     "execution_count": 50,
     "metadata": {},
     "output_type": "execute_result"
    }
   ],
   "execution_count": 50
  },
  {
   "metadata": {
    "ExecuteTime": {
     "end_time": "2024-05-19T19:31:00.869396Z",
     "start_time": "2024-05-19T19:31:00.865485Z"
    }
   },
   "cell_type": "code",
   "source": "ranarr.argmin() # returns the index of the minimum value in the array",
   "id": "79e81e5b2b8c601e",
   "outputs": [
    {
     "data": {
      "text/plain": [
       "7"
      ]
     },
     "execution_count": 51,
     "metadata": {},
     "output_type": "execute_result"
    }
   ],
   "execution_count": 51
  },
  {
   "metadata": {
    "ExecuteTime": {
     "end_time": "2024-05-19T19:31:34.147857Z",
     "start_time": "2024-05-19T19:31:34.144059Z"
    }
   },
   "cell_type": "code",
   "source": "ranarr.dtype # returns the data type of the array",
   "id": "aad1393ff2182a3e",
   "outputs": [
    {
     "data": {
      "text/plain": [
       "dtype('int32')"
      ]
     },
     "execution_count": 53,
     "metadata": {},
     "output_type": "execute_result"
    }
   ],
   "execution_count": 53
  },
  {
   "metadata": {
    "ExecuteTime": {
     "end_time": "2024-05-19T19:31:51.190589Z",
     "start_time": "2024-05-19T19:31:51.186863Z"
    }
   },
   "cell_type": "code",
   "source": "ranarr.shape # returns the shape of the array",
   "id": "7212b904e02adae8",
   "outputs": [
    {
     "data": {
      "text/plain": [
       "(10,)"
      ]
     },
     "execution_count": 55,
     "metadata": {},
     "output_type": "execute_result"
    }
   ],
   "execution_count": 55
  },
  {
   "metadata": {
    "ExecuteTime": {
     "end_time": "2024-05-19T19:31:58.774700Z",
     "start_time": "2024-05-19T19:31:58.772207Z"
    }
   },
   "cell_type": "code",
   "source": "arr = arr.reshape(5, 5)",
   "id": "1c2f523dbfc06290",
   "outputs": [],
   "execution_count": 56
  },
  {
   "metadata": {
    "ExecuteTime": {
     "end_time": "2024-05-19T19:32:16.397264Z",
     "start_time": "2024-05-19T19:32:16.392328Z"
    }
   },
   "cell_type": "code",
   "source": "arr.shape",
   "id": "efa3d448a40036ae",
   "outputs": [
    {
     "data": {
      "text/plain": [
       "(5, 5)"
      ]
     },
     "execution_count": 58,
     "metadata": {},
     "output_type": "execute_result"
    }
   ],
   "execution_count": 58
  },
  {
   "metadata": {
    "ExecuteTime": {
     "end_time": "2024-05-19T19:32:51.940964Z",
     "start_time": "2024-05-19T19:32:51.936987Z"
    }
   },
   "cell_type": "code",
   "source": [
    "arr.reshape(25, 1) # reshapes the array into a 25x1 matrix\n",
    "arr.reshape(1, 25)"
   ],
   "id": "d1a8a20a57dedb29",
   "outputs": [
    {
     "data": {
      "text/plain": [
       "array([[ 0,  1,  2,  3,  4,  5,  6,  7,  8,  9, 10, 11, 12, 13, 14, 15,\n",
       "        16, 17, 18, 19, 20, 21, 22, 23, 24]])"
      ]
     },
     "execution_count": 63,
     "metadata": {},
     "output_type": "execute_result"
    }
   ],
   "execution_count": 63
  }
 ],
 "metadata": {
  "kernelspec": {
   "display_name": "Python 3",
   "language": "python",
   "name": "python3"
  },
  "language_info": {
   "codemirror_mode": {
    "name": "ipython",
    "version": 2
   },
   "file_extension": ".py",
   "mimetype": "text/x-python",
   "name": "python",
   "nbconvert_exporter": "python",
   "pygments_lexer": "ipython2",
   "version": "2.7.6"
  }
 },
 "nbformat": 4,
 "nbformat_minor": 5
}
