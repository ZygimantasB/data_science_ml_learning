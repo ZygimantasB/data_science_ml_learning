{
 "cells": [
  {
   "cell_type": "code",
   "id": "initial_id",
   "metadata": {
    "collapsed": true,
    "ExecuteTime": {
     "end_time": "2024-05-20T19:31:18.988715Z",
     "start_time": "2024-05-20T19:31:18.500727Z"
    }
   },
   "source": [
    "import pandas as pd\n",
    "import numpy as np"
   ],
   "outputs": [],
   "execution_count": 1
  },
  {
   "metadata": {},
   "cell_type": "markdown",
   "source": "# 14. NumPy Arrays",
   "id": "83aa9573fe4a6555"
  },
  {
   "metadata": {
    "ExecuteTime": {
     "end_time": "2024-05-20T19:31:18.992904Z",
     "start_time": "2024-05-20T19:31:18.989720Z"
    }
   },
   "cell_type": "code",
   "source": "my_list = [1, 2, 3]",
   "id": "f63edef4d85cfd5d",
   "outputs": [],
   "execution_count": 2
  },
  {
   "metadata": {
    "ExecuteTime": {
     "end_time": "2024-05-20T19:31:19.011386Z",
     "start_time": "2024-05-20T19:31:18.992904Z"
    }
   },
   "cell_type": "code",
   "source": "my_array = np.array([1, 2, 3])",
   "id": "d4198950ee78c4a2",
   "outputs": [],
   "execution_count": 3
  },
  {
   "metadata": {
    "ExecuteTime": {
     "end_time": "2024-05-20T19:31:19.018563Z",
     "start_time": "2024-05-20T19:31:19.011386Z"
    }
   },
   "cell_type": "code",
   "source": "my_array",
   "id": "e274268013110c3f",
   "outputs": [
    {
     "data": {
      "text/plain": [
       "array([1, 2, 3])"
      ]
     },
     "execution_count": 4,
     "metadata": {},
     "output_type": "execute_result"
    }
   ],
   "execution_count": 4
  },
  {
   "metadata": {
    "ExecuteTime": {
     "end_time": "2024-05-20T19:31:19.024887Z",
     "start_time": "2024-05-20T19:31:19.018563Z"
    }
   },
   "cell_type": "code",
   "source": "type(my_array)",
   "id": "eafc812167e995f8",
   "outputs": [
    {
     "data": {
      "text/plain": [
       "numpy.ndarray"
      ]
     },
     "execution_count": 5,
     "metadata": {},
     "output_type": "execute_result"
    }
   ],
   "execution_count": 5
  },
  {
   "metadata": {
    "ExecuteTime": {
     "end_time": "2024-05-20T19:31:19.030348Z",
     "start_time": "2024-05-20T19:31:19.025895Z"
    }
   },
   "cell_type": "code",
   "source": "my_matrix = [[1, 2, 3], [4, 5, 6], [7, 8, 9]]",
   "id": "fa7146ac466c0d28",
   "outputs": [],
   "execution_count": 6
  },
  {
   "metadata": {
    "ExecuteTime": {
     "end_time": "2024-05-20T19:31:19.039074Z",
     "start_time": "2024-05-20T19:31:19.031252Z"
    }
   },
   "cell_type": "code",
   "source": "my_matrix",
   "id": "9adf16d8e5927299",
   "outputs": [
    {
     "data": {
      "text/plain": [
       "[[1, 2, 3], [4, 5, 6], [7, 8, 9]]"
      ]
     },
     "execution_count": 7,
     "metadata": {},
     "output_type": "execute_result"
    }
   ],
   "execution_count": 7
  },
  {
   "metadata": {
    "ExecuteTime": {
     "end_time": "2024-05-20T19:31:19.046094Z",
     "start_time": "2024-05-20T19:31:19.039074Z"
    }
   },
   "cell_type": "code",
   "source": "np.array(my_matrix) # makes a 2D array from a list of lists",
   "id": "6fd1c754982b6334",
   "outputs": [
    {
     "data": {
      "text/plain": [
       "array([[1, 2, 3],\n",
       "       [4, 5, 6],\n",
       "       [7, 8, 9]])"
      ]
     },
     "execution_count": 8,
     "metadata": {},
     "output_type": "execute_result"
    }
   ],
   "execution_count": 8
  },
  {
   "metadata": {
    "ExecuteTime": {
     "end_time": "2024-05-20T19:31:19.053032Z",
     "start_time": "2024-05-20T19:31:19.046094Z"
    }
   },
   "cell_type": "code",
   "source": [
    "np.arange(0, 10) # creates numpy range array \n",
    "np.arange(0, 101, 20)"
   ],
   "id": "f91d4c0d1a259f09",
   "outputs": [
    {
     "data": {
      "text/plain": [
       "array([  0,  20,  40,  60,  80, 100])"
      ]
     },
     "execution_count": 9,
     "metadata": {},
     "output_type": "execute_result"
    }
   ],
   "execution_count": 9
  },
  {
   "metadata": {
    "ExecuteTime": {
     "end_time": "2024-05-20T19:31:19.059299Z",
     "start_time": "2024-05-20T19:31:19.054039Z"
    }
   },
   "cell_type": "code",
   "source": "np.zeros(5) # creates an array of zeros 0. indicates float",
   "id": "bdbbc12b00f2803b",
   "outputs": [
    {
     "data": {
      "text/plain": [
       "array([0., 0., 0., 0., 0.])"
      ]
     },
     "execution_count": 10,
     "metadata": {},
     "output_type": "execute_result"
    }
   ],
   "execution_count": 10
  },
  {
   "metadata": {
    "ExecuteTime": {
     "end_time": "2024-05-20T19:31:19.068751Z",
     "start_time": "2024-05-20T19:31:19.059299Z"
    }
   },
   "cell_type": "code",
   "source": "np.zeros((2, 5)) # creates a 2D array of zeros",
   "id": "94a8d879ecf86c12",
   "outputs": [
    {
     "data": {
      "text/plain": [
       "array([[0., 0., 0., 0., 0.],\n",
       "       [0., 0., 0., 0., 0.]])"
      ]
     },
     "execution_count": 11,
     "metadata": {},
     "output_type": "execute_result"
    }
   ],
   "execution_count": 11
  },
  {
   "metadata": {
    "ExecuteTime": {
     "end_time": "2024-05-20T19:31:19.074881Z",
     "start_time": "2024-05-20T19:31:19.068751Z"
    }
   },
   "cell_type": "code",
   "source": "np.ones((4, 4)) # creates a 2D array of ones",
   "id": "19e59dd1ae5d6874",
   "outputs": [
    {
     "data": {
      "text/plain": [
       "array([[1., 1., 1., 1.],\n",
       "       [1., 1., 1., 1.],\n",
       "       [1., 1., 1., 1.],\n",
       "       [1., 1., 1., 1.]])"
      ]
     },
     "execution_count": 12,
     "metadata": {},
     "output_type": "execute_result"
    }
   ],
   "execution_count": 12
  },
  {
   "metadata": {
    "ExecuteTime": {
     "end_time": "2024-05-20T19:31:19.082058Z",
     "start_time": "2024-05-20T19:31:19.074881Z"
    }
   },
   "cell_type": "code",
   "source": [
    "np.linspace(0, 10, 3) # creates an array of 3 evenly spaced numbers between 0 and 10\n",
    "np.linspace(0, 10, 11) # 11 numbers between 0 and 10\n",
    "np.linspace(0, 10, 21) "
   ],
   "id": "c6d9a7c48576f654",
   "outputs": [
    {
     "data": {
      "text/plain": [
       "array([ 0. ,  0.5,  1. ,  1.5,  2. ,  2.5,  3. ,  3.5,  4. ,  4.5,  5. ,\n",
       "        5.5,  6. ,  6.5,  7. ,  7.5,  8. ,  8.5,  9. ,  9.5, 10. ])"
      ]
     },
     "execution_count": 13,
     "metadata": {},
     "output_type": "execute_result"
    }
   ],
   "execution_count": 13
  },
  {
   "metadata": {
    "ExecuteTime": {
     "end_time": "2024-05-20T19:31:19.086910Z",
     "start_time": "2024-05-20T19:31:19.083064Z"
    }
   },
   "cell_type": "code",
   "source": "np.eye(5) # creates an identity matrix",
   "id": "c345bf67ff283296",
   "outputs": [
    {
     "data": {
      "text/plain": [
       "array([[1., 0., 0., 0., 0.],\n",
       "       [0., 1., 0., 0., 0.],\n",
       "       [0., 0., 1., 0., 0.],\n",
       "       [0., 0., 0., 1., 0.],\n",
       "       [0., 0., 0., 0., 1.]])"
      ]
     },
     "execution_count": 14,
     "metadata": {},
     "output_type": "execute_result"
    }
   ],
   "execution_count": 14
  },
  {
   "metadata": {
    "ExecuteTime": {
     "end_time": "2024-05-20T19:31:19.093084Z",
     "start_time": "2024-05-20T19:31:19.086910Z"
    }
   },
   "cell_type": "code",
   "source": [
    "np.random.rand(5) # creates an array of 5 random numbers between 0 and 1      \n",
    "np.random.rand(5, 6) # creates a 2D array of random numbers"
   ],
   "id": "7894821a7062b23a",
   "outputs": [
    {
     "data": {
      "text/plain": [
       "array([[0.67972637, 0.26485716, 0.23832021, 0.35544383, 0.22284102,\n",
       "        0.88755809],\n",
       "       [0.48507662, 0.57603633, 0.16369833, 0.85051633, 0.26435851,\n",
       "        0.11139639],\n",
       "       [0.50392265, 0.86753614, 0.71679126, 0.49347681, 0.87332211,\n",
       "        0.13615577],\n",
       "       [0.41407825, 0.90217377, 0.74840066, 0.56038686, 0.37086089,\n",
       "        0.87009881],\n",
       "       [0.04630168, 0.25000296, 0.67667271, 0.87472811, 0.44609051,\n",
       "        0.20752753]])"
      ]
     },
     "execution_count": 15,
     "metadata": {},
     "output_type": "execute_result"
    }
   ],
   "execution_count": 15
  },
  {
   "metadata": {
    "ExecuteTime": {
     "end_time": "2024-05-20T19:31:19.098671Z",
     "start_time": "2024-05-20T19:31:19.093602Z"
    }
   },
   "cell_type": "code",
   "source": "np.random.randn(10) # creates an array of 10 random numbers from a standard normal distribution",
   "id": "d1b97fa9a44632c8",
   "outputs": [
    {
     "data": {
      "text/plain": [
       "array([-0.50008367, -0.64536317, -1.29063072, -0.14832176,  0.92957927,\n",
       "        0.87340436,  0.02187508,  0.44920285,  0.85609614,  0.40373922])"
      ]
     },
     "execution_count": 16,
     "metadata": {},
     "output_type": "execute_result"
    }
   ],
   "execution_count": 16
  },
  {
   "metadata": {
    "ExecuteTime": {
     "end_time": "2024-05-20T19:31:19.104181Z",
     "start_time": "2024-05-20T19:31:19.098671Z"
    }
   },
   "cell_type": "code",
   "source": [
    "np.random.randint(0, 101, 5) # creates an array of 5 random integers between 0 and 100\n",
    "np.random.randint(0, 101, (4, 5)) # creates an array of 5 random integers between 0 and 100"
   ],
   "id": "94c54e42f08d9ee5",
   "outputs": [
    {
     "data": {
      "text/plain": [
       "array([[61, 92, 19, 77, 66],\n",
       "       [42, 77, 68, 37, 21],\n",
       "       [17,  5, 40, 75, 90],\n",
       "       [85,  2,  2, 78, 60]])"
      ]
     },
     "execution_count": 17,
     "metadata": {},
     "output_type": "execute_result"
    }
   ],
   "execution_count": 17
  },
  {
   "metadata": {
    "ExecuteTime": {
     "end_time": "2024-05-20T19:31:19.109832Z",
     "start_time": "2024-05-20T19:31:19.106189Z"
    }
   },
   "cell_type": "code",
   "source": [
    "np.random.seed(42) # sets the seed for reproducibility \n",
    "np.random.rand(4)"
   ],
   "id": "e2d52441b4b640d9",
   "outputs": [
    {
     "data": {
      "text/plain": [
       "array([0.37454012, 0.95071431, 0.73199394, 0.59865848])"
      ]
     },
     "execution_count": 18,
     "metadata": {},
     "output_type": "execute_result"
    }
   ],
   "execution_count": 18
  },
  {
   "metadata": {
    "ExecuteTime": {
     "end_time": "2024-05-20T19:31:19.115046Z",
     "start_time": "2024-05-20T19:31:19.109832Z"
    }
   },
   "cell_type": "code",
   "source": "arr = np.arange(0, 25)",
   "id": "22bb20fe2d0e8bd9",
   "outputs": [],
   "execution_count": 19
  },
  {
   "metadata": {
    "ExecuteTime": {
     "end_time": "2024-05-20T19:31:19.121272Z",
     "start_time": "2024-05-20T19:31:19.116055Z"
    }
   },
   "cell_type": "code",
   "source": "arr.reshape(5, 5) # reshapes the array into a 5x5 matrix",
   "id": "9007cc8bcd1b8132",
   "outputs": [
    {
     "data": {
      "text/plain": [
       "array([[ 0,  1,  2,  3,  4],\n",
       "       [ 5,  6,  7,  8,  9],\n",
       "       [10, 11, 12, 13, 14],\n",
       "       [15, 16, 17, 18, 19],\n",
       "       [20, 21, 22, 23, 24]])"
      ]
     },
     "execution_count": 20,
     "metadata": {},
     "output_type": "execute_result"
    }
   ],
   "execution_count": 20
  },
  {
   "metadata": {
    "ExecuteTime": {
     "end_time": "2024-05-20T19:31:19.125331Z",
     "start_time": "2024-05-20T19:31:19.121272Z"
    }
   },
   "cell_type": "code",
   "source": "ranarr = np.random.randint(0, 101, 10)",
   "id": "7adda13cca31afd3",
   "outputs": [],
   "execution_count": 21
  },
  {
   "metadata": {
    "ExecuteTime": {
     "end_time": "2024-05-20T19:31:19.131512Z",
     "start_time": "2024-05-20T19:31:19.125331Z"
    }
   },
   "cell_type": "code",
   "source": "ranarr.max() # returns the maximum value in the array",
   "id": "4c5c8de537872581",
   "outputs": [
    {
     "data": {
      "text/plain": [
       "99"
      ]
     },
     "execution_count": 22,
     "metadata": {},
     "output_type": "execute_result"
    }
   ],
   "execution_count": 22
  },
  {
   "metadata": {
    "ExecuteTime": {
     "end_time": "2024-05-20T19:31:19.136804Z",
     "start_time": "2024-05-20T19:31:19.131512Z"
    }
   },
   "cell_type": "code",
   "source": "ranarr.min() # returns the minimum value in the array",
   "id": "952ec54d51edffcd",
   "outputs": [
    {
     "data": {
      "text/plain": [
       "2"
      ]
     },
     "execution_count": 23,
     "metadata": {},
     "output_type": "execute_result"
    }
   ],
   "execution_count": 23
  },
  {
   "metadata": {
    "ExecuteTime": {
     "end_time": "2024-05-20T19:31:19.142089Z",
     "start_time": "2024-05-20T19:31:19.136804Z"
    }
   },
   "cell_type": "code",
   "source": "ranarr.argmax() # returns the index of the maximum value in the array",
   "id": "be5c09ae689997bc",
   "outputs": [
    {
     "data": {
      "text/plain": [
       "5"
      ]
     },
     "execution_count": 24,
     "metadata": {},
     "output_type": "execute_result"
    }
   ],
   "execution_count": 24
  },
  {
   "metadata": {
    "ExecuteTime": {
     "end_time": "2024-05-20T19:31:19.148767Z",
     "start_time": "2024-05-20T19:31:19.142089Z"
    }
   },
   "cell_type": "code",
   "source": "ranarr.argmin() # returns the index of the minimum value in the array",
   "id": "79e81e5b2b8c601e",
   "outputs": [
    {
     "data": {
      "text/plain": [
       "7"
      ]
     },
     "execution_count": 25,
     "metadata": {},
     "output_type": "execute_result"
    }
   ],
   "execution_count": 25
  },
  {
   "metadata": {
    "ExecuteTime": {
     "end_time": "2024-05-20T19:31:19.153776Z",
     "start_time": "2024-05-20T19:31:19.148767Z"
    }
   },
   "cell_type": "code",
   "source": "ranarr.dtype # returns the data type of the array",
   "id": "aad1393ff2182a3e",
   "outputs": [
    {
     "data": {
      "text/plain": [
       "dtype('int32')"
      ]
     },
     "execution_count": 26,
     "metadata": {},
     "output_type": "execute_result"
    }
   ],
   "execution_count": 26
  },
  {
   "metadata": {
    "ExecuteTime": {
     "end_time": "2024-05-20T19:31:19.159720Z",
     "start_time": "2024-05-20T19:31:19.155005Z"
    }
   },
   "cell_type": "code",
   "source": "ranarr.shape # returns the shape of the array",
   "id": "7212b904e02adae8",
   "outputs": [
    {
     "data": {
      "text/plain": [
       "(10,)"
      ]
     },
     "execution_count": 27,
     "metadata": {},
     "output_type": "execute_result"
    }
   ],
   "execution_count": 27
  },
  {
   "metadata": {
    "ExecuteTime": {
     "end_time": "2024-05-20T19:31:19.164406Z",
     "start_time": "2024-05-20T19:31:19.160726Z"
    }
   },
   "cell_type": "code",
   "source": "arr = arr.reshape(5, 5)",
   "id": "1c2f523dbfc06290",
   "outputs": [],
   "execution_count": 28
  },
  {
   "metadata": {
    "ExecuteTime": {
     "end_time": "2024-05-20T19:31:19.171275Z",
     "start_time": "2024-05-20T19:31:19.164406Z"
    }
   },
   "cell_type": "code",
   "source": "arr.shape",
   "id": "efa3d448a40036ae",
   "outputs": [
    {
     "data": {
      "text/plain": [
       "(5, 5)"
      ]
     },
     "execution_count": 29,
     "metadata": {},
     "output_type": "execute_result"
    }
   ],
   "execution_count": 29
  },
  {
   "metadata": {
    "ExecuteTime": {
     "end_time": "2024-05-20T19:31:19.176049Z",
     "start_time": "2024-05-20T19:31:19.171275Z"
    }
   },
   "cell_type": "code",
   "source": [
    "arr.reshape(25, 1) # reshapes the array into a 25x1 matrix\n",
    "arr.reshape(1, 25)"
   ],
   "id": "d1a8a20a57dedb29",
   "outputs": [
    {
     "data": {
      "text/plain": [
       "array([[ 0,  1,  2,  3,  4,  5,  6,  7,  8,  9, 10, 11, 12, 13, 14, 15,\n",
       "        16, 17, 18, 19, 20, 21, 22, 23, 24]])"
      ]
     },
     "execution_count": 30,
     "metadata": {},
     "output_type": "execute_result"
    }
   ],
   "execution_count": 30
  },
  {
   "metadata": {},
   "cell_type": "markdown",
   "source": "# 15. NumPy Indexing and Selection",
   "id": "e8838ac45a96e76f"
  },
  {
   "metadata": {
    "ExecuteTime": {
     "end_time": "2024-05-20T19:31:19.178520Z",
     "start_time": "2024-05-20T19:31:19.176049Z"
    }
   },
   "cell_type": "code",
   "source": "",
   "id": "33fc5898c4dbaf46",
   "outputs": [],
   "execution_count": 30
  }
 ],
 "metadata": {
  "kernelspec": {
   "display_name": "Python 3",
   "language": "python",
   "name": "python3"
  },
  "language_info": {
   "codemirror_mode": {
    "name": "ipython",
    "version": 2
   },
   "file_extension": ".py",
   "mimetype": "text/x-python",
   "name": "python",
   "nbconvert_exporter": "python",
   "pygments_lexer": "ipython2",
   "version": "2.7.6"
  }
 },
 "nbformat": 4,
 "nbformat_minor": 5
}
