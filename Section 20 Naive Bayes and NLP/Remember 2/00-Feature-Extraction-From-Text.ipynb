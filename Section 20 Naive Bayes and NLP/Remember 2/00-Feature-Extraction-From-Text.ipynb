{
 "cells": [
  {
   "cell_type": "code",
   "id": "initial_id",
   "metadata": {
    "collapsed": true,
    "ExecuteTime": {
     "end_time": "2024-12-01T15:32:24.651656Z",
     "start_time": "2024-12-01T15:32:24.647769Z"
    }
   },
   "source": [
    "from unittest import skipIf\n",
    "\n",
    "with open(r'F:\\DataSpell\\data_science_ml_learning\\DATA\\One.txt') as mytext:\n",
    "    print(mytext.read())"
   ],
   "outputs": [
    {
     "name": "stdout",
     "output_type": "stream",
     "text": [
      "This is a story about dogs\n",
      "our canine pets\n",
      "Dogs are furry animals\n",
      "\n"
     ]
    }
   ],
   "execution_count": 2
  },
  {
   "metadata": {
    "ExecuteTime": {
     "end_time": "2024-12-01T15:32:34.851984Z",
     "start_time": "2024-12-01T15:32:34.847472Z"
    }
   },
   "cell_type": "code",
   "source": [
    "with open(r'F:\\DataSpell\\data_science_ml_learning\\DATA\\Two.txt') as mytext:\n",
    "    print(mytext.read())"
   ],
   "id": "2e7a393793f5e2ce",
   "outputs": [
    {
     "name": "stdout",
     "output_type": "stream",
     "text": [
      "This story is about surfing\n",
      "Catching waves is fun\n",
      "Surfing is a popular water sport\n",
      "\n"
     ]
    }
   ],
   "execution_count": 3
  },
  {
   "metadata": {
    "ExecuteTime": {
     "end_time": "2024-12-01T15:32:48.777614Z",
     "start_time": "2024-12-01T15:32:48.773597Z"
    }
   },
   "cell_type": "code",
   "source": [
    "with open(r'F:\\DataSpell\\data_science_ml_learning\\DATA\\One.txt') as mytext:\n",
    "    entire_text = mytext.read()"
   ],
   "id": "da2c3bb4c89cb86",
   "outputs": [],
   "execution_count": 4
  },
  {
   "metadata": {
    "ExecuteTime": {
     "end_time": "2024-12-01T15:32:56.937400Z",
     "start_time": "2024-12-01T15:32:56.931163Z"
    }
   },
   "cell_type": "code",
   "source": "entire_text",
   "id": "68602bc94b9c8d52",
   "outputs": [
    {
     "data": {
      "text/plain": [
       "'This is a story about dogs\\nour canine pets\\nDogs are furry animals\\n'"
      ]
     },
     "execution_count": 5,
     "metadata": {},
     "output_type": "execute_result"
    }
   ],
   "execution_count": 5
  },
  {
   "metadata": {
    "ExecuteTime": {
     "end_time": "2024-12-01T15:33:03.846821Z",
     "start_time": "2024-12-01T15:33:03.842983Z"
    }
   },
   "cell_type": "code",
   "source": "print(entire_text)",
   "id": "232cd6d01def458f",
   "outputs": [
    {
     "name": "stdout",
     "output_type": "stream",
     "text": [
      "This is a story about dogs\n",
      "our canine pets\n",
      "Dogs are furry animals\n",
      "\n"
     ]
    }
   ],
   "execution_count": 6
  },
  {
   "metadata": {
    "ExecuteTime": {
     "end_time": "2024-12-01T15:33:48.995607Z",
     "start_time": "2024-12-01T15:33:48.992535Z"
    }
   },
   "cell_type": "code",
   "source": [
    "with open(r'F:\\DataSpell\\data_science_ml_learning\\DATA\\One.txt') as mytext:\n",
    "    lines = mytext.readlines()"
   ],
   "id": "878788d7db12fb74",
   "outputs": [],
   "execution_count": 7
  },
  {
   "metadata": {
    "ExecuteTime": {
     "end_time": "2024-12-01T15:33:55.161554Z",
     "start_time": "2024-12-01T15:33:55.157846Z"
    }
   },
   "cell_type": "code",
   "source": "lines",
   "id": "9df6289f617759e7",
   "outputs": [
    {
     "data": {
      "text/plain": [
       "['This is a story about dogs\\n',\n",
       " 'our canine pets\\n',\n",
       " 'Dogs are furry animals\\n']"
      ]
     },
     "execution_count": 8,
     "metadata": {},
     "output_type": "execute_result"
    }
   ],
   "execution_count": 8
  },
  {
   "metadata": {
    "ExecuteTime": {
     "end_time": "2024-12-01T15:34:05.555542Z",
     "start_time": "2024-12-01T15:34:05.551999Z"
    }
   },
   "cell_type": "code",
   "source": [
    "with open(r'F:\\DataSpell\\data_science_ml_learning\\DATA\\One.txt') as f:\n",
    "    words = f.read().lower().split()"
   ],
   "id": "7b07ebd401af362d",
   "outputs": [],
   "execution_count": 9
  },
  {
   "metadata": {
    "ExecuteTime": {
     "end_time": "2024-12-01T15:34:12.673188Z",
     "start_time": "2024-12-01T15:34:12.668817Z"
    }
   },
   "cell_type": "code",
   "source": "words",
   "id": "a4658ea41b2d7ff4",
   "outputs": [
    {
     "data": {
      "text/plain": [
       "['this',\n",
       " 'is',\n",
       " 'a',\n",
       " 'story',\n",
       " 'about',\n",
       " 'dogs',\n",
       " 'our',\n",
       " 'canine',\n",
       " 'pets',\n",
       " 'dogs',\n",
       " 'are',\n",
       " 'furry',\n",
       " 'animals']"
      ]
     },
     "execution_count": 10,
     "metadata": {},
     "output_type": "execute_result"
    }
   ],
   "execution_count": 10
  },
  {
   "metadata": {
    "ExecuteTime": {
     "end_time": "2024-12-01T15:34:28.544499Z",
     "start_time": "2024-12-01T15:34:28.540162Z"
    }
   },
   "cell_type": "code",
   "source": [
    "with open(r'F:\\DataSpell\\data_science_ml_learning\\DATA\\One.txt') as f:\n",
    "    words_one = f.read().lower().split()"
   ],
   "id": "e5b5d0f24f020bff",
   "outputs": [],
   "execution_count": 11
  },
  {
   "metadata": {
    "ExecuteTime": {
     "end_time": "2024-12-01T15:34:35.320126Z",
     "start_time": "2024-12-01T15:34:35.316057Z"
    }
   },
   "cell_type": "code",
   "source": "words_one",
   "id": "3396c37c5d75faf2",
   "outputs": [
    {
     "data": {
      "text/plain": [
       "['this',\n",
       " 'is',\n",
       " 'a',\n",
       " 'story',\n",
       " 'about',\n",
       " 'dogs',\n",
       " 'our',\n",
       " 'canine',\n",
       " 'pets',\n",
       " 'dogs',\n",
       " 'are',\n",
       " 'furry',\n",
       " 'animals']"
      ]
     },
     "execution_count": 12,
     "metadata": {},
     "output_type": "execute_result"
    }
   ],
   "execution_count": 12
  },
  {
   "metadata": {
    "ExecuteTime": {
     "end_time": "2024-12-01T15:34:40.641403Z",
     "start_time": "2024-12-01T15:34:40.637055Z"
    }
   },
   "cell_type": "code",
   "source": "len(words_one)",
   "id": "14860d600855a4b2",
   "outputs": [
    {
     "data": {
      "text/plain": [
       "13"
      ]
     },
     "execution_count": 13,
     "metadata": {},
     "output_type": "execute_result"
    }
   ],
   "execution_count": 13
  },
  {
   "metadata": {
    "ExecuteTime": {
     "end_time": "2024-12-01T15:34:46.515982Z",
     "start_time": "2024-12-01T15:34:46.512385Z"
    }
   },
   "cell_type": "code",
   "source": "uni_words_one = set(words)",
   "id": "1f74847c48bb024e",
   "outputs": [],
   "execution_count": 14
  },
  {
   "metadata": {
    "ExecuteTime": {
     "end_time": "2024-12-01T15:34:50.899449Z",
     "start_time": "2024-12-01T15:34:50.894804Z"
    }
   },
   "cell_type": "code",
   "source": "uni_words_one",
   "id": "cb6eb5c0d67be7e5",
   "outputs": [
    {
     "data": {
      "text/plain": [
       "{'a',\n",
       " 'about',\n",
       " 'animals',\n",
       " 'are',\n",
       " 'canine',\n",
       " 'dogs',\n",
       " 'furry',\n",
       " 'is',\n",
       " 'our',\n",
       " 'pets',\n",
       " 'story',\n",
       " 'this'}"
      ]
     },
     "execution_count": 15,
     "metadata": {},
     "output_type": "execute_result"
    }
   ],
   "execution_count": 15
  },
  {
   "metadata": {
    "ExecuteTime": {
     "end_time": "2024-12-01T15:35:05.269336Z",
     "start_time": "2024-12-01T15:35:05.265576Z"
    }
   },
   "cell_type": "code",
   "source": [
    "with open(r'F:\\DataSpell\\data_science_ml_learning\\DATA\\Two.txt') as f:\n",
    "    words_two = f.read().lower().split()\n",
    "    uni_words_two = set(words_two)"
   ],
   "id": "b33c309c6068507",
   "outputs": [],
   "execution_count": 16
  },
  {
   "metadata": {
    "ExecuteTime": {
     "end_time": "2024-12-01T15:35:09.902581Z",
     "start_time": "2024-12-01T15:35:09.898501Z"
    }
   },
   "cell_type": "code",
   "source": "uni_words_two",
   "id": "732c301edd6c833d",
   "outputs": [
    {
     "data": {
      "text/plain": [
       "{'a',\n",
       " 'about',\n",
       " 'catching',\n",
       " 'fun',\n",
       " 'is',\n",
       " 'popular',\n",
       " 'sport',\n",
       " 'story',\n",
       " 'surfing',\n",
       " 'this',\n",
       " 'water',\n",
       " 'waves'}"
      ]
     },
     "execution_count": 17,
     "metadata": {},
     "output_type": "execute_result"
    }
   ],
   "execution_count": 17
  },
  {
   "metadata": {
    "ExecuteTime": {
     "end_time": "2024-12-01T15:35:18.244424Z",
     "start_time": "2024-12-01T15:35:18.241115Z"
    }
   },
   "cell_type": "code",
   "source": [
    "all_uni_words = set()\n",
    "all_uni_words.update(uni_words_one)\n",
    "all_uni_words.update(uni_words_two)"
   ],
   "id": "c1ea68239b35d87b",
   "outputs": [],
   "execution_count": 18
  },
  {
   "metadata": {
    "ExecuteTime": {
     "end_time": "2024-12-01T15:35:23.565305Z",
     "start_time": "2024-12-01T15:35:23.560876Z"
    }
   },
   "cell_type": "code",
   "source": "all_uni_words",
   "id": "d2d5a560d688157f",
   "outputs": [
    {
     "data": {
      "text/plain": [
       "{'a',\n",
       " 'about',\n",
       " 'animals',\n",
       " 'are',\n",
       " 'canine',\n",
       " 'catching',\n",
       " 'dogs',\n",
       " 'fun',\n",
       " 'furry',\n",
       " 'is',\n",
       " 'our',\n",
       " 'pets',\n",
       " 'popular',\n",
       " 'sport',\n",
       " 'story',\n",
       " 'surfing',\n",
       " 'this',\n",
       " 'water',\n",
       " 'waves'}"
      ]
     },
     "execution_count": 19,
     "metadata": {},
     "output_type": "execute_result"
    }
   ],
   "execution_count": 19
  },
  {
   "metadata": {
    "ExecuteTime": {
     "end_time": "2024-12-01T15:35:45.071860Z",
     "start_time": "2024-12-01T15:35:45.068205Z"
    }
   },
   "cell_type": "code",
   "source": [
    "full_vocab = dict()\n",
    "i = 0\n",
    "\n",
    "for word in all_uni_words:\n",
    "    full_vocab[word] = i\n",
    "    i = i+1"
   ],
   "id": "6ebb17fd632de85d",
   "outputs": [],
   "execution_count": 20
  },
  {
   "metadata": {
    "ExecuteTime": {
     "end_time": "2024-12-01T15:35:50.018287Z",
     "start_time": "2024-12-01T15:35:50.013783Z"
    }
   },
   "cell_type": "code",
   "source": "full_vocab",
   "id": "9b293db62a33ad38",
   "outputs": [
    {
     "data": {
      "text/plain": [
       "{'is': 0,\n",
       " 'story': 1,\n",
       " 'catching': 2,\n",
       " 'surfing': 3,\n",
       " 'fun': 4,\n",
       " 'dogs': 5,\n",
       " 'canine': 6,\n",
       " 'pets': 7,\n",
       " 'popular': 8,\n",
       " 'are': 9,\n",
       " 'our': 10,\n",
       " 'water': 11,\n",
       " 'furry': 12,\n",
       " 'waves': 13,\n",
       " 'a': 14,\n",
       " 'this': 15,\n",
       " 'about': 16,\n",
       " 'sport': 17,\n",
       " 'animals': 18}"
      ]
     },
     "execution_count": 21,
     "metadata": {},
     "output_type": "execute_result"
    }
   ],
   "execution_count": 21
  },
  {
   "metadata": {
    "ExecuteTime": {
     "end_time": "2024-12-01T15:36:01.274759Z",
     "start_time": "2024-12-01T15:36:01.271106Z"
    }
   },
   "cell_type": "code",
   "source": [
    "one_freq = [0]*len(full_vocab)\n",
    "two_freq = [0]*len(full_vocab)\n",
    "all_words = ['']*len(full_vocab)"
   ],
   "id": "722e459cb44d8d2c",
   "outputs": [],
   "execution_count": 22
  },
  {
   "metadata": {
    "ExecuteTime": {
     "end_time": "2024-12-01T15:36:07.807027Z",
     "start_time": "2024-12-01T15:36:07.802723Z"
    }
   },
   "cell_type": "code",
   "source": "one_freq",
   "id": "cb9009a7c8cc8093",
   "outputs": [
    {
     "data": {
      "text/plain": [
       "[0, 0, 0, 0, 0, 0, 0, 0, 0, 0, 0, 0, 0, 0, 0, 0, 0, 0, 0]"
      ]
     },
     "execution_count": 23,
     "metadata": {},
     "output_type": "execute_result"
    }
   ],
   "execution_count": 23
  },
  {
   "metadata": {
    "ExecuteTime": {
     "end_time": "2024-12-01T15:36:09.227990Z",
     "start_time": "2024-12-01T15:36:09.223607Z"
    }
   },
   "cell_type": "code",
   "source": "two_freq",
   "id": "c99d0d9a9d512119",
   "outputs": [
    {
     "data": {
      "text/plain": [
       "[0, 0, 0, 0, 0, 0, 0, 0, 0, 0, 0, 0, 0, 0, 0, 0, 0, 0, 0]"
      ]
     },
     "execution_count": 24,
     "metadata": {},
     "output_type": "execute_result"
    }
   ],
   "execution_count": 24
  },
  {
   "metadata": {
    "ExecuteTime": {
     "end_time": "2024-12-01T15:36:11.062001Z",
     "start_time": "2024-12-01T15:36:11.057498Z"
    }
   },
   "cell_type": "code",
   "source": "all_words",
   "id": "6d5853789a179195",
   "outputs": [
    {
     "data": {
      "text/plain": [
       "['', '', '', '', '', '', '', '', '', '', '', '', '', '', '', '', '', '', '']"
      ]
     },
     "execution_count": 25,
     "metadata": {},
     "output_type": "execute_result"
    }
   ],
   "execution_count": 25
  },
  {
   "metadata": {
    "ExecuteTime": {
     "end_time": "2024-12-01T15:36:16.328676Z",
     "start_time": "2024-12-01T15:36:16.324517Z"
    }
   },
   "cell_type": "code",
   "source": [
    "for word in full_vocab:\n",
    "    word_ind = full_vocab[word]\n",
    "    all_words[word_ind] = word"
   ],
   "id": "487a86914bf2da9a",
   "outputs": [],
   "execution_count": 26
  },
  {
   "metadata": {
    "ExecuteTime": {
     "end_time": "2024-12-01T15:36:17.949964Z",
     "start_time": "2024-12-01T15:36:17.945575Z"
    }
   },
   "cell_type": "code",
   "source": "all_words",
   "id": "d56a79a449785146",
   "outputs": [
    {
     "data": {
      "text/plain": [
       "['is',\n",
       " 'story',\n",
       " 'catching',\n",
       " 'surfing',\n",
       " 'fun',\n",
       " 'dogs',\n",
       " 'canine',\n",
       " 'pets',\n",
       " 'popular',\n",
       " 'are',\n",
       " 'our',\n",
       " 'water',\n",
       " 'furry',\n",
       " 'waves',\n",
       " 'a',\n",
       " 'this',\n",
       " 'about',\n",
       " 'sport',\n",
       " 'animals']"
      ]
     },
     "execution_count": 27,
     "metadata": {},
     "output_type": "execute_result"
    }
   ],
   "execution_count": 27
  },
  {
   "metadata": {
    "ExecuteTime": {
     "end_time": "2024-12-01T15:36:38.082075Z",
     "start_time": "2024-12-01T15:36:38.079053Z"
    }
   },
   "cell_type": "code",
   "source": [
    "with open(r'F:\\DataSpell\\data_science_ml_learning\\DATA\\One.txt') as f:\n",
    "    one_text = f.read().lower().split()\n",
    "\n",
    "for word in one_text:\n",
    "    word_ind = full_vocab[word]\n",
    "    one_freq[word_ind]+=1"
   ],
   "id": "5f12f2a3e624be40",
   "outputs": [],
   "execution_count": 29
  },
  {
   "metadata": {
    "ExecuteTime": {
     "end_time": "2024-12-01T15:36:43.406362Z",
     "start_time": "2024-12-01T15:36:43.402337Z"
    }
   },
   "cell_type": "code",
   "source": "one_freq",
   "id": "abc4699e9edc8e4c",
   "outputs": [
    {
     "data": {
      "text/plain": [
       "[1, 1, 0, 0, 0, 2, 1, 1, 0, 1, 1, 0, 1, 0, 1, 1, 1, 0, 1]"
      ]
     },
     "execution_count": 30,
     "metadata": {},
     "output_type": "execute_result"
    }
   ],
   "execution_count": 30
  },
  {
   "metadata": {
    "ExecuteTime": {
     "end_time": "2024-12-01T15:36:58.344760Z",
     "start_time": "2024-12-01T15:36:58.340234Z"
    }
   },
   "cell_type": "code",
   "source": [
    "with open(r'F:\\DataSpell\\data_science_ml_learning\\DATA\\Two.txt') as f:\n",
    "    two_text = f.read().lower().split()\n",
    "\n",
    "for word in two_text:\n",
    "    word_ind = full_vocab[word]\n",
    "    two_freq[word_ind]+=1"
   ],
   "id": "dcbba95e5720dd8c",
   "outputs": [],
   "execution_count": 31
  },
  {
   "metadata": {
    "ExecuteTime": {
     "end_time": "2024-12-01T15:37:10.600612Z",
     "start_time": "2024-12-01T15:37:10.596358Z"
    }
   },
   "cell_type": "code",
   "source": "two_freq",
   "id": "f3ad931fe7f6fc2c",
   "outputs": [
    {
     "data": {
      "text/plain": [
       "[3, 1, 1, 2, 1, 0, 0, 0, 1, 0, 0, 1, 0, 1, 1, 1, 1, 1, 0]"
      ]
     },
     "execution_count": 32,
     "metadata": {},
     "output_type": "execute_result"
    }
   ],
   "execution_count": 32
  },
  {
   "metadata": {
    "ExecuteTime": {
     "end_time": "2024-12-01T15:37:24.489981Z",
     "start_time": "2024-12-01T15:37:24.049270Z"
    }
   },
   "cell_type": "code",
   "source": "import pandas as pd",
   "id": "adc831095418e51c",
   "outputs": [],
   "execution_count": 34
  },
  {
   "metadata": {
    "ExecuteTime": {
     "end_time": "2024-12-01T15:37:24.516722Z",
     "start_time": "2024-12-01T15:37:24.505656Z"
    }
   },
   "cell_type": "code",
   "source": "pd.DataFrame(data=[one_freq,two_freq],columns=all_words)",
   "id": "e3fb86ecfab847a6",
   "outputs": [
    {
     "data": {
      "text/plain": [
       "   is  story  catching  surfing  fun  dogs  canine  pets  popular  are  our  \\\n",
       "0   1      1         0        0    0     2       1     1        0    1    1   \n",
       "1   3      1         1        2    1     0       0     0        1    0    0   \n",
       "\n",
       "   water  furry  waves  a  this  about  sport  animals  \n",
       "0      0      1      0  1     1      1      0        1  \n",
       "1      1      0      1  1     1      1      1        0  "
      ],
      "text/html": [
       "<div>\n",
       "<style scoped>\n",
       "    .dataframe tbody tr th:only-of-type {\n",
       "        vertical-align: middle;\n",
       "    }\n",
       "\n",
       "    .dataframe tbody tr th {\n",
       "        vertical-align: top;\n",
       "    }\n",
       "\n",
       "    .dataframe thead th {\n",
       "        text-align: right;\n",
       "    }\n",
       "</style>\n",
       "<table border=\"1\" class=\"dataframe\">\n",
       "  <thead>\n",
       "    <tr style=\"text-align: right;\">\n",
       "      <th></th>\n",
       "      <th>is</th>\n",
       "      <th>story</th>\n",
       "      <th>catching</th>\n",
       "      <th>surfing</th>\n",
       "      <th>fun</th>\n",
       "      <th>dogs</th>\n",
       "      <th>canine</th>\n",
       "      <th>pets</th>\n",
       "      <th>popular</th>\n",
       "      <th>are</th>\n",
       "      <th>our</th>\n",
       "      <th>water</th>\n",
       "      <th>furry</th>\n",
       "      <th>waves</th>\n",
       "      <th>a</th>\n",
       "      <th>this</th>\n",
       "      <th>about</th>\n",
       "      <th>sport</th>\n",
       "      <th>animals</th>\n",
       "    </tr>\n",
       "  </thead>\n",
       "  <tbody>\n",
       "    <tr>\n",
       "      <th>0</th>\n",
       "      <td>1</td>\n",
       "      <td>1</td>\n",
       "      <td>0</td>\n",
       "      <td>0</td>\n",
       "      <td>0</td>\n",
       "      <td>2</td>\n",
       "      <td>1</td>\n",
       "      <td>1</td>\n",
       "      <td>0</td>\n",
       "      <td>1</td>\n",
       "      <td>1</td>\n",
       "      <td>0</td>\n",
       "      <td>1</td>\n",
       "      <td>0</td>\n",
       "      <td>1</td>\n",
       "      <td>1</td>\n",
       "      <td>1</td>\n",
       "      <td>0</td>\n",
       "      <td>1</td>\n",
       "    </tr>\n",
       "    <tr>\n",
       "      <th>1</th>\n",
       "      <td>3</td>\n",
       "      <td>1</td>\n",
       "      <td>1</td>\n",
       "      <td>2</td>\n",
       "      <td>1</td>\n",
       "      <td>0</td>\n",
       "      <td>0</td>\n",
       "      <td>0</td>\n",
       "      <td>1</td>\n",
       "      <td>0</td>\n",
       "      <td>0</td>\n",
       "      <td>1</td>\n",
       "      <td>0</td>\n",
       "      <td>1</td>\n",
       "      <td>1</td>\n",
       "      <td>1</td>\n",
       "      <td>1</td>\n",
       "      <td>1</td>\n",
       "      <td>0</td>\n",
       "    </tr>\n",
       "  </tbody>\n",
       "</table>\n",
       "</div>"
      ]
     },
     "execution_count": 35,
     "metadata": {},
     "output_type": "execute_result"
    }
   ],
   "execution_count": 35
  },
  {
   "metadata": {
    "ExecuteTime": {
     "end_time": "2024-12-01T15:37:33.216313Z",
     "start_time": "2024-12-01T15:37:33.213313Z"
    }
   },
   "cell_type": "code",
   "source": [
    "text = ['This is a line',\n",
    "        \"This is another line\",\n",
    "        \"Completely different line\"]"
   ],
   "id": "90c9843a07b9d59a",
   "outputs": [],
   "execution_count": 36
  },
  {
   "metadata": {
    "ExecuteTime": {
     "end_time": "2024-12-01T15:38:23.636407Z",
     "start_time": "2024-12-01T15:38:23.097172Z"
    }
   },
   "cell_type": "code",
   "source": "from sklearn.feature_extraction.text import TfidfTransformer, TfidfVectorizer, CountVectorizer",
   "id": "fba550f4375b864e",
   "outputs": [],
   "execution_count": 37
  },
  {
   "metadata": {
    "ExecuteTime": {
     "end_time": "2024-12-01T15:38:32.962737Z",
     "start_time": "2024-12-01T15:38:32.959718Z"
    }
   },
   "cell_type": "code",
   "source": "cv = CountVectorizer()",
   "id": "8846dceb0be2ce4a",
   "outputs": [],
   "execution_count": 38
  },
  {
   "metadata": {
    "ExecuteTime": {
     "end_time": "2024-12-01T15:38:42.895006Z",
     "start_time": "2024-12-01T15:38:42.877511Z"
    }
   },
   "cell_type": "code",
   "source": "cv.fit_transform(text)",
   "id": "45e1ced70a9507a9",
   "outputs": [
    {
     "data": {
      "text/plain": [
       "<3x6 sparse matrix of type '<class 'numpy.int64'>'\n",
       "\twith 10 stored elements in Compressed Sparse Row format>"
      ]
     },
     "execution_count": 39,
     "metadata": {},
     "output_type": "execute_result"
    }
   ],
   "execution_count": 39
  },
  {
   "metadata": {
    "ExecuteTime": {
     "end_time": "2024-12-01T15:38:50.619204Z",
     "start_time": "2024-12-01T15:38:50.615900Z"
    }
   },
   "cell_type": "code",
   "source": "sparse_mat = cv.fit_transform(text)",
   "id": "280bead5b4bc48c8",
   "outputs": [],
   "execution_count": 40
  },
  {
   "metadata": {
    "ExecuteTime": {
     "end_time": "2024-12-01T15:39:19.867499Z",
     "start_time": "2024-12-01T15:39:19.851899Z"
    }
   },
   "cell_type": "code",
   "source": "sparse_mat.todense()",
   "id": "d064943e57cc6ac7",
   "outputs": [
    {
     "data": {
      "text/plain": [
       "matrix([[0, 0, 0, 1, 1, 1],\n",
       "        [1, 0, 0, 1, 1, 1],\n",
       "        [0, 1, 1, 0, 1, 0]], dtype=int64)"
      ]
     },
     "execution_count": 41,
     "metadata": {},
     "output_type": "execute_result"
    }
   ],
   "execution_count": 41
  },
  {
   "metadata": {
    "ExecuteTime": {
     "end_time": "2024-12-01T15:39:24.924667Z",
     "start_time": "2024-12-01T15:39:24.919556Z"
    }
   },
   "cell_type": "code",
   "source": "cv.vocabulary_",
   "id": "d197e6e333e0b1fc",
   "outputs": [
    {
     "data": {
      "text/plain": [
       "{'this': 5, 'is': 3, 'line': 4, 'another': 0, 'completely': 1, 'different': 2}"
      ]
     },
     "execution_count": 42,
     "metadata": {},
     "output_type": "execute_result"
    }
   ],
   "execution_count": 42
  },
  {
   "metadata": {
    "ExecuteTime": {
     "end_time": "2024-12-01T15:39:30.514839Z",
     "start_time": "2024-12-01T15:39:30.511284Z"
    }
   },
   "cell_type": "code",
   "source": "cv = CountVectorizer(stop_words='english')",
   "id": "5259d7423e4842b7",
   "outputs": [],
   "execution_count": 43
  },
  {
   "metadata": {
    "ExecuteTime": {
     "end_time": "2024-12-01T15:39:46.872624Z",
     "start_time": "2024-12-01T15:39:46.867059Z"
    }
   },
   "cell_type": "code",
   "source": "cv.fit_transform(text).todense()",
   "id": "293575d2f4e5286d",
   "outputs": [
    {
     "data": {
      "text/plain": [
       "matrix([[0, 0, 1],\n",
       "        [0, 0, 1],\n",
       "        [1, 1, 1]], dtype=int64)"
      ]
     },
     "execution_count": 45,
     "metadata": {},
     "output_type": "execute_result"
    }
   ],
   "execution_count": 45
  },
  {
   "metadata": {
    "ExecuteTime": {
     "end_time": "2024-12-01T15:39:51.227975Z",
     "start_time": "2024-12-01T15:39:51.223975Z"
    }
   },
   "cell_type": "code",
   "source": "cv.vocabulary_",
   "id": "ba9d35ecd01e677b",
   "outputs": [
    {
     "data": {
      "text/plain": [
       "{'line': 2, 'completely': 0, 'different': 1}"
      ]
     },
     "execution_count": 46,
     "metadata": {},
     "output_type": "execute_result"
    }
   ],
   "execution_count": 46
  },
  {
   "metadata": {
    "ExecuteTime": {
     "end_time": "2024-12-01T15:39:56.012554Z",
     "start_time": "2024-12-01T15:39:56.008923Z"
    }
   },
   "cell_type": "code",
   "source": "tfidf_transformer = TfidfTransformer()",
   "id": "7bc428aa5ff7b8f3",
   "outputs": [],
   "execution_count": 47
  },
  {
   "metadata": {
    "ExecuteTime": {
     "end_time": "2024-12-01T15:40:44.776072Z",
     "start_time": "2024-12-01T15:40:44.772385Z"
    }
   },
   "cell_type": "code",
   "source": "cv = CountVectorizer()",
   "id": "27a1fb46508250cd",
   "outputs": [],
   "execution_count": 48
  },
  {
   "metadata": {
    "ExecuteTime": {
     "end_time": "2024-12-01T15:40:48.720079Z",
     "start_time": "2024-12-01T15:40:48.716058Z"
    }
   },
   "cell_type": "code",
   "source": "counts = cv.fit_transform(text)",
   "id": "15a9f1cd86d176cb",
   "outputs": [],
   "execution_count": 49
  },
  {
   "metadata": {
    "ExecuteTime": {
     "end_time": "2024-12-01T15:40:53.420617Z",
     "start_time": "2024-12-01T15:40:53.416361Z"
    }
   },
   "cell_type": "code",
   "source": "counts",
   "id": "bbf9ba37d6aa5818",
   "outputs": [
    {
     "data": {
      "text/plain": [
       "<3x6 sparse matrix of type '<class 'numpy.int64'>'\n",
       "\twith 10 stored elements in Compressed Sparse Row format>"
      ]
     },
     "execution_count": 51,
     "metadata": {},
     "output_type": "execute_result"
    }
   ],
   "execution_count": 51
  },
  {
   "metadata": {
    "ExecuteTime": {
     "end_time": "2024-12-01T15:40:59.838901Z",
     "start_time": "2024-12-01T15:40:59.821488Z"
    }
   },
   "cell_type": "code",
   "source": "tfidf = tfidf_transformer.fit_transform(counts)",
   "id": "62bc89054601a086",
   "outputs": [],
   "execution_count": 52
  },
  {
   "metadata": {
    "ExecuteTime": {
     "end_time": "2024-12-01T15:41:03.576677Z",
     "start_time": "2024-12-01T15:41:03.572230Z"
    }
   },
   "cell_type": "code",
   "source": "tfidf.todense()",
   "id": "99790abebfc4cf47",
   "outputs": [
    {
     "data": {
      "text/plain": [
       "matrix([[0.        , 0.        , 0.        , 0.61980538, 0.48133417,\n",
       "         0.61980538],\n",
       "        [0.63174505, 0.        , 0.        , 0.4804584 , 0.37311881,\n",
       "         0.4804584 ],\n",
       "        [0.        , 0.65249088, 0.65249088, 0.        , 0.38537163,\n",
       "         0.        ]])"
      ]
     },
     "execution_count": 53,
     "metadata": {},
     "output_type": "execute_result"
    }
   ],
   "execution_count": 53
  },
  {
   "metadata": {
    "ExecuteTime": {
     "end_time": "2024-12-01T15:41:22.288255Z",
     "start_time": "2024-12-01T15:41:22.282227Z"
    }
   },
   "cell_type": "code",
   "source": "from sklearn.pipeline import Pipeline",
   "id": "4af3d8e1b1a1c737",
   "outputs": [],
   "execution_count": 55
  },
  {
   "metadata": {
    "ExecuteTime": {
     "end_time": "2024-12-01T15:41:27.909372Z",
     "start_time": "2024-12-01T15:41:27.905865Z"
    }
   },
   "cell_type": "code",
   "source": "pipe = Pipeline([('cv',CountVectorizer()),('tfidf',TfidfTransformer())])",
   "id": "4696a16384471fbf",
   "outputs": [],
   "execution_count": 56
  },
  {
   "metadata": {
    "ExecuteTime": {
     "end_time": "2024-12-01T15:41:32.040246Z",
     "start_time": "2024-12-01T15:41:32.036429Z"
    }
   },
   "cell_type": "code",
   "source": "results = pipe.fit_transform(text)",
   "id": "9162cf51ecd7aa29",
   "outputs": [],
   "execution_count": 57
  },
  {
   "metadata": {
    "ExecuteTime": {
     "end_time": "2024-12-01T15:41:36.475538Z",
     "start_time": "2024-12-01T15:41:36.471488Z"
    }
   },
   "cell_type": "code",
   "source": "results",
   "id": "6ec715579e8eaa7e",
   "outputs": [
    {
     "data": {
      "text/plain": [
       "<3x6 sparse matrix of type '<class 'numpy.float64'>'\n",
       "\twith 10 stored elements in Compressed Sparse Row format>"
      ]
     },
     "execution_count": 58,
     "metadata": {},
     "output_type": "execute_result"
    }
   ],
   "execution_count": 58
  },
  {
   "metadata": {
    "ExecuteTime": {
     "end_time": "2024-12-01T15:41:41.361339Z",
     "start_time": "2024-12-01T15:41:41.356899Z"
    }
   },
   "cell_type": "code",
   "source": "results.todense()",
   "id": "372b91aa08783815",
   "outputs": [
    {
     "data": {
      "text/plain": [
       "matrix([[0.        , 0.        , 0.        , 0.61980538, 0.48133417,\n",
       "         0.61980538],\n",
       "        [0.63174505, 0.        , 0.        , 0.4804584 , 0.37311881,\n",
       "         0.4804584 ],\n",
       "        [0.        , 0.65249088, 0.65249088, 0.        , 0.38537163,\n",
       "         0.        ]])"
      ]
     },
     "execution_count": 59,
     "metadata": {},
     "output_type": "execute_result"
    }
   ],
   "execution_count": 59
  },
  {
   "metadata": {
    "ExecuteTime": {
     "end_time": "2024-12-01T15:41:48.883036Z",
     "start_time": "2024-12-01T15:41:48.880016Z"
    }
   },
   "cell_type": "code",
   "source": "tfidf = TfidfVectorizer()",
   "id": "e6e7182e89f9b1ab",
   "outputs": [],
   "execution_count": 60
  },
  {
   "metadata": {
    "ExecuteTime": {
     "end_time": "2024-12-01T15:41:52.351270Z",
     "start_time": "2024-12-01T15:41:52.346441Z"
    }
   },
   "cell_type": "code",
   "source": "new = tfidf.fit_transform(text)",
   "id": "3ce37da58ee9184c",
   "outputs": [],
   "execution_count": 61
  },
  {
   "metadata": {
    "ExecuteTime": {
     "end_time": "2024-12-01T15:41:56.508834Z",
     "start_time": "2024-12-01T15:41:56.503568Z"
    }
   },
   "cell_type": "code",
   "source": "new.todense()",
   "id": "6d39fff29b183188",
   "outputs": [
    {
     "data": {
      "text/plain": [
       "matrix([[0.        , 0.        , 0.        , 0.61980538, 0.48133417,\n",
       "         0.61980538],\n",
       "        [0.63174505, 0.        , 0.        , 0.4804584 , 0.37311881,\n",
       "         0.4804584 ],\n",
       "        [0.        , 0.65249088, 0.65249088, 0.        , 0.38537163,\n",
       "         0.        ]])"
      ]
     },
     "execution_count": 62,
     "metadata": {},
     "output_type": "execute_result"
    }
   ],
   "execution_count": 62
  },
  {
   "metadata": {},
   "cell_type": "code",
   "outputs": [],
   "execution_count": null,
   "source": "",
   "id": "e928a9e6c679bc77"
  }
 ],
 "metadata": {
  "kernelspec": {
   "display_name": "Python 3",
   "language": "python",
   "name": "python3"
  },
  "language_info": {
   "codemirror_mode": {
    "name": "ipython",
    "version": 2
   },
   "file_extension": ".py",
   "mimetype": "text/x-python",
   "name": "python",
   "nbconvert_exporter": "python",
   "pygments_lexer": "ipython2",
   "version": "2.7.6"
  }
 },
 "nbformat": 4,
 "nbformat_minor": 5
}
