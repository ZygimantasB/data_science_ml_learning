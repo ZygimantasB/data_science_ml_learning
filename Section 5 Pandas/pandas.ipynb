{
 "cells": [
  {
   "cell_type": "code",
   "id": "initial_id",
   "metadata": {
    "collapsed": true,
    "ExecuteTime": {
     "end_time": "2024-05-23T19:34:12.076825Z",
     "start_time": "2024-05-23T19:34:10.863757Z"
    }
   },
   "source": [
    "import numpy as np\n",
    "import pandas as pd"
   ],
   "outputs": [],
   "execution_count": 1
  },
  {
   "metadata": {},
   "cell_type": "markdown",
   "source": "# 20. Series - Part One",
   "id": "2f02a52bcd2c8dea"
  },
  {
   "metadata": {
    "ExecuteTime": {
     "end_time": "2024-05-23T19:35:58.642052Z",
     "start_time": "2024-05-23T19:35:58.638706Z"
    }
   },
   "cell_type": "code",
   "source": "myindex = ['USA', 'Canada', 'Mexico']",
   "id": "f58cf7c221ad3371",
   "outputs": [],
   "execution_count": 4
  },
  {
   "metadata": {
    "ExecuteTime": {
     "end_time": "2024-05-23T19:36:12.809181Z",
     "start_time": "2024-05-23T19:36:12.805668Z"
    }
   },
   "cell_type": "code",
   "source": "mydata = [1776, 1867, 1821]",
   "id": "cd8ac086f1920bf",
   "outputs": [],
   "execution_count": 5
  },
  {
   "metadata": {
    "ExecuteTime": {
     "end_time": "2024-05-23T19:37:38.848215Z",
     "start_time": "2024-05-23T19:37:38.844953Z"
    }
   },
   "cell_type": "code",
   "source": "myser = pd.Series(data=mydata, index=myindex)",
   "id": "c76c11c182a41397",
   "outputs": [],
   "execution_count": 9
  },
  {
   "metadata": {
    "ExecuteTime": {
     "end_time": "2024-05-23T19:37:56.860418Z",
     "start_time": "2024-05-23T19:37:56.855462Z"
    }
   },
   "cell_type": "code",
   "source": "myser",
   "id": "8cfeb0c2d8536d19",
   "outputs": [
    {
     "data": {
      "text/plain": [
       "USA       1776\n",
       "Canada    1867\n",
       "Mexico    1821\n",
       "dtype: int64"
      ]
     },
     "execution_count": 14,
     "metadata": {},
     "output_type": "execute_result"
    }
   ],
   "execution_count": 14
  },
  {
   "metadata": {
    "ExecuteTime": {
     "end_time": "2024-05-23T19:38:13.345576Z",
     "start_time": "2024-05-23T19:38:13.340623Z"
    }
   },
   "cell_type": "code",
   "source": "myser.iloc[0]",
   "id": "9c889620252f3d2a",
   "outputs": [
    {
     "data": {
      "text/plain": [
       "1776"
      ]
     },
     "execution_count": 16,
     "metadata": {},
     "output_type": "execute_result"
    }
   ],
   "execution_count": 16
  },
  {
   "metadata": {
    "ExecuteTime": {
     "end_time": "2024-05-23T19:38:27.768991Z",
     "start_time": "2024-05-23T19:38:27.764698Z"
    }
   },
   "cell_type": "code",
   "source": "myser.loc['USA']",
   "id": "373edc6bac4d7587",
   "outputs": [
    {
     "data": {
      "text/plain": [
       "1776"
      ]
     },
     "execution_count": 17,
     "metadata": {},
     "output_type": "execute_result"
    }
   ],
   "execution_count": 17
  },
  {
   "metadata": {
    "ExecuteTime": {
     "end_time": "2024-05-23T19:39:40.869823Z",
     "start_time": "2024-05-23T19:39:40.866216Z"
    }
   },
   "cell_type": "code",
   "source": "ages = {'Sam':5, 'Frank':10, 'Spike':7}",
   "id": "9b2fa3a04bbbf7d0",
   "outputs": [],
   "execution_count": 18
  },
  {
   "metadata": {
    "ExecuteTime": {
     "end_time": "2024-05-23T19:44:52.706336Z",
     "start_time": "2024-05-23T19:44:52.701831Z"
    }
   },
   "cell_type": "code",
   "source": "pd.Series(ages)",
   "id": "d92eab1368fd0ca1",
   "outputs": [
    {
     "data": {
      "text/plain": [
       "Sam       5\n",
       "Frank    10\n",
       "Spike     7\n",
       "dtype: int64"
      ]
     },
     "execution_count": 20,
     "metadata": {},
     "output_type": "execute_result"
    }
   ],
   "execution_count": 20
  },
  {
   "metadata": {},
   "cell_type": "markdown",
   "source": "# Coding Exercise 4: Check-in: Labeled Index in Pandas Series",
   "id": "314ba095f3cb2410"
  },
  {
   "metadata": {
    "ExecuteTime": {
     "end_time": "2024-05-23T19:49:10.299622Z",
     "start_time": "2024-05-23T19:49:10.295493Z"
    }
   },
   "cell_type": "code",
   "source": [
    "# TASK: Use pandas to grab the expenses paid by Bob.\n",
    "# MAKE SURE TO READ THE FULL INSTRUCTIONS ABOVE CAREFULLY, AS THE EVALUATION SCRIPT IS VERY STRICT.\n",
    "#  Link to Solution: https://gist.github.com/Pierian-Data/3d7f7cb3528f015d9584d04a7168b97f\n",
    "expenses = pd.Series({'Andrew':200,'Bob':150,'Claire':450})\n",
    "\n",
    "bob_expense = expenses.loc['Bob']\n",
    "bob_expense"
   ],
   "id": "f5ec41c5f0b76835",
   "outputs": [
    {
     "data": {
      "text/plain": [
       "150"
      ]
     },
     "execution_count": 23,
     "metadata": {},
     "output_type": "execute_result"
    }
   ],
   "execution_count": 23
  },
  {
   "metadata": {},
   "cell_type": "markdown",
   "source": "# 21. Series - Part Two",
   "id": "a01c9022995ea672"
  },
  {
   "metadata": {
    "ExecuteTime": {
     "end_time": "2024-05-23T19:54:23.735119Z",
     "start_time": "2024-05-23T19:54:23.731605Z"
    }
   },
   "cell_type": "code",
   "source": [
    "q1 = {'Japan': 80, 'China': 450, 'India': 200, 'USA': 250}\n",
    "q2 = {'Brazil': 100, 'China': 500, 'India': 210, 'USA': 260}"
   ],
   "id": "8abb57da6a83a89",
   "outputs": [],
   "execution_count": 24
  },
  {
   "metadata": {
    "ExecuteTime": {
     "end_time": "2024-05-23T19:55:20.598484Z",
     "start_time": "2024-05-23T19:55:20.594865Z"
    }
   },
   "cell_type": "code",
   "source": "sales_q1 = pd.Series(q1)",
   "id": "fc6b5cb37763ed80",
   "outputs": [],
   "execution_count": 26
  },
  {
   "metadata": {
    "ExecuteTime": {
     "end_time": "2024-05-23T19:55:35.261331Z",
     "start_time": "2024-05-23T19:55:35.257440Z"
    }
   },
   "cell_type": "code",
   "source": "sales_q2 = pd.Series(q2)",
   "id": "33ace917db937942",
   "outputs": [],
   "execution_count": 27
  },
  {
   "metadata": {
    "ExecuteTime": {
     "end_time": "2024-05-23T19:55:58.443829Z",
     "start_time": "2024-05-23T19:55:58.439153Z"
    }
   },
   "cell_type": "code",
   "source": "sales_q1",
   "id": "ee8d95ea9452adf0",
   "outputs": [
    {
     "data": {
      "text/plain": [
       "Japan     80\n",
       "China    450\n",
       "India    200\n",
       "USA      250\n",
       "dtype: int64"
      ]
     },
     "execution_count": 29,
     "metadata": {},
     "output_type": "execute_result"
    }
   ],
   "execution_count": 29
  },
  {
   "metadata": {
    "ExecuteTime": {
     "end_time": "2024-05-23T19:56:00.384607Z",
     "start_time": "2024-05-23T19:56:00.380587Z"
    }
   },
   "cell_type": "code",
   "source": "sales_q2",
   "id": "217f1d6450c4a1cf",
   "outputs": [
    {
     "data": {
      "text/plain": [
       "Brazil    100\n",
       "China     500\n",
       "India     210\n",
       "USA       260\n",
       "dtype: int64"
      ]
     },
     "execution_count": 30,
     "metadata": {},
     "output_type": "execute_result"
    }
   ],
   "execution_count": 30
  },
  {
   "metadata": {
    "ExecuteTime": {
     "end_time": "2024-05-23T19:57:39.427827Z",
     "start_time": "2024-05-23T19:57:39.422815Z"
    }
   },
   "cell_type": "code",
   "source": [
    "sales_q1['Japan']\n",
    "sales_q1.iloc[0]"
   ],
   "id": "c8e3b4743f698bce",
   "outputs": [
    {
     "data": {
      "text/plain": [
       "80"
      ]
     },
     "execution_count": 34,
     "metadata": {},
     "output_type": "execute_result"
    }
   ],
   "execution_count": 34
  },
  {
   "metadata": {
    "ExecuteTime": {
     "end_time": "2024-05-23T19:57:47.479277Z",
     "start_time": "2024-05-23T19:57:47.475236Z"
    }
   },
   "cell_type": "code",
   "source": "sales_q1.keys()",
   "id": "c8dd44ababc85860",
   "outputs": [
    {
     "data": {
      "text/plain": [
       "Index(['Japan', 'China', 'India', 'USA'], dtype='object')"
      ]
     },
     "execution_count": 36,
     "metadata": {},
     "output_type": "execute_result"
    }
   ],
   "execution_count": 36
  },
  {
   "metadata": {
    "ExecuteTime": {
     "end_time": "2024-05-23T19:58:18.261200Z",
     "start_time": "2024-05-23T19:58:18.257241Z"
    }
   },
   "cell_type": "code",
   "source": "sales_q1.values",
   "id": "f44014a37efe9bde",
   "outputs": [
    {
     "data": {
      "text/plain": [
       "array([ 80, 450, 200, 250], dtype=int64)"
      ]
     },
     "execution_count": 38,
     "metadata": {},
     "output_type": "execute_result"
    }
   ],
   "execution_count": 38
  },
  {
   "metadata": {
    "ExecuteTime": {
     "end_time": "2024-05-23T19:59:07.699772Z",
     "start_time": "2024-05-23T19:59:07.695317Z"
    }
   },
   "cell_type": "code",
   "source": [
    "# [1, 2] * 2\n",
    "np.array([1, 2]) * 2"
   ],
   "id": "d6605ec825fe0217",
   "outputs": [
    {
     "data": {
      "text/plain": [
       "array([2, 4])"
      ]
     },
     "execution_count": 41,
     "metadata": {},
     "output_type": "execute_result"
    }
   ],
   "execution_count": 41
  },
  {
   "metadata": {
    "ExecuteTime": {
     "end_time": "2024-05-23T19:59:47.056808Z",
     "start_time": "2024-05-23T19:59:47.051731Z"
    }
   },
   "cell_type": "code",
   "source": [
    "# sales_q1 * 2\n",
    "sales_q1 / 100"
   ],
   "id": "90b76a9496978a96",
   "outputs": [
    {
     "data": {
      "text/plain": [
       "Japan    0.8\n",
       "China    4.5\n",
       "India    2.0\n",
       "USA      2.5\n",
       "dtype: float64"
      ]
     },
     "execution_count": 44,
     "metadata": {},
     "output_type": "execute_result"
    }
   ],
   "execution_count": 44
  },
  {
   "metadata": {
    "ExecuteTime": {
     "end_time": "2024-05-23T20:01:35.436371Z",
     "start_time": "2024-05-23T20:01:35.431246Z"
    }
   },
   "cell_type": "code",
   "source": "sales_q1 + sales_q2 # NaN is added for the missing values in the series",
   "id": "94aaa07fb25cdc64",
   "outputs": [
    {
     "data": {
      "text/plain": [
       "Brazil      NaN\n",
       "China     950.0\n",
       "India     410.0\n",
       "Japan       NaN\n",
       "USA       510.0\n",
       "dtype: float64"
      ]
     },
     "execution_count": 46,
     "metadata": {},
     "output_type": "execute_result"
    }
   ],
   "execution_count": 46
  },
  {
   "metadata": {
    "ExecuteTime": {
     "end_time": "2024-05-23T20:03:58.383108Z",
     "start_time": "2024-05-23T20:03:58.379601Z"
    }
   },
   "cell_type": "code",
   "source": "first_half = sales_q1.add(sales_q2, fill_value=0) # fill_value=0 is used to fill the missing values with 0",
   "id": "75da4efd429dcae7",
   "outputs": [],
   "execution_count": 53
  },
  {
   "metadata": {
    "ExecuteTime": {
     "end_time": "2024-05-23T20:03:58.973851Z",
     "start_time": "2024-05-23T20:03:58.970345Z"
    }
   },
   "cell_type": "code",
   "source": "sales_q1.dtypes",
   "id": "bc78a2124b4bdb58",
   "outputs": [
    {
     "data": {
      "text/plain": [
       "dtype('int64')"
      ]
     },
     "execution_count": 54,
     "metadata": {},
     "output_type": "execute_result"
    }
   ],
   "execution_count": 54
  },
  {
   "metadata": {
    "ExecuteTime": {
     "end_time": "2024-05-23T20:03:59.919633Z",
     "start_time": "2024-05-23T20:03:59.916387Z"
    }
   },
   "cell_type": "code",
   "source": "first_half.dtypes",
   "id": "3c1a5e5673dee56e",
   "outputs": [
    {
     "data": {
      "text/plain": [
       "dtype('float64')"
      ]
     },
     "execution_count": 55,
     "metadata": {},
     "output_type": "execute_result"
    }
   ],
   "execution_count": 55
  }
 ],
 "metadata": {
  "kernelspec": {
   "display_name": "Python 3",
   "language": "python",
   "name": "python3"
  },
  "language_info": {
   "codemirror_mode": {
    "name": "ipython",
    "version": 2
   },
   "file_extension": ".py",
   "mimetype": "text/x-python",
   "name": "python",
   "nbconvert_exporter": "python",
   "pygments_lexer": "ipython2",
   "version": "2.7.6"
  }
 },
 "nbformat": 4,
 "nbformat_minor": 5
}
