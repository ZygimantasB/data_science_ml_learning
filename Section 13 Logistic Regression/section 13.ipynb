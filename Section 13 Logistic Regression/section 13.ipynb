{
 "cells": [
  {
   "cell_type": "code",
   "id": "initial_id",
   "metadata": {
    "collapsed": true
   },
   "source": [
    "import numpy as np\n",
    "import pandas as pd\n",
    "import seaborn as sns\n",
    "import matplotlib.pyplot as plt\n",
    "\n",
    "from pathlib import Path"
   ],
   "outputs": [],
   "execution_count": null
  },
  {
   "metadata": {},
   "cell_type": "markdown",
   "source": "# 128. Logistic Regression with Scikit-Learn - Part One - EDA",
   "id": "da37f8fcf991b000"
  },
  {
   "metadata": {},
   "cell_type": "code",
   "source": [
    "df_path = Path.cwd() / '..' / 'data' / 'hearing_test.csv'\n",
    "\n",
    "df = pd.read_csv(df_path)"
   ],
   "id": "53bc4043e28e88d",
   "outputs": [],
   "execution_count": null
  },
  {
   "metadata": {},
   "cell_type": "code",
   "source": "df.describe()",
   "id": "2667a473dcec7956",
   "outputs": [],
   "execution_count": null
  },
  {
   "metadata": {},
   "cell_type": "code",
   "source": "df['test_result'].value_counts()",
   "id": "459be68404213241",
   "outputs": [],
   "execution_count": null
  },
  {
   "metadata": {},
   "cell_type": "code",
   "source": "sns.countplot(data=df, x='test_result')",
   "id": "d29e1358b2d7c006",
   "outputs": [],
   "execution_count": null
  },
  {
   "metadata": {},
   "cell_type": "code",
   "source": "sns.boxplot(data=df, y='physical_score', x='test_result')",
   "id": "153ba7aa27895211",
   "outputs": [],
   "execution_count": null
  },
  {
   "metadata": {},
   "cell_type": "code",
   "source": [
    "plt.figure(figsize=(10, 6), dpi=200)\n",
    "\n",
    "sns.scatterplot(data=df, x='age', y='physical_score', hue='test_result', alpha=0.5)"
   ],
   "id": "6fe3cafd74ce8ce3",
   "outputs": [],
   "execution_count": null
  },
  {
   "metadata": {},
   "cell_type": "code",
   "source": "sns.pairplot(data=df, hue='test_result')",
   "id": "6aa4fb520b2c0b4e",
   "outputs": [],
   "execution_count": null
  },
  {
   "metadata": {},
   "cell_type": "code",
   "source": "sns.heatmap(df.corr(), annot=True)",
   "id": "4b15277a0619958f",
   "outputs": [],
   "execution_count": null
  },
  {
   "metadata": {},
   "cell_type": "code",
   "source": "sns.scatterplot(data=df, x='physical_score', y='test_result')",
   "id": "aedf97baefe8ac8",
   "outputs": [],
   "execution_count": null
  },
  {
   "metadata": {},
   "cell_type": "code",
   "source": "from mpl_toolkits.mplot3d import Axes3D",
   "id": "6da00f988a809bdb",
   "outputs": [],
   "execution_count": null
  },
  {
   "metadata": {},
   "cell_type": "code",
   "source": [
    "fig = plt.figure(dpi=200)\n",
    "ax = fig.add_subplot(111, projection='3d')\n",
    "\n",
    "ax.scatter(df['age'], df['physical_score'], df['test_result'], c=df['test_result'])"
   ],
   "id": "514d509ec13db256",
   "outputs": [],
   "execution_count": null
  },
  {
   "metadata": {},
   "cell_type": "markdown",
   "source": "# 129. Logistic Regression with Scikit-Learn - Part Two - Model Training",
   "id": "d48de21fc2b5285a"
  },
  {
   "metadata": {},
   "cell_type": "code",
   "source": "X = df.drop('test_result', axis=1)",
   "id": "9a75e3831fa1548f",
   "outputs": [],
   "execution_count": null
  },
  {
   "metadata": {},
   "cell_type": "code",
   "source": "y = df['test_result']",
   "id": "e6d9fcc1670d5542",
   "outputs": [],
   "execution_count": null
  },
  {
   "metadata": {},
   "cell_type": "code",
   "source": "from sklearn.model_selection import train_test_split",
   "id": "b17f02313f672910",
   "outputs": [],
   "execution_count": null
  },
  {
   "metadata": {},
   "cell_type": "code",
   "source": "from sklearn.preprocessing import StandardScaler",
   "id": "501df87ad6a2b492",
   "outputs": [],
   "execution_count": null
  },
  {
   "metadata": {},
   "cell_type": "code",
   "source": "X_train, X_test, y_train, y_test = train_test_split(X, y, test_size=0.1, random_state=42)",
   "id": "ce248d6cb9fc21fd",
   "outputs": [],
   "execution_count": null
  },
  {
   "metadata": {},
   "cell_type": "code",
   "source": "scaler = StandardScaler()",
   "id": "b2a3921d47680792",
   "outputs": [],
   "execution_count": null
  },
  {
   "metadata": {},
   "cell_type": "code",
   "source": "scaled_X_train = scaler.fit_transform(X_train)",
   "id": "bb2d26b249bd8b46",
   "outputs": [],
   "execution_count": null
  },
  {
   "metadata": {},
   "cell_type": "code",
   "source": "scaled_X_test = scaler.transform(X_test)",
   "id": "cb56e9eed4888aa8",
   "outputs": [],
   "execution_count": null
  },
  {
   "metadata": {},
   "cell_type": "code",
   "source": "from sklearn.linear_model import LogisticRegression",
   "id": "6a98fe781dc6ac1b",
   "outputs": [],
   "execution_count": null
  },
  {
   "metadata": {},
   "cell_type": "code",
   "source": "help(LogisticRegression)",
   "id": "8eb66d2af71c4431",
   "outputs": [],
   "execution_count": null
  },
  {
   "metadata": {},
   "cell_type": "code",
   "source": "log_model = LogisticRegression()",
   "id": "aa98931165e9f328",
   "outputs": [],
   "execution_count": null
  },
  {
   "metadata": {},
   "cell_type": "code",
   "source": "log_model.fit(scaled_X_train, y_train)",
   "id": "8003a4fa20581cef",
   "outputs": [],
   "execution_count": null
  },
  {
   "metadata": {},
   "cell_type": "code",
   "source": "log_model.coef_",
   "id": "3f5a9a86d20b7e41",
   "outputs": [],
   "execution_count": null
  },
  {
   "metadata": {},
   "cell_type": "code",
   "source": "y_pred = log_model.predict(scaled_X_test)",
   "id": "4aba01f64ff2ff0a",
   "outputs": [],
   "execution_count": null
  },
  {
   "metadata": {},
   "cell_type": "code",
   "source": "y_pred",
   "id": "188e47890fd80b3e",
   "outputs": [],
   "execution_count": null
  },
  {
   "metadata": {},
   "cell_type": "markdown",
   "source": "# 130. Classification Metrics - Confusion Matrix and Accuracy",
   "id": "394c95a036ed3978"
  },
  {
   "metadata": {},
   "cell_type": "markdown",
   "source": "# 133. Logistic Regression with Scikit-Learn - Part Three - Performance Evaluation\n",
   "id": "5e98adbe5f813025"
  },
  {
   "metadata": {},
   "cell_type": "code",
   "source": "log_model.coef_",
   "id": "79b8a1c1edbe01be",
   "outputs": [],
   "execution_count": null
  },
  {
   "metadata": {},
   "cell_type": "code",
   "source": "from sklearn.metrics import accuracy_score, confusion_matrix, classification_report",
   "id": "a212d45579d5d833",
   "outputs": [],
   "execution_count": null
  },
  {
   "metadata": {},
   "cell_type": "code",
   "source": "y_pred = log_model.predict(scaled_X_test)",
   "id": "6f28bdcf4ce0bfb3",
   "outputs": [],
   "execution_count": null
  },
  {
   "metadata": {},
   "cell_type": "code",
   "source": "accuracy_score(y_test, y_pred)",
   "id": "ed9a660f44d93fcd",
   "outputs": [],
   "execution_count": null
  },
  {
   "metadata": {},
   "cell_type": "code",
   "source": "confusion_matrix(y_test, y_pred)",
   "id": "1cc9c0ae8df93540",
   "outputs": [],
   "execution_count": null
  },
  {
   "metadata": {},
   "cell_type": "code",
   "source": "from sklearn.metrics import ConfusionMatrixDisplay",
   "id": "ab43ec886af36426",
   "outputs": [],
   "execution_count": null
  },
  {
   "metadata": {},
   "cell_type": "code",
   "source": "ConfusionMatrixDisplay(confusion_matrix(y_test, y_pred)).plot()",
   "id": "1e2ffaff579ad553",
   "outputs": [],
   "execution_count": null
  },
  {
   "metadata": {},
   "cell_type": "code",
   "source": "len(y_test)",
   "id": "e626f4f2c059cf2",
   "outputs": [],
   "execution_count": null
  },
  {
   "metadata": {},
   "cell_type": "code",
   "source": "print(classification_report(y_test, y_pred))",
   "id": "45285ace8cd07dc4",
   "outputs": [],
   "execution_count": null
  },
  {
   "metadata": {},
   "cell_type": "code",
   "source": "from sklearn.metrics import precision_score, recall_score, f1_score",
   "id": "329c5cbb8bd97c1e",
   "outputs": [],
   "execution_count": null
  },
  {
   "metadata": {},
   "cell_type": "code",
   "source": "precision_score(y_test, y_pred)",
   "id": "714f0d4e357c37e5",
   "outputs": [],
   "execution_count": null
  },
  {
   "metadata": {},
   "cell_type": "code",
   "source": "recall_score(y_test, y_pred)",
   "id": "29e0e862c00b88a8",
   "outputs": [],
   "execution_count": null
  },
  {
   "metadata": {},
   "cell_type": "code",
   "source": "f1_score(y_test, y_pred)",
   "id": "7f11eea437f96cd6",
   "outputs": [],
   "execution_count": null
  },
  {
   "metadata": {},
   "cell_type": "code",
   "source": "from sklearn.metrics import PrecisionRecallDisplay, RocCurveDisplay",
   "id": "1b390bbdbd646866",
   "outputs": [],
   "execution_count": null
  },
  {
   "metadata": {},
   "cell_type": "code",
   "source": [
    "\n",
    "PrecisionRecallDisplay.from_estimator(log_model, scaled_X_test, y_test)"
   ],
   "id": "15eb0496adaf4ca7",
   "outputs": [],
   "execution_count": null
  },
  {
   "metadata": {},
   "cell_type": "code",
   "source": [
    "fig, ax = plt.subplots(dpi=200)\n",
    "RocCurveDisplay.from_estimator(log_model, scaled_X_test, y_test, ax=ax)"
   ],
   "id": "ec33ca25c5403054",
   "outputs": [],
   "execution_count": null
  },
  {
   "metadata": {},
   "cell_type": "code",
   "source": "log_model.predict_proba(scaled_X_test)[0]",
   "id": "eef580574b6be511",
   "outputs": [],
   "execution_count": null
  },
  {
   "metadata": {},
   "cell_type": "code",
   "source": "y_test.iloc[0]",
   "id": "232cb2c33092fc9a",
   "outputs": [],
   "execution_count": null
  },
  {
   "metadata": {},
   "cell_type": "markdown",
   "source": "# 134. Multi-Class Classification with Logistic Regression - Part One - Data and EDA",
   "id": "80bc61ee77ff1385"
  },
  {
   "metadata": {},
   "cell_type": "code",
   "source": [
    "df_path = Path.cwd() / '..' / 'DATA' / 'iris.csv'\n",
    "df = pd.read_csv(df_path)"
   ],
   "id": "f37018c3adf1a3e2",
   "outputs": [],
   "execution_count": null
  },
  {
   "metadata": {},
   "cell_type": "code",
   "source": "df.head()",
   "id": "62bfac5c25672b3e",
   "outputs": [],
   "execution_count": null
  },
  {
   "metadata": {},
   "cell_type": "code",
   "source": "df['species'].value_counts()",
   "id": "558500dc4a923889",
   "outputs": [],
   "execution_count": null
  },
  {
   "metadata": {},
   "cell_type": "code",
   "source": "sns.countplot(data=df, x='species')",
   "id": "e164f7b218227fb7",
   "outputs": [],
   "execution_count": null
  },
  {
   "metadata": {},
   "cell_type": "code",
   "source": "sns.scatterplot(data=df, x='petal_length', y='petal_width', hue='species')",
   "id": "90f9cd38a06d4ae7",
   "outputs": [],
   "execution_count": null
  },
  {
   "metadata": {},
   "cell_type": "code",
   "source": "sns.pairplot(data=df, hue='species')",
   "id": "fedd9a2c4ec29bfb",
   "outputs": [],
   "execution_count": null
  },
  {
   "metadata": {},
   "cell_type": "code",
   "source": [
    "numeric_df = df.select_dtypes(include=[np.number])\n",
    "corr_matrix = numeric_df.corr()\n",
    "sns.heatmap(corr_matrix, annot=True)"
   ],
   "id": "d709f767967d05ea",
   "outputs": [],
   "execution_count": null
  },
  {
   "metadata": {},
   "cell_type": "code",
   "source": "X = df.drop('species', axis=1)",
   "id": "5e4bf1baa8f11abf",
   "outputs": [],
   "execution_count": null
  },
  {
   "metadata": {},
   "cell_type": "code",
   "source": "y = df['species']",
   "id": "c6f416b2750ebfd2",
   "outputs": [],
   "execution_count": null
  },
  {
   "metadata": {},
   "cell_type": "code",
   "source": "from sklearn.model_selection import train_test_split",
   "id": "8f0959486cb6f071",
   "outputs": [],
   "execution_count": null
  },
  {
   "metadata": {},
   "cell_type": "code",
   "source": "X_train, X_test, y_train, y_test = train_test_split(X, y, test_size=0.3, random_state=42)",
   "id": "7d7645c831a80fc3",
   "outputs": [],
   "execution_count": null
  },
  {
   "metadata": {},
   "cell_type": "code",
   "source": "from sklearn.preprocessing import StandardScaler",
   "id": "a2ba5673126cd77",
   "outputs": [],
   "execution_count": null
  },
  {
   "metadata": {},
   "cell_type": "code",
   "source": "scaler = StandardScaler()",
   "id": "48e35e6ca6b2355b",
   "outputs": [],
   "execution_count": null
  },
  {
   "metadata": {},
   "cell_type": "code",
   "source": "scaled_X_train = scaler.fit_transform(X_train)",
   "id": "63200d977a9e153f",
   "outputs": [],
   "execution_count": null
  },
  {
   "metadata": {},
   "cell_type": "code",
   "source": "scaled_X_test = scaler.transform(X_test)",
   "id": "9207662c33b84d62",
   "outputs": [],
   "execution_count": null
  },
  {
   "metadata": {},
   "cell_type": "markdown",
   "source": "# 135. Multi-Class Classification with Logistic Regression - Part Two - Model",
   "id": "6714030773d089fc"
  },
  {
   "metadata": {},
   "cell_type": "code",
   "source": "from sklearn.linear_model import LogisticRegression",
   "id": "a49ce10c3249b645",
   "outputs": [],
   "execution_count": null
  },
  {
   "metadata": {},
   "cell_type": "code",
   "source": "from sklearn.model_selection import GridSearchCV",
   "id": "61766e06f13c4338",
   "outputs": [],
   "execution_count": null
  },
  {
   "metadata": {},
   "cell_type": "code",
   "source": "log_model = LogisticRegression(solver='saga', multi_class='ovr', max_iter=5000)",
   "id": "ef22feac12613269",
   "outputs": [],
   "execution_count": null
  },
  {
   "metadata": {},
   "cell_type": "code",
   "source": [
    "penalty = ['l1', 'l2']\n",
    "l1_ratio = np.linspace(0, 1, 20)\n",
    "C = np.logspace(0, 10, 20)\n",
    "\n",
    "param_grid = {\n",
    "              'penalty': penalty,\n",
    "              'l1_ratio': l1_ratio,\n",
    "              'C': C\n",
    "}"
   ],
   "id": "fda7c39122c1b06c",
   "outputs": [],
   "execution_count": null
  },
  {
   "metadata": {},
   "cell_type": "code",
   "source": "grid_model = GridSearchCV(log_model, param_grid=param_grid)",
   "id": "14dfc0ec077974d1",
   "outputs": [],
   "execution_count": null
  },
  {
   "metadata": {},
   "cell_type": "code",
   "source": "grid_model.fit(scaled_X_train, y_train)",
   "id": "cbaf9dfed64df13f",
   "outputs": [],
   "execution_count": null
  },
  {
   "metadata": {
    "ExecuteTime": {
     "end_time": "2024-08-13T19:31:43.403048Z",
     "start_time": "2024-08-13T19:31:43.400049Z"
    }
   },
   "cell_type": "code",
   "source": "from sklearn.metrics import accuracy_score, confusion_matrix, classification_report",
   "id": "aa0e03bc0f12ac47",
   "outputs": [],
   "execution_count": 68
  },
  {
   "metadata": {
    "ExecuteTime": {
     "end_time": "2024-08-13T19:31:53.963202Z",
     "start_time": "2024-08-13T19:31:53.958679Z"
    }
   },
   "cell_type": "code",
   "source": "grid_model.best_params_",
   "id": "a837708db1fe9ce3",
   "outputs": [
    {
     "data": {
      "text/plain": [
       "{'C': 3.3598182862837818, 'l1_ratio': 0.0, 'penalty': 'l1'}"
      ]
     },
     "execution_count": 69,
     "metadata": {},
     "output_type": "execute_result"
    }
   ],
   "execution_count": 69
  },
  {
   "metadata": {
    "ExecuteTime": {
     "end_time": "2024-08-13T19:32:30.975221Z",
     "start_time": "2024-08-13T19:32:30.970711Z"
    }
   },
   "cell_type": "code",
   "source": "y_pred = grid_model.predict(scaled_X_test)",
   "id": "be38f784c2ffb498",
   "outputs": [],
   "execution_count": 70
  },
  {
   "metadata": {
    "ExecuteTime": {
     "end_time": "2024-08-13T19:32:43.966932Z",
     "start_time": "2024-08-13T19:32:43.962470Z"
    }
   },
   "cell_type": "code",
   "source": "accuracy_score(y_test, y_pred)",
   "id": "4be1fea52d0ce534",
   "outputs": [
    {
     "data": {
      "text/plain": [
       "1.0"
      ]
     },
     "execution_count": 72,
     "metadata": {},
     "output_type": "execute_result"
    }
   ],
   "execution_count": 72
  },
  {
   "metadata": {
    "ExecuteTime": {
     "end_time": "2024-08-13T19:33:11.275277Z",
     "start_time": "2024-08-13T19:33:11.269860Z"
    }
   },
   "cell_type": "code",
   "source": "confusion_matrix(y_test, y_pred)",
   "id": "b5a18e5dec152868",
   "outputs": [
    {
     "data": {
      "text/plain": [
       "array([[19,  0,  0],\n",
       "       [ 0, 13,  0],\n",
       "       [ 0,  0, 13]], dtype=int64)"
      ]
     },
     "execution_count": 73,
     "metadata": {},
     "output_type": "execute_result"
    }
   ],
   "execution_count": 73
  },
  {
   "metadata": {
    "ExecuteTime": {
     "end_time": "2024-08-13T19:33:40.261339Z",
     "start_time": "2024-08-13T19:33:40.253072Z"
    }
   },
   "cell_type": "code",
   "source": "print(classification_report(y_test, y_pred))",
   "id": "cb97877991a99257",
   "outputs": [
    {
     "name": "stdout",
     "output_type": "stream",
     "text": [
      "              precision    recall  f1-score   support\n",
      "\n",
      "      setosa       1.00      1.00      1.00        19\n",
      "  versicolor       1.00      1.00      1.00        13\n",
      "   virginica       1.00      1.00      1.00        13\n",
      "\n",
      "    accuracy                           1.00        45\n",
      "   macro avg       1.00      1.00      1.00        45\n",
      "weighted avg       1.00      1.00      1.00        45\n",
      "\n"
     ]
    }
   ],
   "execution_count": 74
  },
  {
   "metadata": {
    "ExecuteTime": {
     "end_time": "2024-08-13T19:35:06.702894Z",
     "start_time": "2024-08-13T19:35:06.698779Z"
    }
   },
   "cell_type": "code",
   "source": "from sklearn.metrics import ConfusionMatrixDisplay",
   "id": "33a0473b21b56989",
   "outputs": [],
   "execution_count": 75
  },
  {
   "metadata": {
    "ExecuteTime": {
     "end_time": "2024-08-13T19:40:03.399471Z",
     "start_time": "2024-08-13T19:40:03.280693Z"
    }
   },
   "cell_type": "code",
   "source": "ConfusionMatrixDisplay(confusion_matrix(y_test, y_pred)).plot()",
   "id": "1bb93644cc403936",
   "outputs": [
    {
     "data": {
      "text/plain": [
       "<sklearn.metrics._plot.confusion_matrix.ConfusionMatrixDisplay at 0x1a66c6713d0>"
      ]
     },
     "execution_count": 85,
     "metadata": {},
     "output_type": "execute_result"
    },
    {
     "data": {
      "text/plain": [
       "<Figure size 640x480 with 2 Axes>"
      ],
      "image/png": "[encoded data removed]"
     },
     "metadata": {},
     "output_type": "display_data"
    }
   ],
   "execution_count": 85
  }
 ],
 "metadata": {
  "kernelspec": {
   "display_name": "Python 3",
   "language": "python",
   "name": "python3"
  },
  "language_info": {
   "codemirror_mode": {
    "name": "ipython",
    "version": 2
   },
   "file_extension": ".py",
   "mimetype": "text/x-python",
   "name": "python",
   "nbconvert_exporter": "python",
   "pygments_lexer": "ipython2",
   "version": "2.7.6"
  }
 },
 "nbformat": 4,
 "nbformat_minor": 5
}
