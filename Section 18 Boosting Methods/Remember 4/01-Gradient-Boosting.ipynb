{
 "cells": [
  {
   "cell_type": "code",
   "id": "initial_id",
   "metadata": {
    "collapsed": true,
    "ExecuteTime": {
     "end_time": "2024-12-23T19:08:31.127829Z",
     "start_time": "2024-12-23T19:08:31.124267Z"
    }
   },
   "source": [
    "import numpy as np\n",
    "import polars as pl\n",
    "import polars.selectors as cs\n",
    "import matplotlib.pyplot as plt\n",
    "import seaborn as sns\n",
    "import plotly.express as px\n",
    "import plotly.graph_objects as go\n",
    "import great_tables as tg"
   ],
   "outputs": [],
   "execution_count": 13
  },
  {
   "metadata": {
    "ExecuteTime": {
     "end_time": "2024-12-23T19:08:31.411185Z",
     "start_time": "2024-12-23T19:08:31.403406Z"
    }
   },
   "cell_type": "code",
   "source": "df = pl.read_csv(\"../../DATA/mushrooms.csv\")",
   "id": "6a89d65b2fa5dfb",
   "outputs": [],
   "execution_count": 14
  },
  {
   "metadata": {
    "ExecuteTime": {
     "end_time": "2024-12-23T19:08:32.191036Z",
     "start_time": "2024-12-23T19:08:32.185525Z"
    }
   },
   "cell_type": "code",
   "source": "df",
   "id": "6264a0162e326db",
   "outputs": [
    {
     "data": {
      "text/plain": [
       "shape: (8_124, 23)\n",
       "┌───────┬───────────┬─────────────┬───────────┬───┬───────────┬─────────────┬────────────┬─────────┐\n",
       "│ class ┆ cap-shape ┆ cap-surface ┆ cap-color ┆ … ┆ ring-type ┆ spore-print ┆ population ┆ habitat │\n",
       "│ ---   ┆ ---       ┆ ---         ┆ ---       ┆   ┆ ---       ┆ -color      ┆ ---        ┆ ---     │\n",
       "│ str   ┆ str       ┆ str         ┆ str       ┆   ┆ str       ┆ ---         ┆ str        ┆ str     │\n",
       "│       ┆           ┆             ┆           ┆   ┆           ┆ str         ┆            ┆         │\n",
       "╞═══════╪═══════════╪═════════════╪═══════════╪═══╪═══════════╪═════════════╪════════════╪═════════╡\n",
       "│ p     ┆ x         ┆ s           ┆ n         ┆ … ┆ p         ┆ k           ┆ s          ┆ u       │\n",
       "│ e     ┆ x         ┆ s           ┆ y         ┆ … ┆ p         ┆ n           ┆ n          ┆ g       │\n",
       "│ e     ┆ b         ┆ s           ┆ w         ┆ … ┆ p         ┆ n           ┆ n          ┆ m       │\n",
       "│ p     ┆ x         ┆ y           ┆ w         ┆ … ┆ p         ┆ k           ┆ s          ┆ u       │\n",
       "│ e     ┆ x         ┆ s           ┆ g         ┆ … ┆ e         ┆ n           ┆ a          ┆ g       │\n",
       "│ …     ┆ …         ┆ …           ┆ …         ┆ … ┆ …         ┆ …           ┆ …          ┆ …       │\n",
       "│ e     ┆ k         ┆ s           ┆ n         ┆ … ┆ p         ┆ b           ┆ c          ┆ l       │\n",
       "│ e     ┆ x         ┆ s           ┆ n         ┆ … ┆ p         ┆ b           ┆ v          ┆ l       │\n",
       "│ e     ┆ f         ┆ s           ┆ n         ┆ … ┆ p         ┆ b           ┆ c          ┆ l       │\n",
       "│ p     ┆ k         ┆ y           ┆ n         ┆ … ┆ e         ┆ w           ┆ v          ┆ l       │\n",
       "│ e     ┆ x         ┆ s           ┆ n         ┆ … ┆ p         ┆ o           ┆ c          ┆ l       │\n",
       "└───────┴───────────┴─────────────┴───────────┴───┴───────────┴─────────────┴────────────┴─────────┘"
      ],
      "text/html": [
       "<div><style>\n",
       ".dataframe > thead > tr,\n",
       ".dataframe > tbody > tr {\n",
       "  text-align: right;\n",
       "  white-space: pre-wrap;\n",
       "}\n",
       "</style>\n",
       "<small>shape: (8_124, 23)</small><table border=\"1\" class=\"dataframe\"><thead><tr><th>class</th><th>cap-shape</th><th>cap-surface</th><th>cap-color</th><th>bruises</th><th>odor</th><th>gill-attachment</th><th>gill-spacing</th><th>gill-size</th><th>gill-color</th><th>stalk-shape</th><th>stalk-root</th><th>stalk-surface-above-ring</th><th>stalk-surface-below-ring</th><th>stalk-color-above-ring</th><th>stalk-color-below-ring</th><th>veil-type</th><th>veil-color</th><th>ring-number</th><th>ring-type</th><th>spore-print-color</th><th>population</th><th>habitat</th></tr><tr><td>str</td><td>str</td><td>str</td><td>str</td><td>str</td><td>str</td><td>str</td><td>str</td><td>str</td><td>str</td><td>str</td><td>str</td><td>str</td><td>str</td><td>str</td><td>str</td><td>str</td><td>str</td><td>str</td><td>str</td><td>str</td><td>str</td><td>str</td></tr></thead><tbody><tr><td>&quot;p&quot;</td><td>&quot;x&quot;</td><td>&quot;s&quot;</td><td>&quot;n&quot;</td><td>&quot;t&quot;</td><td>&quot;p&quot;</td><td>&quot;f&quot;</td><td>&quot;c&quot;</td><td>&quot;n&quot;</td><td>&quot;k&quot;</td><td>&quot;e&quot;</td><td>&quot;e&quot;</td><td>&quot;s&quot;</td><td>&quot;s&quot;</td><td>&quot;w&quot;</td><td>&quot;w&quot;</td><td>&quot;p&quot;</td><td>&quot;w&quot;</td><td>&quot;o&quot;</td><td>&quot;p&quot;</td><td>&quot;k&quot;</td><td>&quot;s&quot;</td><td>&quot;u&quot;</td></tr><tr><td>&quot;e&quot;</td><td>&quot;x&quot;</td><td>&quot;s&quot;</td><td>&quot;y&quot;</td><td>&quot;t&quot;</td><td>&quot;a&quot;</td><td>&quot;f&quot;</td><td>&quot;c&quot;</td><td>&quot;b&quot;</td><td>&quot;k&quot;</td><td>&quot;e&quot;</td><td>&quot;c&quot;</td><td>&quot;s&quot;</td><td>&quot;s&quot;</td><td>&quot;w&quot;</td><td>&quot;w&quot;</td><td>&quot;p&quot;</td><td>&quot;w&quot;</td><td>&quot;o&quot;</td><td>&quot;p&quot;</td><td>&quot;n&quot;</td><td>&quot;n&quot;</td><td>&quot;g&quot;</td></tr><tr><td>&quot;e&quot;</td><td>&quot;b&quot;</td><td>&quot;s&quot;</td><td>&quot;w&quot;</td><td>&quot;t&quot;</td><td>&quot;l&quot;</td><td>&quot;f&quot;</td><td>&quot;c&quot;</td><td>&quot;b&quot;</td><td>&quot;n&quot;</td><td>&quot;e&quot;</td><td>&quot;c&quot;</td><td>&quot;s&quot;</td><td>&quot;s&quot;</td><td>&quot;w&quot;</td><td>&quot;w&quot;</td><td>&quot;p&quot;</td><td>&quot;w&quot;</td><td>&quot;o&quot;</td><td>&quot;p&quot;</td><td>&quot;n&quot;</td><td>&quot;n&quot;</td><td>&quot;m&quot;</td></tr><tr><td>&quot;p&quot;</td><td>&quot;x&quot;</td><td>&quot;y&quot;</td><td>&quot;w&quot;</td><td>&quot;t&quot;</td><td>&quot;p&quot;</td><td>&quot;f&quot;</td><td>&quot;c&quot;</td><td>&quot;n&quot;</td><td>&quot;n&quot;</td><td>&quot;e&quot;</td><td>&quot;e&quot;</td><td>&quot;s&quot;</td><td>&quot;s&quot;</td><td>&quot;w&quot;</td><td>&quot;w&quot;</td><td>&quot;p&quot;</td><td>&quot;w&quot;</td><td>&quot;o&quot;</td><td>&quot;p&quot;</td><td>&quot;k&quot;</td><td>&quot;s&quot;</td><td>&quot;u&quot;</td></tr><tr><td>&quot;e&quot;</td><td>&quot;x&quot;</td><td>&quot;s&quot;</td><td>&quot;g&quot;</td><td>&quot;f&quot;</td><td>&quot;n&quot;</td><td>&quot;f&quot;</td><td>&quot;w&quot;</td><td>&quot;b&quot;</td><td>&quot;k&quot;</td><td>&quot;t&quot;</td><td>&quot;e&quot;</td><td>&quot;s&quot;</td><td>&quot;s&quot;</td><td>&quot;w&quot;</td><td>&quot;w&quot;</td><td>&quot;p&quot;</td><td>&quot;w&quot;</td><td>&quot;o&quot;</td><td>&quot;e&quot;</td><td>&quot;n&quot;</td><td>&quot;a&quot;</td><td>&quot;g&quot;</td></tr><tr><td>&hellip;</td><td>&hellip;</td><td>&hellip;</td><td>&hellip;</td><td>&hellip;</td><td>&hellip;</td><td>&hellip;</td><td>&hellip;</td><td>&hellip;</td><td>&hellip;</td><td>&hellip;</td><td>&hellip;</td><td>&hellip;</td><td>&hellip;</td><td>&hellip;</td><td>&hellip;</td><td>&hellip;</td><td>&hellip;</td><td>&hellip;</td><td>&hellip;</td><td>&hellip;</td><td>&hellip;</td><td>&hellip;</td></tr><tr><td>&quot;e&quot;</td><td>&quot;k&quot;</td><td>&quot;s&quot;</td><td>&quot;n&quot;</td><td>&quot;f&quot;</td><td>&quot;n&quot;</td><td>&quot;a&quot;</td><td>&quot;c&quot;</td><td>&quot;b&quot;</td><td>&quot;y&quot;</td><td>&quot;e&quot;</td><td>&quot;?&quot;</td><td>&quot;s&quot;</td><td>&quot;s&quot;</td><td>&quot;o&quot;</td><td>&quot;o&quot;</td><td>&quot;p&quot;</td><td>&quot;o&quot;</td><td>&quot;o&quot;</td><td>&quot;p&quot;</td><td>&quot;b&quot;</td><td>&quot;c&quot;</td><td>&quot;l&quot;</td></tr><tr><td>&quot;e&quot;</td><td>&quot;x&quot;</td><td>&quot;s&quot;</td><td>&quot;n&quot;</td><td>&quot;f&quot;</td><td>&quot;n&quot;</td><td>&quot;a&quot;</td><td>&quot;c&quot;</td><td>&quot;b&quot;</td><td>&quot;y&quot;</td><td>&quot;e&quot;</td><td>&quot;?&quot;</td><td>&quot;s&quot;</td><td>&quot;s&quot;</td><td>&quot;o&quot;</td><td>&quot;o&quot;</td><td>&quot;p&quot;</td><td>&quot;n&quot;</td><td>&quot;o&quot;</td><td>&quot;p&quot;</td><td>&quot;b&quot;</td><td>&quot;v&quot;</td><td>&quot;l&quot;</td></tr><tr><td>&quot;e&quot;</td><td>&quot;f&quot;</td><td>&quot;s&quot;</td><td>&quot;n&quot;</td><td>&quot;f&quot;</td><td>&quot;n&quot;</td><td>&quot;a&quot;</td><td>&quot;c&quot;</td><td>&quot;b&quot;</td><td>&quot;n&quot;</td><td>&quot;e&quot;</td><td>&quot;?&quot;</td><td>&quot;s&quot;</td><td>&quot;s&quot;</td><td>&quot;o&quot;</td><td>&quot;o&quot;</td><td>&quot;p&quot;</td><td>&quot;o&quot;</td><td>&quot;o&quot;</td><td>&quot;p&quot;</td><td>&quot;b&quot;</td><td>&quot;c&quot;</td><td>&quot;l&quot;</td></tr><tr><td>&quot;p&quot;</td><td>&quot;k&quot;</td><td>&quot;y&quot;</td><td>&quot;n&quot;</td><td>&quot;f&quot;</td><td>&quot;y&quot;</td><td>&quot;f&quot;</td><td>&quot;c&quot;</td><td>&quot;n&quot;</td><td>&quot;b&quot;</td><td>&quot;t&quot;</td><td>&quot;?&quot;</td><td>&quot;s&quot;</td><td>&quot;k&quot;</td><td>&quot;w&quot;</td><td>&quot;w&quot;</td><td>&quot;p&quot;</td><td>&quot;w&quot;</td><td>&quot;o&quot;</td><td>&quot;e&quot;</td><td>&quot;w&quot;</td><td>&quot;v&quot;</td><td>&quot;l&quot;</td></tr><tr><td>&quot;e&quot;</td><td>&quot;x&quot;</td><td>&quot;s&quot;</td><td>&quot;n&quot;</td><td>&quot;f&quot;</td><td>&quot;n&quot;</td><td>&quot;a&quot;</td><td>&quot;c&quot;</td><td>&quot;b&quot;</td><td>&quot;y&quot;</td><td>&quot;e&quot;</td><td>&quot;?&quot;</td><td>&quot;s&quot;</td><td>&quot;s&quot;</td><td>&quot;o&quot;</td><td>&quot;o&quot;</td><td>&quot;p&quot;</td><td>&quot;o&quot;</td><td>&quot;o&quot;</td><td>&quot;p&quot;</td><td>&quot;o&quot;</td><td>&quot;c&quot;</td><td>&quot;l&quot;</td></tr></tbody></table></div>"
      ]
     },
     "execution_count": 15,
     "metadata": {},
     "output_type": "execute_result"
    }
   ],
   "execution_count": 15
  },
  {
   "metadata": {
    "ExecuteTime": {
     "end_time": "2024-12-23T19:03:37.902183Z",
     "start_time": "2024-12-23T19:03:37.896589Z"
    }
   },
   "cell_type": "code",
   "source": "X = df.select(cs.exclude('class'))",
   "id": "5382974b0b079b74",
   "outputs": [],
   "execution_count": 6
  },
  {
   "metadata": {
    "ExecuteTime": {
     "end_time": "2024-12-23T19:03:06.757610Z",
     "start_time": "2024-12-23T19:03:06.754811Z"
    }
   },
   "cell_type": "code",
   "source": "y = df.select('class').to_series()",
   "id": "2301eeb5639f6cba",
   "outputs": [],
   "execution_count": 5
  },
  {
   "metadata": {
    "ExecuteTime": {
     "end_time": "2024-12-23T19:13:03.813026Z",
     "start_time": "2024-12-23T19:13:03.810299Z"
    }
   },
   "cell_type": "code",
   "source": "from sklearn.preprocessing import OrdinalEncoder, LabelEncoder",
   "id": "221f598c52ada10d",
   "outputs": [],
   "execution_count": 22
  },
  {
   "metadata": {
    "ExecuteTime": {
     "end_time": "2024-12-23T19:12:51.202289Z",
     "start_time": "2024-12-23T19:12:51.199269Z"
    }
   },
   "cell_type": "code",
   "source": "ordinal_encoder = OrdinalEncoder()",
   "id": "221767f8578d7737",
   "outputs": [],
   "execution_count": 21
  },
  {
   "metadata": {
    "ExecuteTime": {
     "end_time": "2024-12-23T19:13:24.235217Z",
     "start_time": "2024-12-23T19:13:24.186862Z"
    }
   },
   "cell_type": "code",
   "source": "X_encoded = ordinal_encoder.fit_transform(X)",
   "id": "4380a5e05a1eaef4",
   "outputs": [],
   "execution_count": 23
  },
  {
   "metadata": {
    "ExecuteTime": {
     "end_time": "2024-12-23T19:14:10.254526Z",
     "start_time": "2024-12-23T19:14:10.244609Z"
    }
   },
   "cell_type": "code",
   "source": "X_encoded = pl.DataFrame(X_encoded, schema=X.schema)",
   "id": "f32ccdac2f21e264",
   "outputs": [],
   "execution_count": 25
  },
  {
   "metadata": {
    "ExecuteTime": {
     "end_time": "2024-12-23T19:04:06.246262Z",
     "start_time": "2024-12-23T19:04:06.243696Z"
    }
   },
   "cell_type": "code",
   "source": "label_encoder = LabelEncoder()",
   "id": "5f4326f8d2f6d121",
   "outputs": [],
   "execution_count": 9
  },
  {
   "metadata": {
    "ExecuteTime": {
     "end_time": "2024-12-23T19:04:49.503063Z",
     "start_time": "2024-12-23T19:04:49.498375Z"
    }
   },
   "cell_type": "code",
   "source": "y_encoded = label_encoder.fit_transform(y)",
   "id": "ea347cf3ba2bb7fa",
   "outputs": [],
   "execution_count": 11
  },
  {
   "metadata": {
    "ExecuteTime": {
     "end_time": "2024-12-23T19:14:56.694100Z",
     "start_time": "2024-12-23T19:14:56.691338Z"
    }
   },
   "cell_type": "code",
   "source": "y_encoded = pl.Series('class', y_encoded)",
   "id": "f2424acb4b533b93",
   "outputs": [],
   "execution_count": 29
  },
  {
   "metadata": {
    "ExecuteTime": {
     "end_time": "2024-12-23T19:20:11.720235Z",
     "start_time": "2024-12-23T19:20:11.627272Z"
    }
   },
   "cell_type": "code",
   "source": "from sklearn.model_selection import train_test_split",
   "id": "fedde5fa133929f6",
   "outputs": [],
   "execution_count": 35
  },
  {
   "metadata": {
    "ExecuteTime": {
     "end_time": "2024-12-23T19:20:30.900710Z",
     "start_time": "2024-12-23T19:20:30.895063Z"
    }
   },
   "cell_type": "code",
   "source": "X_train, X_test, y_train, y_test = train_test_split(X_encoded, y_encoded, test_size=0.15, random_state=42)",
   "id": "40c7ff1350f4c057",
   "outputs": [],
   "execution_count": 36
  },
  {
   "metadata": {
    "ExecuteTime": {
     "end_time": "2024-12-23T19:21:19.479524Z",
     "start_time": "2024-12-23T19:21:19.212415Z"
    }
   },
   "cell_type": "code",
   "source": "from sklearn.ensemble import GradientBoostingClassifier",
   "id": "48aac7e50bce7e65",
   "outputs": [],
   "execution_count": 37
  },
  {
   "metadata": {
    "ExecuteTime": {
     "end_time": "2024-12-23T19:21:46.991728Z",
     "start_time": "2024-12-23T19:21:46.988969Z"
    }
   },
   "cell_type": "code",
   "source": "from sklearn.model_selection import GridSearchCV",
   "id": "24970fcb024147c8",
   "outputs": [],
   "execution_count": 38
  },
  {
   "metadata": {
    "ExecuteTime": {
     "end_time": "2024-12-23T19:23:18.865889Z",
     "start_time": "2024-12-23T19:23:18.863093Z"
    }
   },
   "cell_type": "code",
   "source": "gradient_boosting_classifier = GradientBoostingClassifier()",
   "id": "fdcc3ffb403f60d0",
   "outputs": [],
   "execution_count": 39
  },
  {
   "metadata": {
    "ExecuteTime": {
     "end_time": "2024-12-23T19:36:25.971178Z",
     "start_time": "2024-12-23T19:36:25.968013Z"
    }
   },
   "cell_type": "code",
   "source": [
    "param_grid = {\n",
    "    'n_estimators': [1, 5, 10, 20, 40, 100],\n",
    "    'learning_rate': [0.01, 0.05, 0.1, 0.2, 0.5],\n",
    "    'max_depth': [1, 2, 3, 4, 5, 6, 7, 8, 9, 10],\n",
    "    # 'min_samples_split': [2, 5, 10, 20, 50, 100],\n",
    "    # 'min_samples_leaf': [1, 2, 5, 10, 20, 50, 100]\n",
    "}"
   ],
   "id": "4dbc51fd299a4473",
   "outputs": [],
   "execution_count": 45
  },
  {
   "metadata": {
    "ExecuteTime": {
     "end_time": "2024-12-23T19:36:26.670057Z",
     "start_time": "2024-12-23T19:36:26.667025Z"
    }
   },
   "cell_type": "code",
   "source": [
    "grid_model = GridSearchCV(\n",
    "    estimator=gradient_boosting_classifier,\n",
    "    param_grid=param_grid,\n",
    "    cv=5,\n",
    "    n_jobs=-1,\n",
    "    verbose=1,\n",
    "\n",
    ")"
   ],
   "id": "d8eda401fb70f92b",
   "outputs": [],
   "execution_count": 46
  },
  {
   "metadata": {
    "ExecuteTime": {
     "end_time": "2024-12-23T19:37:32.061015Z",
     "start_time": "2024-12-23T19:36:27.389660Z"
    }
   },
   "cell_type": "code",
   "source": "grid_model.fit(X_train, y_train)",
   "id": "241dcc77f89f912e",
   "outputs": [
    {
     "name": "stdout",
     "output_type": "stream",
     "text": [
      "Fitting 5 folds for each of 300 candidates, totalling 1500 fits\n"
     ]
    },
    {
     "data": {
      "text/plain": [
       "GridSearchCV(cv=5, estimator=GradientBoostingClassifier(), n_jobs=-1,\n",
       "             param_grid={'learning_rate': [0.01, 0.05, 0.1, 0.2, 0.5],\n",
       "                         'max_depth': [1, 2, 3, 4, 5, 6, 7, 8, 9, 10],\n",
       "                         'n_estimators': [1, 5, 10, 20, 40, 100]},\n",
       "             verbose=1)"
      ],
      "text/html": [
       "<style>#sk-container-id-1 {\n",
       "  /* Definition of color scheme common for light and dark mode */\n",
       "  --sklearn-color-text: #000;\n",
       "  --sklearn-color-text-muted: #666;\n",
       "  --sklearn-color-line: gray;\n",
       "  /* Definition of color scheme for unfitted estimators */\n",
       "  --sklearn-color-unfitted-level-0: #fff5e6;\n",
       "  --sklearn-color-unfitted-level-1: #f6e4d2;\n",
       "  --sklearn-color-unfitted-level-2: #ffe0b3;\n",
       "  --sklearn-color-unfitted-level-3: chocolate;\n",
       "  /* Definition of color scheme for fitted estimators */\n",
       "  --sklearn-color-fitted-level-0: #f0f8ff;\n",
       "  --sklearn-color-fitted-level-1: #d4ebff;\n",
       "  --sklearn-color-fitted-level-2: #b3dbfd;\n",
       "  --sklearn-color-fitted-level-3: cornflowerblue;\n",
       "\n",
       "  /* Specific color for light theme */\n",
       "  --sklearn-color-text-on-default-background: var(--sg-text-color, var(--theme-code-foreground, var(--jp-content-font-color1, black)));\n",
       "  --sklearn-color-background: var(--sg-background-color, var(--theme-background, var(--jp-layout-color0, white)));\n",
       "  --sklearn-color-border-box: var(--sg-text-color, var(--theme-code-foreground, var(--jp-content-font-color1, black)));\n",
       "  --sklearn-color-icon: #696969;\n",
       "\n",
       "  @media (prefers-color-scheme: dark) {\n",
       "    /* Redefinition of color scheme for dark theme */\n",
       "    --sklearn-color-text-on-default-background: var(--sg-text-color, var(--theme-code-foreground, var(--jp-content-font-color1, white)));\n",
       "    --sklearn-color-background: var(--sg-background-color, var(--theme-background, var(--jp-layout-color0, #111)));\n",
       "    --sklearn-color-border-box: var(--sg-text-color, var(--theme-code-foreground, var(--jp-content-font-color1, white)));\n",
       "    --sklearn-color-icon: #878787;\n",
       "  }\n",
       "}\n",
       "\n",
       "#sk-container-id-1 {\n",
       "  color: var(--sklearn-color-text);\n",
       "}\n",
       "\n",
       "#sk-container-id-1 pre {\n",
       "  padding: 0;\n",
       "}\n",
       "\n",
       "#sk-container-id-1 input.sk-hidden--visually {\n",
       "  border: 0;\n",
       "  clip: rect(1px 1px 1px 1px);\n",
       "  clip: rect(1px, 1px, 1px, 1px);\n",
       "  height: 1px;\n",
       "  margin: -1px;\n",
       "  overflow: hidden;\n",
       "  padding: 0;\n",
       "  position: absolute;\n",
       "  width: 1px;\n",
       "}\n",
       "\n",
       "#sk-container-id-1 div.sk-dashed-wrapped {\n",
       "  border: 1px dashed var(--sklearn-color-line);\n",
       "  margin: 0 0.4em 0.5em 0.4em;\n",
       "  box-sizing: border-box;\n",
       "  padding-bottom: 0.4em;\n",
       "  background-color: var(--sklearn-color-background);\n",
       "}\n",
       "\n",
       "#sk-container-id-1 div.sk-container {\n",
       "  /* jupyter's `normalize.less` sets `[hidden] { display: none; }`\n",
       "     but bootstrap.min.css set `[hidden] { display: none !important; }`\n",
       "     so we also need the `!important` here to be able to override the\n",
       "     default hidden behavior on the sphinx rendered scikit-learn.org.\n",
       "     See: https://github.com/scikit-learn/scikit-learn/issues/21755 */\n",
       "  display: inline-block !important;\n",
       "  position: relative;\n",
       "}\n",
       "\n",
       "#sk-container-id-1 div.sk-text-repr-fallback {\n",
       "  display: none;\n",
       "}\n",
       "\n",
       "div.sk-parallel-item,\n",
       "div.sk-serial,\n",
       "div.sk-item {\n",
       "  /* draw centered vertical line to link estimators */\n",
       "  background-image: linear-gradient(var(--sklearn-color-text-on-default-background), var(--sklearn-color-text-on-default-background));\n",
       "  background-size: 2px 100%;\n",
       "  background-repeat: no-repeat;\n",
       "  background-position: center center;\n",
       "}\n",
       "\n",
       "/* Parallel-specific style estimator block */\n",
       "\n",
       "#sk-container-id-1 div.sk-parallel-item::after {\n",
       "  content: \"\";\n",
       "  width: 100%;\n",
       "  border-bottom: 2px solid var(--sklearn-color-text-on-default-background);\n",
       "  flex-grow: 1;\n",
       "}\n",
       "\n",
       "#sk-container-id-1 div.sk-parallel {\n",
       "  display: flex;\n",
       "  align-items: stretch;\n",
       "  justify-content: center;\n",
       "  background-color: var(--sklearn-color-background);\n",
       "  position: relative;\n",
       "}\n",
       "\n",
       "#sk-container-id-1 div.sk-parallel-item {\n",
       "  display: flex;\n",
       "  flex-direction: column;\n",
       "}\n",
       "\n",
       "#sk-container-id-1 div.sk-parallel-item:first-child::after {\n",
       "  align-self: flex-end;\n",
       "  width: 50%;\n",
       "}\n",
       "\n",
       "#sk-container-id-1 div.sk-parallel-item:last-child::after {\n",
       "  align-self: flex-start;\n",
       "  width: 50%;\n",
       "}\n",
       "\n",
       "#sk-container-id-1 div.sk-parallel-item:only-child::after {\n",
       "  width: 0;\n",
       "}\n",
       "\n",
       "/* Serial-specific style estimator block */\n",
       "\n",
       "#sk-container-id-1 div.sk-serial {\n",
       "  display: flex;\n",
       "  flex-direction: column;\n",
       "  align-items: center;\n",
       "  background-color: var(--sklearn-color-background);\n",
       "  padding-right: 1em;\n",
       "  padding-left: 1em;\n",
       "}\n",
       "\n",
       "\n",
       "/* Toggleable style: style used for estimator/Pipeline/ColumnTransformer box that is\n",
       "clickable and can be expanded/collapsed.\n",
       "- Pipeline and ColumnTransformer use this feature and define the default style\n",
       "- Estimators will overwrite some part of the style using the `sk-estimator` class\n",
       "*/\n",
       "\n",
       "/* Pipeline and ColumnTransformer style (default) */\n",
       "\n",
       "#sk-container-id-1 div.sk-toggleable {\n",
       "  /* Default theme specific background. It is overwritten whether we have a\n",
       "  specific estimator or a Pipeline/ColumnTransformer */\n",
       "  background-color: var(--sklearn-color-background);\n",
       "}\n",
       "\n",
       "/* Toggleable label */\n",
       "#sk-container-id-1 label.sk-toggleable__label {\n",
       "  cursor: pointer;\n",
       "  display: flex;\n",
       "  width: 100%;\n",
       "  margin-bottom: 0;\n",
       "  padding: 0.5em;\n",
       "  box-sizing: border-box;\n",
       "  text-align: center;\n",
       "  align-items: start;\n",
       "  justify-content: space-between;\n",
       "  gap: 0.5em;\n",
       "}\n",
       "\n",
       "#sk-container-id-1 label.sk-toggleable__label .caption {\n",
       "  font-size: 0.6rem;\n",
       "  font-weight: lighter;\n",
       "  color: var(--sklearn-color-text-muted);\n",
       "}\n",
       "\n",
       "#sk-container-id-1 label.sk-toggleable__label-arrow:before {\n",
       "  /* Arrow on the left of the label */\n",
       "  content: \"▸\";\n",
       "  float: left;\n",
       "  margin-right: 0.25em;\n",
       "  color: var(--sklearn-color-icon);\n",
       "}\n",
       "\n",
       "#sk-container-id-1 label.sk-toggleable__label-arrow:hover:before {\n",
       "  color: var(--sklearn-color-text);\n",
       "}\n",
       "\n",
       "/* Toggleable content - dropdown */\n",
       "\n",
       "#sk-container-id-1 div.sk-toggleable__content {\n",
       "  max-height: 0;\n",
       "  max-width: 0;\n",
       "  overflow: hidden;\n",
       "  text-align: left;\n",
       "  /* unfitted */\n",
       "  background-color: var(--sklearn-color-unfitted-level-0);\n",
       "}\n",
       "\n",
       "#sk-container-id-1 div.sk-toggleable__content.fitted {\n",
       "  /* fitted */\n",
       "  background-color: var(--sklearn-color-fitted-level-0);\n",
       "}\n",
       "\n",
       "#sk-container-id-1 div.sk-toggleable__content pre {\n",
       "  margin: 0.2em;\n",
       "  border-radius: 0.25em;\n",
       "  color: var(--sklearn-color-text);\n",
       "  /* unfitted */\n",
       "  background-color: var(--sklearn-color-unfitted-level-0);\n",
       "}\n",
       "\n",
       "#sk-container-id-1 div.sk-toggleable__content.fitted pre {\n",
       "  /* unfitted */\n",
       "  background-color: var(--sklearn-color-fitted-level-0);\n",
       "}\n",
       "\n",
       "#sk-container-id-1 input.sk-toggleable__control:checked~div.sk-toggleable__content {\n",
       "  /* Expand drop-down */\n",
       "  max-height: 200px;\n",
       "  max-width: 100%;\n",
       "  overflow: auto;\n",
       "}\n",
       "\n",
       "#sk-container-id-1 input.sk-toggleable__control:checked~label.sk-toggleable__label-arrow:before {\n",
       "  content: \"▾\";\n",
       "}\n",
       "\n",
       "/* Pipeline/ColumnTransformer-specific style */\n",
       "\n",
       "#sk-container-id-1 div.sk-label input.sk-toggleable__control:checked~label.sk-toggleable__label {\n",
       "  color: var(--sklearn-color-text);\n",
       "  background-color: var(--sklearn-color-unfitted-level-2);\n",
       "}\n",
       "\n",
       "#sk-container-id-1 div.sk-label.fitted input.sk-toggleable__control:checked~label.sk-toggleable__label {\n",
       "  background-color: var(--sklearn-color-fitted-level-2);\n",
       "}\n",
       "\n",
       "/* Estimator-specific style */\n",
       "\n",
       "/* Colorize estimator box */\n",
       "#sk-container-id-1 div.sk-estimator input.sk-toggleable__control:checked~label.sk-toggleable__label {\n",
       "  /* unfitted */\n",
       "  background-color: var(--sklearn-color-unfitted-level-2);\n",
       "}\n",
       "\n",
       "#sk-container-id-1 div.sk-estimator.fitted input.sk-toggleable__control:checked~label.sk-toggleable__label {\n",
       "  /* fitted */\n",
       "  background-color: var(--sklearn-color-fitted-level-2);\n",
       "}\n",
       "\n",
       "#sk-container-id-1 div.sk-label label.sk-toggleable__label,\n",
       "#sk-container-id-1 div.sk-label label {\n",
       "  /* The background is the default theme color */\n",
       "  color: var(--sklearn-color-text-on-default-background);\n",
       "}\n",
       "\n",
       "/* On hover, darken the color of the background */\n",
       "#sk-container-id-1 div.sk-label:hover label.sk-toggleable__label {\n",
       "  color: var(--sklearn-color-text);\n",
       "  background-color: var(--sklearn-color-unfitted-level-2);\n",
       "}\n",
       "\n",
       "/* Label box, darken color on hover, fitted */\n",
       "#sk-container-id-1 div.sk-label.fitted:hover label.sk-toggleable__label.fitted {\n",
       "  color: var(--sklearn-color-text);\n",
       "  background-color: var(--sklearn-color-fitted-level-2);\n",
       "}\n",
       "\n",
       "/* Estimator label */\n",
       "\n",
       "#sk-container-id-1 div.sk-label label {\n",
       "  font-family: monospace;\n",
       "  font-weight: bold;\n",
       "  display: inline-block;\n",
       "  line-height: 1.2em;\n",
       "}\n",
       "\n",
       "#sk-container-id-1 div.sk-label-container {\n",
       "  text-align: center;\n",
       "}\n",
       "\n",
       "/* Estimator-specific */\n",
       "#sk-container-id-1 div.sk-estimator {\n",
       "  font-family: monospace;\n",
       "  border: 1px dotted var(--sklearn-color-border-box);\n",
       "  border-radius: 0.25em;\n",
       "  box-sizing: border-box;\n",
       "  margin-bottom: 0.5em;\n",
       "  /* unfitted */\n",
       "  background-color: var(--sklearn-color-unfitted-level-0);\n",
       "}\n",
       "\n",
       "#sk-container-id-1 div.sk-estimator.fitted {\n",
       "  /* fitted */\n",
       "  background-color: var(--sklearn-color-fitted-level-0);\n",
       "}\n",
       "\n",
       "/* on hover */\n",
       "#sk-container-id-1 div.sk-estimator:hover {\n",
       "  /* unfitted */\n",
       "  background-color: var(--sklearn-color-unfitted-level-2);\n",
       "}\n",
       "\n",
       "#sk-container-id-1 div.sk-estimator.fitted:hover {\n",
       "  /* fitted */\n",
       "  background-color: var(--sklearn-color-fitted-level-2);\n",
       "}\n",
       "\n",
       "/* Specification for estimator info (e.g. \"i\" and \"?\") */\n",
       "\n",
       "/* Common style for \"i\" and \"?\" */\n",
       "\n",
       ".sk-estimator-doc-link,\n",
       "a:link.sk-estimator-doc-link,\n",
       "a:visited.sk-estimator-doc-link {\n",
       "  float: right;\n",
       "  font-size: smaller;\n",
       "  line-height: 1em;\n",
       "  font-family: monospace;\n",
       "  background-color: var(--sklearn-color-background);\n",
       "  border-radius: 1em;\n",
       "  height: 1em;\n",
       "  width: 1em;\n",
       "  text-decoration: none !important;\n",
       "  margin-left: 0.5em;\n",
       "  text-align: center;\n",
       "  /* unfitted */\n",
       "  border: var(--sklearn-color-unfitted-level-1) 1pt solid;\n",
       "  color: var(--sklearn-color-unfitted-level-1);\n",
       "}\n",
       "\n",
       ".sk-estimator-doc-link.fitted,\n",
       "a:link.sk-estimator-doc-link.fitted,\n",
       "a:visited.sk-estimator-doc-link.fitted {\n",
       "  /* fitted */\n",
       "  border: var(--sklearn-color-fitted-level-1) 1pt solid;\n",
       "  color: var(--sklearn-color-fitted-level-1);\n",
       "}\n",
       "\n",
       "/* On hover */\n",
       "div.sk-estimator:hover .sk-estimator-doc-link:hover,\n",
       ".sk-estimator-doc-link:hover,\n",
       "div.sk-label-container:hover .sk-estimator-doc-link:hover,\n",
       ".sk-estimator-doc-link:hover {\n",
       "  /* unfitted */\n",
       "  background-color: var(--sklearn-color-unfitted-level-3);\n",
       "  color: var(--sklearn-color-background);\n",
       "  text-decoration: none;\n",
       "}\n",
       "\n",
       "div.sk-estimator.fitted:hover .sk-estimator-doc-link.fitted:hover,\n",
       ".sk-estimator-doc-link.fitted:hover,\n",
       "div.sk-label-container:hover .sk-estimator-doc-link.fitted:hover,\n",
       ".sk-estimator-doc-link.fitted:hover {\n",
       "  /* fitted */\n",
       "  background-color: var(--sklearn-color-fitted-level-3);\n",
       "  color: var(--sklearn-color-background);\n",
       "  text-decoration: none;\n",
       "}\n",
       "\n",
       "/* Span, style for the box shown on hovering the info icon */\n",
       ".sk-estimator-doc-link span {\n",
       "  display: none;\n",
       "  z-index: 9999;\n",
       "  position: relative;\n",
       "  font-weight: normal;\n",
       "  right: .2ex;\n",
       "  padding: .5ex;\n",
       "  margin: .5ex;\n",
       "  width: min-content;\n",
       "  min-width: 20ex;\n",
       "  max-width: 50ex;\n",
       "  color: var(--sklearn-color-text);\n",
       "  box-shadow: 2pt 2pt 4pt #999;\n",
       "  /* unfitted */\n",
       "  background: var(--sklearn-color-unfitted-level-0);\n",
       "  border: .5pt solid var(--sklearn-color-unfitted-level-3);\n",
       "}\n",
       "\n",
       ".sk-estimator-doc-link.fitted span {\n",
       "  /* fitted */\n",
       "  background: var(--sklearn-color-fitted-level-0);\n",
       "  border: var(--sklearn-color-fitted-level-3);\n",
       "}\n",
       "\n",
       ".sk-estimator-doc-link:hover span {\n",
       "  display: block;\n",
       "}\n",
       "\n",
       "/* \"?\"-specific style due to the `<a>` HTML tag */\n",
       "\n",
       "#sk-container-id-1 a.estimator_doc_link {\n",
       "  float: right;\n",
       "  font-size: 1rem;\n",
       "  line-height: 1em;\n",
       "  font-family: monospace;\n",
       "  background-color: var(--sklearn-color-background);\n",
       "  border-radius: 1rem;\n",
       "  height: 1rem;\n",
       "  width: 1rem;\n",
       "  text-decoration: none;\n",
       "  /* unfitted */\n",
       "  color: var(--sklearn-color-unfitted-level-1);\n",
       "  border: var(--sklearn-color-unfitted-level-1) 1pt solid;\n",
       "}\n",
       "\n",
       "#sk-container-id-1 a.estimator_doc_link.fitted {\n",
       "  /* fitted */\n",
       "  border: var(--sklearn-color-fitted-level-1) 1pt solid;\n",
       "  color: var(--sklearn-color-fitted-level-1);\n",
       "}\n",
       "\n",
       "/* On hover */\n",
       "#sk-container-id-1 a.estimator_doc_link:hover {\n",
       "  /* unfitted */\n",
       "  background-color: var(--sklearn-color-unfitted-level-3);\n",
       "  color: var(--sklearn-color-background);\n",
       "  text-decoration: none;\n",
       "}\n",
       "\n",
       "#sk-container-id-1 a.estimator_doc_link.fitted:hover {\n",
       "  /* fitted */\n",
       "  background-color: var(--sklearn-color-fitted-level-3);\n",
       "}\n",
       "</style><div id=\"sk-container-id-1\" class=\"sk-top-container\"><div class=\"sk-text-repr-fallback\"><pre>GridSearchCV(cv=5, estimator=GradientBoostingClassifier(), n_jobs=-1,\n",
       "             param_grid={&#x27;learning_rate&#x27;: [0.01, 0.05, 0.1, 0.2, 0.5],\n",
       "                         &#x27;max_depth&#x27;: [1, 2, 3, 4, 5, 6, 7, 8, 9, 10],\n",
       "                         &#x27;n_estimators&#x27;: [1, 5, 10, 20, 40, 100]},\n",
       "             verbose=1)</pre><b>In a Jupyter environment, please rerun this cell to show the HTML representation or trust the notebook. <br />On GitHub, the HTML representation is unable to render, please try loading this page with nbviewer.org.</b></div><div class=\"sk-container\" hidden><div class=\"sk-item sk-dashed-wrapped\"><div class=\"sk-label-container\"><div class=\"sk-label fitted sk-toggleable\"><input class=\"sk-toggleable__control sk-hidden--visually\" id=\"sk-estimator-id-1\" type=\"checkbox\" ><label for=\"sk-estimator-id-1\" class=\"sk-toggleable__label fitted sk-toggleable__label-arrow\"><div><div>GridSearchCV</div></div><div><a class=\"sk-estimator-doc-link fitted\" rel=\"noreferrer\" target=\"_blank\" href=\"https://scikit-learn.org/1.6/modules/generated/sklearn.model_selection.GridSearchCV.html\">?<span>Documentation for GridSearchCV</span></a><span class=\"sk-estimator-doc-link fitted\">i<span>Fitted</span></span></div></label><div class=\"sk-toggleable__content fitted\"><pre>GridSearchCV(cv=5, estimator=GradientBoostingClassifier(), n_jobs=-1,\n",
       "             param_grid={&#x27;learning_rate&#x27;: [0.01, 0.05, 0.1, 0.2, 0.5],\n",
       "                         &#x27;max_depth&#x27;: [1, 2, 3, 4, 5, 6, 7, 8, 9, 10],\n",
       "                         &#x27;n_estimators&#x27;: [1, 5, 10, 20, 40, 100]},\n",
       "             verbose=1)</pre></div> </div></div><div class=\"sk-parallel\"><div class=\"sk-parallel-item\"><div class=\"sk-item\"><div class=\"sk-label-container\"><div class=\"sk-label fitted sk-toggleable\"><input class=\"sk-toggleable__control sk-hidden--visually\" id=\"sk-estimator-id-2\" type=\"checkbox\" ><label for=\"sk-estimator-id-2\" class=\"sk-toggleable__label fitted sk-toggleable__label-arrow\"><div><div>best_estimator_: GradientBoostingClassifier</div></div></label><div class=\"sk-toggleable__content fitted\"><pre>GradientBoostingClassifier(learning_rate=0.01, max_depth=7, n_estimators=5)</pre></div> </div></div><div class=\"sk-serial\"><div class=\"sk-item\"><div class=\"sk-estimator fitted sk-toggleable\"><input class=\"sk-toggleable__control sk-hidden--visually\" id=\"sk-estimator-id-3\" type=\"checkbox\" ><label for=\"sk-estimator-id-3\" class=\"sk-toggleable__label fitted sk-toggleable__label-arrow\"><div><div>GradientBoostingClassifier</div></div><div><a class=\"sk-estimator-doc-link fitted\" rel=\"noreferrer\" target=\"_blank\" href=\"https://scikit-learn.org/1.6/modules/generated/sklearn.ensemble.GradientBoostingClassifier.html\">?<span>Documentation for GradientBoostingClassifier</span></a></div></label><div class=\"sk-toggleable__content fitted\"><pre>GradientBoostingClassifier(learning_rate=0.01, max_depth=7, n_estimators=5)</pre></div> </div></div></div></div></div></div></div></div></div>"
      ]
     },
     "execution_count": 47,
     "metadata": {},
     "output_type": "execute_result"
    }
   ],
   "execution_count": 47
  },
  {
   "metadata": {
    "ExecuteTime": {
     "end_time": "2024-12-23T19:38:13.692041Z",
     "start_time": "2024-12-23T19:38:13.688355Z"
    }
   },
   "cell_type": "code",
   "source": "grid_model.best_params_",
   "id": "c668c55713db9c97",
   "outputs": [
    {
     "data": {
      "text/plain": [
       "{'learning_rate': 0.01, 'max_depth': 7, 'n_estimators': 5}"
      ]
     },
     "execution_count": 48,
     "metadata": {},
     "output_type": "execute_result"
    }
   ],
   "execution_count": 48
  },
  {
   "metadata": {
    "ExecuteTime": {
     "end_time": "2024-12-23T19:38:17.883811Z",
     "start_time": "2024-12-23T19:38:17.880096Z"
    }
   },
   "cell_type": "code",
   "source": "grid_model.best_score_",
   "id": "d226989b7edc5529",
   "outputs": [
    {
     "data": {
      "text/plain": [
       "np.float64(1.0)"
      ]
     },
     "execution_count": 49,
     "metadata": {},
     "output_type": "execute_result"
    }
   ],
   "execution_count": 49
  },
  {
   "metadata": {
    "ExecuteTime": {
     "end_time": "2024-12-23T19:38:19.188633Z",
     "start_time": "2024-12-23T19:38:19.182955Z"
    }
   },
   "cell_type": "code",
   "source": "grid_model.score(X_test, y_test)",
   "id": "16b5445b60c15c06",
   "outputs": [
    {
     "data": {
      "text/plain": [
       "1.0"
      ]
     },
     "execution_count": 50,
     "metadata": {},
     "output_type": "execute_result"
    }
   ],
   "execution_count": 50
  },
  {
   "metadata": {
    "ExecuteTime": {
     "end_time": "2024-12-23T19:38:46.403439Z",
     "start_time": "2024-12-23T19:38:46.398515Z"
    }
   },
   "cell_type": "code",
   "source": "predictions = grid_model.predict(X_test)",
   "id": "11e0c9d41f19ecdb",
   "outputs": [],
   "execution_count": 52
  },
  {
   "metadata": {
    "ExecuteTime": {
     "end_time": "2024-12-23T19:40:13.082117Z",
     "start_time": "2024-12-23T19:40:13.076669Z"
    }
   },
   "cell_type": "code",
   "source": [
    "pl.DataFrame({\n",
    "    'actual': y_test,\n",
    "    'actual_decoded': label_encoder.inverse_transform(y_test),\n",
    "    'predicted': predictions,\n",
    "    'predicted_decoded': label_encoder.inverse_transform(predictions),\n",
    "    'correct': pl.Series(predictions) == pl.Series(y_test),\n",
    "})"
   ],
   "id": "1f6ad19dfd3e79e1",
   "outputs": [
    {
     "data": {
      "text/plain": [
       "shape: (1_219, 5)\n",
       "┌────────┬────────────────┬───────────┬───────────────────┬─────────┐\n",
       "│ actual ┆ actual_decoded ┆ predicted ┆ predicted_decoded ┆ correct │\n",
       "│ ---    ┆ ---            ┆ ---       ┆ ---               ┆ ---     │\n",
       "│ i64    ┆ str            ┆ i64       ┆ str               ┆ bool    │\n",
       "╞════════╪════════════════╪═══════════╪═══════════════════╪═════════╡\n",
       "│ 0      ┆ e              ┆ 0         ┆ e                 ┆ true    │\n",
       "│ 1      ┆ p              ┆ 1         ┆ p                 ┆ true    │\n",
       "│ 1      ┆ p              ┆ 1         ┆ p                 ┆ true    │\n",
       "│ 0      ┆ e              ┆ 0         ┆ e                 ┆ true    │\n",
       "│ 1      ┆ p              ┆ 1         ┆ p                 ┆ true    │\n",
       "│ …      ┆ …              ┆ …         ┆ …                 ┆ …       │\n",
       "│ 1      ┆ p              ┆ 1         ┆ p                 ┆ true    │\n",
       "│ 1      ┆ p              ┆ 1         ┆ p                 ┆ true    │\n",
       "│ 0      ┆ e              ┆ 0         ┆ e                 ┆ true    │\n",
       "│ 0      ┆ e              ┆ 0         ┆ e                 ┆ true    │\n",
       "│ 0      ┆ e              ┆ 0         ┆ e                 ┆ true    │\n",
       "└────────┴────────────────┴───────────┴───────────────────┴─────────┘"
      ],
      "text/html": [
       "<div><style>\n",
       ".dataframe > thead > tr,\n",
       ".dataframe > tbody > tr {\n",
       "  text-align: right;\n",
       "  white-space: pre-wrap;\n",
       "}\n",
       "</style>\n",
       "<small>shape: (1_219, 5)</small><table border=\"1\" class=\"dataframe\"><thead><tr><th>actual</th><th>actual_decoded</th><th>predicted</th><th>predicted_decoded</th><th>correct</th></tr><tr><td>i64</td><td>str</td><td>i64</td><td>str</td><td>bool</td></tr></thead><tbody><tr><td>0</td><td>&quot;e&quot;</td><td>0</td><td>&quot;e&quot;</td><td>true</td></tr><tr><td>1</td><td>&quot;p&quot;</td><td>1</td><td>&quot;p&quot;</td><td>true</td></tr><tr><td>1</td><td>&quot;p&quot;</td><td>1</td><td>&quot;p&quot;</td><td>true</td></tr><tr><td>0</td><td>&quot;e&quot;</td><td>0</td><td>&quot;e&quot;</td><td>true</td></tr><tr><td>1</td><td>&quot;p&quot;</td><td>1</td><td>&quot;p&quot;</td><td>true</td></tr><tr><td>&hellip;</td><td>&hellip;</td><td>&hellip;</td><td>&hellip;</td><td>&hellip;</td></tr><tr><td>1</td><td>&quot;p&quot;</td><td>1</td><td>&quot;p&quot;</td><td>true</td></tr><tr><td>1</td><td>&quot;p&quot;</td><td>1</td><td>&quot;p&quot;</td><td>true</td></tr><tr><td>0</td><td>&quot;e&quot;</td><td>0</td><td>&quot;e&quot;</td><td>true</td></tr><tr><td>0</td><td>&quot;e&quot;</td><td>0</td><td>&quot;e&quot;</td><td>true</td></tr><tr><td>0</td><td>&quot;e&quot;</td><td>0</td><td>&quot;e&quot;</td><td>true</td></tr></tbody></table></div>"
      ]
     },
     "execution_count": 56,
     "metadata": {},
     "output_type": "execute_result"
    }
   ],
   "execution_count": 56
  },
  {
   "metadata": {
    "ExecuteTime": {
     "end_time": "2024-12-23T19:41:19.056844Z",
     "start_time": "2024-12-23T19:41:19.053707Z"
    }
   },
   "cell_type": "code",
   "source": "from sklearn.metrics import classification_report, confusion_matrix, ConfusionMatrixDisplay",
   "id": "aa135279cbbe66b0",
   "outputs": [],
   "execution_count": 57
  },
  {
   "metadata": {
    "ExecuteTime": {
     "end_time": "2024-12-23T19:41:48.097377Z",
     "start_time": "2024-12-23T19:41:48.092481Z"
    }
   },
   "cell_type": "code",
   "source": "confusion_matrix(y_test, predictions)",
   "id": "f59f1d7d875e7541",
   "outputs": [
    {
     "data": {
      "text/plain": [
       "array([[637,   0],\n",
       "       [  0, 582]])"
      ]
     },
     "execution_count": 60,
     "metadata": {},
     "output_type": "execute_result"
    }
   ],
   "execution_count": 60
  },
  {
   "metadata": {
    "ExecuteTime": {
     "end_time": "2024-12-23T19:50:37.576158Z",
     "start_time": "2024-12-23T19:50:37.568166Z"
    }
   },
   "cell_type": "code",
   "source": [
    "print(classification_report(\n",
    "    y_test, predictions,\n",
    "    target_names=label_encoder.classes_,\n",
    "    zero_division=0,\n",
    "))"
   ],
   "id": "9eb5bf6ff0b084ad",
   "outputs": [
    {
     "name": "stdout",
     "output_type": "stream",
     "text": [
      "              precision    recall  f1-score   support\n",
      "\n",
      "           e       1.00      1.00      1.00       637\n",
      "           p       1.00      1.00      1.00       582\n",
      "\n",
      "    accuracy                           1.00      1219\n",
      "   macro avg       1.00      1.00      1.00      1219\n",
      "weighted avg       1.00      1.00      1.00      1219\n",
      "\n"
     ]
    }
   ],
   "execution_count": 73
  },
  {
   "metadata": {
    "ExecuteTime": {
     "end_time": "2024-12-23T19:52:18.992157Z",
     "start_time": "2024-12-23T19:52:18.893806Z"
    }
   },
   "cell_type": "code",
   "source": [
    "ConfusionMatrixDisplay.from_predictions(\n",
    "    y_test, predictions,\n",
    "    cmap='Blues',\n",
    "    display_labels=label_encoder.classes_,\n",
    ").ax_.grid(False)"
   ],
   "id": "cf1d60c074701218",
   "outputs": [
    {
     "data": {
      "text/plain": [
       "<Figure size 640x480 with 2 Axes>"
      ],
      "image/png": "[encoded data removed]"
     },
     "metadata": {},
     "output_type": "display_data"
    }
   ],
   "execution_count": 78
  },
  {
   "metadata": {
    "ExecuteTime": {
     "end_time": "2024-12-23T19:56:13.590313Z",
     "start_time": "2024-12-23T19:56:13.587447Z"
    }
   },
   "cell_type": "code",
   "source": [
    "feat_import = grid_model.best_estimator_.feature_importances_\n",
    "feature_names = X.columns"
   ],
   "id": "f588bea31c977130",
   "outputs": [],
   "execution_count": 84
  },
  {
   "metadata": {
    "ExecuteTime": {
     "end_time": "2024-12-23T19:58:13.184743Z",
     "start_time": "2024-12-23T19:58:13.181401Z"
    }
   },
   "cell_type": "code",
   "source": [
    "feat_import = pl.DataFrame({\n",
    "    'Feature': feature_names,\n",
    "    'Importance': feat_import,\n",
    "}).filter(\n",
    "    pl.col('Importance') > 0.000527\n",
    ").sort('Importance', descending=False)"
   ],
   "id": "f4f2a98aa6dd88c1",
   "outputs": [],
   "execution_count": 90
  },
  {
   "metadata": {
    "ExecuteTime": {
     "end_time": "2024-12-23T20:01:41.238365Z",
     "start_time": "2024-12-23T20:01:41.220911Z"
    }
   },
   "cell_type": "code",
   "source": "feat_import.plot.bar(x='Feature', y='Importance')",
   "id": "6a5e367891dbaa47",
   "outputs": [
    {
     "data": {
      "text/html": [
       "\n",
       "<style>\n",
       "  #altair-viz-7f2369101bdf44b1869a791ecd322add.vega-embed {\n",
       "    width: 100%;\n",
       "    display: flex;\n",
       "  }\n",
       "\n",
       "  #altair-viz-7f2369101bdf44b1869a791ecd322add.vega-embed details,\n",
       "  #altair-viz-7f2369101bdf44b1869a791ecd322add.vega-embed details summary {\n",
       "    position: relative;\n",
       "  }\n",
       "</style>\n",
       "<div id=\"altair-viz-7f2369101bdf44b1869a791ecd322add\"></div>\n",
       "<script type=\"text/javascript\">\n",
       "  var VEGA_DEBUG = (typeof VEGA_DEBUG == \"undefined\") ? {} : VEGA_DEBUG;\n",
       "  (function(spec, embedOpt){\n",
       "    let outputDiv = document.currentScript.previousElementSibling;\n",
       "    if (outputDiv.id !== \"altair-viz-7f2369101bdf44b1869a791ecd322add\") {\n",
       "      outputDiv = document.getElementById(\"altair-viz-7f2369101bdf44b1869a791ecd322add\");\n",
       "    }\n",
       "\n",
       "    const paths = {\n",
       "      \"vega\": \"https://cdn.jsdelivr.net/npm/vega@5?noext\",\n",
       "      \"vega-lib\": \"https://cdn.jsdelivr.net/npm/vega-lib?noext\",\n",
       "      \"vega-lite\": \"https://cdn.jsdelivr.net/npm/vega-lite@5.20.1?noext\",\n",
       "      \"vega-embed\": \"https://cdn.jsdelivr.net/npm/vega-embed@6?noext\",\n",
       "    };\n",
       "\n",
       "    function maybeLoadScript(lib, version) {\n",
       "      var key = `${lib.replace(\"-\", \"\")}_version`;\n",
       "      return (VEGA_DEBUG[key] == version) ?\n",
       "        Promise.resolve(paths[lib]) :\n",
       "        new Promise(function(resolve, reject) {\n",
       "          var s = document.createElement('script');\n",
       "          document.getElementsByTagName(\"head\")[0].appendChild(s);\n",
       "          s.async = true;\n",
       "          s.onload = () => {\n",
       "            VEGA_DEBUG[key] = version;\n",
       "            return resolve(paths[lib]);\n",
       "          };\n",
       "          s.onerror = () => reject(`Error loading script: ${paths[lib]}`);\n",
       "          s.src = paths[lib];\n",
       "        });\n",
       "    }\n",
       "\n",
       "    function showError(err) {\n",
       "      outputDiv.innerHTML = `<div class=\"error\" style=\"color:red;\">${err}</div>`;\n",
       "      throw err;\n",
       "    }\n",
       "\n",
       "    function displayChart(vegaEmbed) {\n",
       "      vegaEmbed(outputDiv, spec, embedOpt)\n",
       "        .catch(err => showError(`Javascript Error: ${err.message}<br>This usually means there's a typo in your chart specification. See the javascript console for the full traceback.`));\n",
       "    }\n",
       "\n",
       "    if(typeof define === \"function\" && define.amd) {\n",
       "      requirejs.config({paths});\n",
       "      let deps = [\"vega-embed\"];\n",
       "      require(deps, displayChart, err => showError(`Error loading script: ${err.message}`));\n",
       "    } else {\n",
       "      maybeLoadScript(\"vega\", \"5\")\n",
       "        .then(() => maybeLoadScript(\"vega-lite\", \"5.20.1\"))\n",
       "        .then(() => maybeLoadScript(\"vega-embed\", \"6\"))\n",
       "        .catch(showError)\n",
       "        .then(() => displayChart(vegaEmbed));\n",
       "    }\n",
       "  })({\"config\": {\"view\": {\"continuousWidth\": 300, \"continuousHeight\": 300}}, \"data\": {\"name\": \"data-d431af5607f146d6a3b6a674403329c5\"}, \"mark\": {\"type\": \"bar\", \"tooltip\": true}, \"encoding\": {\"x\": {\"field\": \"Feature\", \"type\": \"nominal\"}, \"y\": {\"field\": \"Importance\", \"type\": \"quantitative\"}}, \"params\": [{\"name\": \"param_4\", \"select\": {\"type\": \"interval\", \"encodings\": [\"x\", \"y\"]}, \"bind\": \"scales\"}], \"$schema\": \"https://vega.github.io/schema/vega-lite/v5.20.1.json\", \"datasets\": {\"data-d431af5607f146d6a3b6a674403329c5\": [{\"Feature\": \"cap-shape_c\", \"Importance\": 0.0005785675155325313}, {\"Feature\": \"bruises_f\", \"Importance\": 0.0006968064390360586}, {\"Feature\": \"population_y\", \"Importance\": 0.0011364077271411453}, {\"Feature\": \"gill-size_b\", \"Importance\": 0.0011712757783796932}, {\"Feature\": \"gill-size_n\", \"Importance\": 0.0012256481360774978}, {\"Feature\": \"cap-surface_g\", \"Importance\": 0.0017332993585791163}, {\"Feature\": \"stalk-root_b\", \"Importance\": 0.0022968159987029357}, {\"Feature\": \"ring-number_o\", \"Importance\": 0.0034873964518254068}, {\"Feature\": \"stalk-surface-below-ring_s\", \"Importance\": 0.0035581899611077396}, {\"Feature\": \"stalk-color-below-ring_c\", \"Importance\": 0.0036304276292839647}, {\"Feature\": \"ring-number_n\", \"Importance\": 0.0037041392804305273}, {\"Feature\": \"bruises_t\", \"Importance\": 0.0044289115531010205}, {\"Feature\": \"odor_a\", \"Importance\": 0.013065682938384136}, {\"Feature\": \"odor_l\", \"Importance\": 0.013078301413600332}, {\"Feature\": \"spore-print-color_u\", \"Importance\": 0.017464010473339328}, {\"Feature\": \"spore-print-color_r\", \"Importance\": 0.03367494771375874}, {\"Feature\": \"stalk-root_r\", \"Importance\": 0.03408735904937103}, {\"Feature\": \"stalk-surface-below-ring_y\", \"Importance\": 0.06443564102870396}, {\"Feature\": \"stalk-root_c\", \"Importance\": 0.1780615285755887}, {\"Feature\": \"odor_n\", \"Importance\": 0.6184846429780495}]}}, {\"mode\": \"vega-lite\"});\n",
       "</script>"
      ],
      "text/plain": [
       "alt.Chart(...)"
      ]
     },
     "execution_count": 99,
     "metadata": {},
     "output_type": "execute_result"
    },
    {
     "data": {
      "text/plain": [
       "<Figure size 1200x600 with 0 Axes>"
      ]
     },
     "metadata": {},
     "output_type": "display_data"
    }
   ],
   "execution_count": 99
  },
  {
   "metadata": {
    "ExecuteTime": {
     "end_time": "2024-12-23T19:58:56.535306Z",
     "start_time": "2024-12-23T19:58:56.167837Z"
    }
   },
   "cell_type": "code",
   "source": [
    "plt.figure(figsize=(10, 6), dpi=133)\n",
    "sns.barplot(data=feat_import, x='Feature', y='Importance')\n",
    "plt.xticks(rotation=90);"
   ],
   "id": "b44222dff2ac00e4",
   "outputs": [
    {
     "data": {
      "text/plain": [
       "<Figure size 1330x798 with 1 Axes>"
      ],
      "image/png": "[encoded data removed]"
     },
     "metadata": {},
     "output_type": "display_data"
    }
   ],
   "execution_count": 94
  }
 ],
 "metadata": {
  "kernelspec": {
   "display_name": "Python 3",
   "language": "python",
   "name": "python3"
  },
  "language_info": {
   "codemirror_mode": {
    "name": "ipython",
    "version": 2
   },
   "file_extension": ".py",
   "mimetype": "text/x-python",
   "name": "python",
   "nbconvert_exporter": "python",
   "pygments_lexer": "ipython2",
   "version": "2.7.6"
  }
 },
 "nbformat": 4,
 "nbformat_minor": 5
}
